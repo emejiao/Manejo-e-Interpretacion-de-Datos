{
 "cells": [
  {
   "cell_type": "markdown",
   "metadata": {
    "slideshow": {
     "slide_type": "slide"
    }
   },
   "source": [
    "<div class=\"alert alert-success\" role=\"alert\">\n",
    "  <h1 class=\"alert-heading\">Regresión Lineal</h1>\n",
    "  <h3 class=\"alert-heading\">Prof. Enrique Mejía Ospino, emejia@uis.edu.co</h3>\n",
    "  <h4 class=\"alert-heading\">Escuela de Química</h4>\n",
    "  <h5 class=\"alert-heading\">Universidad Industrial de Santander</h5>\n",
    "  <p>\n",
    "  </div>"
   ]
  },
  {
   "cell_type": "code",
   "execution_count": 1,
   "metadata": {},
   "outputs": [],
   "source": [
    "import numpy as np\n",
    "import pandas as pd\n",
    "import matplotlib.pyplot as plt\n",
    "%matplotlib inline\n",
    "import scipy as sio\n",
    "import statsmodels.formula.api as smf\n",
    "import statsmodels.api as sm\n",
    "import scipy.stats as scs"
   ]
  },
  {
   "cell_type": "markdown",
   "metadata": {},
   "source": [
    "<p style=\"text-align:justify\"><div class=\"alert alert-danger\">\n",
    "\n",
    "## Regresión Lineal\n",
    "La regresión lineal es un método estadístico que trata de modelar la relación entre una variable continua y una o más variables independientes mediante el ajuste de una ecuación lineal. Se llama regresión lineal simple cuando solo hay una variable independiente y regresión lineal múltiple cuando hay más de una. Dependiendo del contexto, a la variable modelada se le conoce como variable dependiente o variable respuesta, y a las variables independientes como regresores o predictores."
   ]
  },
  {
   "cell_type": "markdown",
   "metadata": {},
   "source": [
    "<p style=\"text-align:justify\"><div class=\"alert alert-danger\">\n",
    "\n",
    "## Definición \n",
    "El modelo de regresión lineal (Legendre, Gauss, Galton y Pearson) considera que, dado un conjunto de observaciones  $\\{y_i, x_{i1},...,x_{np}\\}^{n}_{i=1}$ , la media  $μ$  de la variable respuesta  $y$  se relaciona de forma lineal con la o las variables regresoras  $x_1  ...  x_p$  acorde a la ecuación:\n",
    "\n",
    "$$\\{y_i, x_{i1},...,x_{np}\\}^{n}_{i=1}$$\n",
    " \n",
    "El resultado de esta ecuación se conoce como la línea de regresión poblacional, y recoge la relación entre los predictores y **la media** de la variable respuesta.\n",
    "\n",
    "Otra definición que se encuentra con frecuencia en los libros de estadística es:\n",
    "\n",
    "$$y_i= \\beta_0 + \\beta_1 x_{i1} + \\beta_2 x_{i2} + ... + \\beta_p x_{ip} +\\epsilon_i$$\n",
    " \n",
    "En este caso, se está haciendo referencia al valor de $y$  para una observación $i$  concreta. El valor de una observación puntual nunca va a ser exactamente igual al promedio, de ahí que se añada el término de error  $ϵ$.\n",
    "\n",
    "En ambos casos, la interpretación de los elementos del modelo es la misma:\n",
    "\n",
    "$β_0$ : es la ordenada en el origen, se corresponde con el valor promedio de la variable respuesta  y  cuando todos los predictores son cero.\n",
    "\n",
    "$β_j$ : es el efecto promedio que tiene sobre la variable respuesta el incremento en una unidad de la variable predictora  $x_j$ , manteniéndose constantes el resto de variables. Se conocen como coeficientes parciales de regresión.\n",
    "\n",
    "$e$ : es el residuo o error, la diferencia entre el valor observado $y$ el estimado por el modelo. Recoge el efecto de todas aquellas variables que influyen en $y$  pero que no se incluyen en el modelo como predictores.\n",
    "\n",
    "En la gran mayoría de casos, los valores $β_0$ y $β_j$ poblacionales se desconocen, por lo que, a partir de una muestra, se obtienen sus estimaciones  $\\hat{β}_0$ y $\\hat{β}_j$. Ajustar el modelo consiste en estimar, a partir de los datos disponibles, los valores de los coeficientes de regresión que maximizan la verosimilitud, es decir, los que dan lugar al modelo que con mayor probabilidad puede haber generado los datos observados.\n",
    "\n",
    "El método empleado con más frecuencia es el ajuste por mínimos cuadrados ordinarios (OLS), que identifica como mejor modelo la recta (o plano si es regresión múltiple) que minimiza la suma de las desviaciones verticales entre cada dato de entrenamiento y la recta, elevadas al cuadrado.\n",
    "\n",
    "Computacionalmente, estos cálculos son más eficientes si se realizan de forma matricial:\n",
    "$$\\mathbf{y}=\\mathbf{X}^T \\mathbf{\\beta}+\\epsilon$$\n",
    "\n",
    "$$\\mathbf{y}=\\begin{bmatrix} y_1\\\\  y_2\\\\  ...\\\\ y_n\\end{bmatrix} \\ , \\ \\ \\ \\mathbf{X}=\\begin{bmatrix} 1 & x_{11} & ... & x_{1p}\\\\  1 & x_{21} & ... & x_{2p}\\\\  1 & ... &  ... & ... \\\\  1 &  x_{n1} & ... &x_{np}\\\\   \\end{bmatrix} \\ , \\ \\ \\ \\mathbf{\\beta}=\\begin{bmatrix} \\beta_0\\\\ \\beta_1\\\\  ...\\\\ \\beta_n\\end{bmatrix} \\ , \\ \\ \\ \\mathbf{\\epsilon}=\\begin{bmatrix} \\epsilon_1\\\\ \\epsilon_2\\\\  ...\\\\ \\epsilon_n\\end{bmatrix}$$\n",
    "    \n",
    "el problema a resolver es la minimización de la suma de los cuadrados de los términos de error tal que:\n",
    "$$Min \\sum (e_i)^2= \\sum (Y_i - \\hat Y_i)^2 =\\sum (Y_i - \\hat\\beta X)^2$$\n",
    "Desarrollando dicho cuadrado y derivando respecto a cada $\\hat\\beta_i$ obtenemos el siguiente sistema de ecuaciones normales expresado en notación matricial:\n",
    "$$X'X\\hat \\beta = X'y$$\n",
    "en donde basta con despejar $\\hat\\beta$ premultiplicando ambos miembros por la inversa de la matriz para obtener la estimación de los parámetros del modelo tal que:\n",
    "$$\\hat \\beta =X'X ^{-1} X'y$$\n",
    "Una vez estimados los coeficientes, se pueden obtener las estimaciones de cada observación ($\\hat{y}_i$):\n",
    "$$\\hat{y}_i= \\hat{\\beta}_0 + \\hat{\\beta}_1 x_{i1} + \\hat{\\beta}_2 x_{i2} + ... + \\hat{\\beta}_p x_{ip}$$\n",
    "\n",
    "Finalmente, la estimación de la varianza del modelo ($\\hat{σ}^2$) se obtiene como:\n",
    "$$\\hat{\\sigma}^2 = \\frac{\\sum^n_{i=1} \\hat{\\epsilon}_i^2}{n-p} = \\frac{\\sum^n_{i=1} (y_i - \\hat{y}_i)^2}{n-p}$$\n",
    "\n",
    "donde $n$  es el número de observaciones y $p$  el número de predictores."
   ]
  },
  {
   "cell_type": "markdown",
   "metadata": {},
   "source": [
    "<p style=\"text-align:justify\"><div class=\"alert alert-danger\">\n",
    "\n",
    "     \n",
    "### Significado \"lineal\"\n",
    "\n",
    "El término \"lineal\" en los modelos de regresión hace referencia al hecho de que los parámetros se incorporan en la ecuación de forma lineal, no a que necesariamente la relación entre cada predictor y la variable respuesta tenga que seguir un patrón lineal.\n",
    "\n",
    "La siguiente ecuación muestra un modelo lineal en el que el predictor $x_1$ no es lineal respecto a $y$:\n",
    "\n",
    "$$y = \\beta_0 + \\beta_1x_1 + \\beta_2log(x_1) + \\epsilon$$"
   ]
  },
  {
   "cell_type": "markdown",
   "metadata": {},
   "source": [
    "<font color=blue> **Existen varias librerias en python que nos permiten realizar regresión lineal, la forma más sencilla es utilizar la lbrería Numpy, aunque es la menos descriptiva.** "
   ]
  },
  {
   "cell_type": "code",
   "execution_count": 2,
   "metadata": {},
   "outputs": [
    {
     "data": {
      "text/html": [
       "<div>\n",
       "<style scoped>\n",
       "    .dataframe tbody tr th:only-of-type {\n",
       "        vertical-align: middle;\n",
       "    }\n",
       "\n",
       "    .dataframe tbody tr th {\n",
       "        vertical-align: top;\n",
       "    }\n",
       "\n",
       "    .dataframe thead th {\n",
       "        text-align: right;\n",
       "    }\n",
       "</style>\n",
       "<table border=\"1\" class=\"dataframe\">\n",
       "  <thead>\n",
       "    <tr style=\"text-align: right;\">\n",
       "      <th></th>\n",
       "      <th>Predicted</th>\n",
       "      <th>Measured</th>\n",
       "    </tr>\n",
       "  </thead>\n",
       "  <tbody>\n",
       "    <tr>\n",
       "      <th>0</th>\n",
       "      <td>8.876835</td>\n",
       "      <td>8.964832</td>\n",
       "    </tr>\n",
       "    <tr>\n",
       "      <th>1</th>\n",
       "      <td>6.577969</td>\n",
       "      <td>6.600000</td>\n",
       "    </tr>\n",
       "    <tr>\n",
       "      <th>2</th>\n",
       "      <td>8.027663</td>\n",
       "      <td>8.200000</td>\n",
       "    </tr>\n",
       "    <tr>\n",
       "      <th>3</th>\n",
       "      <td>6.401841</td>\n",
       "      <td>6.300000</td>\n",
       "    </tr>\n",
       "    <tr>\n",
       "      <th>4</th>\n",
       "      <td>7.413652</td>\n",
       "      <td>7.354888</td>\n",
       "    </tr>\n",
       "    <tr>\n",
       "      <th>5</th>\n",
       "      <td>5.129413</td>\n",
       "      <td>5.224541</td>\n",
       "    </tr>\n",
       "    <tr>\n",
       "      <th>6</th>\n",
       "      <td>5.175541</td>\n",
       "      <td>5.150000</td>\n",
       "    </tr>\n",
       "    <tr>\n",
       "      <th>7</th>\n",
       "      <td>5.635566</td>\n",
       "      <td>5.664071</td>\n",
       "    </tr>\n",
       "    <tr>\n",
       "      <th>8</th>\n",
       "      <td>5.804860</td>\n",
       "      <td>5.700000</td>\n",
       "    </tr>\n",
       "    <tr>\n",
       "      <th>9</th>\n",
       "      <td>9.924049</td>\n",
       "      <td>9.947710</td>\n",
       "    </tr>\n",
       "    <tr>\n",
       "      <th>10</th>\n",
       "      <td>6.505144</td>\n",
       "      <td>6.524363</td>\n",
       "    </tr>\n",
       "    <tr>\n",
       "      <th>11</th>\n",
       "      <td>4.985943</td>\n",
       "      <td>5.333299</td>\n",
       "    </tr>\n",
       "    <tr>\n",
       "      <th>12</th>\n",
       "      <td>7.272094</td>\n",
       "      <td>7.372712</td>\n",
       "    </tr>\n",
       "    <tr>\n",
       "      <th>13</th>\n",
       "      <td>4.994627</td>\n",
       "      <td>5.001681</td>\n",
       "    </tr>\n",
       "    <tr>\n",
       "      <th>14</th>\n",
       "      <td>8.674076</td>\n",
       "      <td>8.542871</td>\n",
       "    </tr>\n",
       "    <tr>\n",
       "      <th>15</th>\n",
       "      <td>8.112431</td>\n",
       "      <td>7.940547</td>\n",
       "    </tr>\n",
       "    <tr>\n",
       "      <th>16</th>\n",
       "      <td>7.026025</td>\n",
       "      <td>7.155101</td>\n",
       "    </tr>\n",
       "    <tr>\n",
       "      <th>17</th>\n",
       "      <td>5.450617</td>\n",
       "      <td>5.400000</td>\n",
       "    </tr>\n",
       "    <tr>\n",
       "      <th>18</th>\n",
       "      <td>5.815935</td>\n",
       "      <td>5.800000</td>\n",
       "    </tr>\n",
       "    <tr>\n",
       "      <th>19</th>\n",
       "      <td>10.037548</td>\n",
       "      <td>10.025730</td>\n",
       "    </tr>\n",
       "    <tr>\n",
       "      <th>20</th>\n",
       "      <td>8.174987</td>\n",
       "      <td>8.280876</td>\n",
       "    </tr>\n",
       "    <tr>\n",
       "      <th>21</th>\n",
       "      <td>4.534790</td>\n",
       "      <td>4.400000</td>\n",
       "    </tr>\n",
       "    <tr>\n",
       "      <th>22</th>\n",
       "      <td>10.356166</td>\n",
       "      <td>10.300000</td>\n",
       "    </tr>\n",
       "    <tr>\n",
       "      <th>23</th>\n",
       "      <td>6.939672</td>\n",
       "      <td>6.986300</td>\n",
       "    </tr>\n",
       "    <tr>\n",
       "      <th>24</th>\n",
       "      <td>6.801917</td>\n",
       "      <td>6.600000</td>\n",
       "    </tr>\n",
       "    <tr>\n",
       "      <th>25</th>\n",
       "      <td>12.907724</td>\n",
       "      <td>13.000000</td>\n",
       "    </tr>\n",
       "    <tr>\n",
       "      <th>26</th>\n",
       "      <td>4.577319</td>\n",
       "      <td>4.493069</td>\n",
       "    </tr>\n",
       "    <tr>\n",
       "      <th>27</th>\n",
       "      <td>6.361387</td>\n",
       "      <td>6.200000</td>\n",
       "    </tr>\n",
       "    <tr>\n",
       "      <th>28</th>\n",
       "      <td>7.424139</td>\n",
       "      <td>7.372712</td>\n",
       "    </tr>\n",
       "    <tr>\n",
       "      <th>29</th>\n",
       "      <td>5.098197</td>\n",
       "      <td>5.154278</td>\n",
       "    </tr>\n",
       "    <tr>\n",
       "      <th>30</th>\n",
       "      <td>10.367698</td>\n",
       "      <td>10.400000</td>\n",
       "    </tr>\n",
       "    <tr>\n",
       "      <th>31</th>\n",
       "      <td>14.467777</td>\n",
       "      <td>14.400000</td>\n",
       "    </tr>\n",
       "    <tr>\n",
       "      <th>32</th>\n",
       "      <td>9.424145</td>\n",
       "      <td>9.500000</td>\n",
       "    </tr>\n",
       "    <tr>\n",
       "      <th>33</th>\n",
       "      <td>3.564720</td>\n",
       "      <td>3.600000</td>\n",
       "    </tr>\n",
       "    <tr>\n",
       "      <th>34</th>\n",
       "      <td>8.046755</td>\n",
       "      <td>8.000000</td>\n",
       "    </tr>\n",
       "  </tbody>\n",
       "</table>\n",
       "</div>"
      ],
      "text/plain": [
       "    Predicted   Measured\n",
       "0    8.876835   8.964832\n",
       "1    6.577969   6.600000\n",
       "2    8.027663   8.200000\n",
       "3    6.401841   6.300000\n",
       "4    7.413652   7.354888\n",
       "5    5.129413   5.224541\n",
       "6    5.175541   5.150000\n",
       "7    5.635566   5.664071\n",
       "8    5.804860   5.700000\n",
       "9    9.924049   9.947710\n",
       "10   6.505144   6.524363\n",
       "11   4.985943   5.333299\n",
       "12   7.272094   7.372712\n",
       "13   4.994627   5.001681\n",
       "14   8.674076   8.542871\n",
       "15   8.112431   7.940547\n",
       "16   7.026025   7.155101\n",
       "17   5.450617   5.400000\n",
       "18   5.815935   5.800000\n",
       "19  10.037548  10.025730\n",
       "20   8.174987   8.280876\n",
       "21   4.534790   4.400000\n",
       "22  10.356166  10.300000\n",
       "23   6.939672   6.986300\n",
       "24   6.801917   6.600000\n",
       "25  12.907724  13.000000\n",
       "26   4.577319   4.493069\n",
       "27   6.361387   6.200000\n",
       "28   7.424139   7.372712\n",
       "29   5.098197   5.154278\n",
       "30  10.367698  10.400000\n",
       "31  14.467777  14.400000\n",
       "32   9.424145   9.500000\n",
       "33   3.564720   3.600000\n",
       "34   8.046755   8.000000"
      ]
     },
     "execution_count": 2,
     "metadata": {},
     "output_type": "execute_result"
    }
   ],
   "source": [
    "datafile=\"C:/Users/Enrique Mejia/Documents/Análisis_Interpretación_Datos/Datos/propiedad_1.xls\"#este archivo contiene tres hojas de calculo \n",
    "data = pd.read_excel(datafile, sheet_name=None, header=0)\n",
    "data['calibracion'].head()\n",
    "data1=data['calibracion']\n",
    "data1"
   ]
  },
  {
   "cell_type": "code",
   "execution_count": 3,
   "metadata": {},
   "outputs": [
    {
     "data": {
      "text/html": [
       "<div>\n",
       "<style scoped>\n",
       "    .dataframe tbody tr th:only-of-type {\n",
       "        vertical-align: middle;\n",
       "    }\n",
       "\n",
       "    .dataframe tbody tr th {\n",
       "        vertical-align: top;\n",
       "    }\n",
       "\n",
       "    .dataframe thead th {\n",
       "        text-align: right;\n",
       "    }\n",
       "</style>\n",
       "<table border=\"1\" class=\"dataframe\">\n",
       "  <thead>\n",
       "    <tr style=\"text-align: right;\">\n",
       "      <th></th>\n",
       "      <th>Predicted</th>\n",
       "      <th>Measured</th>\n",
       "    </tr>\n",
       "  </thead>\n",
       "  <tbody>\n",
       "    <tr>\n",
       "      <th>0</th>\n",
       "      <td>8.876835</td>\n",
       "      <td>8.964832</td>\n",
       "    </tr>\n",
       "    <tr>\n",
       "      <th>1</th>\n",
       "      <td>6.577969</td>\n",
       "      <td>6.600000</td>\n",
       "    </tr>\n",
       "    <tr>\n",
       "      <th>2</th>\n",
       "      <td>8.027663</td>\n",
       "      <td>8.200000</td>\n",
       "    </tr>\n",
       "    <tr>\n",
       "      <th>3</th>\n",
       "      <td>6.401841</td>\n",
       "      <td>6.300000</td>\n",
       "    </tr>\n",
       "    <tr>\n",
       "      <th>4</th>\n",
       "      <td>7.413652</td>\n",
       "      <td>7.354888</td>\n",
       "    </tr>\n",
       "  </tbody>\n",
       "</table>\n",
       "</div>"
      ],
      "text/plain": [
       "   Predicted  Measured\n",
       "0   8.876835  8.964832\n",
       "1   6.577969  6.600000\n",
       "2   8.027663  8.200000\n",
       "3   6.401841  6.300000\n",
       "4   7.413652  7.354888"
      ]
     },
     "execution_count": 3,
     "metadata": {},
     "output_type": "execute_result"
    }
   ],
   "source": [
    "datacc=data['calibracion']\n",
    "dataval=data['validacion']\n",
    "datapre=data['prediccion']\n",
    "datacc.head()"
   ]
  },
  {
   "cell_type": "code",
   "execution_count": 4,
   "metadata": {},
   "outputs": [
    {
     "name": "stdout",
     "output_type": "stream",
     "text": [
      "[9.99986471e-01 1.09565609e-04]\n"
     ]
    }
   ],
   "source": [
    "# Librería numpy permite obtener la pendiente y el corte de un ajuste lineal entre dos serie datos\n",
    "x=datacc['Predicted']\n",
    "y=datacc['Measured']\n",
    "# Ajuste a una recta (polinomio de grado 1)\n",
    "p = np.polyfit(x, y, 1)\n",
    "# No es posible obtener métricas estadísticas con el coeficiente de regresión\n",
    "print(p)\n",
    "# y(x)=p0x+p1=1.00000009e+00x-4.29084910e-05, muestra la pendiente y el corte"
   ]
  },
  {
   "cell_type": "markdown",
   "metadata": {},
   "source": [
    "<font color=red> **Otra librería útil es la denominada statmodels que permite hacer analisis estadístico de muchos tipos entre ellos OLS, aquí una muestra.** "
   ]
  },
  {
   "cell_type": "code",
   "execution_count": 5,
   "metadata": {},
   "outputs": [
    {
     "name": "stdout",
     "output_type": "stream",
     "text": [
      "                                 OLS Regression Results                                \n",
      "=======================================================================================\n",
      "Dep. Variable:              Predicted   R-squared (uncentered):                   1.000\n",
      "Model:                            OLS   Adj. R-squared (uncentered):              1.000\n",
      "Method:                 Least Squares   F-statistic:                          1.729e+05\n",
      "Date:                Mon, 18 Apr 2022   Prob (F-statistic):                    1.33e-64\n",
      "Time:                        16:04:00   Log-Likelihood:                          28.199\n",
      "No. Observations:                  35   AIC:                                     -54.40\n",
      "Df Residuals:                      34   BIC:                                     -52.84\n",
      "Df Model:                           1                                                  \n",
      "Covariance Type:            nonrobust                                                  \n",
      "==============================================================================\n",
      "                 coef    std err          t      P>|t|      [0.025      0.975]\n",
      "------------------------------------------------------------------------------\n",
      "Measured       0.9998      0.002    415.798      0.000       0.995       1.005\n",
      "==============================================================================\n",
      "Omnibus:                        6.124   Durbin-Watson:                   2.048\n",
      "Prob(Omnibus):                  0.047   Jarque-Bera (JB):                4.815\n",
      "Skew:                          -0.647   Prob(JB):                       0.0900\n",
      "Kurtosis:                       4.277   Cond. No.                         1.00\n",
      "==============================================================================\n",
      "\n",
      "Notes:\n",
      "[1] R² is computed without centering (uncentered) since the model does not contain a constant.\n",
      "[2] Standard Errors assume that the covariance matrix of the errors is correctly specified.\n"
     ]
    }
   ],
   "source": [
    "# Statsmodels permite realizar el ajuste y obtener varias métrias que nos dan información de la robustes del modelo\n",
    "mod = sm.OLS(x, y)\n",
    "res = mod.fit()\n",
    "print(res.summary())"
   ]
  },
  {
   "cell_type": "code",
   "execution_count": 6,
   "metadata": {
    "collapsed": false,
    "jupyter": {
     "outputs_hidden": false
    }
   },
   "outputs": [],
   "source": [
    "lm = sm.OLS.from_formula('Measured ~ Predicted', data1)\n",
    "res1 = lm.fit()"
   ]
  },
  {
   "cell_type": "code",
   "execution_count": 7,
   "metadata": {
    "collapsed": false,
    "jupyter": {
     "outputs_hidden": false
    }
   },
   "outputs": [
    {
     "data": {
      "text/plain": [
       "(0.9979061830994562,\n",
       " 15727.690436412951,\n",
       " 0.0001095656094682873,\n",
       " 0.9999864713588223)"
      ]
     },
     "execution_count": 7,
     "metadata": {},
     "output_type": "execute_result"
    }
   ],
   "source": [
    "res1.rsquared, res1.fvalue, res1.params.Intercept, res1.params.Predicted"
   ]
  },
  {
   "cell_type": "code",
   "execution_count": 8,
   "metadata": {
    "collapsed": false,
    "jupyter": {
     "outputs_hidden": false
    }
   },
   "outputs": [
    {
     "name": "stderr",
     "output_type": "stream",
     "text": [
      "C:\\ProgramData\\Anaconda3\\lib\\site-packages\\seaborn\\_decorators.py:36: FutureWarning: Pass the following variables as keyword args: x, y, data. From version 0.12, the only valid positional argument will be `data`, and passing other arguments without an explicit keyword will result in an error or misinterpretation.\n",
      "  warnings.warn(\n"
     ]
    },
    {
     "data": {
      "text/plain": [
       "<AxesSubplot:xlabel='Measured', ylabel='Predicted'>"
      ]
     },
     "execution_count": 8,
     "metadata": {},
     "output_type": "execute_result"
    },
    {
     "data": {
      "image/png": "[encoded data removed]",
      "text/plain": [
       "<Figure size 432x288 with 1 Axes>"
      ]
     },
     "metadata": {
      "needs_background": "light"
     },
     "output_type": "display_data"
    }
   ],
   "source": [
    "import seaborn as sns\n",
    "sns.regplot('Measured', 'Predicted', data1, line_kws = {\"color\":\"r\"}, ci=None)"
   ]
  },
  {
   "cell_type": "markdown",
   "metadata": {},
   "source": [
    "### <font color=green> Aunque existen otras librerias, la que prefiero por su facilidad e información, scipy.stats."
   ]
  },
  {
   "cell_type": "code",
   "execution_count": 9,
   "metadata": {},
   "outputs": [
    {
     "name": "stdout",
     "output_type": "stream",
     "text": [
      "Coeficiente de correlación de Pearson:  0.9989525429666097\n",
      "P-value:  8.616108553417022e-46\n"
     ]
    }
   ],
   "source": [
    "corr_test = scs.pearsonr(x, y)\n",
    "print(\"Coeficiente de correlación de Pearson: \", corr_test[0])\n",
    "print(\"P-value: \", corr_test[1])"
   ]
  },
  {
   "cell_type": "code",
   "execution_count": 10,
   "metadata": {},
   "outputs": [
    {
     "name": "stdout",
     "output_type": "stream",
     "text": [
      "slope: 0.9999864713588222\n",
      "Intercept: 0.00010956560947139593\n",
      "r-squared: 0.9979061830994562\n",
      "std_err: 0.00797373224838421\n"
     ]
    }
   ],
   "source": [
    "slope, intercept, r_value, p_value, std_err = scs.linregress(x, y)\n",
    "print (\"slope:\", slope)\n",
    "print (\"Intercept:\", intercept)\n",
    "print (\"r-squared:\", r_value**2)\n",
    "print (\"std_err:\", std_err)"
   ]
  },
  {
   "cell_type": "code",
   "execution_count": 11,
   "metadata": {},
   "outputs": [],
   "source": [
    "X1=[198380, 333251, 133079, 74801, 56960, 104646, 131663, 343303, 77831]\n",
    "X2=[208443, 359609, 141744, 78903, 60646, 110516, 138595, 362233, 81324]\n",
    "X1=np.array(X1)\n",
    "X2=np.array(X2)"
   ]
  },
  {
   "cell_type": "code",
   "execution_count": 12,
   "metadata": {},
   "outputs": [
    {
     "name": "stdout",
     "output_type": "stream",
     "text": [
      "Coeficiente de correlación de Pearson:  0.9998055167566979\n",
      "P-value:  3.377089619493181e-13\n"
     ]
    }
   ],
   "source": [
    "import scipy.stats as scs\n",
    "corr_test = scs.pearsonr(X2, X1)\n",
    "print(\"Coeficiente de correlación de Pearson: \", corr_test[0])\n",
    "print(\"P-value: \", corr_test[1])"
   ]
  },
  {
   "cell_type": "code",
   "execution_count": 13,
   "metadata": {},
   "outputs": [
    {
     "name": "stdout",
     "output_type": "stream",
     "text": [
      "slope: 0.9349994539373302\n",
      "Intercept: 1348.0763373039663\n",
      "r-squared: 0.9996110713371285\n",
      "std_err: 0.006970786536199842\n"
     ]
    }
   ],
   "source": [
    "slope, intercept, r_value, p_value, std_err = scs.linregress(X2, X1)\n",
    "print (\"slope:\", slope)\n",
    "print (\"Intercept:\", intercept)\n",
    "print (\"r-squared:\", r_value**2)\n",
    "print (\"std_err:\", std_err)"
   ]
  },
  {
   "cell_type": "code",
   "execution_count": 14,
   "metadata": {},
   "outputs": [
    {
     "data": {
      "image/png": "[encoded data removed]",
      "text/plain": [
       "<Figure size 432x288 with 1 Axes>"
      ]
     },
     "metadata": {
      "needs_background": "light"
     },
     "output_type": "display_data"
    }
   ],
   "source": [
    "fig, ax= plt.subplots()\n",
    "ax.plot(X2, X1, 'o', label='Original data')\n",
    "ax.plot(X2, intercept + slope*X2, 'r', label='Fitted line')\n",
    "ax.legend()\n",
    "ax.set_title(\"Model_1\")\n",
    "ax.set_xlabel(\"Predicted (%)\")\n",
    "ax.set_ylabel(\"Measured (%)\")\n",
    "ax.text(250000,100000, r\"$std-err = \"+str(\"{0:.3f}\".format(std_err))+r\"$\", fontsize=10, color=\"black\")\n",
    "ax.text(250000,80000, r\"$r^2 = \"+str(\"{0:.3f}\".format(r_value**2))+r\"$\", fontsize=10, color=\"black\")\n",
    "plt.show()\n",
    "fig.savefig(\"ccal.pdf\",bbox_inches='tight')"
   ]
  },
  {
   "cell_type": "code",
   "execution_count": 15,
   "metadata": {},
   "outputs": [
    {
     "data": {
      "image/png": "[encoded data removed]",
      "text/plain": [
       "<Figure size 432x288 with 1 Axes>"
      ]
     },
     "metadata": {
      "needs_background": "light"
     },
     "output_type": "display_data"
    }
   ],
   "source": [
    "fig, ax= plt.subplots()\n",
    "ax.plot(x, y, 'o', label='Original data')\n",
    "ax.plot(x, intercept + slope*x, 'r', label='Fitted line')\n",
    "ax.legend()\n",
    "ax.set_title(\"Model_1\")\n",
    "ax.set_xlabel(\"Predicted (%)\")\n",
    "ax.set_ylabel(\"Measured (%)\")\n",
    "ax.text(12,7, r\"$std-err = \"+str(\"{0:.3f}\".format(std_err))+r\"$\", fontsize=10, color=\"black\")\n",
    "ax.text(12,6.0, r\"$r^2 = \"+str(\"{0:.3f}\".format(r_value**2))+r\"$\", fontsize=10, color=\"black\")\n",
    "plt.show()\n",
    "fig.savefig(\"ccal.pdf\",bbox_inches='tight')"
   ]
  },
  {
   "cell_type": "code",
   "execution_count": 16,
   "metadata": {},
   "outputs": [],
   "source": [
    "xp=datapre['Measured']"
   ]
  },
  {
   "cell_type": "code",
   "execution_count": 17,
   "metadata": {},
   "outputs": [
    {
     "data": {
      "image/png": "[encoded data removed]",
      "text/plain": [
       "<Figure size 432x288 with 1 Axes>"
      ]
     },
     "metadata": {
      "needs_background": "light"
     },
     "output_type": "display_data"
    }
   ],
   "source": [
    "def predict_y_for(x):\n",
    "    return slope * x + intercept\n",
    "\n",
    "plt.scatter(xp, predict_y_for(xp))\n",
    "plt.plot(xp, predict_y_for(xp), c='r')\n",
    "plt.show()"
   ]
  },
  {
   "cell_type": "markdown",
   "metadata": {},
   "source": [
    "### <font color=orange> Una de las librerias mas utilizadas, especialmente en análisis multivariado, es scikit learn. Los datos deben ser tipo arreglo, por ello se deben convertir los datos a ese formato."
   ]
  },
  {
   "cell_type": "code",
   "execution_count": 18,
   "metadata": {},
   "outputs": [
    {
     "data": {
      "text/plain": [
       "(35,)"
      ]
     },
     "execution_count": 18,
     "metadata": {},
     "output_type": "execute_result"
    }
   ],
   "source": [
    "x.shape"
   ]
  },
  {
   "cell_type": "code",
   "execution_count": 19,
   "metadata": {},
   "outputs": [],
   "source": [
    "x1=x.values.reshape(35, 1) # Los datos se convierten al formato tipo arreglo\n",
    "y1=y.values.reshape(35, 1)"
   ]
  },
  {
   "cell_type": "code",
   "execution_count": 20,
   "metadata": {},
   "outputs": [],
   "source": [
    "import sklearn.metrics as skm\n",
    "from sklearn import linear_model\n",
    "reg = linear_model.LinearRegression()\n",
    "reg.fit(x1, y1)\n",
    "y1_pred = reg.predict(x1)\n",
    "m=reg.coef_[0]\n",
    "b=reg.intercept_[0]\n",
    "mse=skm.mean_squared_error(y1, y1_pred)\n",
    "r2=skm.r2_score(y1, y1_pred)"
   ]
  },
  {
   "cell_type": "code",
   "execution_count": 22,
   "metadata": {},
   "outputs": [
    {
     "data": {
      "image/png": "[encoded data removed]",
      "text/plain": [
       "<Figure size 432x288 with 1 Axes>"
      ]
     },
     "metadata": {
      "needs_background": "light"
     },
     "output_type": "display_data"
    }
   ],
   "source": [
    "fig, ax= plt.subplots()\n",
    "ax.scatter(x1, y1, label='Original data', edgecolors='black')\n",
    "ax.plot(x1, b + m*x, 'r', label='Fitted line')\n",
    "ax.legend()\n",
    "ax.set_title(\"Model_1\")\n",
    "ax.set_xlabel(\"Predicted (%)\")\n",
    "ax.set_ylabel(\"Measured (%)\")\n",
    "ax.text(12,7, r\"$mse = \"+str(\"{0:.3f}\".format(mse))+r\"$\", fontsize=12, color=\"black\")\n",
    "ax.text(12,6.0, r\"$r^2 = \"+str(\"{0:.3f}\".format(r2))+r\"$\", fontsize=12, color=\"black\")\n",
    "plt.show()\n",
    "fig.savefig(\"ccal.pdf\",bbox_inches='tight')"
   ]
  },
  {
   "cell_type": "markdown",
   "metadata": {},
   "source": [
    "<font color=blue size=6>**Regresión Lineal Multiple o Multivariada**"
   ]
  },
  {
   "cell_type": "markdown",
   "metadata": {},
   "source": [
    "<font color=gree size=4>La libreria statmodel permite realizar análisis lineal múltiple, especialmente cuando el número de variables independientes o predictores es relativamente pequeño. En este ejemplo utilizaremos las áreas de las bandas más importantes de los espectros FTIR de 83 muestras de crudo y como variable dependiente a predecir se utilizó la estabilidad (ASCI). Las areas de las bandas fueron agrupados en tres variables A1, A2 y A3. Se utilizará la función ${\\tt from\\_formula()}$. La sintáxis para construir el modelo es ${\\tt from\\_formula (y∼A1+A2+A3)}$, donde los predictores son $A1$, $A2$, y $A3$. La función ${\\tt summary()}$ mostrará los coeficientes de regresión para todos los predictores."
   ]
  },
  {
   "cell_type": "code",
   "execution_count": 56,
   "metadata": {},
   "outputs": [],
   "source": [
    "import scipy.io #scipy.io me permite leer datos construidos en matlab\n",
    "espectros = scipy.io.loadmat('C:/Users/Enrique Mejia/Documents/Análisis_Interpretación_Datos/Datos/espectros.mat')# este archivo contiene las intensidades de\n",
    "# 83 espectros FTIR de crudos colombianos y será utilizados como ejemplo en esta sección\n",
    "# del curso\n",
    "propiedad = scipy.io.loadmat('C:/Users/Enrique Mejia/Documents/Análisis_Interpretación_Datos/Datos/propiedad.mat')#Medida de asci de los crudos a los que corresponden los espectros\n",
    "#ftir"
   ]
  },
  {
   "cell_type": "code",
   "execution_count": 74,
   "metadata": {},
   "outputs": [],
   "source": [
    "import scipy.io #scipy.io me permite leer datos construidos en matlab\n",
    "espectros = scipy.io.loadmat('C:/Users/Enrique Mejia/Documents/Análisis_Interpretación_Datos/Datos/espectros.mat')# este archivo contiene las intensidades de\n",
    "# 83 espectros FTIR de crudos colombianos y será utilizados como ejemplo en esta sección\n",
    "# del curso\n",
    "from scipy import stats # importando scipy.stats"
   ]
  },
  {
   "cell_type": "code",
   "execution_count": 75,
   "metadata": {},
   "outputs": [
    {
     "data": {
      "text/html": [
       "<div>\n",
       "<style scoped>\n",
       "    .dataframe tbody tr th:only-of-type {\n",
       "        vertical-align: middle;\n",
       "    }\n",
       "\n",
       "    .dataframe tbody tr th {\n",
       "        vertical-align: top;\n",
       "    }\n",
       "\n",
       "    .dataframe thead th {\n",
       "        text-align: right;\n",
       "    }\n",
       "</style>\n",
       "<table border=\"1\" class=\"dataframe\">\n",
       "  <thead>\n",
       "    <tr style=\"text-align: right;\">\n",
       "      <th></th>\n",
       "      <th>0</th>\n",
       "      <th>1</th>\n",
       "      <th>2</th>\n",
       "      <th>3</th>\n",
       "      <th>4</th>\n",
       "      <th>5</th>\n",
       "      <th>6</th>\n",
       "      <th>7</th>\n",
       "      <th>8</th>\n",
       "      <th>9</th>\n",
       "      <th>...</th>\n",
       "      <th>7458</th>\n",
       "      <th>7459</th>\n",
       "      <th>7460</th>\n",
       "      <th>7461</th>\n",
       "      <th>7462</th>\n",
       "      <th>7463</th>\n",
       "      <th>7464</th>\n",
       "      <th>7465</th>\n",
       "      <th>7466</th>\n",
       "      <th>7467</th>\n",
       "    </tr>\n",
       "  </thead>\n",
       "  <tbody>\n",
       "    <tr>\n",
       "      <th>0</th>\n",
       "      <td>0.011097</td>\n",
       "      <td>0.011199</td>\n",
       "      <td>0.010985</td>\n",
       "      <td>0.010543</td>\n",
       "      <td>0.010022</td>\n",
       "      <td>0.009558</td>\n",
       "      <td>0.009238</td>\n",
       "      <td>0.009085</td>\n",
       "      <td>0.009071</td>\n",
       "      <td>0.009146</td>\n",
       "      <td>...</td>\n",
       "      <td>0.007546</td>\n",
       "      <td>0.007546</td>\n",
       "      <td>0.007545</td>\n",
       "      <td>0.007542</td>\n",
       "      <td>0.007537</td>\n",
       "      <td>0.007530</td>\n",
       "      <td>0.007522</td>\n",
       "      <td>0.007512</td>\n",
       "      <td>0.007503</td>\n",
       "      <td>0.007494</td>\n",
       "    </tr>\n",
       "    <tr>\n",
       "      <th>1</th>\n",
       "      <td>0.012468</td>\n",
       "      <td>0.012486</td>\n",
       "      <td>0.012449</td>\n",
       "      <td>0.012386</td>\n",
       "      <td>0.012352</td>\n",
       "      <td>0.012396</td>\n",
       "      <td>0.012543</td>\n",
       "      <td>0.012782</td>\n",
       "      <td>0.013081</td>\n",
       "      <td>0.013398</td>\n",
       "      <td>...</td>\n",
       "      <td>0.003964</td>\n",
       "      <td>0.003966</td>\n",
       "      <td>0.003967</td>\n",
       "      <td>0.003967</td>\n",
       "      <td>0.003967</td>\n",
       "      <td>0.003969</td>\n",
       "      <td>0.003970</td>\n",
       "      <td>0.003973</td>\n",
       "      <td>0.003975</td>\n",
       "      <td>0.003976</td>\n",
       "    </tr>\n",
       "    <tr>\n",
       "      <th>2</th>\n",
       "      <td>0.018689</td>\n",
       "      <td>0.018286</td>\n",
       "      <td>0.017887</td>\n",
       "      <td>0.017561</td>\n",
       "      <td>0.017360</td>\n",
       "      <td>0.017291</td>\n",
       "      <td>0.017324</td>\n",
       "      <td>0.017413</td>\n",
       "      <td>0.017528</td>\n",
       "      <td>0.017675</td>\n",
       "      <td>...</td>\n",
       "      <td>0.000043</td>\n",
       "      <td>0.000035</td>\n",
       "      <td>0.000026</td>\n",
       "      <td>0.000016</td>\n",
       "      <td>0.000008</td>\n",
       "      <td>0.000003</td>\n",
       "      <td>0.000000</td>\n",
       "      <td>0.000001</td>\n",
       "      <td>0.000006</td>\n",
       "      <td>0.000013</td>\n",
       "    </tr>\n",
       "    <tr>\n",
       "      <th>3</th>\n",
       "      <td>0.015869</td>\n",
       "      <td>0.015885</td>\n",
       "      <td>0.015737</td>\n",
       "      <td>0.015513</td>\n",
       "      <td>0.015276</td>\n",
       "      <td>0.015056</td>\n",
       "      <td>0.014842</td>\n",
       "      <td>0.014605</td>\n",
       "      <td>0.014319</td>\n",
       "      <td>0.013989</td>\n",
       "      <td>...</td>\n",
       "      <td>0.011477</td>\n",
       "      <td>0.011465</td>\n",
       "      <td>0.011455</td>\n",
       "      <td>0.011450</td>\n",
       "      <td>0.011447</td>\n",
       "      <td>0.011448</td>\n",
       "      <td>0.011453</td>\n",
       "      <td>0.011460</td>\n",
       "      <td>0.011469</td>\n",
       "      <td>0.011480</td>\n",
       "    </tr>\n",
       "    <tr>\n",
       "      <th>4</th>\n",
       "      <td>0.006940</td>\n",
       "      <td>0.006977</td>\n",
       "      <td>0.006766</td>\n",
       "      <td>0.006420</td>\n",
       "      <td>0.006081</td>\n",
       "      <td>0.005889</td>\n",
       "      <td>0.005934</td>\n",
       "      <td>0.006241</td>\n",
       "      <td>0.006779</td>\n",
       "      <td>0.007492</td>\n",
       "      <td>...</td>\n",
       "      <td>0.003165</td>\n",
       "      <td>0.003165</td>\n",
       "      <td>0.003163</td>\n",
       "      <td>0.003158</td>\n",
       "      <td>0.003152</td>\n",
       "      <td>0.003147</td>\n",
       "      <td>0.003144</td>\n",
       "      <td>0.003142</td>\n",
       "      <td>0.003143</td>\n",
       "      <td>0.003145</td>\n",
       "    </tr>\n",
       "    <tr>\n",
       "      <th>...</th>\n",
       "      <td>...</td>\n",
       "      <td>...</td>\n",
       "      <td>...</td>\n",
       "      <td>...</td>\n",
       "      <td>...</td>\n",
       "      <td>...</td>\n",
       "      <td>...</td>\n",
       "      <td>...</td>\n",
       "      <td>...</td>\n",
       "      <td>...</td>\n",
       "      <td>...</td>\n",
       "      <td>...</td>\n",
       "      <td>...</td>\n",
       "      <td>...</td>\n",
       "      <td>...</td>\n",
       "      <td>...</td>\n",
       "      <td>...</td>\n",
       "      <td>...</td>\n",
       "      <td>...</td>\n",
       "      <td>...</td>\n",
       "      <td>...</td>\n",
       "    </tr>\n",
       "    <tr>\n",
       "      <th>77</th>\n",
       "      <td>0.012003</td>\n",
       "      <td>0.012234</td>\n",
       "      <td>0.012054</td>\n",
       "      <td>0.011595</td>\n",
       "      <td>0.011025</td>\n",
       "      <td>0.010495</td>\n",
       "      <td>0.010095</td>\n",
       "      <td>0.009845</td>\n",
       "      <td>0.009712</td>\n",
       "      <td>0.009647</td>\n",
       "      <td>...</td>\n",
       "      <td>0.000554</td>\n",
       "      <td>0.000552</td>\n",
       "      <td>0.000548</td>\n",
       "      <td>0.000543</td>\n",
       "      <td>0.000539</td>\n",
       "      <td>0.000535</td>\n",
       "      <td>0.000533</td>\n",
       "      <td>0.000533</td>\n",
       "      <td>0.000534</td>\n",
       "      <td>0.000538</td>\n",
       "    </tr>\n",
       "    <tr>\n",
       "      <th>78</th>\n",
       "      <td>0.015255</td>\n",
       "      <td>0.014849</td>\n",
       "      <td>0.014527</td>\n",
       "      <td>0.014288</td>\n",
       "      <td>0.014117</td>\n",
       "      <td>0.013987</td>\n",
       "      <td>0.013858</td>\n",
       "      <td>0.013693</td>\n",
       "      <td>0.013464</td>\n",
       "      <td>0.013171</td>\n",
       "      <td>...</td>\n",
       "      <td>0.011690</td>\n",
       "      <td>0.011689</td>\n",
       "      <td>0.011688</td>\n",
       "      <td>0.011688</td>\n",
       "      <td>0.011689</td>\n",
       "      <td>0.011689</td>\n",
       "      <td>0.011687</td>\n",
       "      <td>0.011686</td>\n",
       "      <td>0.011684</td>\n",
       "      <td>0.011684</td>\n",
       "    </tr>\n",
       "    <tr>\n",
       "      <th>79</th>\n",
       "      <td>0.014519</td>\n",
       "      <td>0.015313</td>\n",
       "      <td>0.016455</td>\n",
       "      <td>0.017791</td>\n",
       "      <td>0.019159</td>\n",
       "      <td>0.020383</td>\n",
       "      <td>0.021306</td>\n",
       "      <td>0.021820</td>\n",
       "      <td>0.021896</td>\n",
       "      <td>0.021586</td>\n",
       "      <td>...</td>\n",
       "      <td>0.011802</td>\n",
       "      <td>0.011811</td>\n",
       "      <td>0.011820</td>\n",
       "      <td>0.011828</td>\n",
       "      <td>0.011834</td>\n",
       "      <td>0.011839</td>\n",
       "      <td>0.011844</td>\n",
       "      <td>0.011849</td>\n",
       "      <td>0.011856</td>\n",
       "      <td>0.011863</td>\n",
       "    </tr>\n",
       "    <tr>\n",
       "      <th>80</th>\n",
       "      <td>0.012098</td>\n",
       "      <td>0.013569</td>\n",
       "      <td>0.014856</td>\n",
       "      <td>0.015892</td>\n",
       "      <td>0.016641</td>\n",
       "      <td>0.017102</td>\n",
       "      <td>0.017313</td>\n",
       "      <td>0.017343</td>\n",
       "      <td>0.017274</td>\n",
       "      <td>0.017184</td>\n",
       "      <td>...</td>\n",
       "      <td>0.004172</td>\n",
       "      <td>0.004182</td>\n",
       "      <td>0.004192</td>\n",
       "      <td>0.004201</td>\n",
       "      <td>0.004207</td>\n",
       "      <td>0.004210</td>\n",
       "      <td>0.004211</td>\n",
       "      <td>0.004208</td>\n",
       "      <td>0.004203</td>\n",
       "      <td>0.004196</td>\n",
       "    </tr>\n",
       "    <tr>\n",
       "      <th>81</th>\n",
       "      <td>0.036427</td>\n",
       "      <td>0.036521</td>\n",
       "      <td>0.036305</td>\n",
       "      <td>0.035926</td>\n",
       "      <td>0.035521</td>\n",
       "      <td>0.035202</td>\n",
       "      <td>0.035031</td>\n",
       "      <td>0.035026</td>\n",
       "      <td>0.035169</td>\n",
       "      <td>0.035437</td>\n",
       "      <td>...</td>\n",
       "      <td>0.000021</td>\n",
       "      <td>0.000016</td>\n",
       "      <td>0.000014</td>\n",
       "      <td>0.000014</td>\n",
       "      <td>0.000015</td>\n",
       "      <td>0.000015</td>\n",
       "      <td>0.000013</td>\n",
       "      <td>0.000010</td>\n",
       "      <td>0.000005</td>\n",
       "      <td>0.000000</td>\n",
       "    </tr>\n",
       "  </tbody>\n",
       "</table>\n",
       "<p>82 rows × 7468 columns</p>\n",
       "</div>"
      ],
      "text/plain": [
       "        0         1         2         3         4         5         6     \\\n",
       "0   0.011097  0.011199  0.010985  0.010543  0.010022  0.009558  0.009238   \n",
       "1   0.012468  0.012486  0.012449  0.012386  0.012352  0.012396  0.012543   \n",
       "2   0.018689  0.018286  0.017887  0.017561  0.017360  0.017291  0.017324   \n",
       "3   0.015869  0.015885  0.015737  0.015513  0.015276  0.015056  0.014842   \n",
       "4   0.006940  0.006977  0.006766  0.006420  0.006081  0.005889  0.005934   \n",
       "..       ...       ...       ...       ...       ...       ...       ...   \n",
       "77  0.012003  0.012234  0.012054  0.011595  0.011025  0.010495  0.010095   \n",
       "78  0.015255  0.014849  0.014527  0.014288  0.014117  0.013987  0.013858   \n",
       "79  0.014519  0.015313  0.016455  0.017791  0.019159  0.020383  0.021306   \n",
       "80  0.012098  0.013569  0.014856  0.015892  0.016641  0.017102  0.017313   \n",
       "81  0.036427  0.036521  0.036305  0.035926  0.035521  0.035202  0.035031   \n",
       "\n",
       "        7         8         9     ...      7458      7459      7460      7461  \\\n",
       "0   0.009085  0.009071  0.009146  ...  0.007546  0.007546  0.007545  0.007542   \n",
       "1   0.012782  0.013081  0.013398  ...  0.003964  0.003966  0.003967  0.003967   \n",
       "2   0.017413  0.017528  0.017675  ...  0.000043  0.000035  0.000026  0.000016   \n",
       "3   0.014605  0.014319  0.013989  ...  0.011477  0.011465  0.011455  0.011450   \n",
       "4   0.006241  0.006779  0.007492  ...  0.003165  0.003165  0.003163  0.003158   \n",
       "..       ...       ...       ...  ...       ...       ...       ...       ...   \n",
       "77  0.009845  0.009712  0.009647  ...  0.000554  0.000552  0.000548  0.000543   \n",
       "78  0.013693  0.013464  0.013171  ...  0.011690  0.011689  0.011688  0.011688   \n",
       "79  0.021820  0.021896  0.021586  ...  0.011802  0.011811  0.011820  0.011828   \n",
       "80  0.017343  0.017274  0.017184  ...  0.004172  0.004182  0.004192  0.004201   \n",
       "81  0.035026  0.035169  0.035437  ...  0.000021  0.000016  0.000014  0.000014   \n",
       "\n",
       "        7462      7463      7464      7465      7466      7467  \n",
       "0   0.007537  0.007530  0.007522  0.007512  0.007503  0.007494  \n",
       "1   0.003967  0.003969  0.003970  0.003973  0.003975  0.003976  \n",
       "2   0.000008  0.000003  0.000000  0.000001  0.000006  0.000013  \n",
       "3   0.011447  0.011448  0.011453  0.011460  0.011469  0.011480  \n",
       "4   0.003152  0.003147  0.003144  0.003142  0.003143  0.003145  \n",
       "..       ...       ...       ...       ...       ...       ...  \n",
       "77  0.000539  0.000535  0.000533  0.000533  0.000534  0.000538  \n",
       "78  0.011689  0.011689  0.011687  0.011686  0.011684  0.011684  \n",
       "79  0.011834  0.011839  0.011844  0.011849  0.011856  0.011863  \n",
       "80  0.004207  0.004210  0.004211  0.004208  0.004203  0.004196  \n",
       "81  0.000015  0.000015  0.000013  0.000010  0.000005  0.000000  \n",
       "\n",
       "[82 rows x 7468 columns]"
      ]
     },
     "execution_count": 75,
     "metadata": {},
     "output_type": "execute_result"
    }
   ],
   "source": [
    "datos_esp=pd.DataFrame(espectros['espectros']) # Para mayor comunidad los datos de\n",
    "prop=pd.DataFrame(propiedad['propiedades'])\n",
    "datos_esp # interés son convertidos en dataframe"
   ]
  },
  {
   "cell_type": "code",
   "execution_count": 60,
   "metadata": {},
   "outputs": [],
   "source": [
    "datos_espT=datos_esp.T"
   ]
  },
  {
   "cell_type": "code",
   "execution_count": 61,
   "metadata": {},
   "outputs": [
    {
     "data": {
      "text/plain": [
       "Text(0.5, 0, 'número de onda')"
      ]
     },
     "execution_count": 61,
     "metadata": {},
     "output_type": "execute_result"
    },
    {
     "data": {
      "image/png": "[encoded data removed]",
      "text/plain": [
       "<Figure size 1080x432 with 3 Axes>"
      ]
     },
     "metadata": {
      "needs_background": "light"
     },
     "output_type": "display_data"
    }
   ],
   "source": [
    "fig, esp= plt.subplots(figsize=(15, 6))\n",
    "esp1 = fig.add_subplot(1, 2, 1)\n",
    "esp2 = fig.add_subplot(1, 2, 2)\n",
    "esp1.plot(datos_espT)\n",
    "esp1.set_title(\"FTIR:Petróleo, todas las muestras\")\n",
    "esp1.set_xlabel(\"número de onda\")\n",
    "esp1.set_ylabel(\"Absorbancia\")\n",
    "esp2.plot(datos_espT[1])\n",
    "esp2.set_title(\"FTIR:Petróleo, muestra 1\")\n",
    "esp2.set_xlabel(\"número de onda\")\n",
    "#esp2.set_ylabel(\"Absorbancia\")\n",
    "#plt.subplots_adjust(left=1, wspace=0.1, hspace=0.5, bottom=0.1, top=0.9, right=3)"
   ]
  },
  {
   "cell_type": "markdown",
   "metadata": {},
   "source": [
    "<font color=black size=4>**Las áreas $A1$, $A2$, y $A3$ son calculadas como la suma de intensidades en las regiones especificadas en la celda siguiente.**"
   ]
  },
  {
   "cell_type": "code",
   "execution_count": 68,
   "metadata": {},
   "outputs": [],
   "source": [
    "A1=datos_espT[4800:5800].sum(axis=0)\n",
    "A2=datos_espT[1900:2400].sum(axis=0)\n",
    "A3=datos_espT[500:1000].sum(axis=0)"
   ]
  },
  {
   "cell_type": "code",
   "execution_count": 70,
   "metadata": {},
   "outputs": [
    {
     "data": {
      "text/plain": [
       "0     11.517964\n",
       "1     10.595512\n",
       "2     13.891529\n",
       "3     13.581369\n",
       "4     11.430203\n",
       "        ...    \n",
       "77    12.612466\n",
       "78    12.514294\n",
       "79    16.588648\n",
       "80    15.741112\n",
       "81    24.358940\n",
       "Length: 82, dtype: float64"
      ]
     },
     "execution_count": 70,
     "metadata": {},
     "output_type": "execute_result"
    }
   ],
   "source": [
    "A3"
   ]
  },
  {
   "cell_type": "markdown",
   "metadata": {},
   "source": [
    "<font color=black size=4>**Se crea una nueva tabla de datos (DataFrame) incluyendo las áreas y la propiedad.**"
   ]
  },
  {
   "cell_type": "code",
   "execution_count": 73,
   "metadata": {},
   "outputs": [
    {
     "data": {
      "text/html": [
       "<div>\n",
       "<style scoped>\n",
       "    .dataframe tbody tr th:only-of-type {\n",
       "        vertical-align: middle;\n",
       "    }\n",
       "\n",
       "    .dataframe tbody tr th {\n",
       "        vertical-align: top;\n",
       "    }\n",
       "\n",
       "    .dataframe thead th {\n",
       "        text-align: right;\n",
       "    }\n",
       "</style>\n",
       "<table border=\"1\" class=\"dataframe\">\n",
       "  <thead>\n",
       "    <tr style=\"text-align: right;\">\n",
       "      <th></th>\n",
       "      <th>Prop</th>\n",
       "      <th>A1</th>\n",
       "      <th>A2</th>\n",
       "      <th>A3</th>\n",
       "    </tr>\n",
       "  </thead>\n",
       "  <tbody>\n",
       "    <tr>\n",
       "      <th>0</th>\n",
       "      <td>10</td>\n",
       "      <td>46.741856</td>\n",
       "      <td>17.117360</td>\n",
       "      <td>11.517964</td>\n",
       "    </tr>\n",
       "    <tr>\n",
       "      <th>1</th>\n",
       "      <td>10</td>\n",
       "      <td>46.439863</td>\n",
       "      <td>16.249668</td>\n",
       "      <td>10.595512</td>\n",
       "    </tr>\n",
       "    <tr>\n",
       "      <th>2</th>\n",
       "      <td>13</td>\n",
       "      <td>47.450550</td>\n",
       "      <td>19.776143</td>\n",
       "      <td>13.891529</td>\n",
       "    </tr>\n",
       "    <tr>\n",
       "      <th>3</th>\n",
       "      <td>11</td>\n",
       "      <td>52.494911</td>\n",
       "      <td>19.790982</td>\n",
       "      <td>13.581369</td>\n",
       "    </tr>\n",
       "    <tr>\n",
       "      <th>4</th>\n",
       "      <td>11</td>\n",
       "      <td>45.445763</td>\n",
       "      <td>16.641630</td>\n",
       "      <td>11.430203</td>\n",
       "    </tr>\n",
       "    <tr>\n",
       "      <th>...</th>\n",
       "      <td>...</td>\n",
       "      <td>...</td>\n",
       "      <td>...</td>\n",
       "      <td>...</td>\n",
       "    </tr>\n",
       "    <tr>\n",
       "      <th>78</th>\n",
       "      <td>10</td>\n",
       "      <td>51.226270</td>\n",
       "      <td>19.145041</td>\n",
       "      <td>12.514294</td>\n",
       "    </tr>\n",
       "    <tr>\n",
       "      <th>79</th>\n",
       "      <td>9</td>\n",
       "      <td>54.006498</td>\n",
       "      <td>23.482383</td>\n",
       "      <td>16.588648</td>\n",
       "    </tr>\n",
       "    <tr>\n",
       "      <th>80</th>\n",
       "      <td>11</td>\n",
       "      <td>46.478486</td>\n",
       "      <td>21.759639</td>\n",
       "      <td>15.741112</td>\n",
       "    </tr>\n",
       "    <tr>\n",
       "      <th>81</th>\n",
       "      <td>12</td>\n",
       "      <td>54.461384</td>\n",
       "      <td>29.637774</td>\n",
       "      <td>24.358940</td>\n",
       "    </tr>\n",
       "    <tr>\n",
       "      <th>82</th>\n",
       "      <td>11</td>\n",
       "      <td>NaN</td>\n",
       "      <td>NaN</td>\n",
       "      <td>NaN</td>\n",
       "    </tr>\n",
       "  </tbody>\n",
       "</table>\n",
       "<p>83 rows × 4 columns</p>\n",
       "</div>"
      ],
      "text/plain": [
       "    Prop         A1         A2         A3\n",
       "0     10  46.741856  17.117360  11.517964\n",
       "1     10  46.439863  16.249668  10.595512\n",
       "2     13  47.450550  19.776143  13.891529\n",
       "3     11  52.494911  19.790982  13.581369\n",
       "4     11  45.445763  16.641630  11.430203\n",
       "..   ...        ...        ...        ...\n",
       "78    10  51.226270  19.145041  12.514294\n",
       "79     9  54.006498  23.482383  16.588648\n",
       "80    11  46.478486  21.759639  15.741112\n",
       "81    12  54.461384  29.637774  24.358940\n",
       "82    11        NaN        NaN        NaN\n",
       "\n",
       "[83 rows x 4 columns]"
      ]
     },
     "execution_count": 73,
     "metadata": {},
     "output_type": "execute_result"
    }
   ],
   "source": [
    "A=[A1, A2, A3]\n",
    "A=pd.DataFrame(A).T\n",
    "AI=pd.concat([prop, A], axis=1)\n",
    "AI=AI.set_axis(['Prop', 'A1', 'A2', 'A3'], axis=1, inplace=False)\n",
    "AI"
   ]
  },
  {
   "cell_type": "code",
   "execution_count": 76,
   "metadata": {},
   "outputs": [
    {
     "data": {
      "text/html": [
       "<div>\n",
       "<style scoped>\n",
       "    .dataframe tbody tr th:only-of-type {\n",
       "        vertical-align: middle;\n",
       "    }\n",
       "\n",
       "    .dataframe tbody tr th {\n",
       "        vertical-align: top;\n",
       "    }\n",
       "\n",
       "    .dataframe thead th {\n",
       "        text-align: right;\n",
       "    }\n",
       "</style>\n",
       "<table border=\"1\" class=\"dataframe\">\n",
       "  <thead>\n",
       "    <tr style=\"text-align: right;\">\n",
       "      <th></th>\n",
       "      <th>Prop</th>\n",
       "      <th>A1</th>\n",
       "      <th>A2</th>\n",
       "      <th>A3</th>\n",
       "    </tr>\n",
       "  </thead>\n",
       "  <tbody>\n",
       "    <tr>\n",
       "      <th>0</th>\n",
       "      <td>10</td>\n",
       "      <td>46.741856</td>\n",
       "      <td>17.117360</td>\n",
       "      <td>11.517964</td>\n",
       "    </tr>\n",
       "    <tr>\n",
       "      <th>1</th>\n",
       "      <td>10</td>\n",
       "      <td>46.439863</td>\n",
       "      <td>16.249668</td>\n",
       "      <td>10.595512</td>\n",
       "    </tr>\n",
       "    <tr>\n",
       "      <th>2</th>\n",
       "      <td>13</td>\n",
       "      <td>47.450550</td>\n",
       "      <td>19.776143</td>\n",
       "      <td>13.891529</td>\n",
       "    </tr>\n",
       "    <tr>\n",
       "      <th>3</th>\n",
       "      <td>11</td>\n",
       "      <td>52.494911</td>\n",
       "      <td>19.790982</td>\n",
       "      <td>13.581369</td>\n",
       "    </tr>\n",
       "    <tr>\n",
       "      <th>4</th>\n",
       "      <td>11</td>\n",
       "      <td>45.445763</td>\n",
       "      <td>16.641630</td>\n",
       "      <td>11.430203</td>\n",
       "    </tr>\n",
       "    <tr>\n",
       "      <th>...</th>\n",
       "      <td>...</td>\n",
       "      <td>...</td>\n",
       "      <td>...</td>\n",
       "      <td>...</td>\n",
       "    </tr>\n",
       "    <tr>\n",
       "      <th>78</th>\n",
       "      <td>10</td>\n",
       "      <td>51.226270</td>\n",
       "      <td>19.145041</td>\n",
       "      <td>12.514294</td>\n",
       "    </tr>\n",
       "    <tr>\n",
       "      <th>79</th>\n",
       "      <td>9</td>\n",
       "      <td>54.006498</td>\n",
       "      <td>23.482383</td>\n",
       "      <td>16.588648</td>\n",
       "    </tr>\n",
       "    <tr>\n",
       "      <th>80</th>\n",
       "      <td>11</td>\n",
       "      <td>46.478486</td>\n",
       "      <td>21.759639</td>\n",
       "      <td>15.741112</td>\n",
       "    </tr>\n",
       "    <tr>\n",
       "      <th>81</th>\n",
       "      <td>12</td>\n",
       "      <td>54.461384</td>\n",
       "      <td>29.637774</td>\n",
       "      <td>24.358940</td>\n",
       "    </tr>\n",
       "    <tr>\n",
       "      <th>82</th>\n",
       "      <td>11</td>\n",
       "      <td>32.000000</td>\n",
       "      <td>32.000000</td>\n",
       "      <td>32.000000</td>\n",
       "    </tr>\n",
       "  </tbody>\n",
       "</table>\n",
       "<p>83 rows × 4 columns</p>\n",
       "</div>"
      ],
      "text/plain": [
       "    Prop         A1         A2         A3\n",
       "0     10  46.741856  17.117360  11.517964\n",
       "1     10  46.439863  16.249668  10.595512\n",
       "2     13  47.450550  19.776143  13.891529\n",
       "3     11  52.494911  19.790982  13.581369\n",
       "4     11  45.445763  16.641630  11.430203\n",
       "..   ...        ...        ...        ...\n",
       "78    10  51.226270  19.145041  12.514294\n",
       "79     9  54.006498  23.482383  16.588648\n",
       "80    11  46.478486  21.759639  15.741112\n",
       "81    12  54.461384  29.637774  24.358940\n",
       "82    11  32.000000  32.000000  32.000000\n",
       "\n",
       "[83 rows x 4 columns]"
      ]
     },
     "execution_count": 76,
     "metadata": {},
     "output_type": "execute_result"
    }
   ],
   "source": [
    "# O podemos llenar los valores perdidos con ceros o cualquier otro valor\n",
    "AI =AI.fillna(32)\n",
    "AI"
   ]
  },
  {
   "cell_type": "markdown",
   "metadata": {},
   "source": [
    "<font color=black size=4>**Se construye el modelo y se revisa.**"
   ]
  },
  {
   "cell_type": "code",
   "execution_count": 77,
   "metadata": {
    "collapsed": false,
    "jupyter": {
     "outputs_hidden": false
    }
   },
   "outputs": [
    {
     "data": {
      "text/html": [
       "<table class=\"simpletable\">\n",
       "<caption>OLS Regression Results</caption>\n",
       "<tr>\n",
       "  <th>Dep. Variable:</th>          <td>Prop</td>       <th>  R-squared:         </th> <td>   0.050</td>\n",
       "</tr>\n",
       "<tr>\n",
       "  <th>Model:</th>                   <td>OLS</td>       <th>  Adj. R-squared:    </th> <td>   0.014</td>\n",
       "</tr>\n",
       "<tr>\n",
       "  <th>Method:</th>             <td>Least Squares</td>  <th>  F-statistic:       </th> <td>   1.374</td>\n",
       "</tr>\n",
       "<tr>\n",
       "  <th>Date:</th>             <td>Tue, 31 Aug 2021</td> <th>  Prob (F-statistic):</th>  <td> 0.257</td> \n",
       "</tr>\n",
       "<tr>\n",
       "  <th>Time:</th>                 <td>16:38:13</td>     <th>  Log-Likelihood:    </th> <td> -215.47</td>\n",
       "</tr>\n",
       "<tr>\n",
       "  <th>No. Observations:</th>      <td>    83</td>      <th>  AIC:               </th> <td>   438.9</td>\n",
       "</tr>\n",
       "<tr>\n",
       "  <th>Df Residuals:</th>          <td>    79</td>      <th>  BIC:               </th> <td>   448.6</td>\n",
       "</tr>\n",
       "<tr>\n",
       "  <th>Df Model:</th>              <td>     3</td>      <th>                     </th>     <td> </td>   \n",
       "</tr>\n",
       "<tr>\n",
       "  <th>Covariance Type:</th>      <td>nonrobust</td>    <th>                     </th>     <td> </td>   \n",
       "</tr>\n",
       "</table>\n",
       "<table class=\"simpletable\">\n",
       "<tr>\n",
       "      <td></td>         <th>coef</th>     <th>std err</th>      <th>t</th>      <th>P>|t|</th>  <th>[0.025</th>    <th>0.975]</th>  \n",
       "</tr>\n",
       "<tr>\n",
       "  <th>Intercept</th> <td>   13.4699</td> <td>    4.230</td> <td>    3.184</td> <td> 0.002</td> <td>    5.051</td> <td>   21.889</td>\n",
       "</tr>\n",
       "<tr>\n",
       "  <th>A1</th>        <td>    0.1145</td> <td>    0.151</td> <td>    0.757</td> <td> 0.451</td> <td>   -0.187</td> <td>    0.416</td>\n",
       "</tr>\n",
       "<tr>\n",
       "  <th>A2</th>        <td>   -0.4151</td> <td>    0.567</td> <td>   -0.732</td> <td> 0.466</td> <td>   -1.543</td> <td>    0.713</td>\n",
       "</tr>\n",
       "<tr>\n",
       "  <th>A3</th>        <td>    0.2025</td> <td>    0.506</td> <td>    0.400</td> <td> 0.690</td> <td>   -0.805</td> <td>    1.210</td>\n",
       "</tr>\n",
       "</table>\n",
       "<table class=\"simpletable\">\n",
       "<tr>\n",
       "  <th>Omnibus:</th>       <td> 2.095</td> <th>  Durbin-Watson:     </th> <td>   1.744</td>\n",
       "</tr>\n",
       "<tr>\n",
       "  <th>Prob(Omnibus):</th> <td> 0.351</td> <th>  Jarque-Bera (JB):  </th> <td>   1.445</td>\n",
       "</tr>\n",
       "<tr>\n",
       "  <th>Skew:</th>          <td>-0.049</td> <th>  Prob(JB):          </th> <td>   0.486</td>\n",
       "</tr>\n",
       "<tr>\n",
       "  <th>Kurtosis:</th>      <td> 2.361</td> <th>  Cond. No.          </th> <td>    593.</td>\n",
       "</tr>\n",
       "</table><br/><br/>Notes:<br/>[1] Standard Errors assume that the covariance matrix of the errors is correctly specified."
      ],
      "text/plain": [
       "<class 'statsmodels.iolib.summary.Summary'>\n",
       "\"\"\"\n",
       "                            OLS Regression Results                            \n",
       "==============================================================================\n",
       "Dep. Variable:                   Prop   R-squared:                       0.050\n",
       "Model:                            OLS   Adj. R-squared:                  0.014\n",
       "Method:                 Least Squares   F-statistic:                     1.374\n",
       "Date:                Tue, 31 Aug 2021   Prob (F-statistic):              0.257\n",
       "Time:                        16:38:13   Log-Likelihood:                -215.47\n",
       "No. Observations:                  83   AIC:                             438.9\n",
       "Df Residuals:                      79   BIC:                             448.6\n",
       "Df Model:                           3                                         \n",
       "Covariance Type:            nonrobust                                         \n",
       "==============================================================================\n",
       "                 coef    std err          t      P>|t|      [0.025      0.975]\n",
       "------------------------------------------------------------------------------\n",
       "Intercept     13.4699      4.230      3.184      0.002       5.051      21.889\n",
       "A1             0.1145      0.151      0.757      0.451      -0.187       0.416\n",
       "A2            -0.4151      0.567     -0.732      0.466      -1.543       0.713\n",
       "A3             0.2025      0.506      0.400      0.690      -0.805       1.210\n",
       "==============================================================================\n",
       "Omnibus:                        2.095   Durbin-Watson:                   1.744\n",
       "Prob(Omnibus):                  0.351   Jarque-Bera (JB):                1.445\n",
       "Skew:                          -0.049   Prob(JB):                        0.486\n",
       "Kurtosis:                       2.361   Cond. No.                         593.\n",
       "==============================================================================\n",
       "\n",
       "Notes:\n",
       "[1] Standard Errors assume that the covariance matrix of the errors is correctly specified.\n",
       "\"\"\""
      ]
     },
     "execution_count": 77,
     "metadata": {},
     "output_type": "execute_result"
    }
   ],
   "source": [
    "model = sm.OLS.from_formula('Prop ~ A1 + A2 + A3', AI)\n",
    "result = model.fit()\n",
    "result.summary()"
   ]
  },
  {
   "cell_type": "markdown",
   "metadata": {},
   "source": [
    "<font color=black size=4>**También se puede construir el modelo incluyendo la variables independientes o predictores, $A1$, $A2$, y $A3$ directamente de la tabla de datos, este caso es adecuado cuando el número de variables es relativamente grande.**"
   ]
  },
  {
   "cell_type": "code",
   "execution_count": 78,
   "metadata": {
    "collapsed": false,
    "jupyter": {
     "outputs_hidden": false
    }
   },
   "outputs": [
    {
     "name": "stdout",
     "output_type": "stream",
     "text": [
      "                            OLS Regression Results                            \n",
      "==============================================================================\n",
      "Dep. Variable:                   Prop   R-squared:                       0.050\n",
      "Model:                            OLS   Adj. R-squared:                  0.014\n",
      "Method:                 Least Squares   F-statistic:                     1.374\n",
      "Date:                Tue, 31 Aug 2021   Prob (F-statistic):              0.257\n",
      "Time:                        16:44:10   Log-Likelihood:                -215.47\n",
      "No. Observations:                  83   AIC:                             438.9\n",
      "Df Residuals:                      79   BIC:                             448.6\n",
      "Df Model:                           3                                         \n",
      "Covariance Type:            nonrobust                                         \n",
      "==============================================================================\n",
      "                 coef    std err          t      P>|t|      [0.025      0.975]\n",
      "------------------------------------------------------------------------------\n",
      "Intercept     13.4699      4.230      3.184      0.002       5.051      21.889\n",
      "A1             0.1145      0.151      0.757      0.451      -0.187       0.416\n",
      "A2            -0.4151      0.567     -0.732      0.466      -1.543       0.713\n",
      "A3             0.2025      0.506      0.400      0.690      -0.805       1.210\n",
      "==============================================================================\n",
      "Omnibus:                        2.095   Durbin-Watson:                   1.744\n",
      "Prob(Omnibus):                  0.351   Jarque-Bera (JB):                1.445\n",
      "Skew:                          -0.049   Prob(JB):                        0.486\n",
      "Kurtosis:                       2.361   Cond. No.                         593.\n",
      "==============================================================================\n",
      "\n",
      "Notes:\n",
      "[1] Standard Errors assume that the covariance matrix of the errors is correctly specified.\n"
     ]
    }
   ],
   "source": [
    "# Todas la columnas (excepto Prop, que es la variable respuesta)\n",
    "model1 = sm.OLS.from_formula('Prop ~ ' + '+'.join(AI.columns.difference(['Prop'])), AI)\n",
    "result = model.fit()\n",
    "print (result.summary())"
   ]
  },
  {
   "cell_type": "markdown",
   "metadata": {},
   "source": [
    "<font color=black size=4>**Es posible excluir la columnas que se desee a partir de la función anteriormente mencionada.**"
   ]
  },
  {
   "cell_type": "code",
   "execution_count": 79,
   "metadata": {
    "collapsed": false,
    "jupyter": {
     "outputs_hidden": false
    }
   },
   "outputs": [
    {
     "name": "stdout",
     "output_type": "stream",
     "text": [
      "                            OLS Regression Results                            \n",
      "==============================================================================\n",
      "Dep. Variable:                   Prop   R-squared:                       0.043\n",
      "Model:                            OLS   Adj. R-squared:                  0.019\n",
      "Method:                 Least Squares   F-statistic:                     1.785\n",
      "Date:                Tue, 31 Aug 2021   Prob (F-statistic):              0.174\n",
      "Time:                        16:44:37   Log-Likelihood:                -215.77\n",
      "No. Observations:                  83   AIC:                             437.5\n",
      "Df Residuals:                      80   BIC:                             444.8\n",
      "Df Model:                           2                                         \n",
      "Covariance Type:            nonrobust                                         \n",
      "==============================================================================\n",
      "                 coef    std err          t      P>|t|      [0.025      0.975]\n",
      "------------------------------------------------------------------------------\n",
      "Intercept     16.1140      2.378      6.777      0.000      11.382      20.846\n",
      "A2            -0.0764      0.347     -0.220      0.826      -0.767       0.614\n",
      "A3            -0.0790      0.343     -0.230      0.818      -0.761       0.603\n",
      "==============================================================================\n",
      "Omnibus:                        1.413   Durbin-Watson:                   1.814\n",
      "Prob(Omnibus):                  0.493   Jarque-Bera (JB):                1.161\n",
      "Skew:                          -0.064   Prob(JB):                        0.560\n",
      "Kurtosis:                       2.435   Cond. No.                         149.\n",
      "==============================================================================\n",
      "\n",
      "Notes:\n",
      "[1] Standard Errors assume that the covariance matrix of the errors is correctly specified.\n"
     ]
    }
   ],
   "source": [
    "# Todas la columnas (excepto Prop, que es la variable respuesta)\n",
    "model = sm.OLS.from_formula('Prop ~ ' + '+'.join(AI.columns.difference(['Prop', 'A1'])), AI)\n",
    "result = model.fit()\n",
    "print (result.summary())"
   ]
  },
  {
   "cell_type": "markdown",
   "metadata": {},
   "source": [
    "<font color=red size=5>**Interacción entre Términos**"
   ]
  },
  {
   "cell_type": "markdown",
   "metadata": {},
   "source": [
    "<font color=blue size=4>**La librería statmodel permite introducir muy fácilmente interacción entre variables predictoras usando la función ${\\tt .from\\_formula()}$. La sintáxis es ${\\tt A1:A2}$ incluyendo la interacción así ${\\tt A1}$ y ${\\tt A2}$. La sintáxis ${\\tt A1*A2}$ simultaneamente incluye ${\\tt A1}$, ${\\tt A1}$, y el término de interacción ${\\tt A1×A2}$ como predictores.**"
   ]
  },
  {
   "cell_type": "code",
   "execution_count": 80,
   "metadata": {
    "collapsed": false,
    "jupyter": {
     "outputs_hidden": false
    }
   },
   "outputs": [
    {
     "name": "stdout",
     "output_type": "stream",
     "text": [
      "                            OLS Regression Results                            \n",
      "==============================================================================\n",
      "Dep. Variable:                   prop   R-squared:                       0.054\n",
      "Model:                            OLS   Adj. R-squared:                  0.018\n",
      "Method:                 Least Squares   F-statistic:                     1.496\n",
      "Date:                Tue, 31 Aug 2021   Prob (F-statistic):              0.222\n",
      "Time:                        16:46:03   Log-Likelihood:                -215.29\n",
      "No. Observations:                  83   AIC:                             438.6\n",
      "Df Residuals:                      79   BIC:                             448.3\n",
      "Df Model:                           3                                         \n",
      "Covariance Type:            nonrobust                                         \n",
      "==============================================================================\n",
      "                 coef    std err          t      P>|t|      [0.025      0.975]\n",
      "------------------------------------------------------------------------------\n",
      "Intercept      4.9140     13.379      0.367      0.714     -21.716      31.544\n",
      "A1             0.2768      0.308      0.899      0.372      -0.336       0.890\n",
      "A2             0.2152      0.581      0.371      0.712      -0.941       1.371\n",
      "A1:A2         -0.0092      0.013     -0.712      0.479      -0.035       0.017\n",
      "==============================================================================\n",
      "Omnibus:                        1.395   Durbin-Watson:                   1.773\n",
      "Prob(Omnibus):                  0.498   Jarque-Bera (JB):                1.171\n",
      "Skew:                          -0.084   Prob(JB):                        0.557\n",
      "Kurtosis:                       2.443   Cond. No.                     3.20e+04\n",
      "==============================================================================\n",
      "\n",
      "Notes:\n",
      "[1] Standard Errors assume that the covariance matrix of the errors is correctly specified.\n",
      "[2] The condition number is large, 3.2e+04. This might indicate that there are\n",
      "strong multicollinearity or other numerical problems.\n"
     ]
    }
   ],
   "source": [
    "print (sm.OLS.from_formula('prop ~ A1*A2', AI).fit().summary())"
   ]
  },
  {
   "cell_type": "markdown",
   "metadata": {},
   "source": [
    "<font color=red size=5>**Transformación No-Lineal de los Predictores**"
   ]
  },
  {
   "cell_type": "markdown",
   "metadata": {},
   "source": [
    "<font color=blue size=4>La función ${\\tt .from\\_formula()}$ permite introducir transformaciones no-lineales. Con un predictor dado ${\\tt X}$, podemos crear uno nuevo ${\\tt X^\\wedge2}$ using ${\\tt np.square(X)}$. Ahora podemos realizar la regresiónn así ${\\tt medv}$ onto ${\\tt lstat}$ y ${\\tt lstat^\\wedge 2}$."
   ]
  },
  {
   "cell_type": "code",
   "execution_count": 81,
   "metadata": {
    "collapsed": false,
    "jupyter": {
     "outputs_hidden": false
    }
   },
   "outputs": [
    {
     "name": "stdout",
     "output_type": "stream",
     "text": [
      "                            OLS Regression Results                            \n",
      "==============================================================================\n",
      "Dep. Variable:                   prop   R-squared:                       0.051\n",
      "Model:                            OLS   Adj. R-squared:                  0.027\n",
      "Method:                 Least Squares   F-statistic:                     2.145\n",
      "Date:                Tue, 31 Aug 2021   Prob (F-statistic):              0.124\n",
      "Time:                        16:47:02   Log-Likelihood:                -215.41\n",
      "No. Observations:                  83   AIC:                             436.8\n",
      "Df Residuals:                      80   BIC:                             444.1\n",
      "Df Model:                           2                                         \n",
      "Covariance Type:            nonrobust                                         \n",
      "=================================================================================\n",
      "                    coef    std err          t      P>|t|      [0.025      0.975]\n",
      "---------------------------------------------------------------------------------\n",
      "Intercept        12.6769      4.173      3.038      0.003       4.373      20.981\n",
      "A1                0.0589      0.098      0.601      0.550      -0.136       0.254\n",
      "np.square(A2)    -0.0047      0.002     -2.014      0.047      -0.009   -5.52e-05\n",
      "==============================================================================\n",
      "Omnibus:                        1.430   Durbin-Watson:                   1.775\n",
      "Prob(Omnibus):                  0.489   Jarque-Bera (JB):                1.206\n",
      "Skew:                          -0.100   Prob(JB):                        0.547\n",
      "Kurtosis:                       2.444   Cond. No.                     4.42e+03\n",
      "==============================================================================\n",
      "\n",
      "Notes:\n",
      "[1] Standard Errors assume that the covariance matrix of the errors is correctly specified.\n",
      "[2] The condition number is large, 4.42e+03. This might indicate that there are\n",
      "strong multicollinearity or other numerical problems.\n"
     ]
    }
   ],
   "source": [
    "lm= sm.OLS.from_formula('prop ~ A1 + np.square(A2)', AI).fit()\n",
    "print (lm.summary())"
   ]
  },
  {
   "cell_type": "code",
   "execution_count": 84,
   "metadata": {
    "collapsed": false,
    "jupyter": {
     "outputs_hidden": false
    }
   },
   "outputs": [],
   "source": [
    "lm1=sm.OLS.from_formula('prop ~ np.log(A3)', AI).fit().summary()"
   ]
  },
  {
   "cell_type": "code",
   "execution_count": 85,
   "metadata": {},
   "outputs": [
    {
     "data": {
      "text/html": [
       "<table class=\"simpletable\">\n",
       "<caption>OLS Regression Results</caption>\n",
       "<tr>\n",
       "  <th>Dep. Variable:</th>          <td>prop</td>       <th>  R-squared:         </th> <td>   0.036</td>\n",
       "</tr>\n",
       "<tr>\n",
       "  <th>Model:</th>                   <td>OLS</td>       <th>  Adj. R-squared:    </th> <td>   0.024</td>\n",
       "</tr>\n",
       "<tr>\n",
       "  <th>Method:</th>             <td>Least Squares</td>  <th>  F-statistic:       </th> <td>   3.008</td>\n",
       "</tr>\n",
       "<tr>\n",
       "  <th>Date:</th>             <td>Tue, 31 Aug 2021</td> <th>  Prob (F-statistic):</th>  <td>0.0866</td> \n",
       "</tr>\n",
       "<tr>\n",
       "  <th>Time:</th>                 <td>16:49:20</td>     <th>  Log-Likelihood:    </th> <td> -216.07</td>\n",
       "</tr>\n",
       "<tr>\n",
       "  <th>No. Observations:</th>      <td>    83</td>      <th>  AIC:               </th> <td>   436.1</td>\n",
       "</tr>\n",
       "<tr>\n",
       "  <th>Df Residuals:</th>          <td>    81</td>      <th>  BIC:               </th> <td>   441.0</td>\n",
       "</tr>\n",
       "<tr>\n",
       "  <th>Df Model:</th>              <td>     1</td>      <th>                     </th>     <td> </td>   \n",
       "</tr>\n",
       "<tr>\n",
       "  <th>Covariance Type:</th>      <td>nonrobust</td>    <th>                     </th>     <td> </td>   \n",
       "</tr>\n",
       "</table>\n",
       "<table class=\"simpletable\">\n",
       "<tr>\n",
       "       <td></td>         <th>coef</th>     <th>std err</th>      <th>t</th>      <th>P>|t|</th>  <th>[0.025</th>    <th>0.975]</th>  \n",
       "</tr>\n",
       "<tr>\n",
       "  <th>Intercept</th>  <td>   18.4449</td> <td>    2.705</td> <td>    6.818</td> <td> 0.000</td> <td>   13.062</td> <td>   23.827</td>\n",
       "</tr>\n",
       "<tr>\n",
       "  <th>np.log(A3)</th> <td>   -1.9064</td> <td>    1.099</td> <td>   -1.734</td> <td> 0.087</td> <td>   -4.093</td> <td>    0.280</td>\n",
       "</tr>\n",
       "</table>\n",
       "<table class=\"simpletable\">\n",
       "<tr>\n",
       "  <th>Omnibus:</th>       <td> 1.163</td> <th>  Durbin-Watson:     </th> <td>   1.809</td>\n",
       "</tr>\n",
       "<tr>\n",
       "  <th>Prob(Omnibus):</th> <td> 0.559</td> <th>  Jarque-Bera (JB):  </th> <td>   1.020</td>\n",
       "</tr>\n",
       "<tr>\n",
       "  <th>Skew:</th>          <td>-0.033</td> <th>  Prob(JB):          </th> <td>   0.601</td>\n",
       "</tr>\n",
       "<tr>\n",
       "  <th>Kurtosis:</th>      <td> 2.461</td> <th>  Cond. No.          </th> <td>    21.3</td>\n",
       "</tr>\n",
       "</table><br/><br/>Notes:<br/>[1] Standard Errors assume that the covariance matrix of the errors is correctly specified."
      ],
      "text/plain": [
       "<class 'statsmodels.iolib.summary.Summary'>\n",
       "\"\"\"\n",
       "                            OLS Regression Results                            \n",
       "==============================================================================\n",
       "Dep. Variable:                   prop   R-squared:                       0.036\n",
       "Model:                            OLS   Adj. R-squared:                  0.024\n",
       "Method:                 Least Squares   F-statistic:                     3.008\n",
       "Date:                Tue, 31 Aug 2021   Prob (F-statistic):             0.0866\n",
       "Time:                        16:49:20   Log-Likelihood:                -216.07\n",
       "No. Observations:                  83   AIC:                             436.1\n",
       "Df Residuals:                      81   BIC:                             441.0\n",
       "Df Model:                           1                                         \n",
       "Covariance Type:            nonrobust                                         \n",
       "==============================================================================\n",
       "                 coef    std err          t      P>|t|      [0.025      0.975]\n",
       "------------------------------------------------------------------------------\n",
       "Intercept     18.4449      2.705      6.818      0.000      13.062      23.827\n",
       "np.log(A3)    -1.9064      1.099     -1.734      0.087      -4.093       0.280\n",
       "==============================================================================\n",
       "Omnibus:                        1.163   Durbin-Watson:                   1.809\n",
       "Prob(Omnibus):                  0.559   Jarque-Bera (JB):                1.020\n",
       "Skew:                          -0.033   Prob(JB):                        0.601\n",
       "Kurtosis:                       2.461   Cond. No.                         21.3\n",
       "==============================================================================\n",
       "\n",
       "Notes:\n",
       "[1] Standard Errors assume that the covariance matrix of the errors is correctly specified.\n",
       "\"\"\""
      ]
     },
     "execution_count": 85,
     "metadata": {},
     "output_type": "execute_result"
    }
   ],
   "source": [
    "lm1"
   ]
  },
  {
   "cell_type": "code",
   "execution_count": null,
   "metadata": {},
   "outputs": [],
   "source": []
  }
 ],
 "metadata": {
  "kernelspec": {
   "display_name": "Python 3 (ipykernel)",
   "language": "python",
   "name": "python3"
  },
  "language_info": {
   "codemirror_mode": {
    "name": "ipython",
    "version": 3
   },
   "file_extension": ".py",
   "mimetype": "text/x-python",
   "name": "python",
   "nbconvert_exporter": "python",
   "pygments_lexer": "ipython3",
   "version": "3.9.7"
  }
 },
 "nbformat": 4,
 "nbformat_minor": 4
}
