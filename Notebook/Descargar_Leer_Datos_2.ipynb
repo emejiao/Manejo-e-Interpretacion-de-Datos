{
 "cells": [
  {
   "cell_type": "markdown",
   "metadata": {},
   "source": [
    "<img src=\"logosimbolo1.gif\" width=\"180\" height=\"180\" align=\"left\"/>\n",
    "\n",
    "<img src=\"logo_leam.png\" width=\"160\" height=\"460\" align=\"right\"/>\n",
    "\n",
    "<font color='#006400' size=6 align='center'><p style='text-align: center;'>**Análisis y Tratamiento de Datos en Química**\\\n",
    "<font color=#8B2500 size=5><p style='text-align: center;'>**Enrique Mejía Ospino, emejia@uis.edu.co**\\\n",
    "<font color=#8B2500 size=5>         **Universidad Industrial de Santander**\n",
    "---"
   ]
  },
  {
   "cell_type": "markdown",
   "metadata": {},
   "source": [
    "<font color='navy' size=6><p style='text-align: justify;'>**Descargar y Leer Datos de un Archivo**"
   ]
  },
  {
   "cell_type": "markdown",
   "metadata": {},
   "source": [
    "---"
   ]
  },
  {
   "cell_type": "markdown",
   "metadata": {},
   "source": [
    "<font color='SteelBlue' size=4><p style='text-align: justify;'>**En esta sesión vamos a ver como descargar los datos de archivos en diferentes formatos, etre ellos los más comunes en ciencia de datos, `.csv`, `.txt`, `.xlsx`, etc.  Adicionalmente, veremos algunas formas de hacer inspección rápida de los datos. Utilizaremos los modulos `numpy` y `pandas` que son los más comunes en esta tarea.**"
   ]
  },
  {
   "cell_type": "code",
   "execution_count": 28,
   "metadata": {
    "executionInfo": {
     "elapsed": 242,
     "status": "ok",
     "timestamp": 1629235811605,
     "user": {
      "displayName": "Enrique Mejía Ospino",
      "photoUrl": "",
      "userId": "04818156271356215293"
     },
     "user_tz": 300
    },
    "id": "43RA67iq_rfk"
   },
   "outputs": [],
   "source": [
    "import numpy as np\n",
    "import pandas as pd\n",
    "import matplotlib.pyplot as plt\n",
    "%matplotlib inline"
   ]
  },
  {
   "cell_type": "markdown",
   "metadata": {
    "id": "L5skwT1N_rfl"
   },
   "source": [
    "**<font color='SteelBlue' size=4>Lectura de archivos planos (.txt) ubicados en una carpeta de su disco duro, utilizamos el modulo `numpy`en este caso.**"
   ]
  },
  {
   "cell_type": "code",
   "execution_count": 3,
   "metadata": {
    "id": "n6vIjvla_rfm"
   },
   "outputs": [],
   "source": [
    "tio2=np.loadtxt('./Datos/tio88_1.txt')"
   ]
  },
  {
   "cell_type": "code",
   "execution_count": 5,
   "metadata": {
    "id": "8kffE3FD_rfn",
    "outputId": "9a9d21bb-a4d7-489a-f17e-8f7d47ff794f"
   },
   "outputs": [
    {
     "data": {
      "text/plain": [
       "(1024, 3)"
      ]
     },
     "execution_count": 5,
     "metadata": {},
     "output_type": "execute_result"
    }
   ],
   "source": [
    "tio2.shape # Un primera inspección podría ser conocer el tamaño del archivo de datos"
   ]
  },
  {
   "cell_type": "markdown",
   "metadata": {
    "id": "X6GYoO-1_rfp"
   },
   "source": [
    "**<font color='SteelBlue' size = 4>Podría Leer ese mismo tipo de archivos ubicado en algún lugar de la web.**"
   ]
  },
  {
   "cell_type": "code",
   "execution_count": 6,
   "metadata": {
    "id": "isoQuWdi_rfq",
    "outputId": "b5afc2f1-bc9c-4831-a2a2-a774d8bceebf"
   },
   "outputs": [
    {
     "data": {
      "text/plain": [
       "(1024, 3)"
      ]
     },
     "execution_count": 6,
     "metadata": {},
     "output_type": "execute_result"
    }
   ],
   "source": [
    "lugar2=('https://github.com/emejiao/Mass_Spectra3/raw/master/tio88_1.txt')\n",
    "tio = np.loadtxt(lugar2)\n",
    "tio.shape"
   ]
  },
  {
   "cell_type": "code",
   "execution_count": 7,
   "metadata": {
    "id": "yCRxfnFq_rfr",
    "outputId": "f54f4251-4516-4979-e534-f58c15a9bf7a"
   },
   "outputs": [
    {
     "data": {
      "text/plain": [
       "array([[6.10834e+02, 1.00000e+00, 2.18000e+02],\n",
       "       [6.10869e+02, 1.00000e+00, 1.28000e+02],\n",
       "       [6.10904e+02, 1.00000e+00, 8.30000e+01],\n",
       "       ...,\n",
       "       [6.46451e+02, 1.00000e+00, 1.00000e+03],\n",
       "       [6.46486e+02, 1.00000e+00, 1.06900e+03],\n",
       "       [6.46521e+02, 1.00000e+00, 1.23300e+03]])"
      ]
     },
     "execution_count": 7,
     "metadata": {},
     "output_type": "execute_result"
    }
   ],
   "source": [
    "tio"
   ]
  },
  {
   "cell_type": "code",
   "execution_count": 10,
   "metadata": {
    "id": "LgEdIUZf_rfs",
    "outputId": "ef78f37a-1add-44b9-b0ec-c262ab4c41ee"
   },
   "outputs": [
    {
     "data": {
      "text/plain": [
       "array([610.834, 610.869, 610.904, ..., 646.451, 646.486, 646.521])"
      ]
     },
     "execution_count": 10,
     "metadata": {},
     "output_type": "execute_result"
    }
   ],
   "source": [
    "tio[:, 0]"
   ]
  },
  {
   "cell_type": "code",
   "execution_count": 6,
   "metadata": {
    "id": "tUovqofu_rft"
   },
   "outputs": [],
   "source": [
    "lo=tio[:, 0]\n",
    "In=tio[:, 2]"
   ]
  },
  {
   "cell_type": "code",
   "execution_count": 8,
   "metadata": {
    "id": "Lv8ToZ3l_rft",
    "outputId": "2ad318ad-91a2-46a6-e037-c8c284061e53"
   },
   "outputs": [
    {
     "data": {
      "text/plain": [
       "Text(0, 0.5, 'Intensidad (u. arb.)')"
      ]
     },
     "execution_count": 8,
     "metadata": {},
     "output_type": "execute_result"
    },
    {
     "data": {
      "image/png": "[encoded data removed]",
      "text/plain": [
       "<Figure size 432x288 with 1 Axes>"
      ]
     },
     "metadata": {
      "needs_background": "light"
     },
     "output_type": "display_data"
    }
   ],
   "source": [
    "fig, ax = plt.subplots()\n",
    "\n",
    "ax.plot(lo, In, 'g')\n",
    "ax.set_xlim(625, 630)\n",
    "ax.set_ylim(500, 5000)\n",
    "ax.set_title(\"Espectro de emisión TiO2\")\n",
    "ax.set_xlabel(\"Longitud de onda (nm)\")\n",
    "ax.set_ylabel(\"Intensidad (u. arb.)\")"
   ]
  },
  {
   "cell_type": "markdown",
   "metadata": {
    "id": "t_2ar-O0_rfu"
   },
   "source": [
    "**<font color='SteelBlue' size = 4>El modulo `numpy` permite leer archivos de formato `.csv`, utilizando el argumento `delimiter = ','`.**"
   ]
  },
  {
   "cell_type": "code",
   "execution_count": 13,
   "metadata": {
    "id": "OMvPsSha_rfx",
    "outputId": "7a58ee22-6cb7-428f-c739-0a0e170cb16b"
   },
   "outputs": [
    {
     "data": {
      "text/plain": [
       "(7469, 2)"
      ]
     },
     "execution_count": 13,
     "metadata": {},
     "output_type": "execute_result"
    }
   ],
   "source": [
    "lugar3=('https://github.com/emejiao/Mass_Spectra3/raw/master/cinco.CSV')\n",
    "ir = np.loadtxt(lugar3, delimiter=',')\n",
    "ir.shape"
   ]
  },
  {
   "cell_type": "code",
   "execution_count": 14,
   "metadata": {
    "id": "-WI-mGJQ_rfy",
    "outputId": "9c91d332-551b-469b-8a68-4bfed98096e0"
   },
   "outputs": [
    {
     "data": {
      "text/plain": [
       "array([[399.6813 ,   0.     ],\n",
       "       [400.1635 ,  96.14223],\n",
       "       [400.6456 ,  96.13872],\n",
       "       [401.1277 ,  96.1713 ],\n",
       "       [401.6098 ,  96.22102],\n",
       "       [402.0919 ,  96.27351],\n",
       "       [402.5741 ,  96.3223 ],\n",
       "       [403.0562 ,  96.36977],\n",
       "       [403.5383 ,  96.42246],\n",
       "       [404.0204 ,  96.48585]])"
      ]
     },
     "execution_count": 14,
     "metadata": {},
     "output_type": "execute_result"
    }
   ],
   "source": [
    "ir[:10]"
   ]
  },
  {
   "cell_type": "code",
   "execution_count": 15,
   "metadata": {
    "id": "gYVvcAbr_rfy",
    "outputId": "f7d33f04-dea6-419b-db1c-ace5d893eab4"
   },
   "outputs": [
    {
     "data": {
      "text/plain": [
       "array([0.01708581, 0.01710166, 0.01695451, ..., 0.01267693, 0.01268618,\n",
       "       0.01269745])"
      ]
     },
     "execution_count": 15,
     "metadata": {},
     "output_type": "execute_result"
    }
   ],
   "source": [
    "Ab=2-np.log10(ir[1:, 1])\n",
    "Ab"
   ]
  },
  {
   "cell_type": "code",
   "execution_count": 20,
   "metadata": {
    "id": "JLrQHJd2_rfz",
    "outputId": "cce0baf6-ec49-49e8-8aa7-55f50506697e"
   },
   "outputs": [
    {
     "data": {
      "image/png": "[encoded data removed]",
      "text/plain": [
       "<Figure size 648x432 with 1 Axes>"
      ]
     },
     "metadata": {
      "needs_background": "light"
     },
     "output_type": "display_data"
    }
   ],
   "source": [
    "fig, ax= plt.subplots(figsize=(9,6))\n",
    "\n",
    "plt.rcParams[\"font.family\"] = 'Times New Roman'\n",
    "ax.plot(ir[1:, 0], Ab, 'b') # En Absorbancia\n",
    "ax.set_xlim(400, 4000)\n",
    "#ax.set_ylim(40, 100)\n",
    "ax.set_title(\"FTIR:Petróleo\")\n",
    "ax.set_xlabel(\"número de onda\")\n",
    "ax.set_ylabel(\"Transmitancia (%)\")\n",
    "fig.savefig(\"ir5.jpg\", dpi = 140)"
   ]
  },
  {
   "cell_type": "markdown",
   "metadata": {
    "id": "U9fpbDLW_rf0"
   },
   "source": [
    "<font color = 'ForestGreen' size = 4><p style=\"text-align:justify\">**Ahora vamos a revisar el uso de la librería `Pandas`. La estructura de datos básica de pandas se denomina DataFrame, que es una colección ordenada de columnas con nombres y tipos, parecido a una tabla de base de datos, donde una fila representa una observación o una muestra y las columnas representan atributos o características particulares.**"
   ]
  },
  {
   "cell_type": "code",
   "execution_count": 33,
   "metadata": {
    "id": "67y5IONn_rf2"
   },
   "outputs": [],
   "source": [
    "#Aquí leemos los datos de archivo excel ubicado como se indica aabajo\n",
    "lugar6= ('https://github.com/emejiao/Mass_Spectra3/raw/master/AND1(APPI).xls')\n",
    "anms = pd.read_excel(lugar6,sheet_name='Combined R. Abundances',index_col='Class')"
   ]
  },
  {
   "cell_type": "markdown",
   "metadata": {
    "id": "U9fpbDLW_rf0"
   },
   "source": [
    "<font color = 'ForestGreen' size = 4><p style=\"text-align:justify\">**Si deseas saber todos los atributos que tiene la función `read_csv` o `read_excel`, puedes preguntar así:**"
   ]
  },
  {
   "cell_type": "code",
   "execution_count": null,
   "metadata": {},
   "outputs": [],
   "source": [
    "pd.read_excel?"
   ]
  },
  {
   "cell_type": "code",
   "execution_count": 35,
   "metadata": {
    "id": "My06iefD_rf2",
    "outputId": "3af840e9-e7c2-4e7d-84bd-afe0bafc5ea3"
   },
   "outputs": [
    {
     "data": {
      "text/html": [
       "<div>\n",
       "<style scoped>\n",
       "    .dataframe tbody tr th:only-of-type {\n",
       "        vertical-align: middle;\n",
       "    }\n",
       "\n",
       "    .dataframe tbody tr th {\n",
       "        vertical-align: top;\n",
       "    }\n",
       "\n",
       "    .dataframe thead th {\n",
       "        text-align: right;\n",
       "    }\n",
       "</style>\n",
       "<table border=\"1\" class=\"dataframe\">\n",
       "  <thead>\n",
       "    <tr style=\"text-align: right;\">\n",
       "      <th></th>\n",
       "      <th>R. Abundance</th>\n",
       "      <th>A.M.W. average</th>\n",
       "      <th>A.W. average C#</th>\n",
       "      <th>A.W. average DBE</th>\n",
       "      <th>A.W. average H/C</th>\n",
       "    </tr>\n",
       "    <tr>\n",
       "      <th>Class</th>\n",
       "      <th></th>\n",
       "      <th></th>\n",
       "      <th></th>\n",
       "      <th></th>\n",
       "      <th></th>\n",
       "    </tr>\n",
       "  </thead>\n",
       "  <tbody>\n",
       "    <tr>\n",
       "      <th>HC</th>\n",
       "      <td>41.500177</td>\n",
       "      <td>569.347057</td>\n",
       "      <td>41.971931</td>\n",
       "      <td>13.009065</td>\n",
       "      <td>1.542934</td>\n",
       "    </tr>\n",
       "    <tr>\n",
       "      <th>S1</th>\n",
       "      <td>6.997977</td>\n",
       "      <td>570.003806</td>\n",
       "      <td>39.894031</td>\n",
       "      <td>13.398517</td>\n",
       "      <td>1.558822</td>\n",
       "    </tr>\n",
       "    <tr>\n",
       "      <th>O1 -R</th>\n",
       "      <td>6.127822</td>\n",
       "      <td>593.205207</td>\n",
       "      <td>42.992651</td>\n",
       "      <td>15.658656</td>\n",
       "      <td>1.427401</td>\n",
       "    </tr>\n",
       "    <tr>\n",
       "      <th>N1 -R</th>\n",
       "      <td>3.699787</td>\n",
       "      <td>595.778990</td>\n",
       "      <td>43.458249</td>\n",
       "      <td>16.179416</td>\n",
       "      <td>1.371524</td>\n",
       "    </tr>\n",
       "    <tr>\n",
       "      <th>N2 O2 S1 -R</th>\n",
       "      <td>0.533891</td>\n",
       "      <td>593.303865</td>\n",
       "      <td>37.927453</td>\n",
       "      <td>17.318688</td>\n",
       "      <td>1.927552</td>\n",
       "    </tr>\n",
       "    <tr>\n",
       "      <th>Total</th>\n",
       "      <td>58.859654</td>\n",
       "      <td>573.978409</td>\n",
       "      <td>41.915051</td>\n",
       "      <td>13.672138</td>\n",
       "      <td>1.528435</td>\n",
       "    </tr>\n",
       "  </tbody>\n",
       "</table>\n",
       "</div>"
      ],
      "text/plain": [
       "             R. Abundance  A.M.W. average  A.W. average C#  A.W. average DBE  \\\n",
       "Class                                                                          \n",
       "HC              41.500177      569.347057        41.971931         13.009065   \n",
       "S1               6.997977      570.003806        39.894031         13.398517   \n",
       "O1 -R            6.127822      593.205207        42.992651         15.658656   \n",
       "N1 -R            3.699787      595.778990        43.458249         16.179416   \n",
       "N2 O2 S1 -R      0.533891      593.303865        37.927453         17.318688   \n",
       "Total           58.859654      573.978409        41.915051         13.672138   \n",
       "\n",
       "             A.W. average H/C  \n",
       "Class                          \n",
       "HC                   1.542934  \n",
       "S1                   1.558822  \n",
       "O1 -R                1.427401  \n",
       "N1 -R                1.371524  \n",
       "N2 O2 S1 -R          1.927552  \n",
       "Total                1.528435  "
      ]
     },
     "execution_count": 35,
     "metadata": {},
     "output_type": "execute_result"
    }
   ],
   "source": [
    "anms.head(8)"
   ]
  },
  {
   "cell_type": "code",
   "execution_count": 36,
   "metadata": {
    "id": "XYCyU0oa_rf2"
   },
   "outputs": [],
   "source": [
    "#Aquí leemos otra hoja de cálculo del archivo excel ubicado como se indica abajo\n",
    "anms1 = pd.read_excel(lugar6,sheet_name='General', header=2, index_col='Class')"
   ]
  },
  {
   "cell_type": "code",
   "execution_count": 37,
   "metadata": {},
   "outputs": [
    {
     "data": {
      "text/html": [
       "<div>\n",
       "<style scoped>\n",
       "    .dataframe tbody tr th:only-of-type {\n",
       "        vertical-align: middle;\n",
       "    }\n",
       "\n",
       "    .dataframe tbody tr th {\n",
       "        vertical-align: top;\n",
       "    }\n",
       "\n",
       "    .dataframe thead th {\n",
       "        text-align: right;\n",
       "    }\n",
       "</style>\n",
       "<table border=\"1\" class=\"dataframe\">\n",
       "  <thead>\n",
       "    <tr style=\"text-align: right;\">\n",
       "      <th></th>\n",
       "      <th>Number of peaks</th>\n",
       "      <th>% R.A.</th>\n",
       "      <th>% R.A. \\n (No Hits discarded)</th>\n",
       "      <th>A.M.W. average</th>\n",
       "      <th>A.W. average C#</th>\n",
       "      <th>A.W. average DBE</th>\n",
       "      <th>A.W. average H/C</th>\n",
       "      <th>Sum R.A.</th>\n",
       "    </tr>\n",
       "    <tr>\n",
       "      <th>Class</th>\n",
       "      <th></th>\n",
       "      <th></th>\n",
       "      <th></th>\n",
       "      <th></th>\n",
       "      <th></th>\n",
       "      <th></th>\n",
       "      <th></th>\n",
       "      <th></th>\n",
       "    </tr>\n",
       "  </thead>\n",
       "  <tbody>\n",
       "    <tr>\n",
       "      <th>Isolated</th>\n",
       "      <td>0</td>\n",
       "      <td>0.000000</td>\n",
       "      <td>0.000000</td>\n",
       "      <td>NaN</td>\n",
       "      <td>NaN</td>\n",
       "      <td>NaN</td>\n",
       "      <td>NaN</td>\n",
       "      <td>NaN</td>\n",
       "    </tr>\n",
       "    <tr>\n",
       "      <th>No Hit</th>\n",
       "      <td>4294</td>\n",
       "      <td>17.309564</td>\n",
       "      <td>0.000000</td>\n",
       "      <td>NaN</td>\n",
       "      <td>NaN</td>\n",
       "      <td>NaN</td>\n",
       "      <td>NaN</td>\n",
       "      <td>NaN</td>\n",
       "    </tr>\n",
       "    <tr>\n",
       "      <th>13C1</th>\n",
       "      <td>135</td>\n",
       "      <td>0.731148</td>\n",
       "      <td>0.884199</td>\n",
       "      <td>445.540094</td>\n",
       "      <td>31.489489</td>\n",
       "      <td>7.143147</td>\n",
       "      <td>1.688561</td>\n",
       "      <td>475.830790</td>\n",
       "    </tr>\n",
       "    <tr>\n",
       "      <th>13C1 -R</th>\n",
       "      <td>1008</td>\n",
       "      <td>15.798091</td>\n",
       "      <td>19.105100</td>\n",
       "      <td>614.582481</td>\n",
       "      <td>44.240285</td>\n",
       "      <td>13.093377</td>\n",
       "      <td>1.596404</td>\n",
       "      <td>10281.391971</td>\n",
       "    </tr>\n",
       "    <tr>\n",
       "      <th>13C2 -R</th>\n",
       "      <td>466</td>\n",
       "      <td>2.623489</td>\n",
       "      <td>3.172664</td>\n",
       "      <td>625.920054</td>\n",
       "      <td>43.877013</td>\n",
       "      <td>11.371247</td>\n",
       "      <td>1.685167</td>\n",
       "      <td>1707.365911</td>\n",
       "    </tr>\n",
       "    <tr>\n",
       "      <th>HC</th>\n",
       "      <td>345</td>\n",
       "      <td>3.336432</td>\n",
       "      <td>4.034846</td>\n",
       "      <td>463.502373</td>\n",
       "      <td>34.036755</td>\n",
       "      <td>10.909265</td>\n",
       "      <td>1.599594</td>\n",
       "      <td>2171.348551</td>\n",
       "    </tr>\n",
       "    <tr>\n",
       "      <th>HC-R</th>\n",
       "      <td>1201</td>\n",
       "      <td>38.163746</td>\n",
       "      <td>46.152551</td>\n",
       "      <td>576.852821</td>\n",
       "      <td>42.530593</td>\n",
       "      <td>13.142299</td>\n",
       "      <td>1.537728</td>\n",
       "      <td>24836.952185</td>\n",
       "    </tr>\n",
       "    <tr>\n",
       "      <th>N1 -R</th>\n",
       "      <td>513</td>\n",
       "      <td>3.699787</td>\n",
       "      <td>4.474262</td>\n",
       "      <td>595.778990</td>\n",
       "      <td>43.458249</td>\n",
       "      <td>16.179416</td>\n",
       "      <td>1.371524</td>\n",
       "      <td>2407.819759</td>\n",
       "    </tr>\n",
       "    <tr>\n",
       "      <th>N1 13C1 -R</th>\n",
       "      <td>259</td>\n",
       "      <td>1.102924</td>\n",
       "      <td>1.333799</td>\n",
       "      <td>600.869226</td>\n",
       "      <td>42.612120</td>\n",
       "      <td>14.339564</td>\n",
       "      <td>1.454803</td>\n",
       "      <td>717.782700</td>\n",
       "    </tr>\n",
       "    <tr>\n",
       "      <th>N2 O2 S1 -R</th>\n",
       "      <td>109</td>\n",
       "      <td>0.533891</td>\n",
       "      <td>0.645650</td>\n",
       "      <td>593.303865</td>\n",
       "      <td>37.927453</td>\n",
       "      <td>17.318688</td>\n",
       "      <td>1.927552</td>\n",
       "      <td>347.455856</td>\n",
       "    </tr>\n",
       "  </tbody>\n",
       "</table>\n",
       "</div>"
      ],
      "text/plain": [
       "             Number of peaks     % R.A.  % R.A. \\n (No Hits discarded)  \\\n",
       "Class                                                                    \n",
       "Isolated                   0   0.000000                       0.000000   \n",
       "No Hit                  4294  17.309564                       0.000000   \n",
       "13C1                     135   0.731148                       0.884199   \n",
       "13C1 -R                 1008  15.798091                      19.105100   \n",
       "13C2 -R                  466   2.623489                       3.172664   \n",
       "HC                       345   3.336432                       4.034846   \n",
       "HC-R                    1201  38.163746                      46.152551   \n",
       "N1 -R                    513   3.699787                       4.474262   \n",
       "N1 13C1 -R               259   1.102924                       1.333799   \n",
       "N2 O2 S1 -R              109   0.533891                       0.645650   \n",
       "\n",
       "             A.M.W. average  A.W. average C#  A.W. average DBE  \\\n",
       "Class                                                            \n",
       "Isolated                NaN              NaN               NaN   \n",
       "No Hit                  NaN              NaN               NaN   \n",
       "13C1             445.540094        31.489489          7.143147   \n",
       "13C1 -R          614.582481        44.240285         13.093377   \n",
       "13C2 -R          625.920054        43.877013         11.371247   \n",
       "HC               463.502373        34.036755         10.909265   \n",
       "HC-R             576.852821        42.530593         13.142299   \n",
       "N1 -R            595.778990        43.458249         16.179416   \n",
       "N1 13C1 -R       600.869226        42.612120         14.339564   \n",
       "N2 O2 S1 -R      593.303865        37.927453         17.318688   \n",
       "\n",
       "             A.W. average H/C      Sum R.A.  \n",
       "Class                                        \n",
       "Isolated                  NaN           NaN  \n",
       "No Hit                    NaN           NaN  \n",
       "13C1                 1.688561    475.830790  \n",
       "13C1 -R              1.596404  10281.391971  \n",
       "13C2 -R              1.685167   1707.365911  \n",
       "HC                   1.599594   2171.348551  \n",
       "HC-R                 1.537728  24836.952185  \n",
       "N1 -R                1.371524   2407.819759  \n",
       "N1 13C1 -R           1.454803    717.782700  \n",
       "N2 O2 S1 -R          1.927552    347.455856  "
      ]
     },
     "execution_count": 37,
     "metadata": {},
     "output_type": "execute_result"
    }
   ],
   "source": [
    "anms1.head(10)"
   ]
  },
  {
   "cell_type": "markdown",
   "metadata": {
    "id": "R6hYJtRl_rf2"
   },
   "source": [
    "---\n",
    "<font color='red' size=20>**Lectura e Inspección**"
   ]
  },
  {
   "cell_type": "markdown",
   "metadata": {
    "id": "U9fpbDLW_rf0"
   },
   "source": [
    "<font color = 'ForestGreen' size = 4><p style=\"text-align:justify\">**Podemos inspeccionar las primeras o las últimas filas de los datos usando la función `head()` o `tail()` de `pandas`**"
   ]
  },
  {
   "cell_type": "code",
   "execution_count": 42,
   "metadata": {
    "id": "FzAdX16D_rf2",
    "outputId": "f5d5aef9-2362-4cd8-b3c4-e502bf82b75b"
   },
   "outputs": [
    {
     "data": {
      "text/html": [
       "<div>\n",
       "<style scoped>\n",
       "    .dataframe tbody tr th:only-of-type {\n",
       "        vertical-align: middle;\n",
       "    }\n",
       "\n",
       "    .dataframe tbody tr th {\n",
       "        vertical-align: top;\n",
       "    }\n",
       "\n",
       "    .dataframe thead th {\n",
       "        text-align: right;\n",
       "    }\n",
       "</style>\n",
       "<table border=\"1\" class=\"dataframe\">\n",
       "  <thead>\n",
       "    <tr style=\"text-align: right;\">\n",
       "      <th></th>\n",
       "      <th>Number of peaks</th>\n",
       "      <th>% R.A.</th>\n",
       "      <th>% R.A. \\n (No Hits discarded)</th>\n",
       "      <th>A.M.W. average</th>\n",
       "      <th>A.W. average C#</th>\n",
       "      <th>A.W. average DBE</th>\n",
       "      <th>A.W. average H/C</th>\n",
       "      <th>Sum R.A.</th>\n",
       "    </tr>\n",
       "    <tr>\n",
       "      <th>Class</th>\n",
       "      <th></th>\n",
       "      <th></th>\n",
       "      <th></th>\n",
       "      <th></th>\n",
       "      <th></th>\n",
       "      <th></th>\n",
       "      <th></th>\n",
       "      <th></th>\n",
       "    </tr>\n",
       "  </thead>\n",
       "  <tbody>\n",
       "    <tr>\n",
       "      <th>Isolated</th>\n",
       "      <td>0</td>\n",
       "      <td>0.000000</td>\n",
       "      <td>0.000000</td>\n",
       "      <td>NaN</td>\n",
       "      <td>NaN</td>\n",
       "      <td>NaN</td>\n",
       "      <td>NaN</td>\n",
       "      <td>NaN</td>\n",
       "    </tr>\n",
       "    <tr>\n",
       "      <th>No Hit</th>\n",
       "      <td>4294</td>\n",
       "      <td>17.309564</td>\n",
       "      <td>0.000000</td>\n",
       "      <td>NaN</td>\n",
       "      <td>NaN</td>\n",
       "      <td>NaN</td>\n",
       "      <td>NaN</td>\n",
       "      <td>NaN</td>\n",
       "    </tr>\n",
       "    <tr>\n",
       "      <th>13C1</th>\n",
       "      <td>135</td>\n",
       "      <td>0.731148</td>\n",
       "      <td>0.884199</td>\n",
       "      <td>445.540094</td>\n",
       "      <td>31.489489</td>\n",
       "      <td>7.143147</td>\n",
       "      <td>1.688561</td>\n",
       "      <td>475.830790</td>\n",
       "    </tr>\n",
       "    <tr>\n",
       "      <th>13C1 -R</th>\n",
       "      <td>1008</td>\n",
       "      <td>15.798091</td>\n",
       "      <td>19.105100</td>\n",
       "      <td>614.582481</td>\n",
       "      <td>44.240285</td>\n",
       "      <td>13.093377</td>\n",
       "      <td>1.596404</td>\n",
       "      <td>10281.391971</td>\n",
       "    </tr>\n",
       "    <tr>\n",
       "      <th>13C2 -R</th>\n",
       "      <td>466</td>\n",
       "      <td>2.623489</td>\n",
       "      <td>3.172664</td>\n",
       "      <td>625.920054</td>\n",
       "      <td>43.877013</td>\n",
       "      <td>11.371247</td>\n",
       "      <td>1.685167</td>\n",
       "      <td>1707.365911</td>\n",
       "    </tr>\n",
       "  </tbody>\n",
       "</table>\n",
       "</div>"
      ],
      "text/plain": [
       "          Number of peaks     % R.A.  % R.A. \\n (No Hits discarded)  \\\n",
       "Class                                                                 \n",
       "Isolated                0   0.000000                       0.000000   \n",
       "No Hit               4294  17.309564                       0.000000   \n",
       "13C1                  135   0.731148                       0.884199   \n",
       "13C1 -R              1008  15.798091                      19.105100   \n",
       "13C2 -R               466   2.623489                       3.172664   \n",
       "\n",
       "          A.M.W. average  A.W. average C#  A.W. average DBE  A.W. average H/C  \\\n",
       "Class                                                                           \n",
       "Isolated             NaN              NaN               NaN               NaN   \n",
       "No Hit               NaN              NaN               NaN               NaN   \n",
       "13C1          445.540094        31.489489          7.143147          1.688561   \n",
       "13C1 -R       614.582481        44.240285         13.093377          1.596404   \n",
       "13C2 -R       625.920054        43.877013         11.371247          1.685167   \n",
       "\n",
       "              Sum R.A.  \n",
       "Class                   \n",
       "Isolated           NaN  \n",
       "No Hit             NaN  \n",
       "13C1        475.830790  \n",
       "13C1 -R   10281.391971  \n",
       "13C2 -R    1707.365911  "
      ]
     },
     "execution_count": 42,
     "metadata": {},
     "output_type": "execute_result"
    }
   ],
   "source": [
    "anms1.head()"
   ]
  },
  {
   "cell_type": "code",
   "execution_count": 43,
   "metadata": {
    "id": "w6up6Vy5_rf3",
    "outputId": "8485531a-3c95-4cbb-bcae-f4719a578845"
   },
   "outputs": [
    {
     "data": {
      "text/html": [
       "<div>\n",
       "<style scoped>\n",
       "    .dataframe tbody tr th:only-of-type {\n",
       "        vertical-align: middle;\n",
       "    }\n",
       "\n",
       "    .dataframe tbody tr th {\n",
       "        vertical-align: top;\n",
       "    }\n",
       "\n",
       "    .dataframe thead th {\n",
       "        text-align: right;\n",
       "    }\n",
       "</style>\n",
       "<table border=\"1\" class=\"dataframe\">\n",
       "  <thead>\n",
       "    <tr style=\"text-align: right;\">\n",
       "      <th></th>\n",
       "      <th>Number of peaks</th>\n",
       "      <th>% R.A.</th>\n",
       "      <th>% R.A. \\n (No Hits discarded)</th>\n",
       "      <th>A.M.W. average</th>\n",
       "      <th>A.W. average C#</th>\n",
       "      <th>A.W. average DBE</th>\n",
       "      <th>A.W. average H/C</th>\n",
       "      <th>Sum R.A.</th>\n",
       "    </tr>\n",
       "    <tr>\n",
       "      <th>Class</th>\n",
       "      <th></th>\n",
       "      <th></th>\n",
       "      <th></th>\n",
       "      <th></th>\n",
       "      <th></th>\n",
       "      <th></th>\n",
       "      <th></th>\n",
       "      <th></th>\n",
       "    </tr>\n",
       "  </thead>\n",
       "  <tbody>\n",
       "    <tr>\n",
       "      <th>O1 13C1 -R</th>\n",
       "      <td>420</td>\n",
       "      <td>1.872744</td>\n",
       "      <td>2.264765</td>\n",
       "      <td>597.025753</td>\n",
       "      <td>42.063698</td>\n",
       "      <td>13.892110</td>\n",
       "      <td>1.502368</td>\n",
       "      <td>1218.781259</td>\n",
       "    </tr>\n",
       "    <tr>\n",
       "      <th>S1</th>\n",
       "      <td>152</td>\n",
       "      <td>0.816223</td>\n",
       "      <td>0.987082</td>\n",
       "      <td>532.101785</td>\n",
       "      <td>37.121404</td>\n",
       "      <td>23.473464</td>\n",
       "      <td>1.796665</td>\n",
       "      <td>531.197366</td>\n",
       "    </tr>\n",
       "    <tr>\n",
       "      <th>S1 -R</th>\n",
       "      <td>662</td>\n",
       "      <td>6.181754</td>\n",
       "      <td>7.475779</td>\n",
       "      <td>574.568860</td>\n",
       "      <td>40.220213</td>\n",
       "      <td>12.639139</td>\n",
       "      <td>1.521463</td>\n",
       "      <td>4023.083614</td>\n",
       "    </tr>\n",
       "    <tr>\n",
       "      <th>S1 13C1 -R</th>\n",
       "      <td>314</td>\n",
       "      <td>1.702386</td>\n",
       "      <td>2.058745</td>\n",
       "      <td>580.723053</td>\n",
       "      <td>39.492358</td>\n",
       "      <td>10.910263</td>\n",
       "      <td>1.587750</td>\n",
       "      <td>1107.911950</td>\n",
       "    </tr>\n",
       "    <tr>\n",
       "      <th>Total</th>\n",
       "      <td>10685</td>\n",
       "      <td>100.000000</td>\n",
       "      <td>100.000000</td>\n",
       "      <td>584.166083</td>\n",
       "      <td>42.341105</td>\n",
       "      <td>13.424069</td>\n",
       "      <td>NaN</td>\n",
       "      <td>65079.964668</td>\n",
       "    </tr>\n",
       "  </tbody>\n",
       "</table>\n",
       "</div>"
      ],
      "text/plain": [
       "            Number of peaks      % R.A.  % R.A. \\n (No Hits discarded)  \\\n",
       "Class                                                                    \n",
       "O1 13C1 -R              420    1.872744                       2.264765   \n",
       "S1                      152    0.816223                       0.987082   \n",
       "S1 -R                   662    6.181754                       7.475779   \n",
       "S1 13C1 -R              314    1.702386                       2.058745   \n",
       "Total                 10685  100.000000                     100.000000   \n",
       "\n",
       "            A.M.W. average  A.W. average C#  A.W. average DBE  \\\n",
       "Class                                                           \n",
       "O1 13C1 -R      597.025753        42.063698         13.892110   \n",
       "S1              532.101785        37.121404         23.473464   \n",
       "S1 -R           574.568860        40.220213         12.639139   \n",
       "S1 13C1 -R      580.723053        39.492358         10.910263   \n",
       "Total           584.166083        42.341105         13.424069   \n",
       "\n",
       "            A.W. average H/C      Sum R.A.  \n",
       "Class                                       \n",
       "O1 13C1 -R          1.502368   1218.781259  \n",
       "S1                  1.796665    531.197366  \n",
       "S1 -R               1.521463   4023.083614  \n",
       "S1 13C1 -R          1.587750   1107.911950  \n",
       "Total                    NaN  65079.964668  "
      ]
     },
     "execution_count": 43,
     "metadata": {},
     "output_type": "execute_result"
    }
   ],
   "source": [
    "anms1.tail()"
   ]
  },
  {
   "cell_type": "markdown",
   "metadata": {
    "id": "U9fpbDLW_rf0"
   },
   "source": [
    "<font color = 'ForestGreen' size = 4><p style=\"text-align:justify\">**La función `columns` permite conocer el nombre de las columnas.**"
   ]
  },
  {
   "cell_type": "code",
   "execution_count": 38,
   "metadata": {
    "id": "-wZgb4WJ_rf3"
   },
   "outputs": [
    {
     "data": {
      "text/plain": [
       "Index(['Number of peaks', '% R.A.', '% R.A. \\n (No Hits discarded)',\n",
       "       'A.M.W. average', 'A.W. average C#', 'A.W. average DBE',\n",
       "       'A.W. average H/C', 'Sum R.A.'],\n",
       "      dtype='object')"
      ]
     },
     "execution_count": 38,
     "metadata": {},
     "output_type": "execute_result"
    }
   ],
   "source": [
    "anms1.columns "
   ]
  },
  {
   "cell_type": "markdown",
   "metadata": {
    "id": "U9fpbDLW_rf0"
   },
   "source": [
    "<font color = 'ForestGreen' size = 4><p style=\"text-align:justify\">**La función `axes` permite conocer el nombre de las columnas y las filas.**"
   ]
  },
  {
   "cell_type": "code",
   "execution_count": 39,
   "metadata": {
    "id": "XXrH8LFX_rf3",
    "outputId": "1f269d86-28c9-46ff-c52a-318d3d76c603"
   },
   "outputs": [
    {
     "data": {
      "text/plain": [
       "[Index(['Isolated', 'No Hit', '13C1 ', '13C1 -R', '13C2 -R', 'HC', 'HC-R',\n",
       "        'N1 -R', 'N1 13C1 -R', 'N2 O2 S1 -R', 'O1 -R', 'O1 13C1 -R', 'S1 ',\n",
       "        'S1 -R', 'S1 13C1 -R', 'Total'],\n",
       "       dtype='object', name='Class'),\n",
       " Index(['Number of peaks', '% R.A.', '% R.A. \\n (No Hits discarded)',\n",
       "        'A.M.W. average', 'A.W. average C#', 'A.W. average DBE',\n",
       "        'A.W. average H/C', 'Sum R.A.'],\n",
       "       dtype='object')]"
      ]
     },
     "execution_count": 39,
     "metadata": {},
     "output_type": "execute_result"
    }
   ],
   "source": [
    "anms1.axes"
   ]
  },
  {
   "cell_type": "markdown",
   "metadata": {
    "id": "U9fpbDLW_rf0"
   },
   "source": [
    "<font color = 'ForestGreen' size = 4><p style=\"text-align:justify\">**Los nombres de las columnas actúan como índices que permiten su inspección.**"
   ]
  },
  {
   "cell_type": "code",
   "execution_count": 56,
   "metadata": {
    "id": "A1ukohh1_rf3",
    "outputId": "d001ed2b-934d-4c19-a5f2-9c83ddbf4d05"
   },
   "outputs": [
    {
     "data": {
      "text/html": [
       "<div>\n",
       "<style scoped>\n",
       "    .dataframe tbody tr th:only-of-type {\n",
       "        vertical-align: middle;\n",
       "    }\n",
       "\n",
       "    .dataframe tbody tr th {\n",
       "        vertical-align: top;\n",
       "    }\n",
       "\n",
       "    .dataframe thead th {\n",
       "        text-align: right;\n",
       "    }\n",
       "</style>\n",
       "<table border=\"1\" class=\"dataframe\">\n",
       "  <thead>\n",
       "    <tr style=\"text-align: right;\">\n",
       "      <th></th>\n",
       "      <th>% R.A.</th>\n",
       "    </tr>\n",
       "    <tr>\n",
       "      <th>Class</th>\n",
       "      <th></th>\n",
       "    </tr>\n",
       "  </thead>\n",
       "  <tbody>\n",
       "    <tr>\n",
       "      <th>Isolated</th>\n",
       "      <td>0.000000</td>\n",
       "    </tr>\n",
       "    <tr>\n",
       "      <th>No Hit</th>\n",
       "      <td>17.309564</td>\n",
       "    </tr>\n",
       "    <tr>\n",
       "      <th>13C1</th>\n",
       "      <td>0.731148</td>\n",
       "    </tr>\n",
       "    <tr>\n",
       "      <th>13C1 -R</th>\n",
       "      <td>15.798091</td>\n",
       "    </tr>\n",
       "    <tr>\n",
       "      <th>13C2 -R</th>\n",
       "      <td>2.623489</td>\n",
       "    </tr>\n",
       "    <tr>\n",
       "      <th>HC</th>\n",
       "      <td>3.336432</td>\n",
       "    </tr>\n",
       "    <tr>\n",
       "      <th>HC-R</th>\n",
       "      <td>38.163746</td>\n",
       "    </tr>\n",
       "    <tr>\n",
       "      <th>N1 -R</th>\n",
       "      <td>3.699787</td>\n",
       "    </tr>\n",
       "    <tr>\n",
       "      <th>N1 13C1 -R</th>\n",
       "      <td>1.102924</td>\n",
       "    </tr>\n",
       "    <tr>\n",
       "      <th>N2 O2 S1 -R</th>\n",
       "      <td>0.533891</td>\n",
       "    </tr>\n",
       "    <tr>\n",
       "      <th>O1 -R</th>\n",
       "      <td>6.127822</td>\n",
       "    </tr>\n",
       "    <tr>\n",
       "      <th>O1 13C1 -R</th>\n",
       "      <td>1.872744</td>\n",
       "    </tr>\n",
       "    <tr>\n",
       "      <th>S1</th>\n",
       "      <td>0.816223</td>\n",
       "    </tr>\n",
       "    <tr>\n",
       "      <th>S1 -R</th>\n",
       "      <td>6.181754</td>\n",
       "    </tr>\n",
       "    <tr>\n",
       "      <th>S1 13C1 -R</th>\n",
       "      <td>1.702386</td>\n",
       "    </tr>\n",
       "    <tr>\n",
       "      <th>Total</th>\n",
       "      <td>100.000000</td>\n",
       "    </tr>\n",
       "  </tbody>\n",
       "</table>\n",
       "</div>"
      ],
      "text/plain": [
       "                 % R.A.\n",
       "Class                  \n",
       "Isolated       0.000000\n",
       "No Hit        17.309564\n",
       "13C1           0.731148\n",
       "13C1 -R       15.798091\n",
       "13C2 -R        2.623489\n",
       "HC             3.336432\n",
       "HC-R          38.163746\n",
       "N1 -R          3.699787\n",
       "N1 13C1 -R     1.102924\n",
       "N2 O2 S1 -R    0.533891\n",
       "O1 -R          6.127822\n",
       "O1 13C1 -R     1.872744\n",
       "S1             0.816223\n",
       "S1 -R          6.181754\n",
       "S1 13C1 -R     1.702386\n",
       "Total        100.000000"
      ]
     },
     "execution_count": 56,
     "metadata": {},
     "output_type": "execute_result"
    }
   ],
   "source": [
    "anms1[['% R.A.']] # Inspeccionar una columna en particular"
   ]
  },
  {
   "cell_type": "markdown",
   "metadata": {
    "id": "uADK1wIf_rf4"
   },
   "source": [
    "<font color='blue' size=4>**Podemos leer varias hojas de cálculo del archivo excel, en este ejemplo leemos dos hojas de cálculo del archivo**"
   ]
  },
  {
   "cell_type": "code",
   "execution_count": 41,
   "metadata": {
    "id": "nrLmxGi9_rf4"
   },
   "outputs": [],
   "source": [
    "anms2 = pd.read_excel(lugar6,sheet_name=['HC', 'HC-R'], header=2)"
   ]
  },
  {
   "cell_type": "markdown",
   "metadata": {
    "id": "U9fpbDLW_rf0"
   },
   "source": [
    "<font color = 'blue' size = 4><p style=\"text-align:justify\">**La función `keys` permite conocer el nombre de las hojas de cálculo leídas.**"
   ]
  },
  {
   "cell_type": "code",
   "execution_count": 42,
   "metadata": {
    "id": "Vf8uCTtw_rf5",
    "outputId": "a98ecd31-73c8-4b75-f53f-b4dd8e59fc6a"
   },
   "outputs": [
    {
     "data": {
      "text/plain": [
       "dict_keys(['HC', 'HC-R'])"
      ]
     },
     "execution_count": 42,
     "metadata": {},
     "output_type": "execute_result"
    }
   ],
   "source": [
    "anms2.keys()"
   ]
  },
  {
   "cell_type": "markdown",
   "metadata": {
    "id": "uADK1wIf_rf4"
   },
   "source": [
    "<font color='blue' size=4>**Podemos inspeccionar cada hoja de cálculo por su nombre**"
   ]
  },
  {
   "cell_type": "code",
   "execution_count": 43,
   "metadata": {
    "id": "CxtB9Ilu_rf5",
    "outputId": "326c11c3-8c1c-4687-f5ff-a98433a05aef"
   },
   "outputs": [
    {
     "data": {
      "text/html": [
       "<div>\n",
       "<style scoped>\n",
       "    .dataframe tbody tr th:only-of-type {\n",
       "        vertical-align: middle;\n",
       "    }\n",
       "\n",
       "    .dataframe tbody tr th {\n",
       "        vertical-align: top;\n",
       "    }\n",
       "\n",
       "    .dataframe thead th {\n",
       "        text-align: right;\n",
       "    }\n",
       "</style>\n",
       "<table border=\"1\" class=\"dataframe\">\n",
       "  <thead>\n",
       "    <tr style=\"text-align: right;\">\n",
       "      <th></th>\n",
       "      <th>Unnamed: 0</th>\n",
       "      <th>Exp. m/z</th>\n",
       "      <th>Recal m/z</th>\n",
       "      <th>Theor. Mass</th>\n",
       "      <th>Error</th>\n",
       "      <th>Rel. Abudance</th>\n",
       "      <th>DBE</th>\n",
       "      <th>Molecular Formula</th>\n",
       "      <th>Unnamed: 8</th>\n",
       "      <th>Unnamed: 9</th>\n",
       "      <th>Unnamed: 10</th>\n",
       "      <th>H/C</th>\n",
       "    </tr>\n",
       "  </thead>\n",
       "  <tbody>\n",
       "    <tr>\n",
       "      <th>0</th>\n",
       "      <td>1</td>\n",
       "      <td>248.155946</td>\n",
       "      <td>248.155946</td>\n",
       "      <td>248.155952</td>\n",
       "      <td>0.026171</td>\n",
       "      <td>2.821380</td>\n",
       "      <td>10</td>\n",
       "      <td>C</td>\n",
       "      <td>19</td>\n",
       "      <td>H</td>\n",
       "      <td>20</td>\n",
       "      <td>1.052632</td>\n",
       "    </tr>\n",
       "    <tr>\n",
       "      <th>1</th>\n",
       "      <td>2</td>\n",
       "      <td>250.171598</td>\n",
       "      <td>250.171597</td>\n",
       "      <td>250.171602</td>\n",
       "      <td>0.019050</td>\n",
       "      <td>6.702846</td>\n",
       "      <td>9</td>\n",
       "      <td>C</td>\n",
       "      <td>19</td>\n",
       "      <td>H</td>\n",
       "      <td>22</td>\n",
       "      <td>1.157895</td>\n",
       "    </tr>\n",
       "    <tr>\n",
       "      <th>2</th>\n",
       "      <td>3</td>\n",
       "      <td>252.187251</td>\n",
       "      <td>252.187251</td>\n",
       "      <td>252.187252</td>\n",
       "      <td>0.006591</td>\n",
       "      <td>5.658992</td>\n",
       "      <td>8</td>\n",
       "      <td>C</td>\n",
       "      <td>19</td>\n",
       "      <td>H</td>\n",
       "      <td>24</td>\n",
       "      <td>1.263158</td>\n",
       "    </tr>\n",
       "    <tr>\n",
       "      <th>3</th>\n",
       "      <td>4</td>\n",
       "      <td>254.202904</td>\n",
       "      <td>254.202903</td>\n",
       "      <td>254.202902</td>\n",
       "      <td>-0.003367</td>\n",
       "      <td>14.707089</td>\n",
       "      <td>7</td>\n",
       "      <td>C</td>\n",
       "      <td>19</td>\n",
       "      <td>H</td>\n",
       "      <td>26</td>\n",
       "      <td>1.368421</td>\n",
       "    </tr>\n",
       "    <tr>\n",
       "      <th>4</th>\n",
       "      <td>5</td>\n",
       "      <td>256.124656</td>\n",
       "      <td>256.124655</td>\n",
       "      <td>256.124652</td>\n",
       "      <td>-0.010537</td>\n",
       "      <td>6.415286</td>\n",
       "      <td>13</td>\n",
       "      <td>C</td>\n",
       "      <td>20</td>\n",
       "      <td>H</td>\n",
       "      <td>16</td>\n",
       "      <td>0.800000</td>\n",
       "    </tr>\n",
       "  </tbody>\n",
       "</table>\n",
       "</div>"
      ],
      "text/plain": [
       "   Unnamed: 0    Exp. m/z   Recal m/z  Theor. Mass     Error  Rel. Abudance  \\\n",
       "0           1  248.155946  248.155946   248.155952  0.026171       2.821380   \n",
       "1           2  250.171598  250.171597   250.171602  0.019050       6.702846   \n",
       "2           3  252.187251  252.187251   252.187252  0.006591       5.658992   \n",
       "3           4  254.202904  254.202903   254.202902 -0.003367      14.707089   \n",
       "4           5  256.124656  256.124655   256.124652 -0.010537       6.415286   \n",
       "\n",
       "   DBE Molecular Formula  Unnamed: 8 Unnamed: 9  Unnamed: 10       H/C  \n",
       "0   10                 C          19          H           20  1.052632  \n",
       "1    9                 C          19          H           22  1.157895  \n",
       "2    8                 C          19          H           24  1.263158  \n",
       "3    7                 C          19          H           26  1.368421  \n",
       "4   13                 C          20          H           16  0.800000  "
      ]
     },
     "execution_count": 43,
     "metadata": {},
     "output_type": "execute_result"
    }
   ],
   "source": [
    "anms2['HC-R'].head()"
   ]
  },
  {
   "cell_type": "markdown",
   "metadata": {
    "id": "uADK1wIf_rf4"
   },
   "source": [
    "<font color='blue' size=4>**Y podemos inspeccionar cada columna dentro de cada hoja de cálculo por su nombre**"
   ]
  },
  {
   "cell_type": "code",
   "execution_count": 62,
   "metadata": {
    "id": "GJLupnZW_rf5",
    "outputId": "7998686d-3e0c-4efb-8f8b-3bbaa4476420"
   },
   "outputs": [
    {
     "data": {
      "text/html": [
       "<div>\n",
       "<style scoped>\n",
       "    .dataframe tbody tr th:only-of-type {\n",
       "        vertical-align: middle;\n",
       "    }\n",
       "\n",
       "    .dataframe tbody tr th {\n",
       "        vertical-align: top;\n",
       "    }\n",
       "\n",
       "    .dataframe thead th {\n",
       "        text-align: right;\n",
       "    }\n",
       "</style>\n",
       "<table border=\"1\" class=\"dataframe\">\n",
       "  <thead>\n",
       "    <tr style=\"text-align: right;\">\n",
       "      <th></th>\n",
       "      <th>Exp. m/z</th>\n",
       "    </tr>\n",
       "  </thead>\n",
       "  <tbody>\n",
       "    <tr>\n",
       "      <th>0</th>\n",
       "      <td>248.155946</td>\n",
       "    </tr>\n",
       "    <tr>\n",
       "      <th>1</th>\n",
       "      <td>250.171598</td>\n",
       "    </tr>\n",
       "    <tr>\n",
       "      <th>2</th>\n",
       "      <td>252.187251</td>\n",
       "    </tr>\n",
       "    <tr>\n",
       "      <th>3</th>\n",
       "      <td>254.202904</td>\n",
       "    </tr>\n",
       "    <tr>\n",
       "      <th>4</th>\n",
       "      <td>256.124656</td>\n",
       "    </tr>\n",
       "  </tbody>\n",
       "</table>\n",
       "</div>"
      ],
      "text/plain": [
       "     Exp. m/z\n",
       "0  248.155946\n",
       "1  250.171598\n",
       "2  252.187251\n",
       "3  254.202904\n",
       "4  256.124656"
      ]
     },
     "execution_count": 62,
     "metadata": {},
     "output_type": "execute_result"
    }
   ],
   "source": [
    "anms2['HC-R'][['Exp. m/z']].head()"
   ]
  },
  {
   "cell_type": "markdown",
   "metadata": {
    "id": "AjyIaJMB_rf5"
   },
   "source": [
    "<font color='blue'>**Podemos hacer una lectura sin necesidad de indicar las hojas de cálculo del archivo excel**"
   ]
  },
  {
   "cell_type": "code",
   "execution_count": 63,
   "metadata": {
    "id": "soZs1W5A_rf5"
   },
   "outputs": [],
   "source": [
    "lugar6=('https://github.com/emejiao/Mass_Spectra3/raw/master/AND1(APPI).xls')\n",
    "anms3 = pd.read_excel(lugar6,sheet_name=None, header=2)"
   ]
  },
  {
   "cell_type": "code",
   "execution_count": 64,
   "metadata": {
    "id": "yAdj8K5V_rf6",
    "outputId": "f68092c9-68ae-41bb-f24f-5d934c2b852b"
   },
   "outputs": [
    {
     "data": {
      "text/plain": [
       "dict_keys(['General', 'Combined R. Abundances', 'No Hit', '13C1 ', '13C1 -R', '13C2 -R', 'HC', 'HC-R', 'N1 -R', 'N1 13C1 -R', 'N2 O2 S1 -R', 'O1 -R', 'O1 13C1 -R', 'S1 ', 'S1 -R', 'S1 13C1 -R'])"
      ]
     },
     "execution_count": 64,
     "metadata": {},
     "output_type": "execute_result"
    }
   ],
   "source": [
    "anms3.keys() # y Luego determinar cuales y cuantas hojas de cálculo tiene el archivo utilizando la función keys"
   ]
  },
  {
   "cell_type": "code",
   "execution_count": 66,
   "metadata": {
    "id": "c2WG7s_3_rf6",
    "outputId": "9e4f87db-57c9-402e-8dad-71cacd040347"
   },
   "outputs": [
    {
     "data": {
      "text/html": [
       "<div>\n",
       "<style scoped>\n",
       "    .dataframe tbody tr th:only-of-type {\n",
       "        vertical-align: middle;\n",
       "    }\n",
       "\n",
       "    .dataframe tbody tr th {\n",
       "        vertical-align: top;\n",
       "    }\n",
       "\n",
       "    .dataframe thead th {\n",
       "        text-align: right;\n",
       "    }\n",
       "</style>\n",
       "<table border=\"1\" class=\"dataframe\">\n",
       "  <thead>\n",
       "    <tr style=\"text-align: right;\">\n",
       "      <th></th>\n",
       "      <th>Unnamed: 0</th>\n",
       "      <th>Exp. m/z</th>\n",
       "      <th>Recal m/z</th>\n",
       "      <th>Theor. Mass</th>\n",
       "      <th>Error</th>\n",
       "      <th>Rel. Abudance</th>\n",
       "      <th>DBE</th>\n",
       "      <th>Molecular Formula</th>\n",
       "      <th>Unnamed: 8</th>\n",
       "      <th>Unnamed: 9</th>\n",
       "      <th>Unnamed: 10</th>\n",
       "      <th>Unnamed: 11</th>\n",
       "      <th>Unnamed: 12</th>\n",
       "      <th>H/C</th>\n",
       "      <th>S/C</th>\n",
       "    </tr>\n",
       "  </thead>\n",
       "  <tbody>\n",
       "    <tr>\n",
       "      <th>0</th>\n",
       "      <td>1</td>\n",
       "      <td>254.112375</td>\n",
       "      <td>254.112374</td>\n",
       "      <td>254.112373</td>\n",
       "      <td>-0.003796</td>\n",
       "      <td>2.253087</td>\n",
       "      <td>9</td>\n",
       "      <td>C</td>\n",
       "      <td>17</td>\n",
       "      <td>H</td>\n",
       "      <td>18</td>\n",
       "      <td>S</td>\n",
       "      <td>1</td>\n",
       "      <td>1.058824</td>\n",
       "      <td>0.058824</td>\n",
       "    </tr>\n",
       "    <tr>\n",
       "      <th>1</th>\n",
       "      <td>2</td>\n",
       "      <td>262.081072</td>\n",
       "      <td>262.081071</td>\n",
       "      <td>262.081073</td>\n",
       "      <td>0.009009</td>\n",
       "      <td>3.475764</td>\n",
       "      <td>12</td>\n",
       "      <td>C</td>\n",
       "      <td>18</td>\n",
       "      <td>H</td>\n",
       "      <td>14</td>\n",
       "      <td>S</td>\n",
       "      <td>1</td>\n",
       "      <td>0.777778</td>\n",
       "      <td>0.055556</td>\n",
       "    </tr>\n",
       "    <tr>\n",
       "      <th>2</th>\n",
       "      <td>3</td>\n",
       "      <td>266.112340</td>\n",
       "      <td>266.112339</td>\n",
       "      <td>266.112373</td>\n",
       "      <td>0.127662</td>\n",
       "      <td>2.406715</td>\n",
       "      <td>10</td>\n",
       "      <td>C</td>\n",
       "      <td>18</td>\n",
       "      <td>H</td>\n",
       "      <td>18</td>\n",
       "      <td>S</td>\n",
       "      <td>1</td>\n",
       "      <td>1.000000</td>\n",
       "      <td>0.055556</td>\n",
       "    </tr>\n",
       "    <tr>\n",
       "      <th>3</th>\n",
       "      <td>4</td>\n",
       "      <td>268.128005</td>\n",
       "      <td>268.128004</td>\n",
       "      <td>268.128023</td>\n",
       "      <td>0.072896</td>\n",
       "      <td>2.281605</td>\n",
       "      <td>9</td>\n",
       "      <td>C</td>\n",
       "      <td>18</td>\n",
       "      <td>H</td>\n",
       "      <td>20</td>\n",
       "      <td>S</td>\n",
       "      <td>1</td>\n",
       "      <td>1.111111</td>\n",
       "      <td>0.055556</td>\n",
       "    </tr>\n",
       "    <tr>\n",
       "      <th>4</th>\n",
       "      <td>5</td>\n",
       "      <td>270.143679</td>\n",
       "      <td>270.143678</td>\n",
       "      <td>270.143673</td>\n",
       "      <td>-0.017377</td>\n",
       "      <td>2.611041</td>\n",
       "      <td>8</td>\n",
       "      <td>C</td>\n",
       "      <td>18</td>\n",
       "      <td>H</td>\n",
       "      <td>22</td>\n",
       "      <td>S</td>\n",
       "      <td>1</td>\n",
       "      <td>1.222222</td>\n",
       "      <td>0.055556</td>\n",
       "    </tr>\n",
       "  </tbody>\n",
       "</table>\n",
       "</div>"
      ],
      "text/plain": [
       "   Unnamed: 0    Exp. m/z   Recal m/z  Theor. Mass     Error  Rel. Abudance  \\\n",
       "0           1  254.112375  254.112374   254.112373 -0.003796       2.253087   \n",
       "1           2  262.081072  262.081071   262.081073  0.009009       3.475764   \n",
       "2           3  266.112340  266.112339   266.112373  0.127662       2.406715   \n",
       "3           4  268.128005  268.128004   268.128023  0.072896       2.281605   \n",
       "4           5  270.143679  270.143678   270.143673 -0.017377       2.611041   \n",
       "\n",
       "   DBE Molecular Formula  Unnamed: 8 Unnamed: 9  Unnamed: 10 Unnamed: 11  \\\n",
       "0    9                 C          17          H           18           S   \n",
       "1   12                 C          18          H           14           S   \n",
       "2   10                 C          18          H           18           S   \n",
       "3    9                 C          18          H           20           S   \n",
       "4    8                 C          18          H           22           S   \n",
       "\n",
       "   Unnamed: 12       H/C       S/C  \n",
       "0            1  1.058824  0.058824  \n",
       "1            1  0.777778  0.055556  \n",
       "2            1  1.000000  0.055556  \n",
       "3            1  1.111111  0.055556  \n",
       "4            1  1.222222  0.055556  "
      ]
     },
     "execution_count": 66,
     "metadata": {},
     "output_type": "execute_result"
    }
   ],
   "source": [
    "anms3['S1 -R'].head()"
   ]
  },
  {
   "cell_type": "code",
   "execution_count": 67,
   "metadata": {
    "id": "LCuydAws_rf6"
   },
   "outputs": [],
   "source": [
    "subset1= anms2['HC'][[\"DBE\", \"Molecular Formula\", \"Unnamed: 8\", \"Unnamed: 9\", \"Unnamed: 10\", \"H/C\"]]\n",
    "#De esta manera se puede tomar varias columnas"
   ]
  },
  {
   "cell_type": "code",
   "execution_count": 68,
   "metadata": {
    "id": "f1L2jxtC_rf6"
   },
   "outputs": [],
   "source": [
    "subset2= anms2['HC-R'][[\"DBE\", \"Molecular Formula\", \"Unnamed: 8\", \"Unnamed: 9\", \"Unnamed: 10\", \"H/C\"]]\n",
    "#De esta manera se puede tomar varias columnas"
   ]
  },
  {
   "cell_type": "code",
   "execution_count": 69,
   "metadata": {
    "id": "kW8aYqdb_rf6",
    "outputId": "84b98aa4-efcf-46f4-9423-d14104feecd1"
   },
   "outputs": [
    {
     "data": {
      "text/html": [
       "<div>\n",
       "<style scoped>\n",
       "    .dataframe tbody tr th:only-of-type {\n",
       "        vertical-align: middle;\n",
       "    }\n",
       "\n",
       "    .dataframe tbody tr th {\n",
       "        vertical-align: top;\n",
       "    }\n",
       "\n",
       "    .dataframe thead th {\n",
       "        text-align: right;\n",
       "    }\n",
       "</style>\n",
       "<table border=\"1\" class=\"dataframe\">\n",
       "  <thead>\n",
       "    <tr style=\"text-align: right;\">\n",
       "      <th></th>\n",
       "      <th>DBE</th>\n",
       "      <th>Molecular Formula</th>\n",
       "      <th>Unnamed: 8</th>\n",
       "      <th>Unnamed: 9</th>\n",
       "      <th>Unnamed: 10</th>\n",
       "      <th>H/C</th>\n",
       "    </tr>\n",
       "  </thead>\n",
       "  <tbody>\n",
       "    <tr>\n",
       "      <th>0</th>\n",
       "      <td>4</td>\n",
       "      <td>C</td>\n",
       "      <td>18</td>\n",
       "      <td>H</td>\n",
       "      <td>30</td>\n",
       "      <td>1.666667</td>\n",
       "    </tr>\n",
       "    <tr>\n",
       "      <th>1</th>\n",
       "      <td>8</td>\n",
       "      <td>C</td>\n",
       "      <td>19</td>\n",
       "      <td>H</td>\n",
       "      <td>24</td>\n",
       "      <td>1.263158</td>\n",
       "    </tr>\n",
       "    <tr>\n",
       "      <th>2</th>\n",
       "      <td>7</td>\n",
       "      <td>C</td>\n",
       "      <td>19</td>\n",
       "      <td>H</td>\n",
       "      <td>26</td>\n",
       "      <td>1.368421</td>\n",
       "    </tr>\n",
       "    <tr>\n",
       "      <th>3</th>\n",
       "      <td>6</td>\n",
       "      <td>C</td>\n",
       "      <td>19</td>\n",
       "      <td>H</td>\n",
       "      <td>28</td>\n",
       "      <td>1.473684</td>\n",
       "    </tr>\n",
       "    <tr>\n",
       "      <th>4</th>\n",
       "      <td>12</td>\n",
       "      <td>C</td>\n",
       "      <td>20</td>\n",
       "      <td>H</td>\n",
       "      <td>18</td>\n",
       "      <td>0.900000</td>\n",
       "    </tr>\n",
       "  </tbody>\n",
       "</table>\n",
       "</div>"
      ],
      "text/plain": [
       "   DBE Molecular Formula  Unnamed: 8 Unnamed: 9  Unnamed: 10       H/C\n",
       "0    4                 C          18          H           30  1.666667\n",
       "1    8                 C          19          H           24  1.263158\n",
       "2    7                 C          19          H           26  1.368421\n",
       "3    6                 C          19          H           28  1.473684\n",
       "4   12                 C          20          H           18  0.900000"
      ]
     },
     "execution_count": 69,
     "metadata": {},
     "output_type": "execute_result"
    }
   ],
   "source": [
    "subset1.head()"
   ]
  }
 ],
 "metadata": {
  "colab": {
   "name": "Descargar_Leer_Datos.ipynb",
   "provenance": []
  },
  "kernelspec": {
   "display_name": "Python 3 (ipykernel)",
   "language": "python",
   "name": "python3"
  },
  "language_info": {
   "codemirror_mode": {
    "name": "ipython",
    "version": 3
   },
   "file_extension": ".py",
   "mimetype": "text/x-python",
   "name": "python",
   "nbconvert_exporter": "python",
   "pygments_lexer": "ipython3",
   "version": "3.9.7"
  }
 },
 "nbformat": 4,
 "nbformat_minor": 4
}
