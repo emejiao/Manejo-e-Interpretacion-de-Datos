{
 "cells": [
  {
   "cell_type": "markdown",
   "metadata": {
    "slideshow": {
     "slide_type": "slide"
    }
   },
   "source": [
    "<div class=\"alert alert-success\" role=\"alert\">\n",
    "  <h1 class=\"alert-heading\">Regresión Lineal Multivariado: PLS</h1>\n",
    "  <h3 class=\"alert-heading\">Prof. Enrique Mejía Ospino, emejia@uis.edu.co</h3>\n",
    "  <h4 class=\"alert-heading\">Escuela de Química</h4>\n",
    "  <h5 class=\"alert-heading\">Universidad Industrial de Santander</h5>\n",
    "  <p>\n",
    "  </div>"
   ]
  },
  {
   "cell_type": "markdown",
   "metadata": {},
   "source": [
    "<p style=\"text-align:justify\"><div class=\"alert alert-success\">\n",
    "\n",
    "## <font color=black> Regresión Lineal Multivariado\n",
    "<font color=black> La regresión lineal múltiple permite generar un modelo lineal en el que el valor de la variable dependiente o respuesta (Y) se determina a partir de un conjunto de variables independientes llamadas predictores $(X_1, X_2, X_3…)$. Es una extensión de la regresión lineal simple, por lo que es fundamental comprender esta última. Los modelos de regresión múltiple pueden emplearse para predecir el valor de la variable dependiente o para evaluar la influencia que tienen los predictores sobre ella (esto último se debe analizar con cautela para no malinterpretar causa-efecto).\n",
    "\n",
    "<font color=black> Los modelos lineales múltiples siguen la siguiente ecuación:\n",
    "$$y_i= \\beta_0 + \\beta_1 x_{i1} + \\beta_2 x_{i2} + ... + \\beta_p x_{ip} +\\epsilon_i$$\n",
    " \n",
    "<font color=black> En este caso, se está haciendo referencia al valor de $y$  para una observación $i$  concreta. El valor de una observación puntual nunca va a ser exactamente igual al promedio, de ahí que se añada el término de error  $ϵ$.\n",
    "\n",
    "<font color=black> Computacionalmente, estos cálculos son más eficientes si se realizan de forma matricial:\n",
    "$$\\mathbf{y}=\\mathbf{X}^T \\mathbf{\\beta}+\\epsilon$$\n",
    "\n",
    "<font color=black> $$\\mathbf{y}=\\begin{bmatrix} y_1\\\\  y_2\\\\  ...\\\\ y_n\\end{bmatrix} \\ , \\ \\ \\ \\mathbf{X}=\\begin{bmatrix} 1 & x_{11} & ... & x_{1p}\\\\  1 & x_{21} & ... & x_{2p}\\\\  1 & ... &  ... & ... \\\\  1 &  x_{n1} & ... &x_{np}\\\\   \\end{bmatrix} \\ , \\ \\ \\ \\mathbf{\\beta}=\\begin{bmatrix} \\beta_0\\\\ \\beta_1\\\\  ...\\\\ \\beta_n\\end{bmatrix} \\ , \\ \\ \\ \\mathbf{\\epsilon}=\\begin{bmatrix} \\epsilon_1\\\\ \\epsilon_2\\\\  ...\\\\ \\epsilon_n\\end{bmatrix}$$\n",
    "    \n",
    "<font color=black> $$\\hat{\\beta} = \\underset{\\beta}{\\arg\\min} (\\mathbf{y} - \\mathbf{X}^T \\mathbf{\\beta})^2$$\n",
    "    \n",
    "<font color=black> Una vez estimados los coeficientes, se pueden obtener las estimaciones de cada observación ($\\hat{y}_i$):\n",
    "$$\\hat{y}_i= \\hat{\\beta}_0 + \\hat{\\beta}_1 x_{i1} + \\hat{\\beta}_2 x_{i2} + ... + \\hat{\\beta}_p x_{ip}$$\n",
    "\n",
    "<font color=black> Finalmente, la estimación de la varianza del modelo ($\\hat{σ}^2$) se obtiene como:\n",
    "$$\\hat{\\sigma}^2 = \\frac{\\sum^n_{i=1} \\hat{\\epsilon}_i^2}{n-p} = \\frac{\\sum^n_{i=1} (y_i - \\hat{y}_i)^2}{n-p}$$\n",
    "\n",
    "<font color=black> donde $n$  es el número de observaciones y $p$  el número de predictores."
   ]
  },
  {
   "cell_type": "code",
   "execution_count": 1,
   "metadata": {},
   "outputs": [],
   "source": [
    "#from sklearn import datasets\n",
    "import numpy as np\n",
    "import pandas as pd\n",
    "from sklearn.model_selection import cross_val_predict, KFold, StratifiedKFold, train_test_split, cross_validate, cross_val_score\n",
    "from sklearn import linear_model\n",
    "from sklearn.linear_model import LogisticRegression\n",
    "import matplotlib.pyplot as plt\n",
    "from sklearn.decomposition import PCA\n",
    "from sklearn.preprocessing import StandardScaler, Normalizer\n",
    "from sklearn import preprocessing\n",
    "import scipy.io #scipy.io me permite leer datos construidos en matlab\n",
    "from scipy import stats # importando scipy.stats\n",
    "from scipy.signal import savgol_filter\n",
    "import scipy as sio\n",
    "%matplotlib inline"
   ]
  },
  {
   "cell_type": "markdown",
   "metadata": {},
   "source": [
    "<p style=\"text-align:justify\"><div class=\"alert alert-success\">\n",
    "\n",
    "## <font color=black> Métricas de la Regresión Lineal Multivariado\n",
    "<font color=black> El módulo sklearn.metrics tiene implementadas varias métricas estadísticas que permiten medir el rendimiento (o 'robustes') de la regresión. Algunas de ellas han sido mejoradas para manejar el caso de multi-salidas, están son:  **Error cuadrático medio (mean_squared_error), Error medio absoluto (mean_absolute_error), Variancia explicada (explained_variance_score) and Coeficiente de regresión (r2_score)**."
   ]
  },
  {
   "cell_type": "code",
   "execution_count": 24,
   "metadata": {},
   "outputs": [
    {
     "data": {
      "text/html": [
       "<div>\n",
       "<style scoped>\n",
       "    .dataframe tbody tr th:only-of-type {\n",
       "        vertical-align: middle;\n",
       "    }\n",
       "\n",
       "    .dataframe tbody tr th {\n",
       "        vertical-align: top;\n",
       "    }\n",
       "\n",
       "    .dataframe thead th {\n",
       "        text-align: right;\n",
       "    }\n",
       "</style>\n",
       "<table border=\"1\" class=\"dataframe\">\n",
       "  <thead>\n",
       "    <tr style=\"text-align: right;\">\n",
       "      <th></th>\n",
       "      <th>Predicted</th>\n",
       "      <th>Measured</th>\n",
       "    </tr>\n",
       "  </thead>\n",
       "  <tbody>\n",
       "    <tr>\n",
       "      <th>0</th>\n",
       "      <td>8.876835</td>\n",
       "      <td>8.964832</td>\n",
       "    </tr>\n",
       "    <tr>\n",
       "      <th>1</th>\n",
       "      <td>6.577969</td>\n",
       "      <td>6.600000</td>\n",
       "    </tr>\n",
       "    <tr>\n",
       "      <th>2</th>\n",
       "      <td>8.027663</td>\n",
       "      <td>8.200000</td>\n",
       "    </tr>\n",
       "    <tr>\n",
       "      <th>3</th>\n",
       "      <td>6.401841</td>\n",
       "      <td>6.300000</td>\n",
       "    </tr>\n",
       "    <tr>\n",
       "      <th>4</th>\n",
       "      <td>7.413652</td>\n",
       "      <td>7.354888</td>\n",
       "    </tr>\n",
       "  </tbody>\n",
       "</table>\n",
       "</div>"
      ],
      "text/plain": [
       "   Predicted  Measured\n",
       "0   8.876835  8.964832\n",
       "1   6.577969  6.600000\n",
       "2   8.027663  8.200000\n",
       "3   6.401841  6.300000\n",
       "4   7.413652  7.354888"
      ]
     },
     "execution_count": 24,
     "metadata": {},
     "output_type": "execute_result"
    }
   ],
   "source": [
    "datafile=\"C:/Users/usuario/Documents/propiedad_1.xls\"#este archivo contiene tres hojas de calculo \n",
    "data = pd.read_excel(datafile, sheet_name=None, header=0)\n",
    "datacc=data['calibracion']\n",
    "yprop=datacc['Measured']\n",
    "ypred=datacc['Predicted']\n",
    "data['calibracion'].head()"
   ]
  },
  {
   "cell_type": "markdown",
   "metadata": {},
   "source": [
    "<p style=\"text-align:justify\"><div class=\"alert alert-success\">\n",
    "\n",
    "## <font color=black> Variancia explicada (explained_variance_score)\n",
    "<font color=black> Esta métrica compara la salidad estimada con la respuesta correcta a partir de la siguiente relación:\n",
    "$$explained\\_{}variance(y, \\hat{y}) = 1 - \\frac{Var\\{ y - \\hat{y}\\}}{Var\\{y\\}}$$\n",
    "Cuando el valor está cercano uno se entiende que la regresión presenta un buen rendimiento, lo contrario, valores cercanos a cero, indica un mal rendimiento del modelo."
   ]
  },
  {
   "cell_type": "code",
   "execution_count": 3,
   "metadata": {},
   "outputs": [
    {
     "data": {
      "text/plain": [
       "0.9979061829168103"
      ]
     },
     "execution_count": 3,
     "metadata": {},
     "output_type": "execute_result"
    }
   ],
   "source": [
    "from sklearn.metrics import explained_variance_score\n",
    "explained_variance_score(yprop, ypred)\n",
    "#explained_variance_score(y_true, y_pred, multioutput='raw_values')\n",
    "#explained_variance_score(y_true, y_pred, multioutput=[0.3, 0.7])"
   ]
  },
  {
   "cell_type": "markdown",
   "metadata": {},
   "source": [
    "<p style=\"text-align:justify\"><div class=\"alert alert-success\">\n",
    "\n",
    "## <font color=black> Error Máximo (Max Error)\n",
    "<font color=black> La función de máximo error calcula el máximo error residual, esta métrica captura el peor error entre la medida y la propiedad.\n",
    "Si $\\hat{y}_i$ es el valor predicho de la muestra $i_{esima}$ y $y_i$ es la medida de esa misma muestra, entonces el máximo error está definido por:\n",
    "$$\\text{Max Error}(y, \\hat{y}) = max(| y_i - \\hat{y}_i |)$$"
   ]
  },
  {
   "cell_type": "code",
   "execution_count": 4,
   "metadata": {},
   "outputs": [
    {
     "data": {
      "text/plain": [
       "0.34735613298853973"
      ]
     },
     "execution_count": 4,
     "metadata": {},
     "output_type": "execute_result"
    }
   ],
   "source": [
    "from sklearn.metrics import max_error\n",
    "max_error(yprop, ypred)"
   ]
  },
  {
   "cell_type": "markdown",
   "metadata": {},
   "source": [
    "<p style=\"text-align:justify\"><div class=\"alert alert-success\">\n",
    "\n",
    "## <font color=black> Error absoluto promedio (mean_absolute_error)\n",
    "<font color=black> La función mean_absolute_error calcula el error absoluto medio y corresponde a una métrica que evalua el riesgo de error del modelo. \n",
    "Si $\\hat{y}_i$ es el valor predicho de la muestra $i_{esima}$ y $y_i$ es la medida de esa misma muestra, entonces el error absoluto medio (MAE) sobre un numero de muestras $n_{samples}$ está definido por:\n",
    "$$\\text{MAE}(y, \\hat{y}) = \\frac{1}{n_{\\text{samples}}} \\sum_{i=0}^{n_{\\text{samples}}-1} \\left| y_i - \\hat{y}_i \\right|$$"
   ]
  },
  {
   "cell_type": "code",
   "execution_count": 5,
   "metadata": {},
   "outputs": [
    {
     "data": {
      "text/plain": [
       "0.08440645368976418"
      ]
     },
     "execution_count": 5,
     "metadata": {},
     "output_type": "execute_result"
    }
   ],
   "source": [
    "from sklearn.metrics import mean_absolute_error\n",
    "mean_absolute_error(yprop, ypred)\n",
    "#mean_absolute_error(yprop, Y_pred, multioutput='raw_values')"
   ]
  },
  {
   "cell_type": "markdown",
   "metadata": {},
   "source": [
    "<p style=\"text-align:justify\"><div class=\"alert alert-success\">\n",
    "\n",
    "## <font color=black> Error cuadrático medio (mean_squared_error)\n",
    "<font color=black> La función mean_squared_error calcula el error cuadrático medio y corresponde a una métrica que evalua el riesgo de error del modelo. \n",
    "Si $\\hat{y}_i$ es el valor predicho de la muestra $i_{esima}$ y $y_i$ es la medida de esa misma muestra, entonces el error cuadrático medio (MSE) sobre un número de muestras $n_{samples}$ está definido por:\n",
    "$$\\text{MSE}(y, \\hat{y}) = \\frac{1}{n_\\text{samples}} \\sum_{i=0}^{n_\\text{samples} - 1} (y_i - \\hat{y}_i)^2$$"
   ]
  },
  {
   "cell_type": "code",
   "execution_count": 6,
   "metadata": {},
   "outputs": [
    {
     "data": {
      "text/plain": [
       "0.01168994115149349"
      ]
     },
     "execution_count": 6,
     "metadata": {},
     "output_type": "execute_result"
    }
   ],
   "source": [
    "from sklearn.metrics import mean_squared_error\n",
    "mean_squared_error(yprop, ypred)"
   ]
  },
  {
   "cell_type": "markdown",
   "metadata": {},
   "source": [
    "<p style=\"text-align:justify\"><div class=\"alert alert-success\">\n",
    "\n",
    "## <font color=black> Error logarítmico cuadrático medio (mean_squared_log_error)\n",
    "<font color=black> La función mean_squared_log_error calcula el error logarítmico cuadrático medio y corresponde a una métrica que evalua el riesgo de error del modelo, especialmente cuando la respuesta tiene un crecimiento exponencial con la variable independiente o predictores. \n",
    "Si $\\hat{y}_i$ es el valor predicho de la muestra $i_{esima}$ y $y_i$ es la medida de esa misma muestra, entonces el error logarítmico cuadrático medio (MSLE) sobre un número de muestras $n_{samples}$ está definido por:\n",
    "$$\\text{MSLE}(y, \\hat{y}) = \\frac{1}{n_\\text{samples}} \\sum_{i=0}^{n_\\text{samples} - 1} (\\log_e (1 + y_i) - \\log_e (1 + \\hat{y}_i) )^2$$"
   ]
  },
  {
   "cell_type": "code",
   "execution_count": 7,
   "metadata": {},
   "outputs": [
    {
     "data": {
      "text/plain": [
       "0.0002272178874529681"
      ]
     },
     "execution_count": 7,
     "metadata": {},
     "output_type": "execute_result"
    }
   ],
   "source": [
    "from sklearn.metrics import mean_squared_log_error\n",
    "mean_squared_log_error(yprop, ypred)"
   ]
  },
  {
   "cell_type": "markdown",
   "metadata": {},
   "source": [
    "<p style=\"text-align:justify\"><div class=\"alert alert-success\">\n",
    "\n",
    "## <font color=black> Coeficiente de determinación (r2_score)\n",
    "<font color=black> El coeficiente de determinación, que puntualiza la regresión, conocido com $R^2$, representa la proporción de varianza (de $y$) que ha sido explicada por la(s) variables independientes del modelo.  Por ello esta métrica provee una buena indicación del ajuste y por lo tanto, es una medida de que tan probable es que el modelo prediga las muestras desconocidas, a través de la proporción de la varianza explicada. $R^2$ con valores cercanos a 1 (incluso negativo) indica un mejor ajuste del modelo y por el contrario su cercanía a cero indicaría lo contrario.\n",
    "Si $\\hat{y}_i$ es el valor predicho de la muestra $i_{esima}$ y $y_i$ es la medida de esa misma muestra, entonces la estimación del $R^2$ sobre un número de $n_{samples}$ muestras, está definido por:\n",
    "$$R^2(y, \\hat{y}) = 1 - \\frac{\\sum_{i=1}^{n} (y_i - \\hat{y}_i)^2}{\\sum_{i=1}^{n} (y_i - \\bar{y})^2}$$\n",
    "\n",
    "<font color=black> Donde $\\bar{y} = \\frac{1}{n} \\sum_{i=1}^{n} y_i$ y $\\sum_{i=1}^{n} (y_i - \\hat{y}_i)^2 = \\sum_{i=1}^{n} \\epsilon_i^2$"
   ]
  },
  {
   "cell_type": "code",
   "execution_count": 8,
   "metadata": {},
   "outputs": [
    {
     "data": {
      "text/plain": [
       "0.9979061828979205"
      ]
     },
     "execution_count": 8,
     "metadata": {},
     "output_type": "execute_result"
    }
   ],
   "source": [
    "from sklearn.metrics import r2_score\n",
    "\n",
    "r2_score(yprop, ypred)"
   ]
  },
  {
   "cell_type": "markdown",
   "metadata": {},
   "source": [
    "**<font color=blue> Vamos  atilizar para este ejemplo dos archivos en formato de Matlab que contienen (espectros.mat), el primero, las intensidades de espectros FTIR de 82 crudos colombianos y el segundo (propiedad.mat) el valor medido de una propiedad de dichos crudos.** "
   ]
  },
  {
   "cell_type": "code",
   "execution_count": 4,
   "metadata": {},
   "outputs": [],
   "source": [
    "espectros = scipy.io.loadmat('C:/Users/Enrique Mejia/Documents/Análisis_Interpretación_Datos/Datos/espectros.mat')# este archivo contiene las intensidades de\n",
    "# 82 espectros FTIR de crudos colombianos y será utilizados como ejemplo en esta sección\n",
    "# del curso\n",
    "propiedad = scipy.io.loadmat('C:/Users/Enrique Mejia/Documents/Análisis_Interpretación_Datos/Datos/propiedad.mat')#Medida de asci de los crudos a los que corresponden los espectros\n",
    "#ftir"
   ]
  },
  {
   "cell_type": "markdown",
   "metadata": {},
   "source": [
    "<p style=\"text-align:justify\"><div class=\"alert alert-success\">\n",
    "\n",
    "**<font color=black> Scikit Learn es la biblioteca favorita en Python para realizar muchas operaciones en Machine Learning especialmente porque contiene varios métodos de tratamiento de datos entre ellos se destacan los métodos para dividir los datos en el conjunto de entrenamiento, pruebas y validación. Los más populares son:**\n",
    "- **train_test_split - crea una sola división en un set de entranamiento y un set de prueba.**\n",
    "- **Kfold - crea k-divisones que permiten realizar validación cruzada**\n",
    "- **StratifiedKFold - crea k-divisiones considerando la distribución de la variable dependiente**\n",
    "- **cross_val_score - evalua el modelo a través de validación cruzada**"
   ]
  },
  {
   "cell_type": "markdown",
   "metadata": {},
   "source": [
    "**<font color=orange> Los archivos de matlab (*.mat) son archivos estructurados que continen diversa información, dentro de esa información escogemos la que nos interesa, en este caso el arreglo \"espectros\" en el primer archivo y el arreglo \"propiedades\" en el segundo. Las intensidades de los espectros son los predictores y la propiedad es la variable respuesta. Posteriormente separamos las muestras en dos grupos utilizando la función train_test_split, uno será el grupo de entrenamiento y el otro el grupo de prueba del modelo.  Para el ejemplo la separación se hará de manera randómica escogiendo el 80% para entrenar y el 20% para probar.** "
   ]
  },
  {
   "cell_type": "code",
   "execution_count": 5,
   "metadata": {},
   "outputs": [
    {
     "data": {
      "text/plain": [
       "((83, 1), (82, 7468))"
      ]
     },
     "execution_count": 5,
     "metadata": {},
     "output_type": "execute_result"
    }
   ],
   "source": [
    "propiedad['propiedades'].shape, espectros['espectros'].shape"
   ]
  },
  {
   "cell_type": "code",
   "execution_count": 12,
   "metadata": {},
   "outputs": [],
   "source": [
    "yprop=propiedad['propiedades']\n",
    "xftir=espectros['espectros']\n",
    "xftir=np.transpose(xftir)# usamos la transpuesta del archivo\n",
    "X_train, X_test, y_train, y_test = train_test_split(xftir, yprop, train_size=0.8, random_state=4, shuffle= True)"
   ]
  },
  {
   "cell_type": "code",
   "execution_count": 27,
   "metadata": {},
   "outputs": [
    {
     "data": {
      "text/plain": [
       "((66, 7468), (17, 7468), (66, 1), (17, 1))"
      ]
     },
     "execution_count": 27,
     "metadata": {},
     "output_type": "execute_result"
    }
   ],
   "source": [
    "X_train.shape, X_test.shape, y_train.shape, y_test.shape"
   ]
  },
  {
   "cell_type": "markdown",
   "metadata": {},
   "source": [
    "**<font color=blue> Se realizará un sencillo pre-procesamiento a los espectros, para este ejemplo, podemos escalar los datos con la función StandardScaler o Normalizar con la función Normalizer.  Escogeremos alguna de las dos y luego hacemos la Regresión lineal.** "
   ]
  },
  {
   "cell_type": "code",
   "execution_count": 13,
   "metadata": {},
   "outputs": [],
   "source": [
    "#normalizamos los datos\n",
    "scaler=StandardScaler()\n",
    "norma=Normalizer()\n",
    "\n",
    "scaler.fit(X_train) # calculo la media para poder hacer la transformacion\n",
    "X_scaled=scaler.transform(X_train)# Ahora si, escalo los datos y los normalizo\n",
    "X_norm = preprocessing.normalize(X_train, norm='l1')# Normaliza los datos\n",
    "X_norm1 = savgol_filter(X_norm, 17, polyorder=2, deriv=2) # Realiza segunda derivada de los datos\n",
    "X_scaled_test=scaler.transform(X_test)# Ahora si, escalo los datos y los normalizo\n",
    "X_norm_test = preprocessing.normalize(X_test, norm='l1')# Normaliza los datos\n",
    "X_norm1_test = savgol_filter(X_norm_test, 17, polyorder=2, deriv=2)"
   ]
  },
  {
   "cell_type": "markdown",
   "metadata": {},
   "source": [
    "**<font color=green> Ahora realizamos el modelo de regresión lineal utilizando el grupo de entrenamiento y graficamos el resultado en terminos de los datos de calibración.** "
   ]
  },
  {
   "cell_type": "code",
   "execution_count": 19,
   "metadata": {},
   "outputs": [
    {
     "data": {
      "image/png": "[encoded data removed]",
      "text/plain": [
       "<Figure size 432x288 with 1 Axes>"
      ]
     },
     "metadata": {
      "needs_background": "light"
     },
     "output_type": "display_data"
    }
   ],
   "source": [
    "from sklearn.cross_decomposition import PLSRegression\n",
    "pls2 = PLSRegression(n_components=10)\n",
    "#pls2.fit(X_norm, y_train)\n",
    "pls2.fit(X_norm, y_train)\n",
    "#PLSRegression()\n",
    "Y_pred = pls2.predict(X_norm)\n",
    "Y_pred_test = pls2.predict(X_norm_test)\n",
    "fig, ax = plt.subplots()\n",
    "ax.scatter(y_train, Y_pred, edgecolors=(0, 0, 0))\n",
    "ax.scatter(y_test, Y_pred_test, color='red', edgecolors=(0, 0, 0))\n",
    "ax.plot([y_train.min(), y_train.max()], [y_train.min(), y_train.max()], 'k--', lw=3)\n",
    "ax.text(16,8, r\"$mse = \"+str(round(mean_squared_error(y_test, Y_pred_test), 2))+r\"$\", fontsize=12, color=\"black\")\n",
    "ax.text(16,6.5, r\"$r^2 = \"+str(round(r2_score(y_test, Y_pred_test), 2))+r\"$\", fontsize=12, color=\"black\")\n",
    "ax.set_xlabel('Measured')\n",
    "ax.set_ylabel('Predicted')\n",
    "plt.show()\n",
    "#print('MSE = ' + str(round(mean_squared_error(y_test, Y_pred_test), 2)))"
   ]
  },
  {
   "cell_type": "code",
   "execution_count": 20,
   "metadata": {},
   "outputs": [],
   "source": [
    "def optimise_pls(X, y, n_comp):\n",
    "    \n",
    "    # Definimos PLS y el número de componentes\n",
    "    pls2 = PLSRegression(n_components=n_comp)\n",
    "    #pls2 = PLSRegression(n_components=10)\n",
    "    pls2.fit(X, y)\n",
    "    Y_pred = pls2.predict(X)\n",
    "    # Calculamos métricas\n",
    "    r2 = r2_score(y, Y_pred)\n",
    "    mse = mean_squared_error(y, Y_pred)\n",
    "    rpd = y.std()/np.sqrt(mse)\n",
    "    \n",
    "    return (Y_pred, r2, mse, rpd)"
   ]
  },
  {
   "cell_type": "code",
   "execution_count": 21,
   "metadata": {},
   "outputs": [],
   "source": [
    "# test with 40 components\n",
    "r2s = []\n",
    "mses = []\n",
    "rpds = []\n",
    "arr_comp = np.arange(1, 31)\n",
    "for n_comp in arr_comp:\n",
    "    Y_pred, r2, mse, rpd = optimise_pls(X_norm, y_train, n_comp)\n",
    "    r2s.append(r2)\n",
    "    mses.append(mse)\n",
    "    rpds.append(rpd)"
   ]
  },
  {
   "cell_type": "code",
   "execution_count": 22,
   "metadata": {},
   "outputs": [
    {
     "data": {
      "image/png": "[encoded data removed]",
      "text/plain": [
       "<Figure size 432x288 with 2 Axes>"
      ]
     },
     "metadata": {
      "needs_background": "light"
     },
     "output_type": "display_data"
    }
   ],
   "source": [
    "fig, (ax1, ax2) = plt.subplots(2, 1)\n",
    "ax1.scatter(arr_comp, r2s, edgecolors=(0, 0, 0))\n",
    "ax1.plot(arr_comp, r2s, 'k-')\n",
    "ax1.plot(arr_comp[np.argmax(r2s)], np.array(r2s)[np.argmax(r2s)], 'o', ms=8, mfc='red')\n",
    "ax1.set_xlabel('Number of PLS components')\n",
    "ax1.set_ylabel('$R^2$')\n",
    "\n",
    "ax2.scatter(arr_comp, mses, color='yellow', edgecolors=(0, 0, 0))\n",
    "ax2.plot(arr_comp, mses, 'k-')\n",
    "ax2.plot(arr_comp[np.argmin(mses)], np.array(mses)[np.argmin(mses)], 'o', ms=8, mfc='orange')\n",
    "ax2.set_xlabel('Number of PLS components')\n",
    "ax2.set_ylabel('$MSE$')\n",
    "plt.show()"
   ]
  },
  {
   "cell_type": "code",
   "execution_count": 124,
   "metadata": {},
   "outputs": [
    {
     "name": "stdout",
     "output_type": "stream",
     "text": [
      "Folds: 10, MSE: 6.739740816368233, STD: 5.9387826522326685\n"
     ]
    }
   ],
   "source": [
    "model=pls2.fit(X_norm, y_train)\n",
    "from sklearn.model_selection import cross_val_score\n",
    "from sklearn.model_selection import LeaveOneOut, StratifiedKFold, train_test_split, cross_validate, cross_val_score\n",
    "loo = LeaveOneOut()\n",
    "#X = df1['horsepower'].values.reshape(-1,1)\n",
    "#y = df1['mpg'].values.reshape(-1,1)\n",
    "loo.get_n_splits(X_norm)\n",
    "from sklearn.model_selection import KFold\n",
    "\n",
    "crossvalidation = KFold(n_splits=10, random_state=None, shuffle=False)\n",
    "\n",
    "scores = cross_val_score(model, X_norm, y_train, scoring=\"neg_mean_squared_error\", cv=crossvalidation,\n",
    " n_jobs=1)\n",
    "\n",
    "print(\"Folds: \" + str(len(scores)) + \", MSE: \" + str(np.mean(np.abs(scores))) + \", STD: \" + str(np.std(scores)))"
   ]
  },
  {
   "cell_type": "code",
   "execution_count": 125,
   "metadata": {},
   "outputs": [],
   "source": [
    "# to demonstrate how the data are split, we will create 3 and 5 folds. \n",
    "# KFold function has to be applied on the data and it returns an location (index) of the train and test samples.\n",
    "kf5 = KFold(n_splits=5, shuffle=False)\n",
    "kf3 = KFold(n_splits=3, shuffle=False)"
   ]
  },
  {
   "cell_type": "code",
   "execution_count": 126,
   "metadata": {},
   "outputs": [
    {
     "name": "stdout",
     "output_type": "stream",
     "text": [
      "[28 29 30 31 32 33 34 35 36 37 38 39 40 41 42 43 44 45 46 47 48 49 50 51\n",
      " 52 53 54 55 56 57 58 59 60 61 62 63 64 65 66 67 68 69 70 71 72 73 74 75\n",
      " 76 77 78 79 80 81 82] [ 0  1  2  3  4  5  6  7  8  9 10 11 12 13 14 15 16 17 18 19 20 21 22 23\n",
      " 24 25 26 27]\n",
      "[ 0  1  2  3  4  5  6  7  8  9 10 11 12 13 14 15 16 17 18 19 20 21 22 23\n",
      " 24 25 26 27 56 57 58 59 60 61 62 63 64 65 66 67 68 69 70 71 72 73 74 75\n",
      " 76 77 78 79 80 81 82] [28 29 30 31 32 33 34 35 36 37 38 39 40 41 42 43 44 45 46 47 48 49 50 51\n",
      " 52 53 54 55]\n",
      "[ 0  1  2  3  4  5  6  7  8  9 10 11 12 13 14 15 16 17 18 19 20 21 22 23\n",
      " 24 25 26 27 28 29 30 31 32 33 34 35 36 37 38 39 40 41 42 43 44 45 46 47\n",
      " 48 49 50 51 52 53 54 55] [56 57 58 59 60 61 62 63 64 65 66 67 68 69 70 71 72 73 74 75 76 77 78 79\n",
      " 80 81 82]\n"
     ]
    }
   ],
   "source": [
    "# the Kfold function retunrs the indices of the data. Our range goes from 1-25 so the index is 0-24\n",
    "for train_index, test_index in kf3.split(yprop):\n",
    "    print(train_index, test_index)"
   ]
  },
  {
   "cell_type": "code",
   "execution_count": 127,
   "metadata": {},
   "outputs": [
    {
     "name": "stdout",
     "output_type": "stream",
     "text": [
      "[0.01225536 0.01229481 0.01228755 0.01223893 0.01216186 0.01207684\n",
      " 0.01201882 0.01202307 0.01211627 0.01229574 0.01252352 0.01274327\n",
      " 0.01291152 0.0130285  0.01313195 0.01327425 0.01348852 0.01376589\n",
      " 0.01406099 0.01430127 0.01442255 0.01439443 0.01423829 0.01402098\n",
      " 0.01383022 0.01373439 0.01375833 0.01387653 0.01403032 0.01415401\n",
      " 0.01420186 0.01415753 0.0140353  0.01386417 0.01367473 0.0134851\n",
      " 0.0133027  0.01312796 0.0129677  0.01283344 0.01274589 0.01272142\n",
      " 0.01276876 0.01288465 0.01306124 0.01328983 0.01356689 0.01389048\n",
      " 0.0142535  0.01463543 0.01500353 0.01531753 0.01554325 0.01566158\n",
      " 0.01567492] [0.0110966  0.01119915 0.01098486 0.01054341 0.01002245 0.00955765\n",
      " 0.00923784 0.00908481 0.0090711  0.00914556 0.00926567 0.00940403\n",
      " 0.00954942 0.00968954 0.00981006 0.00989108 0.00992538 0.00992208\n",
      " 0.00991754 0.00995951 0.01009289 0.01033649 0.01067365 0.01105651\n",
      " 0.01143135 0.01175163 0.01199488 0.01215925]\n",
      "[0.0110966  0.01119915 0.01098486 0.01054341 0.01002245 0.00955765\n",
      " 0.00923784 0.00908481 0.0090711  0.00914556 0.00926567 0.00940403\n",
      " 0.00954942 0.00968954 0.00981006 0.00989108 0.00992538 0.00992208\n",
      " 0.00991754 0.00995951 0.01009289 0.01033649 0.01067365 0.01105651\n",
      " 0.01143135 0.01175163 0.01199488 0.01215925 0.01403032 0.01415401\n",
      " 0.01420186 0.01415753 0.0140353  0.01386417 0.01367473 0.0134851\n",
      " 0.0133027  0.01312796 0.0129677  0.01283344 0.01274589 0.01272142\n",
      " 0.01276876 0.01288465 0.01306124 0.01328983 0.01356689 0.01389048\n",
      " 0.0142535  0.01463543 0.01500353 0.01531753 0.01554325 0.01566158\n",
      " 0.01567492] [0.01225536 0.01229481 0.01228755 0.01223893 0.01216186 0.01207684\n",
      " 0.01201882 0.01202307 0.01211627 0.01229574 0.01252352 0.01274327\n",
      " 0.01291152 0.0130285  0.01313195 0.01327425 0.01348852 0.01376589\n",
      " 0.01406099 0.01430127 0.01442255 0.01439443 0.01423829 0.01402098\n",
      " 0.01383022 0.01373439 0.01375833 0.01387653]\n",
      "[0.0110966  0.01119915 0.01098486 0.01054341 0.01002245 0.00955765\n",
      " 0.00923784 0.00908481 0.0090711  0.00914556 0.00926567 0.00940403\n",
      " 0.00954942 0.00968954 0.00981006 0.00989108 0.00992538 0.00992208\n",
      " 0.00991754 0.00995951 0.01009289 0.01033649 0.01067365 0.01105651\n",
      " 0.01143135 0.01175163 0.01199488 0.01215925 0.01225536 0.01229481\n",
      " 0.01228755 0.01223893 0.01216186 0.01207684 0.01201882 0.01202307\n",
      " 0.01211627 0.01229574 0.01252352 0.01274327 0.01291152 0.0130285\n",
      " 0.01313195 0.01327425 0.01348852 0.01376589 0.01406099 0.01430127\n",
      " 0.01442255 0.01439443 0.01423829 0.01402098 0.01383022 0.01373439\n",
      " 0.01375833 0.01387653] [0.01403032 0.01415401 0.01420186 0.01415753 0.0140353  0.01386417\n",
      " 0.01367473 0.0134851  0.0133027  0.01312796 0.0129677  0.01283344\n",
      " 0.01274589 0.01272142 0.01276876 0.01288465 0.01306124 0.01328983\n",
      " 0.01356689 0.01389048 0.0142535  0.01463543 0.01500353 0.01531753\n",
      " 0.01554325 0.01566158 0.01567492]\n"
     ]
    }
   ],
   "source": [
    "# to get the values from our data, we use np.take() to access a value at particular index\n",
    "for train_index, test_index in kf3.split(xftir):\n",
    "    print(np.take(xftir,train_index), np.take(xftir,test_index))"
   ]
  },
  {
   "cell_type": "code",
   "execution_count": 128,
   "metadata": {},
   "outputs": [
    {
     "name": "stdout",
     "output_type": "stream",
     "text": [
      "[20 16 13 15 13 14 13  5 11 12 18 15 17 16 17 12 17  8 17 17 17 17  6 17\n",
      " 12 15 14 20 20 11 16 17 17 13 15 16 15 14 15 10 20 14 20 10  9 13 11 12\n",
      " 13  8 10  9 11 12 11] [10 10 13 11 11 14 10 14 16 18 16 12 15 17 10 12 12 12 15 19 15 11 12 17\n",
      " 11 11 16 19]\n",
      "[10 10 13 11 11 14 10 14 16 18 16 12 15 17 10 12 12 12 15 19 15 11 12 17\n",
      " 11 11 16 19 20 11 16 17 17 13 15 16 15 14 15 10 20 14 20 10  9 13 11 12\n",
      " 13  8 10  9 11 12 11] [20 16 13 15 13 14 13  5 11 12 18 15 17 16 17 12 17  8 17 17 17 17  6 17\n",
      " 12 15 14 20]\n",
      "[10 10 13 11 11 14 10 14 16 18 16 12 15 17 10 12 12 12 15 19 15 11 12 17\n",
      " 11 11 16 19 20 16 13 15 13 14 13  5 11 12 18 15 17 16 17 12 17  8 17 17\n",
      " 17 17  6 17 12 15 14 20] [20 11 16 17 17 13 15 16 15 14 15 10 20 14 20 10  9 13 11 12 13  8 10  9\n",
      " 11 12 11]\n"
     ]
    }
   ],
   "source": [
    "# to get the values from our data, we use np.take() to access a value at particular index\n",
    "for train_index, test_index in kf3.split(xftir):\n",
    "    print(np.take(yprop,train_index), np.take(yprop,test_index))"
   ]
  },
  {
   "cell_type": "code",
   "execution_count": 147,
   "metadata": {},
   "outputs": [
    {
     "name": "stdout",
     "output_type": "stream",
     "text": [
      "MSE. 1 on the test set: 3.3775815076188556\n",
      "R2. 1 on the test set: 0.2183311368082076\n",
      "MSE. 2 on the test set: 17.93385490757357\n",
      "R2. 2 on the test set: -1.6220979196993843\n",
      "MSE. 3 on the test set: 3.8526180357752255\n",
      "R2. 3 on the test set: 0.5108745126993836\n",
      "MSE. 4 on the test set: 1.0229832728491182\n",
      "R2. 4 on the test set: 0.8480952912706645\n",
      "MSE. 5 on the test set: 15.632679966533455\n",
      "R2. 5 on the test set: 0.0588038402087101\n",
      "MSE. 6 on the test set: 6.0348300752962505\n",
      "R2. 6 on the test set: 0.6757102226541057\n",
      "MSE. 7 on the test set: 7.3807309473071205\n",
      "R2. 7 on the test set: 0.2417868689764756\n",
      "MSE. 8 on the test set: 12.673388456623318\n",
      "R2. 8 on the test set: -6.510156122443448\n",
      "MSE. 9 on the test set: 11.212062334754334\n",
      "R2. 9 on the test set: 0.3398601753226519\n",
      "MSE. 10 on the test set: 8.075776948052738\n",
      "R2. 10 on the test set: -2.3131392607395846\n"
     ]
    }
   ],
   "source": [
    "from sklearn.metrics import accuracy_score, classification_report\n",
    "from sklearn.linear_model import LogisticRegression\n",
    "kf5 = KFold(n_splits=10, shuffle=False)\n",
    "xftir_norm = preprocessing.normalize(xftir, norm='l1')# Normaliza los datos\n",
    "#model = LogisticRegression(solver=\"liblinear\", multi_class=\"auto\")\n",
    "model1=PLSRegression(n_components=10)\n",
    "i = 1\n",
    "for train_index, test_index in kf5.split(xftir_norm):\n",
    "    X_train = xftir_norm[train_index]\n",
    "    X_test = xftir_norm[test_index]\n",
    "    y_train = yprop[train_index]\n",
    "    y_test = yprop[test_index]\n",
    "        \n",
    "    #Train the model\n",
    "    model1.fit(X_train, y_train) #Training the model\n",
    "    print(f\"MSE. {i} on the test set: {mean_squared_error(y_test, model1.predict(X_test))}\")\n",
    "    print(f\"R2. {i} on the test set: {r2_score(y_test, model1.predict(X_test))}\")\n",
    "    #print(train_index)\n",
    "    #print(X_train)\n",
    "    i += 1"
   ]
  },
  {
   "cell_type": "code",
   "execution_count": 143,
   "metadata": {},
   "outputs": [
    {
     "name": "stdout",
     "output_type": "stream",
     "text": [
      "Accuracy for the fold no. 0 on the test set: 0.2183311368082076\n",
      "Accuracy for the fold no. 1 on the test set: -1.6220979196993843\n",
      "Accuracy for the fold no. 2 on the test set: 0.5108745126993836\n",
      "Accuracy for the fold no. 3 on the test set: 0.8480952912706645\n",
      "Accuracy for the fold no. 4 on the test set: 0.0588038402087101\n",
      "Accuracy for the fold no. 5 on the test set: 0.6757102226541057\n",
      "Accuracy for the fold no. 6 on the test set: 0.2417868689764756\n",
      "Accuracy for the fold no. 7 on the test set: -6.510156122443448\n",
      "Accuracy for the fold no. 8 on the test set: 0.3398601753226519\n",
      "Accuracy for the fold no. 9 on the test set: -2.3131392607395846\n"
     ]
    }
   ],
   "source": [
    "# cross_validate allow to specify metrics which you want to see\n",
    "for i, score in enumerate(cross_validate(model1, xftir_norm,yprop, cv=10)[\"test_score\"]):\n",
    "    print(f\"Accuracy for the fold no. {i} on the test set: {score}\")"
   ]
  },
  {
   "cell_type": "code",
   "execution_count": 75,
   "metadata": {},
   "outputs": [],
   "source": [
    "%matplotlib inline\n",
    "import pandas as pd\n",
    "import numpy as np\n",
    "import itertools\n",
    "import time\n",
    "import statsmodels.api as sm\n",
    "import matplotlib.pyplot as plt"
   ]
  },
  {
   "cell_type": "code",
   "execution_count": 158,
   "metadata": {},
   "outputs": [],
   "source": [
    "X=pd.DataFrame(X_norm)\n",
    "y= pd.DataFrame(y_train)\n",
    "\n",
    "def processSubset(feature_set):\n",
    "    # Fit model on feature_set and calculate RSS\n",
    "    model = sm.OLS(y, X)\n",
    "    regr = model.fit()\n",
    "    RSS = ((regr.predict(X) - y) ** 2).sum()\n",
    "    return {\"model\":regr, \"RSS\":RSS}"
   ]
  },
  {
   "cell_type": "code",
   "execution_count": 159,
   "metadata": {},
   "outputs": [],
   "source": [
    "def getBest(k):\n",
    "    \n",
    "    tic = time.time()\n",
    "    \n",
    "    results = []\n",
    "    \n",
    "    for combo in itertools.combinations(X.columns, k):\n",
    "        results.append(processSubset(combo))\n",
    "    \n",
    "    # Wrap everything up in a nice dataframe\n",
    "    models = pd.DataFrame(results)\n",
    "    \n",
    "    # Choose the model with the highest RSS\n",
    "    best_model = models.loc[models['RSS'].argmin()]\n",
    "    \n",
    "    toc = time.time()\n",
    "    print(\"Processed\", models.shape[0], \"models on\", k, \"predictors in\", (toc-tic), \"seconds.\")\n",
    "    \n",
    "    # Return the best model, along with some other useful information about the model\n",
    "    return best_model"
   ]
  },
  {
   "cell_type": "code",
   "execution_count": null,
   "metadata": {},
   "outputs": [],
   "source": [
    "# Could take quite awhile to complete...\n",
    "\n",
    "models_best = pd.DataFrame(columns=[\"RSS\", \"model\"])\n",
    "\n",
    "tic = time.time()\n",
    "for i in range(1,8):\n",
    "    models_best.loc[i] = getBest(i)\n",
    "\n",
    "toc = time.time()\n",
    "print(\"Total elapsed time:\", (toc-tic), \"seconds.\")"
   ]
  },
  {
   "cell_type": "code",
   "execution_count": 114,
   "metadata": {},
   "outputs": [
    {
     "data": {
      "image/png": "[encoded data removed]",
      "text/plain": [
       "<Figure size 432x288 with 1 Axes>"
      ]
     },
     "metadata": {
      "needs_background": "light"
     },
     "output_type": "display_data"
    }
   ],
   "source": [
    "lr = PLSRegression(n_components=10)\n",
    "\n",
    "# cross_val_predict returns an array of the same size as `y` where each entry\n",
    "# is a prediction obtained by cross validation:\n",
    "predicted = cross_val_predict(lr, X_norm, y_train, cv=10)\n",
    "\n",
    "fig, ax = plt.subplots()\n",
    "ax.scatter(y_train, predicted, edgecolors=(0, 0, 0))\n",
    "ax.plot([y_train.min(), y_train.max()], [y_train.min(), y_train.max()], 'k--', lw=4)\n",
    "ax.set_xlabel('Measured')\n",
    "ax.set_ylabel('Predicted')\n",
    "plt.show()"
   ]
  },
  {
   "cell_type": "markdown",
   "metadata": {},
   "source": [
    "**<font color=green> Ahora podemos hacer una optimización variando el número de componentes y verificando cual tiene un mejor comportamiento.** "
   ]
  },
  {
   "cell_type": "code",
   "execution_count": 40,
   "metadata": {},
   "outputs": [],
   "source": [
    "def optimise_pls_cv(X, y, n_comp):\n",
    "    \n",
    "    # Definimos PLS y el número de componentes\n",
    "    pls = PLSRegression(n_components=n_comp)\n",
    "    # Cross-validation\n",
    "    y_cv = cross_val_predict(pls, X, y, cv=10)\n",
    "    # Calculamos métricas\n",
    "    r2 = r2_score(y, y_cv)\n",
    "    mse = mean_squared_error(y, y_cv)\n",
    "    rpd = y.std()/np.sqrt(mse)\n",
    "    \n",
    "    return (y_cv, r2, mse, rpd)"
   ]
  },
  {
   "cell_type": "code",
   "execution_count": 81,
   "metadata": {},
   "outputs": [],
   "source": [
    "# test with 40 components\n",
    "r2s = []\n",
    "mses = []\n",
    "rpds = []\n",
    "arr_comp = np.arange(1, 41)\n",
    "for n_comp in arr_comp:\n",
    "    y_cv, r2, mse, rpd = optimise_pls_cv(X_norm, y_train, n_comp)\n",
    "    r2s.append(r2)\n",
    "    mses.append(mse)\n",
    "    rpds.append(rpd)"
   ]
  },
  {
   "cell_type": "code",
   "execution_count": 108,
   "metadata": {},
   "outputs": [
    {
     "data": {
      "image/png": "[encoded data removed]",
      "text/plain": [
       "<Figure size 432x288 with 1 Axes>"
      ]
     },
     "metadata": {
      "needs_background": "light"
     },
     "output_type": "display_data"
    }
   ],
   "source": [
    "fig, ax = plt.subplots()\n",
    "ax.scatter(arr_comp, r2s, edgecolors=(0, 0, 0))\n",
    "ax.plot(arr_comp, r2s, 'k-')\n",
    "plt.plot(arr_comp[np.argmax(r2s)], np.array(r2s)[np.argmax(r2s)], 'o', ms=8, mfc='red')\n",
    "ax.set_xlabel('Number of PLS components')\n",
    "ax.set_ylabel('$R^2$')\n",
    "plt.show()"
   ]
  },
  {
   "cell_type": "code",
   "execution_count": 104,
   "metadata": {},
   "outputs": [
    {
     "data": {
      "text/plain": [
       "(9, 0.3152058066689315)"
      ]
     },
     "execution_count": 104,
     "metadata": {},
     "output_type": "execute_result"
    }
   ],
   "source": [
    "np.argmax(r2s), np.array(r2s)[9]"
   ]
  },
  {
   "cell_type": "code",
   "execution_count": 95,
   "metadata": {},
   "outputs": [],
   "source": [
    "# Plot the mses\n",
    "def plot_metrics(vals, ylabel, objective):\n",
    "    with plt.style.context('ggplot'):\n",
    "        plt.plot(xticks, np.array(vals), '-v', color='blue', mfc='blue')\n",
    "        if objective=='min':\n",
    "            idx = np.argmin(vals)\n",
    "        else:\n",
    "            idx = np.argmax(vals)\n",
    "        plt.plot(xticks[idx], np.array(vals)[idx], 'P', ms=20, mfc='red')\n",
    "\n",
    "        plt.xlabel('Number of PLS components')\n",
    "        plt.xticks = xticks\n",
    "        plt.ylabel(ylabel)\n",
    "        plt.title('PLS')\n",
    "\n",
    "    plt.show()"
   ]
  },
  {
   "cell_type": "code",
   "execution_count": 96,
   "metadata": {},
   "outputs": [
    {
     "data": {
      "image/png": "[encoded data removed]",
      "text/plain": [
       "<Figure size 432x288 with 1 Axes>"
      ]
     },
     "metadata": {},
     "output_type": "display_data"
    }
   ],
   "source": [
    "plot_metrics(mses, 'MSE', 'min')"
   ]
  },
  {
   "cell_type": "code",
   "execution_count": 134,
   "metadata": {},
   "outputs": [
    {
     "name": "stdout",
     "output_type": "stream",
     "text": [
      "Coefficients: \n",
      " [[-24.01761989  -9.66088461  -1.28220081 ...   3.68542102   3.77278447\n",
      "    3.74716891]]\n",
      "Mean squared error: 9.86\n",
      "Coefficient of determination: 0.30\n"
     ]
    },
    {
     "data": {
      "image/png": "[encoded data removed]",
      "text/plain": [
       "<Figure size 432x288 with 1 Axes>"
      ]
     },
     "metadata": {
      "needs_background": "light"
     },
     "output_type": "display_data"
    }
   ],
   "source": [
    "# Create linear regression object\n",
    "regr = linear_model.LinearRegression()\n",
    "\n",
    "# Train the model using the training sets\n",
    "regr.fit(X_train, y_train)\n",
    "\n",
    "# Make predictions using the testing set\n",
    "y_pred = regr.predict(X_test)\n",
    "\n",
    "# The coefficients\n",
    "print('Coefficients: \\n', regr.coef_)\n",
    "# The mean squared error\n",
    "print('Mean squared error: %.2f' % skm.mean_squared_error(y_test, y_pred))\n",
    "# The coefficient of determination: 1 is perfect prediction\n",
    "print('Coefficient of determination: %.2f' % skm.r2_score(y_test, y_pred))\n",
    "\n",
    "# Plot outputs\n",
    "#plt.scatter(X_test, y_test,  color='black')\n",
    "plt.scatter(y_test, y_pred, color='blue')#, linewidth=3)\n",
    "\n",
    "#plt.xticks(())\n",
    "#plt.yticks(())\n",
    "\n",
    "plt.show()"
   ]
  },
  {
   "cell_type": "code",
   "execution_count": 169,
   "metadata": {},
   "outputs": [
    {
     "data": {
      "text/plain": [
       "array([[4.04010532e-03, 4.07743996e-03, 3.99942028e-03, ...,\n",
       "        2.73500928e-03, 2.73154934e-03, 2.72853590e-03],\n",
       "       [4.49768975e-03, 4.50431950e-03, 4.49091687e-03, ...,\n",
       "        1.43321849e-03, 1.43384360e-03, 1.43415616e-03],\n",
       "       [6.35550259e-03, 6.21829789e-03, 6.08268070e-03, ...,\n",
       "        4.33377541e-07, 2.02243940e-06, 4.33383264e-06],\n",
       "       ...,\n",
       "       [4.44339065e-03, 4.68660055e-03, 5.03582584e-03, ...,\n",
       "        3.62643146e-03, 3.62837838e-03, 3.63071195e-03],\n",
       "       [4.09183933e-03, 4.58934495e-03, 5.02455629e-03, ...,\n",
       "        1.42324836e-03, 1.42156251e-03, 1.41925008e-03],\n",
       "       [9.88788417e-03, 9.91320529e-03, 9.85474698e-03, ...,\n",
       "        2.60573202e-06, 1.35950517e-06, 0.00000000e+00]])"
      ]
     },
     "execution_count": 169,
     "metadata": {},
     "output_type": "execute_result"
    }
   ],
   "source": [
    "X_norm"
   ]
  },
  {
   "cell_type": "code",
   "execution_count": 158,
   "metadata": {},
   "outputs": [
    {
     "name": "stdout",
     "output_type": "stream",
     "text": [
      "slope: 0.8177012741164835\n",
      "Intercept: 2.51484386911598\n",
      "r-squared: 0.8177012741164834\n",
      "std_err: 0.042898948219395876\n"
     ]
    }
   ],
   "source": [
    "XY1=pd.DataFrame(Y_pred)\n",
    "XY=pd.DataFrame(yprop)\n",
    "corr_test = scs.pearsonr(XY[0], XY1[0])\n",
    "slope, intercept, r_value, p_value, std_err = scs.linregress(XY[0], XY1[0])\n",
    "print (\"slope:\", slope)\n",
    "print (\"Intercept:\", intercept)\n",
    "print (\"r-squared:\", r_value**2)\n",
    "print (\"std_err:\", std_err)"
   ]
  },
  {
   "cell_type": "code",
   "execution_count": 67,
   "metadata": {},
   "outputs": [
    {
     "data": {
      "text/plain": [
       "((442,), (442, 10))"
      ]
     },
     "execution_count": 67,
     "metadata": {},
     "output_type": "execute_result"
    }
   ],
   "source": [
    "y.shape, X.shape"
   ]
  },
  {
   "cell_type": "code",
   "execution_count": 45,
   "metadata": {},
   "outputs": [],
   "source": [
    "# Creación del modelo utilizando matrices como en scikitlearn\n",
    "# ==============================================================================\n",
    "# A la matriz de predictores se le tiene que añadir una columna de 1s para el intercept del modelo\n",
    "X_train = sm.add_constant(X_train, prepend=True)\n",
    "modelo = sm.OLS(endog=y_train, exog=X_train,)\n",
    "modelo = modelo.fit()"
   ]
  },
  {
   "cell_type": "code",
   "execution_count": 156,
   "metadata": {},
   "outputs": [
    {
     "name": "stdout",
     "output_type": "stream",
     "text": [
      "Coefficients: \n",
      " [938.23786125]\n",
      "Mean squared error: 2548.07\n",
      "Coefficient of determination: 0.47\n"
     ]
    },
    {
     "data": {
      "image/png": "[encoded data removed]",
      "text/plain": [
       "<Figure size 432x288 with 1 Axes>"
      ]
     },
     "metadata": {},
     "output_type": "display_data"
    }
   ],
   "source": [
    "import matplotlib.pyplot as plt\n",
    "import numpy as np\n",
    "from sklearn import datasets, linear_model\n",
    "from sklearn.metrics import mean_squared_error, r2_score\n",
    "\n",
    "# Load the diabetes dataset\n",
    "diabetes_X, diabetes_y = datasets.load_diabetes(return_X_y=True)\n",
    "\n",
    "# Use only one feature\n",
    "diabetes_X = diabetes_X[:, np.newaxis, 2]\n",
    "\n",
    "# Split the data into training/testing sets\n",
    "diabetes_X_train = diabetes_X[:-20]\n",
    "diabetes_X_test = diabetes_X[-20:]\n",
    "\n",
    "# Split the targets into training/testing sets\n",
    "diabetes_y_train = diabetes_y[:-20]\n",
    "diabetes_y_test = diabetes_y[-20:]\n",
    "\n",
    "# Create linear regression object\n",
    "regr = linear_model.LinearRegression()\n",
    "\n",
    "# Train the model using the training sets\n",
    "regr.fit(diabetes_X_train, diabetes_y_train)\n",
    "\n",
    "# Make predictions using the testing set\n",
    "diabetes_y_pred = regr.predict(diabetes_X_test)\n",
    "\n",
    "# The coefficients\n",
    "print('Coefficients: \\n', regr.coef_)\n",
    "# The mean squared error\n",
    "print('Mean squared error: %.2f'\n",
    "      % mean_squared_error(diabetes_y_test, diabetes_y_pred))\n",
    "# The coefficient of determination: 1 is perfect prediction\n",
    "print('Coefficient of determination: %.2f'\n",
    "      % r2_score(diabetes_y_test, diabetes_y_pred))\n",
    "\n",
    "# Plot outputs\n",
    "plt.scatter(diabetes_X_test, diabetes_y_test,  color='black')\n",
    "plt.plot(diabetes_X_test, diabetes_y_pred, color='blue', linewidth=3)\n",
    "\n",
    "plt.xticks(())\n",
    "plt.yticks(())\n",
    "\n",
    "plt.show()"
   ]
  },
  {
   "cell_type": "code",
   "execution_count": 97,
   "metadata": {},
   "outputs": [
    {
     "name": "stdout",
     "output_type": "stream",
     "text": [
      "<class 'pandas.core.frame.DataFrame'>\n",
      "RangeIndex: 322 entries, 0 to 321\n",
      "Data columns (total 20 columns):\n",
      " #   Column     Non-Null Count  Dtype  \n",
      "---  ------     --------------  -----  \n",
      " 0   AtBat      322 non-null    int64  \n",
      " 1   Hits       322 non-null    int64  \n",
      " 2   HmRun      322 non-null    int64  \n",
      " 3   Runs       322 non-null    int64  \n",
      " 4   RBI        322 non-null    int64  \n",
      " 5   Walks      322 non-null    int64  \n",
      " 6   Years      322 non-null    int64  \n",
      " 7   CAtBat     322 non-null    int64  \n",
      " 8   CHits      322 non-null    int64  \n",
      " 9   CHmRun     322 non-null    int64  \n",
      " 10  CRuns      322 non-null    int64  \n",
      " 11  CRBI       322 non-null    int64  \n",
      " 12  CWalks     322 non-null    int64  \n",
      " 13  League     322 non-null    object \n",
      " 14  Division   322 non-null    object \n",
      " 15  PutOuts    322 non-null    int64  \n",
      " 16  Assists    322 non-null    int64  \n",
      " 17  Errors     322 non-null    int64  \n",
      " 18  Salary     263 non-null    float64\n",
      " 19  NewLeague  322 non-null    object \n",
      "dtypes: float64(1), int64(16), object(3)\n",
      "memory usage: 50.4+ KB\n"
     ]
    }
   ],
   "source": [
    "%matplotlib inline\n",
    "\n",
    "import pandas as pd\n",
    "import numpy as np\n",
    "import matplotlib.pyplot as plt\n",
    "\n",
    "from sklearn.preprocessing import scale \n",
    "from sklearn import model_selection\n",
    "from sklearn.decomposition import PCA\n",
    "from sklearn.linear_model import LinearRegression\n",
    "from sklearn.cross_decomposition import PLSRegression, PLSSVD\n",
    "from sklearn.metrics import mean_squared_error\n",
    "\n",
    "\n",
    "df = pd.read_csv('Hitters.csv')#.dropna().drop('Player', axis=1)\n",
    "df.info()\n",
    "dummies = pd.get_dummies(df[['League', 'Division', 'NewLeague']])"
   ]
  },
  {
   "cell_type": "code",
   "execution_count": null,
   "metadata": {},
   "outputs": [],
   "source": []
  },
  {
   "cell_type": "markdown",
   "metadata": {},
   "source": [
    "<p style=\"text-align:justify\"><div class=\"alert alert-success\">\n",
    "\n",
    "## <font color=black> Error absoluto promedio (mean_absolute_error)\n",
    "<font color=black> La función mean_absolute_error calcula el error absoluto medio y corresponde a una métrica que evalua el riesgo de error del modelo. \n",
    "Si $\\hat{y}_i$ es el valor predicho de la muestra $i_{esima}$ y $y_i$ es la medida de esa misma muestra, entonces el error absoluto medio (MAE) sobre un numero de muestras $n_{samples}$ está definido por:\n",
    "$$\\text{MAE}(y, \\hat{y}) = \\frac{1}{n_{\\text{samples}}} \\sum_{i=0}^{n_{\\text{samples}}-1} \\left| y_i - \\hat{y}_i \\right|$$"
   ]
  },
  {
   "cell_type": "code",
   "execution_count": null,
   "metadata": {},
   "outputs": [],
   "source": []
  }
 ],
 "metadata": {
  "kernelspec": {
   "display_name": "Python 3 (ipykernel)",
   "language": "python",
   "name": "python3"
  },
  "language_info": {
   "codemirror_mode": {
    "name": "ipython",
    "version": 3
   },
   "file_extension": ".py",
   "mimetype": "text/x-python",
   "name": "python",
   "nbconvert_exporter": "python",
   "pygments_lexer": "ipython3",
   "version": "3.9.7"
  }
 },
 "nbformat": 4,
 "nbformat_minor": 4
}
