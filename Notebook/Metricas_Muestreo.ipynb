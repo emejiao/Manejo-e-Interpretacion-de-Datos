{
 "cells": [
  {
   "cell_type": "markdown",
   "metadata": {
    "slideshow": {
     "slide_type": "slide"
    }
   },
   "source": [
    "<div class=\"alert alert-success\" role=\"alert\">\n",
    "  <h1 class=\"alert-heading\">Regresión Lineal Multivariada</h1>\n",
    "  <h3 class=\"alert-heading\">Prof. Enrique Mejía Ospino, emejia@uis.edu.co</h3>\n",
    "  <h4 class=\"alert-heading\">Escuela de Química</h4>\n",
    "  <h5 class=\"alert-heading\">Universidad Industrial de Santander</h5>\n",
    "  <p>\n",
    "  </div>"
   ]
  },
  {
   "cell_type": "markdown",
   "metadata": {},
   "source": [
    "<p style=\"text-align:justify\"><div class=\"alert alert-success\">\n",
    "\n",
    "## <font color=black> Regresión Lineal Multivariado\n",
    "<font color=black> La regresión lineal múltiple permite generar un modelo lineal en el que el valor de la variable dependiente o respuesta (Y) se determina a partir de un conjunto de variables independientes llamadas predictores $(X_1, X_2, X_3…)$. Es una extensión de la regresión lineal simple, por lo que es fundamental comprender esta última. Los modelos de regresión múltiple pueden emplearse para predecir el valor de la variable dependiente o para evaluar la influencia que tienen los predictores sobre ella (esto último se debe analizar con cautela para no malinterpretar causa-efecto).\n",
    "\n",
    "<font color=black> Los modelos lineales múltiples siguen la siguiente ecuación:\n",
    "$$y_i= \\beta_0 + \\beta_1 x_{i1} + \\beta_2 x_{i2} + ... + \\beta_p x_{ip} +\\epsilon_i$$\n",
    " \n",
    "<font color=black> En este caso, se está haciendo referencia al valor de $y$  para una observación $i$  concreta. El valor de una observación puntual nunca va a ser exactamente igual al promedio, de ahí que se añada el término de error  $ϵ$.\n",
    "\n",
    "<font color=black> Computacionalmente, estos cálculos son más eficientes si se realizan de forma matricial:\n",
    "$$\\mathbf{y}=\\mathbf{X}^T \\mathbf{\\beta}+\\epsilon$$\n",
    "\n",
    "<font color=black> $$\\mathbf{y}=\\begin{bmatrix} y_1\\\\  y_2\\\\  ...\\\\ y_n\\end{bmatrix} \\ , \\ \\ \\ \\mathbf{X}=\\begin{bmatrix} 1 & x_{11} & ... & x_{1p}\\\\  1 & x_{21} & ... & x_{2p}\\\\  1 & ... &  ... & ... \\\\  1 &  x_{n1} & ... &x_{np}\\\\   \\end{bmatrix} \\ , \\ \\ \\ \\mathbf{\\beta}=\\begin{bmatrix} \\beta_0\\\\ \\beta_1\\\\  ...\\\\ \\beta_n\\end{bmatrix} \\ , \\ \\ \\ \\mathbf{\\epsilon}=\\begin{bmatrix} \\epsilon_1\\\\ \\epsilon_2\\\\  ...\\\\ \\epsilon_n\\end{bmatrix}$$\n",
    "    \n",
    "<font color=black> $$\\hat{\\beta} = \\underset{\\beta}{\\arg\\min} (\\mathbf{y} - \\mathbf{X}^T \\mathbf{\\beta})^2$$\n",
    "    \n",
    "<font color=black> Una vez estimados los coeficientes, se pueden obtener las estimaciones de cada observación ($\\hat{y}_i$):\n",
    "$$\\hat{y}_i= \\hat{\\beta}_0 + \\hat{\\beta}_1 x_{i1} + \\hat{\\beta}_2 x_{i2} + ... + \\hat{\\beta}_p x_{ip}$$\n",
    "\n",
    "<font color=black> Finalmente, la estimación de la varianza del modelo ($\\hat{σ}^2$) se obtiene como:\n",
    "$$\\hat{\\sigma}^2 = \\frac{\\sum^n_{i=1} \\hat{\\epsilon}_i^2}{n-p} = \\frac{\\sum^n_{i=1} (y_i - \\hat{y}_i)^2}{n-p}$$\n",
    "\n",
    "<font color=black> donde $n$  es el número de observaciones y $p$  el número de predictores."
   ]
  },
  {
   "cell_type": "code",
   "execution_count": 1,
   "metadata": {},
   "outputs": [],
   "source": [
    "#from sklearn import datasets\n",
    "import numpy as np\n",
    "import pandas as pd\n",
    "from sklearn.model_selection import cross_val_predict, KFold, StratifiedKFold, train_test_split, cross_validate, cross_val_score\n",
    "from sklearn import linear_model\n",
    "from sklearn.linear_model import LogisticRegression\n",
    "import matplotlib.pyplot as plt\n",
    "from sklearn.decomposition import PCA\n",
    "from sklearn.preprocessing import StandardScaler, Normalizer\n",
    "from sklearn import preprocessing\n",
    "import scipy.io #scipy.io me permite leer datos construidos en matlab\n",
    "from scipy import stats # importando scipy.stats\n",
    "from scipy.signal import savgol_filter\n",
    "import scipy as sio\n",
    "%matplotlib inline"
   ]
  },
  {
   "cell_type": "code",
   "execution_count": 1,
   "metadata": {},
   "outputs": [],
   "source": [
    "import numpy as np\n",
    "import pandas as pd\n",
    "import sklearn.model_selection as skms\n",
    "import sklearn as sk\n",
    "#from sklearn.model_selection import cross_val_predict, KFold, StratifiedKFold, train_test_split, cross_validate, cross_val_score"
   ]
  },
  {
   "cell_type": "markdown",
   "metadata": {},
   "source": [
    "<p style=\"text-align:justify\"><div class=\"alert alert-success\">\n",
    "\n",
    "## <font color=black> Métricas de la Regresión Lineal Multivariado\n",
    "<font color=black> El módulo sklearn.metrics tiene implementadas varias métricas estadísticas que permiten medir el rendimiento (o 'robustes') de la regresión. Algunas de ellas han sido mejoradas para manejar el caso de multi-salidas, están son:  **Error cuadrático medio (mean_squared_error), Error medio absoluto (mean_absolute_error), Variancia explicada (explained_variance_score) and Coeficiente de regresión (r2_score)**."
   ]
  },
  {
   "cell_type": "code",
   "execution_count": 2,
   "metadata": {},
   "outputs": [
    {
     "data": {
      "text/html": [
       "<div>\n",
       "<style scoped>\n",
       "    .dataframe tbody tr th:only-of-type {\n",
       "        vertical-align: middle;\n",
       "    }\n",
       "\n",
       "    .dataframe tbody tr th {\n",
       "        vertical-align: top;\n",
       "    }\n",
       "\n",
       "    .dataframe thead th {\n",
       "        text-align: right;\n",
       "    }\n",
       "</style>\n",
       "<table border=\"1\" class=\"dataframe\">\n",
       "  <thead>\n",
       "    <tr style=\"text-align: right;\">\n",
       "      <th></th>\n",
       "      <th>Predicted</th>\n",
       "      <th>Measured</th>\n",
       "    </tr>\n",
       "  </thead>\n",
       "  <tbody>\n",
       "    <tr>\n",
       "      <th>0</th>\n",
       "      <td>8.876835</td>\n",
       "      <td>8.964832</td>\n",
       "    </tr>\n",
       "    <tr>\n",
       "      <th>1</th>\n",
       "      <td>6.577969</td>\n",
       "      <td>6.600000</td>\n",
       "    </tr>\n",
       "    <tr>\n",
       "      <th>2</th>\n",
       "      <td>8.027663</td>\n",
       "      <td>8.200000</td>\n",
       "    </tr>\n",
       "    <tr>\n",
       "      <th>3</th>\n",
       "      <td>6.401841</td>\n",
       "      <td>6.300000</td>\n",
       "    </tr>\n",
       "    <tr>\n",
       "      <th>4</th>\n",
       "      <td>7.413652</td>\n",
       "      <td>7.354888</td>\n",
       "    </tr>\n",
       "  </tbody>\n",
       "</table>\n",
       "</div>"
      ],
      "text/plain": [
       "   Predicted  Measured\n",
       "0   8.876835  8.964832\n",
       "1   6.577969  6.600000\n",
       "2   8.027663  8.200000\n",
       "3   6.401841  6.300000\n",
       "4   7.413652  7.354888"
      ]
     },
     "execution_count": 2,
     "metadata": {},
     "output_type": "execute_result"
    }
   ],
   "source": [
    "datafile=\"C:/Users/Enrique Mejia/Documents/Análisis_Interpretación_datos/Datos/propiedad_1.xls\"#este archivo contiene tres hojas de calculo \n",
    "data = pd.read_excel(datafile, sheet_name=None, header=0)\n",
    "datacc=data['calibracion']\n",
    "yprop=datacc['Measured']\n",
    "ypred=datacc['Predicted']\n",
    "data['calibracion'].head()"
   ]
  },
  {
   "cell_type": "markdown",
   "metadata": {},
   "source": [
    "<p style=\"text-align:justify\"><div class=\"alert alert-success\">\n",
    "\n",
    "## <font color=black> Variancia explicada (explained_variance_score)\n",
    "<font color=black> Esta métrica compara la salidad estimada con la respuesta correcta a partir de la siguiente relación:\n",
    "$$explained\\_{}variance(y, \\hat{y}) = 1 - \\frac{Var\\{ y - \\hat{y}\\}}{Var\\{y\\}}$$\n",
    "Cuando el valor está cercano uno se entiende que la regresión presenta un buen rendimiento, lo contrario, valores cercanos a cero, indica un mal rendimiento del modelo."
   ]
  },
  {
   "cell_type": "code",
   "execution_count": 3,
   "metadata": {},
   "outputs": [
    {
     "data": {
      "text/plain": [
       "0.9979061829168103"
      ]
     },
     "execution_count": 3,
     "metadata": {},
     "output_type": "execute_result"
    }
   ],
   "source": [
    "import sklearn.metrics as skmt\n",
    "skmt.explained_variance_score(yprop, ypred)\n",
    "#skmt.explained_variance_score(y_true, y_pred, multioutput='raw_values')\n",
    "#explained_variance_score(y_true, y_pred, multioutput=[0.3, 0.7])"
   ]
  },
  {
   "cell_type": "markdown",
   "metadata": {},
   "source": [
    "<p style=\"text-align:justify\"><div class=\"alert alert-success\">\n",
    "\n",
    "## <font color=black> Error Máximo (Max Error)\n",
    "<font color=black> La función de máximo error calcula el máximo error residual, esta métrica captura el peor error entre la medida y la propiedad.\n",
    "Si $\\hat{y}_i$ es el valor predicho de la muestra $i_{esima}$ y $y_i$ es la medida de esa misma muestra, entonces el máximo error está definido por:\n",
    "$$\\text{Max Error}(y, \\hat{y}) = max(| y_i - \\hat{y}_i |)$$"
   ]
  },
  {
   "cell_type": "code",
   "execution_count": 4,
   "metadata": {},
   "outputs": [
    {
     "data": {
      "text/plain": [
       "0.34735613298853973"
      ]
     },
     "execution_count": 4,
     "metadata": {},
     "output_type": "execute_result"
    }
   ],
   "source": [
    "skmt.max_error(yprop, ypred)"
   ]
  },
  {
   "cell_type": "markdown",
   "metadata": {},
   "source": [
    "<p style=\"text-align:justify\"><div class=\"alert alert-success\">\n",
    "\n",
    "## <font color=black> Error absoluto promedio (mean_absolute_error)\n",
    "<font color=black> La función mean_absolute_error calcula el error absoluto medio y corresponde a una métrica que evalua el riesgo de error del modelo. \n",
    "Si $\\hat{y}_i$ es el valor predicho de la muestra $i_{esima}$ y $y_i$ es la medida de esa misma muestra, entonces el error absoluto medio (MAE) sobre un numero de muestras $n_{samples}$ está definido por:\n",
    "$$\\text{MAE}(y, \\hat{y}) = \\frac{1}{n_{\\text{samples}}} \\sum_{i=0}^{n_{\\text{samples}}-1} \\left| y_i - \\hat{y}_i \\right|$$"
   ]
  },
  {
   "cell_type": "code",
   "execution_count": 5,
   "metadata": {},
   "outputs": [
    {
     "data": {
      "text/plain": [
       "0.08440645368976418"
      ]
     },
     "execution_count": 5,
     "metadata": {},
     "output_type": "execute_result"
    }
   ],
   "source": [
    "skmt.mean_absolute_error(yprop, ypred)\n",
    "#mean_absolute_error(yprop, Y_pred, multioutput='raw_values')"
   ]
  },
  {
   "cell_type": "markdown",
   "metadata": {},
   "source": [
    "<p style=\"text-align:justify\"><div class=\"alert alert-success\">\n",
    "\n",
    "## <font color=black> Error cuadrático medio (mean_squared_error)\n",
    "<font color=black> La función mean_squared_error calcula el error cuadrático medio y corresponde a una métrica que evalua el riesgo de error del modelo. \n",
    "Si $\\hat{y}_i$ es el valor predicho de la muestra $i_{esima}$ y $y_i$ es la medida de esa misma muestra, entonces el error cuadrático medio (MSE) sobre un número de muestras $n_{samples}$ está definido por:\n",
    "$$\\text{MSE}(y, \\hat{y}) = \\frac{1}{n_\\text{samples}} \\sum_{i=0}^{n_\\text{samples} - 1} (y_i - \\hat{y}_i)^2$$"
   ]
  },
  {
   "cell_type": "code",
   "execution_count": 6,
   "metadata": {},
   "outputs": [
    {
     "data": {
      "text/plain": [
       "0.01168994115149349"
      ]
     },
     "execution_count": 6,
     "metadata": {},
     "output_type": "execute_result"
    }
   ],
   "source": [
    "skmt.mean_squared_error(yprop, ypred)"
   ]
  },
  {
   "cell_type": "markdown",
   "metadata": {},
   "source": [
    "<p style=\"text-align:justify\"><div class=\"alert alert-success\">\n",
    "\n",
    "## <font color=black> Error logarítmico cuadrático medio (mean_squared_log_error)\n",
    "<font color=black> La función mean_squared_log_error calcula el error logarítmico cuadrático medio y corresponde a una métrica que evalua el riesgo de error del modelo, especialmente cuando la respuesta tiene un crecimiento exponencial con la variable independiente o predictores. \n",
    "Si $\\hat{y}_i$ es el valor predicho de la muestra $i_{esima}$ y $y_i$ es la medida de esa misma muestra, entonces el error logarítmico cuadrático medio (MSLE) sobre un número de muestras $n_{samples}$ está definido por:\n",
    "$$\\text{MSLE}(y, \\hat{y}) = \\frac{1}{n_\\text{samples}} \\sum_{i=0}^{n_\\text{samples} - 1} (\\log_e (1 + y_i) - \\log_e (1 + \\hat{y}_i) )^2$$"
   ]
  },
  {
   "cell_type": "code",
   "execution_count": 7,
   "metadata": {},
   "outputs": [
    {
     "data": {
      "text/plain": [
       "0.0002272178874529681"
      ]
     },
     "execution_count": 7,
     "metadata": {},
     "output_type": "execute_result"
    }
   ],
   "source": [
    "skmt.mean_squared_log_error(yprop, ypred)"
   ]
  },
  {
   "cell_type": "markdown",
   "metadata": {},
   "source": [
    "<p style=\"text-align:justify\"><div class=\"alert alert-success\">\n",
    "\n",
    "## <font color=black> Coeficiente de determinación (r2_score)\n",
    "<font color=black> El coeficiente de determinación, que puntualiza la regresión, conocido com $R^2$, representa la proporción de varianza (de $y$) que ha sido explicada por la(s) variables independientes del modelo.  Por ello esta métrica provee una buena indicación del ajuste y por lo tanto, es una medida de que tan probable es que el modelo prediga las muestras desconocidas, a través de la proporción de la varianza explicada. $R^2$ con valores cercanos a 1 (incluso negativo) indica un mejor ajuste del modelo y por el contrario su cercanía a cero indicaría lo contrario.\n",
    "Si $\\hat{y}_i$ es el valor predicho de la muestra $i_{esima}$ y $y_i$ es la medida de esa misma muestra, entonces la estimación del $R^2$ sobre un número de $n_{samples}$ muestras, está definido por:\n",
    "$$R^2(y, \\hat{y}) = 1 - \\frac{\\sum_{i=1}^{n} (y_i - \\hat{y}_i)^2}{\\sum_{i=1}^{n} (y_i - \\bar{y})^2}$$\n",
    "\n",
    "<font color=black> Donde $\\bar{y} = \\frac{1}{n} \\sum_{i=1}^{n} y_i$ y $\\sum_{i=1}^{n} (y_i - \\hat{y}_i)^2 = \\sum_{i=1}^{n} \\epsilon_i^2$"
   ]
  },
  {
   "cell_type": "code",
   "execution_count": 8,
   "metadata": {},
   "outputs": [
    {
     "data": {
      "text/plain": [
       "0.9979061828979205"
      ]
     },
     "execution_count": 8,
     "metadata": {},
     "output_type": "execute_result"
    }
   ],
   "source": [
    "sk.metrics.r2_score(yprop, ypred)\n",
    "\n",
    "#r2_score(yprop, Y_pred, multioutput='variance_weighted')\n",
    "#r2_score(yprop, Y_pred, multioutput='uniform_average')\n",
    "#r2_score(yprop, Y_pred, multioutput='raw_values')"
   ]
  },
  {
   "cell_type": "markdown",
   "metadata": {},
   "source": [
    "---\n",
    "<font color='red' size=20>**Muestreo**\n",
    "\n",
    "---"
   ]
  },
  {
   "cell_type": "markdown",
   "metadata": {},
   "source": [
    "<p style=\"text-align:justify\"><div class=\"alert alert-success\">\n",
    "\n",
    "**<font color=black size=4> Scikit Learn es la biblioteca favorita en Python para realizar muchas operaciones en Machine Learning especialmente porque contiene varios métodos de tratamiento de datos entre ellos se destacan los métodos para dividir los datos en el conjunto de entrenamiento, pruebas y validación. Los más populares son:**\n",
    "- **train_test_split - crea una sola división en un set de entranamiento y un set de prueba.**\n",
    "- **Kfold - crea k-divisiones que permiten realizar validación cruzada**\n",
    "- **StratifiedKFold - crea k-divisines considerando la distribución de la variable dependiente**\n",
    "- **cross_val_score - evalua el modelo a través de validación cruzada**"
   ]
  },
  {
   "cell_type": "markdown",
   "metadata": {},
   "source": [
    "**<font color=blue size=4> Vamos  atilizar para el muestreo, dos archivos en formato de Matlab que contienen (espectros.mat), el primero, las intensidades de espectros FTIR de 82 crudos colombianos y el segundo (propiedad.mat) el valor medido de una propiedad de dichos crudos.** "
   ]
  },
  {
   "cell_type": "code",
   "execution_count": 9,
   "metadata": {},
   "outputs": [],
   "source": [
    "import scipy.io\n",
    "espectros = scipy.io.loadmat('C:/Users/Enrique Mejia/Documents/Análisis_Interpretación_Datos/Datos/espectros.mat')# este archivo contiene las intensidades de\n",
    "# 82 espectros FTIR de crudos colombianos y será utilizados como ejemplo en esta sección\n",
    "# del curso\n",
    "propiedad = scipy.io.loadmat('C:/Users/Enrique Mejia/Documents/Análisis_Interpretación_Datos/Datos/propiedad.mat')#Medida de asci de los crudos a los que corresponden los espectros\n",
    "#ftir\n"
   ]
  },
  {
   "cell_type": "markdown",
   "metadata": {},
   "source": [
    "**<font color=orange size=3> Los archivos de matlab (*.mat) son archivos estructurados que continen diversa información, dentro de esa información escogemos la que nos interesa, en este caso el arreglo \"espectros\" en el primer archivo y el arreglo \"propiedades\" en el segundo. Las intensidades de los espectros son los predictores y la propiedad es la variable respuesta. Posteriormente separamos las muestras en dos grupos utilizando la función train_test_split, uno será el grupo de entrenamiento y el otro el grupo de prueba del modelo.  Para el ejemplo la separación se hará de manera randómica escogiendo el 80% para entrenar y el 20% para probar.** "
   ]
  },
  {
   "cell_type": "code",
   "execution_count": 10,
   "metadata": {},
   "outputs": [],
   "source": [
    "yprop=propiedad['propiedades']\n",
    "xftir=espectros['espectros']"
   ]
  },
  {
   "cell_type": "code",
   "execution_count": 13,
   "metadata": {},
   "outputs": [
    {
     "data": {
      "text/plain": [
       "((82, 1), (82, 7468))"
      ]
     },
     "execution_count": 13,
     "metadata": {},
     "output_type": "execute_result"
    }
   ],
   "source": [
    "yprop.shape, xftir.shape # Esto lo hacemos para verificar que tenemos el mismo número de muestras y están en la forma adecuada, esto esto es; las muestras u observaciones en las filas y predictores en columnas"
   ]
  },
  {
   "cell_type": "code",
   "execution_count": 12,
   "metadata": {},
   "outputs": [],
   "source": [
    "yprop=yprop[0:82]"
   ]
  },
  {
   "cell_type": "markdown",
   "metadata": {},
   "source": [
    "---\n",
    "<font color='green' size=6>**Validación Simple**\n",
    "\n",
    "---"
   ]
  },
  {
   "cell_type": "markdown",
   "metadata": {},
   "source": [
    "**<font color=cian size=3> El método más sencillo de validación consiste en repartir aleatoriamente las observaciones disponibles en dos grupos, uno se emplea para entrenar al modelo y otro para evaluarlo. Si bien es la opción más simple, tiene dos problemas importantes:**\n",
    "\n",
    "**<font color=cian size=3> - La estimación del error es altamente variable dependiendo de qué observaciones se incluyan como grupo de entrenamiento y cuáles como conjunto de validación (problema de varianza).**\n",
    "\n",
    "**<font color=cian size=3> - Al excluir parte de las observaciones disponibles como datos de entrenamiento (generalmente el 20%), se dispone de menos información con la que entrenar el modelo y, por lo tanto, se reduce su capacidad. Esto suele tener como consecuencia una sobrestimación del error comparado al que se obtendría si se emplearan todas las observaciones para el entrenamiento (problema de bias).**\n",
    "    \n",
    "**<font color=cian size=3>Utilizaremos la función *train_test_split* del modulo *sklearn.model_selection* para separar las muestras en dos grupos, el grupo de entranamiento y el grupo de prueba. La separación la haremos usando un 80% de las muestars para el ajuste o desarrollo del modelo y un 20% para las muestras de prueba.  La separación se realiza de manera aleatoria y sin barajar.** "
   ]
  },
  {
   "cell_type": "code",
   "execution_count": 21,
   "metadata": {},
   "outputs": [],
   "source": [
    "#xftir=np.transpose(xftir)# usamos la transpuesta del archivo\n",
    "X_train, X_test, y_train, y_test = sk.model_selection.train_test_split(xftir, yprop, train_size=0.8, random_state=4, shuffle= True)"
   ]
  },
  {
   "cell_type": "markdown",
   "metadata": {},
   "source": [
    "**<font color=blue> Vamos  a ver como quedó el arreglo de cada grupo.** "
   ]
  },
  {
   "cell_type": "code",
   "execution_count": 22,
   "metadata": {},
   "outputs": [
    {
     "data": {
      "text/plain": [
       "((65, 7468), (17, 7468), (65, 1), (17, 1))"
      ]
     },
     "execution_count": 22,
     "metadata": {},
     "output_type": "execute_result"
    }
   ],
   "source": [
    "X_train.shape, X_test.shape, y_train.shape, y_test.shape"
   ]
  },
  {
   "cell_type": "code",
   "execution_count": 24,
   "metadata": {},
   "outputs": [
    {
     "data": {
      "text/html": [
       "<div>\n",
       "<style scoped>\n",
       "    .dataframe tbody tr th:only-of-type {\n",
       "        vertical-align: middle;\n",
       "    }\n",
       "\n",
       "    .dataframe tbody tr th {\n",
       "        vertical-align: top;\n",
       "    }\n",
       "\n",
       "    .dataframe thead th {\n",
       "        text-align: right;\n",
       "    }\n",
       "</style>\n",
       "<table border=\"1\" class=\"dataframe\">\n",
       "  <thead>\n",
       "    <tr style=\"text-align: right;\">\n",
       "      <th></th>\n",
       "      <th>0</th>\n",
       "      <th>1</th>\n",
       "      <th>2</th>\n",
       "      <th>3</th>\n",
       "      <th>4</th>\n",
       "      <th>5</th>\n",
       "      <th>6</th>\n",
       "      <th>7</th>\n",
       "      <th>8</th>\n",
       "      <th>9</th>\n",
       "      <th>...</th>\n",
       "      <th>7458</th>\n",
       "      <th>7459</th>\n",
       "      <th>7460</th>\n",
       "      <th>7461</th>\n",
       "      <th>7462</th>\n",
       "      <th>7463</th>\n",
       "      <th>7464</th>\n",
       "      <th>7465</th>\n",
       "      <th>7466</th>\n",
       "      <th>7467</th>\n",
       "    </tr>\n",
       "  </thead>\n",
       "  <tbody>\n",
       "    <tr>\n",
       "      <th>0</th>\n",
       "      <td>0.006305</td>\n",
       "      <td>0.006962</td>\n",
       "      <td>0.007326</td>\n",
       "      <td>0.007350</td>\n",
       "      <td>0.007073</td>\n",
       "      <td>0.006582</td>\n",
       "      <td>0.005987</td>\n",
       "      <td>0.005386</td>\n",
       "      <td>0.004852</td>\n",
       "      <td>0.004434</td>\n",
       "      <td>...</td>\n",
       "      <td>0.004780</td>\n",
       "      <td>0.004779</td>\n",
       "      <td>0.004776</td>\n",
       "      <td>0.004770</td>\n",
       "      <td>0.004764</td>\n",
       "      <td>4.757380e-03</td>\n",
       "      <td>0.004752</td>\n",
       "      <td>4.748847e-03</td>\n",
       "      <td>0.004747</td>\n",
       "      <td>0.004747</td>\n",
       "    </tr>\n",
       "    <tr>\n",
       "      <th>1</th>\n",
       "      <td>0.020127</td>\n",
       "      <td>0.020466</td>\n",
       "      <td>0.020620</td>\n",
       "      <td>0.020551</td>\n",
       "      <td>0.020277</td>\n",
       "      <td>0.019855</td>\n",
       "      <td>0.019358</td>\n",
       "      <td>0.018863</td>\n",
       "      <td>0.018442</td>\n",
       "      <td>0.018164</td>\n",
       "      <td>...</td>\n",
       "      <td>0.000046</td>\n",
       "      <td>0.000050</td>\n",
       "      <td>0.000052</td>\n",
       "      <td>0.000051</td>\n",
       "      <td>0.000046</td>\n",
       "      <td>3.938336e-05</td>\n",
       "      <td>0.000030</td>\n",
       "      <td>2.054740e-05</td>\n",
       "      <td>0.000010</td>\n",
       "      <td>0.000000</td>\n",
       "    </tr>\n",
       "    <tr>\n",
       "      <th>2</th>\n",
       "      <td>0.012725</td>\n",
       "      <td>0.012220</td>\n",
       "      <td>0.011552</td>\n",
       "      <td>0.010823</td>\n",
       "      <td>0.010147</td>\n",
       "      <td>0.009608</td>\n",
       "      <td>0.009243</td>\n",
       "      <td>0.009031</td>\n",
       "      <td>0.008933</td>\n",
       "      <td>0.008919</td>\n",
       "      <td>...</td>\n",
       "      <td>0.000046</td>\n",
       "      <td>0.000043</td>\n",
       "      <td>0.000043</td>\n",
       "      <td>0.000043</td>\n",
       "      <td>0.000044</td>\n",
       "      <td>4.429126e-05</td>\n",
       "      <td>0.000046</td>\n",
       "      <td>4.773154e-05</td>\n",
       "      <td>0.000052</td>\n",
       "      <td>0.000058</td>\n",
       "    </tr>\n",
       "    <tr>\n",
       "      <th>3</th>\n",
       "      <td>0.006624</td>\n",
       "      <td>0.006846</td>\n",
       "      <td>0.006878</td>\n",
       "      <td>0.006786</td>\n",
       "      <td>0.006664</td>\n",
       "      <td>0.006602</td>\n",
       "      <td>0.006648</td>\n",
       "      <td>0.006787</td>\n",
       "      <td>0.006954</td>\n",
       "      <td>0.007059</td>\n",
       "      <td>...</td>\n",
       "      <td>0.023228</td>\n",
       "      <td>0.023247</td>\n",
       "      <td>0.023263</td>\n",
       "      <td>0.023274</td>\n",
       "      <td>0.023281</td>\n",
       "      <td>2.328317e-02</td>\n",
       "      <td>0.023283</td>\n",
       "      <td>2.328247e-02</td>\n",
       "      <td>0.023282</td>\n",
       "      <td>0.023282</td>\n",
       "    </tr>\n",
       "    <tr>\n",
       "      <th>4</th>\n",
       "      <td>0.005929</td>\n",
       "      <td>0.005711</td>\n",
       "      <td>0.005497</td>\n",
       "      <td>0.005390</td>\n",
       "      <td>0.005460</td>\n",
       "      <td>0.005715</td>\n",
       "      <td>0.006101</td>\n",
       "      <td>0.006534</td>\n",
       "      <td>0.006936</td>\n",
       "      <td>0.007267</td>\n",
       "      <td>...</td>\n",
       "      <td>0.000112</td>\n",
       "      <td>0.000104</td>\n",
       "      <td>0.000095</td>\n",
       "      <td>0.000086</td>\n",
       "      <td>0.000079</td>\n",
       "      <td>7.442100e-05</td>\n",
       "      <td>0.000072</td>\n",
       "      <td>7.270014e-05</td>\n",
       "      <td>0.000076</td>\n",
       "      <td>0.000081</td>\n",
       "    </tr>\n",
       "    <tr>\n",
       "      <th>...</th>\n",
       "      <td>...</td>\n",
       "      <td>...</td>\n",
       "      <td>...</td>\n",
       "      <td>...</td>\n",
       "      <td>...</td>\n",
       "      <td>...</td>\n",
       "      <td>...</td>\n",
       "      <td>...</td>\n",
       "      <td>...</td>\n",
       "      <td>...</td>\n",
       "      <td>...</td>\n",
       "      <td>...</td>\n",
       "      <td>...</td>\n",
       "      <td>...</td>\n",
       "      <td>...</td>\n",
       "      <td>...</td>\n",
       "      <td>...</td>\n",
       "      <td>...</td>\n",
       "      <td>...</td>\n",
       "      <td>...</td>\n",
       "      <td>...</td>\n",
       "    </tr>\n",
       "    <tr>\n",
       "      <th>60</th>\n",
       "      <td>0.037838</td>\n",
       "      <td>0.036763</td>\n",
       "      <td>0.035667</td>\n",
       "      <td>0.034714</td>\n",
       "      <td>0.034033</td>\n",
       "      <td>0.033670</td>\n",
       "      <td>0.033575</td>\n",
       "      <td>0.033622</td>\n",
       "      <td>0.033667</td>\n",
       "      <td>0.033607</td>\n",
       "      <td>...</td>\n",
       "      <td>0.000029</td>\n",
       "      <td>0.000022</td>\n",
       "      <td>0.000018</td>\n",
       "      <td>0.000015</td>\n",
       "      <td>0.000014</td>\n",
       "      <td>1.351454e-05</td>\n",
       "      <td>0.000013</td>\n",
       "      <td>1.055820e-05</td>\n",
       "      <td>0.000006</td>\n",
       "      <td>0.000000</td>\n",
       "    </tr>\n",
       "    <tr>\n",
       "      <th>61</th>\n",
       "      <td>0.012468</td>\n",
       "      <td>0.012486</td>\n",
       "      <td>0.012449</td>\n",
       "      <td>0.012386</td>\n",
       "      <td>0.012352</td>\n",
       "      <td>0.012396</td>\n",
       "      <td>0.012543</td>\n",
       "      <td>0.012782</td>\n",
       "      <td>0.013081</td>\n",
       "      <td>0.013398</td>\n",
       "      <td>...</td>\n",
       "      <td>0.003964</td>\n",
       "      <td>0.003966</td>\n",
       "      <td>0.003967</td>\n",
       "      <td>0.003967</td>\n",
       "      <td>0.003967</td>\n",
       "      <td>3.968649e-03</td>\n",
       "      <td>0.003970</td>\n",
       "      <td>3.972981e-03</td>\n",
       "      <td>0.003975</td>\n",
       "      <td>0.003976</td>\n",
       "    </tr>\n",
       "    <tr>\n",
       "      <th>62</th>\n",
       "      <td>0.005047</td>\n",
       "      <td>0.005634</td>\n",
       "      <td>0.006129</td>\n",
       "      <td>0.006570</td>\n",
       "      <td>0.006987</td>\n",
       "      <td>0.007377</td>\n",
       "      <td>0.007697</td>\n",
       "      <td>0.007893</td>\n",
       "      <td>0.007931</td>\n",
       "      <td>0.007828</td>\n",
       "      <td>...</td>\n",
       "      <td>0.000067</td>\n",
       "      <td>0.000069</td>\n",
       "      <td>0.000076</td>\n",
       "      <td>0.000085</td>\n",
       "      <td>0.000096</td>\n",
       "      <td>1.063675e-04</td>\n",
       "      <td>0.000116</td>\n",
       "      <td>1.231648e-04</td>\n",
       "      <td>0.000127</td>\n",
       "      <td>0.000128</td>\n",
       "    </tr>\n",
       "    <tr>\n",
       "      <th>63</th>\n",
       "      <td>0.004346</td>\n",
       "      <td>0.005010</td>\n",
       "      <td>0.005733</td>\n",
       "      <td>0.006508</td>\n",
       "      <td>0.007290</td>\n",
       "      <td>0.007979</td>\n",
       "      <td>0.008447</td>\n",
       "      <td>0.008592</td>\n",
       "      <td>0.008380</td>\n",
       "      <td>0.007868</td>\n",
       "      <td>...</td>\n",
       "      <td>0.000871</td>\n",
       "      <td>0.000873</td>\n",
       "      <td>0.000873</td>\n",
       "      <td>0.000872</td>\n",
       "      <td>0.000870</td>\n",
       "      <td>8.680065e-04</td>\n",
       "      <td>0.000867</td>\n",
       "      <td>8.662705e-04</td>\n",
       "      <td>0.000867</td>\n",
       "      <td>0.000868</td>\n",
       "    </tr>\n",
       "    <tr>\n",
       "      <th>64</th>\n",
       "      <td>0.029696</td>\n",
       "      <td>0.028860</td>\n",
       "      <td>0.028115</td>\n",
       "      <td>0.027506</td>\n",
       "      <td>0.027088</td>\n",
       "      <td>0.026890</td>\n",
       "      <td>0.026892</td>\n",
       "      <td>0.027037</td>\n",
       "      <td>0.027256</td>\n",
       "      <td>0.027495</td>\n",
       "      <td>...</td>\n",
       "      <td>0.000015</td>\n",
       "      <td>0.000013</td>\n",
       "      <td>0.000010</td>\n",
       "      <td>0.000006</td>\n",
       "      <td>0.000003</td>\n",
       "      <td>4.260423e-07</td>\n",
       "      <td>0.000000</td>\n",
       "      <td>8.520849e-07</td>\n",
       "      <td>0.000003</td>\n",
       "      <td>0.000005</td>\n",
       "    </tr>\n",
       "  </tbody>\n",
       "</table>\n",
       "<p>65 rows × 7468 columns</p>\n",
       "</div>"
      ],
      "text/plain": [
       "        0         1         2         3         4         5         6     \\\n",
       "0   0.006305  0.006962  0.007326  0.007350  0.007073  0.006582  0.005987   \n",
       "1   0.020127  0.020466  0.020620  0.020551  0.020277  0.019855  0.019358   \n",
       "2   0.012725  0.012220  0.011552  0.010823  0.010147  0.009608  0.009243   \n",
       "3   0.006624  0.006846  0.006878  0.006786  0.006664  0.006602  0.006648   \n",
       "4   0.005929  0.005711  0.005497  0.005390  0.005460  0.005715  0.006101   \n",
       "..       ...       ...       ...       ...       ...       ...       ...   \n",
       "60  0.037838  0.036763  0.035667  0.034714  0.034033  0.033670  0.033575   \n",
       "61  0.012468  0.012486  0.012449  0.012386  0.012352  0.012396  0.012543   \n",
       "62  0.005047  0.005634  0.006129  0.006570  0.006987  0.007377  0.007697   \n",
       "63  0.004346  0.005010  0.005733  0.006508  0.007290  0.007979  0.008447   \n",
       "64  0.029696  0.028860  0.028115  0.027506  0.027088  0.026890  0.026892   \n",
       "\n",
       "        7         8         9     ...      7458      7459      7460      7461  \\\n",
       "0   0.005386  0.004852  0.004434  ...  0.004780  0.004779  0.004776  0.004770   \n",
       "1   0.018863  0.018442  0.018164  ...  0.000046  0.000050  0.000052  0.000051   \n",
       "2   0.009031  0.008933  0.008919  ...  0.000046  0.000043  0.000043  0.000043   \n",
       "3   0.006787  0.006954  0.007059  ...  0.023228  0.023247  0.023263  0.023274   \n",
       "4   0.006534  0.006936  0.007267  ...  0.000112  0.000104  0.000095  0.000086   \n",
       "..       ...       ...       ...  ...       ...       ...       ...       ...   \n",
       "60  0.033622  0.033667  0.033607  ...  0.000029  0.000022  0.000018  0.000015   \n",
       "61  0.012782  0.013081  0.013398  ...  0.003964  0.003966  0.003967  0.003967   \n",
       "62  0.007893  0.007931  0.007828  ...  0.000067  0.000069  0.000076  0.000085   \n",
       "63  0.008592  0.008380  0.007868  ...  0.000871  0.000873  0.000873  0.000872   \n",
       "64  0.027037  0.027256  0.027495  ...  0.000015  0.000013  0.000010  0.000006   \n",
       "\n",
       "        7462          7463      7464          7465      7466      7467  \n",
       "0   0.004764  4.757380e-03  0.004752  4.748847e-03  0.004747  0.004747  \n",
       "1   0.000046  3.938336e-05  0.000030  2.054740e-05  0.000010  0.000000  \n",
       "2   0.000044  4.429126e-05  0.000046  4.773154e-05  0.000052  0.000058  \n",
       "3   0.023281  2.328317e-02  0.023283  2.328247e-02  0.023282  0.023282  \n",
       "4   0.000079  7.442100e-05  0.000072  7.270014e-05  0.000076  0.000081  \n",
       "..       ...           ...       ...           ...       ...       ...  \n",
       "60  0.000014  1.351454e-05  0.000013  1.055820e-05  0.000006  0.000000  \n",
       "61  0.003967  3.968649e-03  0.003970  3.972981e-03  0.003975  0.003976  \n",
       "62  0.000096  1.063675e-04  0.000116  1.231648e-04  0.000127  0.000128  \n",
       "63  0.000870  8.680065e-04  0.000867  8.662705e-04  0.000867  0.000868  \n",
       "64  0.000003  4.260423e-07  0.000000  8.520849e-07  0.000003  0.000005  \n",
       "\n",
       "[65 rows x 7468 columns]"
      ]
     },
     "execution_count": 24,
     "metadata": {},
     "output_type": "execute_result"
    }
   ],
   "source": [
    "import pandas as pd\n",
    "pd.DataFrame(X_train)"
   ]
  },
  {
   "cell_type": "markdown",
   "metadata": {},
   "source": [
    "---\n",
    "<font color=cian size=6>**Validación Cruzada K-Fold**\n",
    "\n",
    "---"
   ]
  },
  {
   "cell_type": "markdown",
   "metadata": {},
   "source": [
    "**<font color=green size=3>El método de validación cruzada K-Fold es un proceso iterativo. Consiste en dividir los datos de forma aleatoria en k grupos de aproximadamente el mismo tamaño, k-1 grupos se emplean para entrenar el modelo y uno de los grupos se emplea como validación. Este proceso se repite k veces utilizando un grupo distinto como validación en cada iteración. El proceso genera k estimaciones del error cuyo promedio se emplea como estimación final o se escoge el mejor grupo como grupo de entrenamiento y prueba para el modelo.** \n",
    "    \n",
    "**<font color=green size=3>Usaremos la función *Kfold* del modulo *sklearn.model_selection* usando dos valores de *k* para observar como ocurre la separación. También emplearemos el modo aleatorio y el concepto de barajar.** "
   ]
  },
  {
   "cell_type": "code",
   "execution_count": 29,
   "metadata": {},
   "outputs": [],
   "source": [
    "# Para demostrar como KFold separa los datos, crearemos dos modos, uno KFold 2 y 4. \n",
    "kf2 = sk.model_selection.KFold(n_splits=2, shuffle=False) # La separación se realiza de acuerdo con la siguiente ecuación 1/(n_split), en este caso es 0.5, osea 50/50\n",
    "kf10 = sk.model_selection.KFold(n_splits=10, shuffle=False) # En este caso es 1/10 = 0.1, 90/10"
   ]
  },
  {
   "cell_type": "code",
   "execution_count": 30,
   "metadata": {},
   "outputs": [
    {
     "name": "stdout",
     "output_type": "stream",
     "text": [
      "[41 42 43 44 45 46 47 48 49 50 51 52 53 54 55 56 57 58 59 60 61 62 63 64\n",
      " 65 66 67 68 69 70 71 72 73 74 75 76 77 78 79 80 81] [ 0  1  2  3  4  5  6  7  8  9 10 11 12 13 14 15 16 17 18 19 20 21 22 23\n",
      " 24 25 26 27 28 29 30 31 32 33 34 35 36 37 38 39 40]\n",
      "[ 0  1  2  3  4  5  6  7  8  9 10 11 12 13 14 15 16 17 18 19 20 21 22 23\n",
      " 24 25 26 27 28 29 30 31 32 33 34 35 36 37 38 39 40] [41 42 43 44 45 46 47 48 49 50 51 52 53 54 55 56 57 58 59 60 61 62 63 64\n",
      " 65 66 67 68 69 70 71 72 73 74 75 76 77 78 79 80 81]\n"
     ]
    }
   ],
   "source": [
    "# Podemos obtener los índices de los datos almacenados en la separación usando un for \n",
    "for train_index, test_index in kf2.split(yprop):\n",
    "    print(train_index, test_index)"
   ]
  },
  {
   "cell_type": "code",
   "execution_count": 31,
   "metadata": {},
   "outputs": [
    {
     "name": "stdout",
     "output_type": "stream",
     "text": [
      "[ 9 10 11 12 13 14 15 16 17 18 19 20 21 22 23 24 25 26 27 28 29 30 31 32\n",
      " 33 34 35 36 37 38 39 40 41 42 43 44 45 46 47 48 49 50 51 52 53 54 55 56\n",
      " 57 58 59 60 61 62 63 64 65 66 67 68 69 70 71 72 73 74 75 76 77 78 79 80\n",
      " 81] [0 1 2 3 4 5 6 7 8]\n",
      "[ 0  1  2  3  4  5  6  7  8 18 19 20 21 22 23 24 25 26 27 28 29 30 31 32\n",
      " 33 34 35 36 37 38 39 40 41 42 43 44 45 46 47 48 49 50 51 52 53 54 55 56\n",
      " 57 58 59 60 61 62 63 64 65 66 67 68 69 70 71 72 73 74 75 76 77 78 79 80\n",
      " 81] [ 9 10 11 12 13 14 15 16 17]\n",
      "[ 0  1  2  3  4  5  6  7  8  9 10 11 12 13 14 15 16 17 26 27 28 29 30 31\n",
      " 32 33 34 35 36 37 38 39 40 41 42 43 44 45 46 47 48 49 50 51 52 53 54 55\n",
      " 56 57 58 59 60 61 62 63 64 65 66 67 68 69 70 71 72 73 74 75 76 77 78 79\n",
      " 80 81] [18 19 20 21 22 23 24 25]\n",
      "[ 0  1  2  3  4  5  6  7  8  9 10 11 12 13 14 15 16 17 18 19 20 21 22 23\n",
      " 24 25 34 35 36 37 38 39 40 41 42 43 44 45 46 47 48 49 50 51 52 53 54 55\n",
      " 56 57 58 59 60 61 62 63 64 65 66 67 68 69 70 71 72 73 74 75 76 77 78 79\n",
      " 80 81] [26 27 28 29 30 31 32 33]\n",
      "[ 0  1  2  3  4  5  6  7  8  9 10 11 12 13 14 15 16 17 18 19 20 21 22 23\n",
      " 24 25 26 27 28 29 30 31 32 33 42 43 44 45 46 47 48 49 50 51 52 53 54 55\n",
      " 56 57 58 59 60 61 62 63 64 65 66 67 68 69 70 71 72 73 74 75 76 77 78 79\n",
      " 80 81] [34 35 36 37 38 39 40 41]\n",
      "[ 0  1  2  3  4  5  6  7  8  9 10 11 12 13 14 15 16 17 18 19 20 21 22 23\n",
      " 24 25 26 27 28 29 30 31 32 33 34 35 36 37 38 39 40 41 50 51 52 53 54 55\n",
      " 56 57 58 59 60 61 62 63 64 65 66 67 68 69 70 71 72 73 74 75 76 77 78 79\n",
      " 80 81] [42 43 44 45 46 47 48 49]\n",
      "[ 0  1  2  3  4  5  6  7  8  9 10 11 12 13 14 15 16 17 18 19 20 21 22 23\n",
      " 24 25 26 27 28 29 30 31 32 33 34 35 36 37 38 39 40 41 42 43 44 45 46 47\n",
      " 48 49 58 59 60 61 62 63 64 65 66 67 68 69 70 71 72 73 74 75 76 77 78 79\n",
      " 80 81] [50 51 52 53 54 55 56 57]\n",
      "[ 0  1  2  3  4  5  6  7  8  9 10 11 12 13 14 15 16 17 18 19 20 21 22 23\n",
      " 24 25 26 27 28 29 30 31 32 33 34 35 36 37 38 39 40 41 42 43 44 45 46 47\n",
      " 48 49 50 51 52 53 54 55 56 57 66 67 68 69 70 71 72 73 74 75 76 77 78 79\n",
      " 80 81] [58 59 60 61 62 63 64 65]\n",
      "[ 0  1  2  3  4  5  6  7  8  9 10 11 12 13 14 15 16 17 18 19 20 21 22 23\n",
      " 24 25 26 27 28 29 30 31 32 33 34 35 36 37 38 39 40 41 42 43 44 45 46 47\n",
      " 48 49 50 51 52 53 54 55 56 57 58 59 60 61 62 63 64 65 74 75 76 77 78 79\n",
      " 80 81] [66 67 68 69 70 71 72 73]\n",
      "[ 0  1  2  3  4  5  6  7  8  9 10 11 12 13 14 15 16 17 18 19 20 21 22 23\n",
      " 24 25 26 27 28 29 30 31 32 33 34 35 36 37 38 39 40 41 42 43 44 45 46 47\n",
      " 48 49 50 51 52 53 54 55 56 57 58 59 60 61 62 63 64 65 66 67 68 69 70 71\n",
      " 72 73] [74 75 76 77 78 79 80 81]\n"
     ]
    }
   ],
   "source": [
    "# Podemos obtener los índices de los datos almacenados en la separación usando un for \n",
    "for train_index, test_index in kf10.split(yprop):\n",
    "    print(train_index, test_index)"
   ]
  },
  {
   "cell_type": "code",
   "execution_count": 32,
   "metadata": {},
   "outputs": [
    {
     "name": "stdout",
     "output_type": "stream",
     "text": [
      "[0.0130285  0.01313195 0.01327425 0.01348852 0.01376589 0.01406099\n",
      " 0.01430127 0.01442255 0.01439443 0.01423829 0.01402098 0.01383022\n",
      " 0.01373439 0.01375833 0.01387653 0.01403032 0.01415401 0.01420186\n",
      " 0.01415753 0.0140353  0.01386417 0.01367473 0.0134851  0.0133027\n",
      " 0.01312796 0.0129677  0.01283344 0.01274589 0.01272142 0.01276876\n",
      " 0.01288465 0.01306124 0.01328983 0.01356689 0.01389048 0.0142535\n",
      " 0.01463543 0.01500353 0.01531753 0.01554325 0.01566158] [0.0110966  0.01119915 0.01098486 0.01054341 0.01002245 0.00955765\n",
      " 0.00923784 0.00908481 0.0090711  0.00914556 0.00926567 0.00940403\n",
      " 0.00954942 0.00968954 0.00981006 0.00989108 0.00992538 0.00992208\n",
      " 0.00991754 0.00995951 0.01009289 0.01033649 0.01067365 0.01105651\n",
      " 0.01143135 0.01175163 0.01199488 0.01215925 0.01225536 0.01229481\n",
      " 0.01228755 0.01223893 0.01216186 0.01207684 0.01201882 0.01202307\n",
      " 0.01211627 0.01229574 0.01252352 0.01274327 0.01291152]\n",
      "[0.0110966  0.01119915 0.01098486 0.01054341 0.01002245 0.00955765\n",
      " 0.00923784 0.00908481 0.0090711  0.00914556 0.00926567 0.00940403\n",
      " 0.00954942 0.00968954 0.00981006 0.00989108 0.00992538 0.00992208\n",
      " 0.00991754 0.00995951 0.01009289 0.01033649 0.01067365 0.01105651\n",
      " 0.01143135 0.01175163 0.01199488 0.01215925 0.01225536 0.01229481\n",
      " 0.01228755 0.01223893 0.01216186 0.01207684 0.01201882 0.01202307\n",
      " 0.01211627 0.01229574 0.01252352 0.01274327 0.01291152] [0.0130285  0.01313195 0.01327425 0.01348852 0.01376589 0.01406099\n",
      " 0.01430127 0.01442255 0.01439443 0.01423829 0.01402098 0.01383022\n",
      " 0.01373439 0.01375833 0.01387653 0.01403032 0.01415401 0.01420186\n",
      " 0.01415753 0.0140353  0.01386417 0.01367473 0.0134851  0.0133027\n",
      " 0.01312796 0.0129677  0.01283344 0.01274589 0.01272142 0.01276876\n",
      " 0.01288465 0.01306124 0.01328983 0.01356689 0.01389048 0.0142535\n",
      " 0.01463543 0.01500353 0.01531753 0.01554325 0.01566158]\n"
     ]
    }
   ],
   "source": [
    "# Utilizando la función np.take() y los indices, obtenemos los datos de los predictores\n",
    "for train_index, test_index in kf2.split(yprop):\n",
    "    print(np.take(xftir,train_index), np.take(xftir,test_index))"
   ]
  },
  {
   "cell_type": "code",
   "execution_count": 10,
   "metadata": {},
   "outputs": [
    {
     "name": "stdout",
     "output_type": "stream",
     "text": [
      "[17 12 17  8 17 17 17 17  6 17 12 15 14 20 20 11 16 17 17 13 15 16 15 14\n",
      " 15 10 20 14 20 10  9 13 11 12 13  8 10  9 11 12 11] [10 10 13 11 11 14 10 14 16 18 16 12 15 17 10 12 12 12 15 19 15 11 12 17\n",
      " 11 11 16 19 20 16 13 15 13 14 13  5 11 12 18 15 17 16]\n",
      "[10 10 13 11 11 14 10 14 16 18 16 12 15 17 10 12 12 12 15 19 15 11 12 17\n",
      " 11 11 16 19 20 16 13 15 13 14 13  5 11 12 18 15 17 16] [17 12 17  8 17 17 17 17  6 17 12 15 14 20 20 11 16 17 17 13 15 16 15 14\n",
      " 15 10 20 14 20 10  9 13 11 12 13  8 10  9 11 12 11]\n"
     ]
    }
   ],
   "source": [
    "# Hacemos lo mismo para la variable dependiente o la propiedad\n",
    "for train_index, test_index in kf2.split(yprop):\n",
    "    print(np.take(yprop,train_index), np.take(yprop,test_index))"
   ]
  },
  {
   "cell_type": "markdown",
   "metadata": {},
   "source": [
    "**<font color=red size=3>Veamos ahora de forma ilustrativa este sistema de separación o muestreo.** "
   ]
  },
  {
   "cell_type": "code",
   "execution_count": 33,
   "metadata": {},
   "outputs": [],
   "source": [
    "# create the range 1 to 25\n",
    "rn = range(1,26)"
   ]
  },
  {
   "cell_type": "code",
   "execution_count": 37,
   "metadata": {},
   "outputs": [],
   "source": [
    "# Realizamos dos KFold y co k igual a 3 y otro k igual 5\n",
    "kf5 = sk.model_selection.KFold(n_splits=5, shuffle=False)\n",
    "kf3 = sk.model_selection.KFold(n_splits=3, shuffle=False)"
   ]
  },
  {
   "cell_type": "code",
   "execution_count": 38,
   "metadata": {},
   "outputs": [
    {
     "name": "stdout",
     "output_type": "stream",
     "text": [
      "[ 9 10 11 12 13 14 15 16 17 18 19 20 21 22 23 24] [0 1 2 3 4 5 6 7 8]\n",
      "[ 0  1  2  3  4  5  6  7  8 17 18 19 20 21 22 23 24] [ 9 10 11 12 13 14 15 16]\n",
      "[ 0  1  2  3  4  5  6  7  8  9 10 11 12 13 14 15 16] [17 18 19 20 21 22 23 24]\n"
     ]
    }
   ],
   "source": [
    "# Leemos los indices\n",
    "for train_index, test_index in kf3.split(rn):\n",
    "    print(train_index, test_index)"
   ]
  },
  {
   "cell_type": "code",
   "execution_count": 39,
   "metadata": {},
   "outputs": [
    {
     "name": "stdout",
     "output_type": "stream",
     "text": [
      "[ 6  7  8  9 10 11 12 13 14 15 16 17 18 19 20 21 22 23 24 25] [1 2 3 4 5]\n",
      "[ 1  2  3  4  5 11 12 13 14 15 16 17 18 19 20 21 22 23 24 25] [ 6  7  8  9 10]\n",
      "[ 1  2  3  4  5  6  7  8  9 10 16 17 18 19 20 21 22 23 24 25] [11 12 13 14 15]\n",
      "[ 1  2  3  4  5  6  7  8  9 10 11 12 13 14 15 21 22 23 24 25] [16 17 18 19 20]\n",
      "[ 1  2  3  4  5  6  7  8  9 10 11 12 13 14 15 16 17 18 19 20] [21 22 23 24 25]\n"
     ]
    }
   ],
   "source": [
    "# Con los índices obtenemos los valores de los datos\n",
    "for train_index, test_index in kf5.split(rn):\n",
    "    print(np.take(rn,train_index), np.take(rn,test_index))"
   ]
  },
  {
   "cell_type": "code",
   "execution_count": 41,
   "metadata": {},
   "outputs": [],
   "source": [
    "# Vamos a hacer una grafica para mostra mejor el funcionamiento de KFold. Creamos una función que permita mostrar cada punto corrido en el espacio\n",
    " \n",
    "\n",
    "def kfoldize(kf, rn, shift=.1):\n",
    "    train = pd.DataFrame()\n",
    "    test = pd.DataFrame()\n",
    "    i = 1\n",
    "    for train_index, test_index in kf.split(rn):\n",
    "        train_df = pd.DataFrame(np.take(rn, train_index), columns=[\"x\"])\n",
    "        train_df[\"val\"] = i - shift\n",
    "        train = train.append(train_df)\n",
    "\n",
    "        test_df = pd.DataFrame(np.take(rn, test_index), columns=[\"x\"])\n",
    "        test_df[\"val\"] = i + shift\n",
    "        test = test.append(test_df)\n",
    "        i += 1\n",
    "    return train, test"
   ]
  },
  {
   "cell_type": "code",
   "execution_count": 42,
   "metadata": {},
   "outputs": [
    {
     "data": {
      "image/png": "[encoded data removed]",
      "text/plain": [
       "<Figure size 1080x360 with 2 Axes>"
      ]
     },
     "metadata": {
      "needs_background": "light"
     },
     "output_type": "display_data"
    }
   ],
   "source": [
    "# Ahora Graficamos\n",
    "import matplotlib.pyplot as plt\n",
    "\n",
    "train5, test5 = kfoldize(kf5,rn)\n",
    "train3, test3 = kfoldize(kf3,rn)\n",
    "\n",
    "fig,ax = plt.subplots(1,2, figsize=(15,5))\n",
    "ax[0].scatter(x=\"x\",y=\"val\",c=\"b\",label=\"train\",s=15,data=train5)\n",
    "ax[0].scatter(x=\"x\",y=\"val\",c=\"r\",label=\"test\",s=15,data=test5)\n",
    "ax[1].scatter(x=\"x\",y=\"val\",c=\"b\",label=\"train\",s=15,data=train3)\n",
    "ax[1].scatter(x=\"x\",y=\"val\",c=\"r\",label=\"test\",s=15,data=test3)\n",
    "ax[0].set_ylabel(\"Kfold\")\n",
    "ax[0].set_xlabel(\"feature\")\n",
    "ax[1].set_xlabel(\"feature\")\n",
    "ax[0].set_title(\"5 Folds\")\n",
    "ax[1].set_title(\"3 Folds\")\n",
    "plt.suptitle(\"Kfold split between train and test features\")\n",
    "plt.legend(bbox_to_anchor=(1.05, 1))\n",
    "plt.show()"
   ]
  },
  {
   "cell_type": "markdown",
   "metadata": {},
   "source": [
    "**<font color=red size=3>Veamos como funciona el KFold aleatorio.** "
   ]
  },
  {
   "cell_type": "code",
   "execution_count": 47,
   "metadata": {},
   "outputs": [],
   "source": [
    "kf42 = sk.model_selection.KFold(n_splits=5, shuffle=True, random_state=42)\n",
    "kf123 = sk.model_selection.KFold(n_splits=5, shuffle=True, random_state=123)"
   ]
  },
  {
   "cell_type": "code",
   "execution_count": 48,
   "metadata": {},
   "outputs": [
    {
     "data": {
      "image/png": "[encoded data removed]",
      "text/plain": [
       "<Figure size 1080x360 with 2 Axes>"
      ]
     },
     "metadata": {
      "needs_background": "light"
     },
     "output_type": "display_data"
    }
   ],
   "source": [
    "train42, test42 = kfoldize(kf42,rn)\n",
    "train123, test123 = kfoldize(kf123,rn)\n",
    "train123_2, test123_2 = kfoldize(kf123,rn,shift=.25)\n",
    "train42_2, test42_2 = kfoldize(kf42,rn, shift=.25)\n",
    "\n",
    "fig,ax = plt.subplots(1,2, figsize=(15,5))\n",
    "ax[0].scatter(x=\"x\",y=\"val\",c=\"b\",label=\"train\",s=15,data=train42) \n",
    "ax[0].scatter(x=\"x\",y=\"val\",c=\"r\",label=\"test\",s=15,data=test42)\n",
    "ax[0].scatter(x=\"x\",y=\"val\",c=\"k\",label=\"test second run\",s=15,data=test42_2)\n",
    "ax[1].scatter(x=\"x\",y=\"val\",c=\"b\",label=\"train\",s=15,data=train123)\n",
    "ax[1].scatter(x=\"x\",y=\"val\",c=\"r\",label=\"test\",s=15,data=test123)\n",
    "ax[1].scatter(x=\"x\",y=\"val\",c=\"k\",label=\"test second run\",s=15,data=test123_2)\n",
    "ax[0].set_ylabel(\"Kfold\")\n",
    "ax[0].set_xlabel(\"feature\")\n",
    "ax[0].set_title(\"Shuffled KFold con random state 42\")\n",
    "ax[1].set_ylabel(\"Kfold\")\n",
    "ax[1].set_xlabel(\"feature\")\n",
    "ax[1].set_title(\"Shuffled KFold con random state 123\")\n",
    "plt.suptitle(\"Shuffled KFold\")\n",
    "plt.legend(bbox_to_anchor=(1.05, 1))\n",
    "plt.show()"
   ]
  },
  {
   "cell_type": "markdown",
   "metadata": {},
   "source": [
    "**<font color=red size=3>Kfold varias veces (repetido).** "
   ]
  },
  {
   "cell_type": "code",
   "execution_count": 49,
   "metadata": {},
   "outputs": [],
   "source": [
    "from sklearn.model_selection import RepeatedKFold\n",
    "\n",
    "kf42 = sk.model_selection.KFold(n_splits=3, shuffle=True, random_state=42)\n",
    "krf42 = RepeatedKFold(n_splits=3, n_repeats=2, random_state=42)"
   ]
  },
  {
   "cell_type": "code",
   "execution_count": 50,
   "metadata": {},
   "outputs": [
    {
     "data": {
      "image/png": "[encoded data removed]",
      "text/plain": [
       "<Figure size 1080x360 with 2 Axes>"
      ]
     },
     "metadata": {
      "needs_background": "light"
     },
     "output_type": "display_data"
    }
   ],
   "source": [
    "train42, test42 = kfoldize(kf42,rn)\n",
    "train123, test123 = kfoldize(krf42,rn)\n",
    "#train123_2, test123_2 = kfoldize(kf123,rn,shift=.25)\n",
    "\n",
    "fig,ax = plt.subplots(1,2, figsize=(15,5), sharey=True)\n",
    "ax[0].scatter(x=\"x\",y=\"val\",c=\"b\",label=\"train\",s=15,data=train42) \n",
    "ax[0].scatter(x=\"x\",y=\"val\",c=\"r\",label=\"test\",s=15,data=test42)\n",
    "ax[1].scatter(x=\"x\",y=\"val\",c=\"b\",label=\"train\",s=15,data=train123)\n",
    "ax[1].scatter(x=\"x\",y=\"val\",c=\"r\",label=\"test\",s=15,data=test123)\n",
    "#ax[1].scatter(x=\"x\",y=\"val\",c=\"k\",label=\"test second run\",s=15,data=test123_2)\n",
    "ax[0].set_ylabel(\"Kfold\")\n",
    "ax[0].set_xlabel(\"Feature\")\n",
    "ax[0].set_title(\"Shuffled KFold con random state 42\")\n",
    "ax[1].set_ylabel(\"Kfold\")\n",
    "ax[1].set_xlabel(\"Feature\")\n",
    "ax[1].set_title(\"RepeatedKFold con random state 42\")\n",
    "plt.suptitle(\"Shuffled Repeated KFold\")\n",
    "plt.legend(bbox_to_anchor=(1.05, 1))\n",
    "plt.show()"
   ]
  },
  {
   "cell_type": "markdown",
   "metadata": {},
   "source": [
    "---\n",
    "<font color=red size=6>**Validación Cruzada \"Leave One Out (LOOCV)\"**\n",
    "\n",
    "---"
   ]
  },
  {
   "cell_type": "markdown",
   "metadata": {},
   "source": [
    "**<font color=blue size=3>El método LOOCV en un método iterativo que se inicia empleando como conjunto de entrenamiento todas las observaciones disponibles excepto una, que se excluye para emplearla como validación. Si se emplea una única observación para calcular el error, este varía mucho dependiendo de qué observación se haya seleccionado. Para evitarlo, el proceso se repite tantas veces como observaciones disponibles, excluyendo en cada iteración una observación distinta, ajustando el modelo con el resto y calculando el error con dicha observación. Finalmente, el error estimado por el LOOCV es el promedio de todos lo $i$ errores calculados.** \n",
    "    \n",
    "**<font color=blue size=3>LOOCV es un método de validación muy extendido ya que puede aplicarse para evaluar cualquier tipo de modelo. Sin embargo, los autores de An Introduction to Statistical Learning consideran que, al emplearse todas las observaciones como entrenamiento, se puede estar cayendo en overfitting, por lo que, aun considerándolo muy aceptable, recomiendan emplear K-Fold Cross-Validation.** "
   ]
  },
  {
   "cell_type": "markdown",
   "metadata": {},
   "source": [
    "**<font color=red size=3>Veamos gráficamente.** "
   ]
  },
  {
   "cell_type": "code",
   "execution_count": 51,
   "metadata": {},
   "outputs": [],
   "source": [
    "from sklearn.model_selection import LeaveOneOut\n",
    "\n",
    "kf42 = sk.model_selection.KFold(n_splits=3, shuffle=True, random_state=42)\n",
    "loo = LeaveOneOut()"
   ]
  },
  {
   "cell_type": "code",
   "execution_count": 52,
   "metadata": {},
   "outputs": [
    {
     "data": {
      "image/png": "[encoded data removed]",
      "text/plain": [
       "<Figure size 1080x360 with 2 Axes>"
      ]
     },
     "metadata": {
      "needs_background": "light"
     },
     "output_type": "display_data"
    }
   ],
   "source": [
    "train42, test42 = kfoldize(kf42,rn)\n",
    "train123, test123 = kfoldize(loo,rn)\n",
    "\n",
    "fig,ax = plt.subplots(1,2, figsize=(15,5), sharey=True)\n",
    "ax[0].scatter(x=\"x\",y=\"val\",c=\"b\",label=\"train\",s=15,data=train42) \n",
    "ax[0].scatter(x=\"x\",y=\"val\",c=\"r\",label=\"test\",s=15,data=test42)\n",
    "ax[1].scatter(x=\"x\",y=\"val\",c=\"b\",label=\"train\",s=15,data=train123)\n",
    "ax[1].scatter(x=\"x\",y=\"val\",c=\"r\",label=\"test\",s=15,data=test123)\n",
    "#ax[1].scatter(x=\"x\",y=\"val\",c=\"k\",label=\"test second run\",s=15,data=test123_2)\n",
    "ax[0].set_ylabel(\"Kfold\")\n",
    "ax[0].set_xlabel(\"feature\")\n",
    "ax[0].set_title(\"Shuffled KFold with random state 42\")\n",
    "ax[1].set_ylabel(\"Kfold\")\n",
    "ax[1].set_xlabel(\"feature\")\n",
    "ax[1].set_title(\"LeaveOneOut on range 1 to 25\")\n",
    "plt.suptitle(\"Comparison of KFold and LeaveOneOut\")\n",
    "plt.legend(bbox_to_anchor=(1.05, 1))\n",
    "plt.show()"
   ]
  },
  {
   "cell_type": "code",
   "execution_count": null,
   "metadata": {},
   "outputs": [],
   "source": []
  }
 ],
 "metadata": {
  "kernelspec": {
   "display_name": "Python 3",
   "language": "python",
   "name": "python3"
  },
  "language_info": {
   "codemirror_mode": {
    "name": "ipython",
    "version": 3
   },
   "file_extension": ".py",
   "mimetype": "text/x-python",
   "name": "python",
   "nbconvert_exporter": "python",
   "pygments_lexer": "ipython3",
   "version": "3.8.5"
  }
 },
 "nbformat": 4,
 "nbformat_minor": 4
}
