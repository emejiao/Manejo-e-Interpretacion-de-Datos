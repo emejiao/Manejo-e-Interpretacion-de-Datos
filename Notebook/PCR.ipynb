{
 "cells": [
  {
   "cell_type": "markdown",
   "metadata": {
    "slideshow": {
     "slide_type": "slide"
    }
   },
   "source": [
    "<div class=\"alert alert-success\" role=\"alert\">\n",
    "  <h1 class=\"alert-heading\">Regresión Componentes Principales (PCR)</h1>\n",
    "  <h3 class=\"alert-heading\">Prof. Enrique Mejía Ospino, emejia@uis.edu.co</h3>\n",
    "  <h4 class=\"alert-heading\">Escuela de Química</h4>\n",
    "  <h5 class=\"alert-heading\">Universidad Industrial de Santander</h5>\n",
    "  <p>\n",
    "  </div>"
   ]
  },
  {
   "cell_type": "markdown",
   "metadata": {},
   "source": [
    "<p style=\"text-align:justify\"><div class=\"alert alert-success\">\n",
    "\n",
    "## <font color=black> Regresión Componentes Principales (PCR)\n",
    "**<font color=black> La regresión de componentes principales (PCR) se puede realizar usando la función PCA() de la biblioteca (sklearn). Aplicaremos la PCR a los datos que hemos utilzado ante, para predecir la propiedad.**"
   ]
  },
  {
   "cell_type": "code",
   "execution_count": 1,
   "metadata": {},
   "outputs": [],
   "source": [
    "import pandas as pd\n",
    "import numpy as np\n",
    "import matplotlib.pyplot as plt\n",
    "\n",
    "from sklearn.preprocessing import scale, StandardScaler, Normalizer\n",
    "from sklearn.model_selection import cross_val_predict, KFold, StratifiedKFold, train_test_split, cross_validate, cross_val_score\n",
    "from sklearn import preprocessing\n",
    "from sklearn import model_selection\n",
    "from sklearn.decomposition import PCA\n",
    "from sklearn.linear_model import LinearRegression\n",
    "from sklearn.cross_decomposition import PLSRegression, PLSSVD\n",
    "from sklearn.metrics import mean_squared_error, r2_score\n",
    "import scipy.io #scipy.io me permite leer datos construidos en matlab\n",
    "from scipy import stats # importando scipy.stats\n",
    "from scipy.signal import savgol_filter\n",
    "import scipy as sio\n",
    "%matplotlib inline"
   ]
  },
  {
   "cell_type": "markdown",
   "metadata": {},
   "source": [
    "**<font color=blue> Vamos  atilizar para este ejemplo dos archivos en formato de Matlab que contienen (espectros.mat), el primero, las intensidades de espectros FTICR de 40 muestras crudos fracciones y el segundo (propiedad.mat) el valor medido de una propiedad ccr de las muestras.** "
   ]
  },
  {
   "cell_type": "code",
   "execution_count": 3,
   "metadata": {},
   "outputs": [],
   "source": [
    "espectros = scipy.io.loadmat('C://Users/Enrique Mejia/Documents/Data_processing/data_ms_ccr.mat')# \n",
    "propiedad = scipy.io.loadmat('C://Users/Enrique Mejia/Documents/Data_processing/prop_ccr.mat')#"
   ]
  },
  {
   "cell_type": "code",
   "execution_count": 4,
   "metadata": {},
   "outputs": [
    {
     "data": {
      "text/plain": [
       "((40, 59692), (40, 1))"
      ]
     },
     "execution_count": 4,
     "metadata": {},
     "output_type": "execute_result"
    }
   ],
   "source": [
    "espectros['data1'].shape, propiedad['data'].shape # miramos la forma para ver si concuerdan, en este\n",
    "# caso 40 muestras y 59692 señales de masas"
   ]
  },
  {
   "cell_type": "code",
   "execution_count": 6,
   "metadata": {},
   "outputs": [],
   "source": [
    "data_prop=propiedad['data']\n",
    "data_signals=espectros['data1']\n",
    "#xftir=np.transpose(xftir)# usamos la transpuesta del archivo si es necesario"
   ]
  },
  {
   "cell_type": "markdown",
   "metadata": {},
   "source": [
    "**<font color=blue> Se realizará un sencillo pre-procesamiento a los espectros, para este ejemplo, podemos escalar los datos con la función StandardScaler o Normalizar con la función Normalizer.  Escogeremos alguna de las dos y luego hacemos la Regresión lineal.** "
   ]
  },
  {
   "cell_type": "code",
   "execution_count": 7,
   "metadata": {},
   "outputs": [],
   "source": [
    "#normalizamos los datos\n",
    "scaler=StandardScaler()\n",
    "norma=Normalizer()\n",
    "\n",
    "scaler.fit(data_signals) # calculo la media para poder hacer la transformacion\n",
    "x_scaled=scaler.transform(data_signals)# Ahora si, escalo los datos y los normalizo\n",
    "x_norm = preprocessing.normalize(data_signals, norm='l1')# Normaliza los datos\n",
    "x_nsd = savgol_filter(x_norm, 17, polyorder=2, deriv=2) # Realiza segunda derivada de los datos"
   ]
  },
  {
   "cell_type": "code",
   "execution_count": 8,
   "metadata": {},
   "outputs": [
    {
     "data": {
      "text/html": [
       "<div>\n",
       "<style scoped>\n",
       "    .dataframe tbody tr th:only-of-type {\n",
       "        vertical-align: middle;\n",
       "    }\n",
       "\n",
       "    .dataframe tbody tr th {\n",
       "        vertical-align: top;\n",
       "    }\n",
       "\n",
       "    .dataframe thead th {\n",
       "        text-align: right;\n",
       "    }\n",
       "</style>\n",
       "<table border=\"1\" class=\"dataframe\">\n",
       "  <thead>\n",
       "    <tr style=\"text-align: right;\">\n",
       "      <th></th>\n",
       "      <th>0</th>\n",
       "      <th>1</th>\n",
       "      <th>2</th>\n",
       "      <th>3</th>\n",
       "      <th>4</th>\n",
       "      <th>5</th>\n",
       "      <th>6</th>\n",
       "      <th>7</th>\n",
       "      <th>8</th>\n",
       "      <th>9</th>\n",
       "      <th>...</th>\n",
       "      <th>30</th>\n",
       "      <th>31</th>\n",
       "      <th>32</th>\n",
       "      <th>33</th>\n",
       "      <th>34</th>\n",
       "      <th>35</th>\n",
       "      <th>36</th>\n",
       "      <th>37</th>\n",
       "      <th>38</th>\n",
       "      <th>39</th>\n",
       "    </tr>\n",
       "  </thead>\n",
       "  <tbody>\n",
       "    <tr>\n",
       "      <th>0</th>\n",
       "      <td>0.021331</td>\n",
       "      <td>-0.007735</td>\n",
       "      <td>-0.005562</td>\n",
       "      <td>-0.020191</td>\n",
       "      <td>-0.000548</td>\n",
       "      <td>0.030541</td>\n",
       "      <td>-0.041710</td>\n",
       "      <td>-0.018757</td>\n",
       "      <td>-0.095712</td>\n",
       "      <td>-0.126058</td>\n",
       "      <td>...</td>\n",
       "      <td>0.014878</td>\n",
       "      <td>-0.005509</td>\n",
       "      <td>0.027042</td>\n",
       "      <td>0.025043</td>\n",
       "      <td>0.030201</td>\n",
       "      <td>-0.066483</td>\n",
       "      <td>-0.004331</td>\n",
       "      <td>0.006320</td>\n",
       "      <td>0.017664</td>\n",
       "      <td>0.465556</td>\n",
       "    </tr>\n",
       "    <tr>\n",
       "      <th>1</th>\n",
       "      <td>0.033265</td>\n",
       "      <td>-0.013120</td>\n",
       "      <td>-0.016924</td>\n",
       "      <td>-0.035159</td>\n",
       "      <td>-0.008629</td>\n",
       "      <td>0.052307</td>\n",
       "      <td>-0.085238</td>\n",
       "      <td>-0.000234</td>\n",
       "      <td>-0.114689</td>\n",
       "      <td>-0.089838</td>\n",
       "      <td>...</td>\n",
       "      <td>-0.073895</td>\n",
       "      <td>-0.041701</td>\n",
       "      <td>0.008526</td>\n",
       "      <td>0.052980</td>\n",
       "      <td>-0.002668</td>\n",
       "      <td>0.007243</td>\n",
       "      <td>-0.024222</td>\n",
       "      <td>-0.031259</td>\n",
       "      <td>0.073920</td>\n",
       "      <td>0.153559</td>\n",
       "    </tr>\n",
       "    <tr>\n",
       "      <th>2</th>\n",
       "      <td>0.054649</td>\n",
       "      <td>-0.012915</td>\n",
       "      <td>-0.040547</td>\n",
       "      <td>-0.055826</td>\n",
       "      <td>-0.044378</td>\n",
       "      <td>0.058339</td>\n",
       "      <td>-0.132005</td>\n",
       "      <td>-0.003010</td>\n",
       "      <td>-0.090506</td>\n",
       "      <td>-0.028600</td>\n",
       "      <td>...</td>\n",
       "      <td>-0.011947</td>\n",
       "      <td>0.027987</td>\n",
       "      <td>0.000545</td>\n",
       "      <td>0.033499</td>\n",
       "      <td>0.009374</td>\n",
       "      <td>0.015544</td>\n",
       "      <td>-0.005680</td>\n",
       "      <td>0.000297</td>\n",
       "      <td>0.060257</td>\n",
       "      <td>-0.049306</td>\n",
       "    </tr>\n",
       "    <tr>\n",
       "      <th>3</th>\n",
       "      <td>0.061209</td>\n",
       "      <td>0.008382</td>\n",
       "      <td>-0.016939</td>\n",
       "      <td>-0.007924</td>\n",
       "      <td>-0.049698</td>\n",
       "      <td>-0.001737</td>\n",
       "      <td>0.048459</td>\n",
       "      <td>-0.002009</td>\n",
       "      <td>0.044490</td>\n",
       "      <td>-0.049859</td>\n",
       "      <td>...</td>\n",
       "      <td>0.014446</td>\n",
       "      <td>0.074010</td>\n",
       "      <td>-0.004808</td>\n",
       "      <td>-0.003160</td>\n",
       "      <td>0.071877</td>\n",
       "      <td>-0.040656</td>\n",
       "      <td>0.039219</td>\n",
       "      <td>0.122718</td>\n",
       "      <td>-0.019897</td>\n",
       "      <td>0.133458</td>\n",
       "    </tr>\n",
       "    <tr>\n",
       "      <th>4</th>\n",
       "      <td>0.065865</td>\n",
       "      <td>-0.013969</td>\n",
       "      <td>-0.050596</td>\n",
       "      <td>-0.064185</td>\n",
       "      <td>-0.069716</td>\n",
       "      <td>0.081100</td>\n",
       "      <td>-0.108193</td>\n",
       "      <td>0.064194</td>\n",
       "      <td>-0.127093</td>\n",
       "      <td>-0.037818</td>\n",
       "      <td>...</td>\n",
       "      <td>-0.097950</td>\n",
       "      <td>-0.086101</td>\n",
       "      <td>0.018722</td>\n",
       "      <td>0.056309</td>\n",
       "      <td>-0.024535</td>\n",
       "      <td>0.025167</td>\n",
       "      <td>0.000790</td>\n",
       "      <td>0.009938</td>\n",
       "      <td>0.007303</td>\n",
       "      <td>-0.245213</td>\n",
       "    </tr>\n",
       "  </tbody>\n",
       "</table>\n",
       "<p>5 rows × 40 columns</p>\n",
       "</div>"
      ],
      "text/plain": [
       "         0         1         2         3         4         5         6   \\\n",
       "0  0.021331 -0.007735 -0.005562 -0.020191 -0.000548  0.030541 -0.041710   \n",
       "1  0.033265 -0.013120 -0.016924 -0.035159 -0.008629  0.052307 -0.085238   \n",
       "2  0.054649 -0.012915 -0.040547 -0.055826 -0.044378  0.058339 -0.132005   \n",
       "3  0.061209  0.008382 -0.016939 -0.007924 -0.049698 -0.001737  0.048459   \n",
       "4  0.065865 -0.013969 -0.050596 -0.064185 -0.069716  0.081100 -0.108193   \n",
       "\n",
       "         7         8         9   ...        30        31        32        33  \\\n",
       "0 -0.018757 -0.095712 -0.126058  ...  0.014878 -0.005509  0.027042  0.025043   \n",
       "1 -0.000234 -0.114689 -0.089838  ... -0.073895 -0.041701  0.008526  0.052980   \n",
       "2 -0.003010 -0.090506 -0.028600  ... -0.011947  0.027987  0.000545  0.033499   \n",
       "3 -0.002009  0.044490 -0.049859  ...  0.014446  0.074010 -0.004808 -0.003160   \n",
       "4  0.064194 -0.127093 -0.037818  ... -0.097950 -0.086101  0.018722  0.056309   \n",
       "\n",
       "         34        35        36        37        38        39  \n",
       "0  0.030201 -0.066483 -0.004331  0.006320  0.017664  0.465556  \n",
       "1 -0.002668  0.007243 -0.024222 -0.031259  0.073920  0.153559  \n",
       "2  0.009374  0.015544 -0.005680  0.000297  0.060257 -0.049306  \n",
       "3  0.071877 -0.040656  0.039219  0.122718 -0.019897  0.133458  \n",
       "4 -0.024535  0.025167  0.000790  0.009938  0.007303 -0.245213  \n",
       "\n",
       "[5 rows x 40 columns]"
      ]
     },
     "execution_count": 8,
     "metadata": {},
     "output_type": "execute_result"
    }
   ],
   "source": [
    "pca = PCA()\n",
    "X_reduced = pca.fit_transform((x_norm))\n",
    "pd.DataFrame(pca.components_.T).loc[:4,:100]"
   ]
  },
  {
   "cell_type": "code",
   "execution_count": 12,
   "metadata": {},
   "outputs": [],
   "source": [
    "# Crear el modelo de regresión lineal\n",
    "regr = LinearRegression()\n",
    "\n",
    "# Realizar el ajuste con los datos reducidos\n",
    "X_reduced_pc = pca.fit_transform((x_norm))[:, :9]\n",
    "regr.fit(X_reduced_pc, data_prop)\n",
    "y_pred = regr.predict(X_reduced_pc)"
   ]
  },
  {
   "cell_type": "code",
   "execution_count": 13,
   "metadata": {},
   "outputs": [
    {
     "name": "stdout",
     "output_type": "stream",
     "text": [
      "MSE = 14.48\n",
      "r2 = 0.85\n",
      "rpd = 2.55\n"
     ]
    }
   ],
   "source": [
    "# Calculamos algunas métricas\n",
    "r2 = r2_score(data_prop, y_pred)\n",
    "mse = mean_squared_error(data_prop, y_pred)\n",
    "rpd = data_prop.std()/np.sqrt(mse)\n",
    "#round(score_c, 2), round(mse, 2), round(rpd, 2)\n",
    "print('MSE = ' + str(round(mse, 2)))\n",
    "print('r2 = ' + str(round(r2, 2)))\n",
    "print('rpd = ' + str(round(rpd, 2)))"
   ]
  },
  {
   "cell_type": "code",
   "execution_count": 14,
   "metadata": {
    "collapsed": false,
    "jupyter": {
     "outputs_hidden": false
    }
   },
   "outputs": [
    {
     "data": {
      "image/png": "[encoded data removed]",
      "text/plain": [
       "<Figure size 432x288 with 1 Axes>"
      ]
     },
     "metadata": {
      "needs_background": "light"
     },
     "output_type": "display_data"
    }
   ],
   "source": [
    "ax = plt.gca()\n",
    "ax.scatter(data_prop, y_pred, edgecolors=(0, 0, 0), color='red')\n",
    "ax.plot([data_prop.min(), data_prop.max()], [data_prop.min(), data_prop.max()], 'k--', lw=3)\n",
    "plt.title('PCR model')\n",
    "plt.xlabel('Measured')\n",
    "plt.ylabel('Predicted')\n",
    "plt.show()"
   ]
  },
  {
   "cell_type": "code",
   "execution_count": 15,
   "metadata": {},
   "outputs": [],
   "source": [
    "# Separamos las muestras\n",
    "x_train, x_test , y_train, y_test = model_selection.train_test_split(x_norm, data_prop, test_size=0.7, random_state=1, shuffle=False)"
   ]
  },
  {
   "cell_type": "code",
   "execution_count": 16,
   "metadata": {},
   "outputs": [],
   "source": [
    "def optimise_pcr(X, y, n_comp):\n",
    "    \n",
    "    # Definimos PCR y el número de componentes\n",
    "    pcr = LinearRegression()\n",
    "    X = pca.fit_transform((X))[:, :n_comp]\n",
    "    pcr.fit(X, y)\n",
    "    y_pred1 = pcr.predict(X)\n",
    "    # Calculamos métricas\n",
    "    r2 = r2_score(y, y_pred1)\n",
    "    mse = mean_squared_error(y, y_pred1)\n",
    "    rpd = y.std()/np.sqrt(mse)\n",
    "    \n",
    "    return (y_pred1, r2, mse, rpd)"
   ]
  },
  {
   "cell_type": "code",
   "execution_count": 17,
   "metadata": {},
   "outputs": [],
   "source": [
    "# probamos con 20 componentes\n",
    "r2s = []\n",
    "mses = []\n",
    "rpds = []\n",
    "yp1 = []\n",
    "arr_comp = np.arange(1, 21)\n",
    "for n_comp in arr_comp:\n",
    "    y_pred1, r2, mse, rpd = optimise_pcr(x_train, y_train, n_comp)\n",
    "    r2s.append(r2)\n",
    "    mses.append(mse)\n",
    "    rpds.append(rpd)\n",
    "    yp1.append(y_pred1)"
   ]
  },
  {
   "cell_type": "code",
   "execution_count": 18,
   "metadata": {},
   "outputs": [
    {
     "data": {
      "image/png": "[encoded data removed]",
      "text/plain": [
       "<Figure size 432x288 with 2 Axes>"
      ]
     },
     "metadata": {
      "needs_background": "light"
     },
     "output_type": "display_data"
    }
   ],
   "source": [
    "fig, (ax1, ax2) = plt.subplots(2, 1)\n",
    "#fig, ax = plt.subplots()\n",
    "ax1.scatter(arr_comp, r2s, edgecolors=(0, 0, 0))\n",
    "ax1.plot(arr_comp, r2s, 'k-')\n",
    "ax1.plot(arr_comp[np.argmax(r2s)], np.array(r2s)[np.argmax(r2s)], 'o', ms=8, mfc='red')\n",
    "ax1.set_xlabel('Number of components')\n",
    "ax1.set_ylabel('$R^2$')\n",
    "\n",
    "\n",
    "ax2.scatter(arr_comp, mses, color='yellow', edgecolors=(0, 0, 0))\n",
    "ax2.plot(arr_comp, mses, 'k-')\n",
    "ax2.plot(arr_comp[np.argmin(mses)], np.array(mses)[np.argmin(mses)], 'o', ms=8, mfc='orange')\n",
    "ax2.set_xlabel('Number of components')\n",
    "ax2.set_ylabel('$MSE$')\n",
    "plt.show()"
   ]
  },
  {
   "cell_type": "code",
   "execution_count": 19,
   "metadata": {},
   "outputs": [
    {
     "data": {
      "image/png": "[encoded data removed]",
      "text/plain": [
       "<Figure size 432x288 with 1 Axes>"
      ]
     },
     "metadata": {
      "needs_background": "light"
     },
     "output_type": "display_data"
    },
    {
     "name": "stdout",
     "output_type": "stream",
     "text": [
      "MSE = 0.0\n"
     ]
    }
   ],
   "source": [
    "fig, ax = plt.subplots()\n",
    "ax.scatter(y_train, yp1[8], color='red', edgecolors=(0, 0, 0))\n",
    "ax.plot([y_train.min(), y_train.max()], [y_train.min(), y_train.max()], 'k--', lw=3)\n",
    "ax.set_xlabel('Measured')\n",
    "ax.set_ylabel('Predicted')\n",
    "plt.show()\n",
    "print('MSE = ' + str(round(mean_squared_error(y_train, yp1[8]), 2)))"
   ]
  },
  {
   "cell_type": "code",
   "execution_count": 21,
   "metadata": {
    "collapsed": false,
    "jupyter": {
     "outputs_hidden": false
    }
   },
   "outputs": [
    {
     "data": {
      "text/plain": [
       "212.88929847926187"
      ]
     },
     "execution_count": 21,
     "metadata": {},
     "output_type": "execute_result"
    }
   ],
   "source": [
    "X_reduced_test = pca.transform((x_test))[:,:8]\n",
    "X_reduced_train = pca.transform((x_train))[:,:8]\n",
    "# Train regression model on training data \n",
    "regr = LinearRegression()\n",
    "regr.fit(X_reduced_train[:,:8], y_train)\n",
    "\n",
    "# Prediction with test data\n",
    "y_pred_test = regr.predict(X_reduced_test)\n",
    "mean_squared_error(y_test, y_pred_test)"
   ]
  },
  {
   "cell_type": "code",
   "execution_count": 22,
   "metadata": {},
   "outputs": [
    {
     "data": {
      "image/png": "[encoded data removed]",
      "text/plain": [
       "<Figure size 432x288 with 1 Axes>"
      ]
     },
     "metadata": {
      "needs_background": "light"
     },
     "output_type": "display_data"
    },
    {
     "name": "stdout",
     "output_type": "stream",
     "text": [
      "MSE = 0.0\n"
     ]
    }
   ],
   "source": [
    "fig, ax = plt.subplots()\n",
    "ax.scatter(y_train, yp1[8], color='red', edgecolors=(0, 0, 0))\n",
    "ax.scatter(y_test, y_pred_test, color='green', edgecolors=(0, 0, 0))\n",
    "ax.plot([y_train.min(), y_train.max()], [y_train.min(), y_train.max()], 'k--', lw=3)\n",
    "ax.set_xlabel('Measured')\n",
    "ax.set_ylabel('Predicted')\n",
    "plt.show()\n",
    "print('MSE = ' + str(round(mean_squared_error(y_train, yp1[8]), 2)))"
   ]
  },
  {
   "cell_type": "code",
   "execution_count": 27,
   "metadata": {},
   "outputs": [
    {
     "name": "stdout",
     "output_type": "stream",
     "text": [
      "MSE. 1 on the test set: 35.74005983391057\n",
      "R2. 1 on the test set: 0.7286221417425769\n",
      "MSE. 2 on the test set: 20.62683435980157\n",
      "R2. 2 on the test set: 0.7787015052345012\n",
      "MSE. 3 on the test set: 9.28296807448655\n",
      "R2. 3 on the test set: 0.8650407595138107\n",
      "MSE. 4 on the test set: 26.206406090918986\n",
      "R2. 4 on the test set: 0.7193798623325132\n",
      "MSE. 5 on the test set: 22.31482776250942\n",
      "R2. 5 on the test set: 0.2943640356879156\n"
     ]
    }
   ],
   "source": [
    "from sklearn.metrics import accuracy_score, classification_report, mean_squared_error, r2_score\n",
    "kf = KFold(n_splits=5, shuffle=True, random_state=42) # Vamos hacer 5 separaciones sin barajar en cada separación\n",
    "model=LinearRegression()\n",
    "x_traint = [] # Creamos arreglos de cada grupo de datos en los que almacenamos las diferentes divisiones \n",
    "x_testt = [] # Luego podremos utilizar la mejor separación para obtener el modelo más apropiado\n",
    "y_traint = []\n",
    "y_testt = []\n",
    "r2s = []\n",
    "mses = []\n",
    "x_reduced = pca.transform((x_norm))[:,:8]\n",
    "i = 1\n",
    "for train_index, test_index in kf.split(x_reduced):\n",
    "    x_train = x_reduced[train_index]\n",
    "    x_test = x_reduced[test_index]\n",
    "    y_train = data_prop[train_index]\n",
    "    y_test = data_prop[test_index]\n",
    "    model.fit(x_train, y_train) #\n",
    "    mse = mean_squared_error(y_test, model.predict(x_test))\n",
    "    r2= r2_score(y_test, model.predict(x_test))\n",
    "    \n",
    "    # Almacenamos cada grupo en los arreglos creados\n",
    "    x_traint.append(x_train) \n",
    "    x_testt.append(x_test)\n",
    "    y_traint.append(y_train)\n",
    "    y_testt.append(y_test)\n",
    "    r2s.append(r2)\n",
    "    mses.append(mse)\n",
    "   \n",
    "    # Entrenamos el modelo para cada separación the model\n",
    "    model.fit(x_train, y_train) #Training the model\n",
    "    print(f\"MSE. {i} on the test set: {mean_squared_error(y_test, model.predict(x_test))}\")\n",
    "    print(f\"R2. {i} on the test set: {r2_score(y_test, model.predict(x_test))}\")\n",
    "    i += 1"
   ]
  },
  {
   "cell_type": "code",
   "execution_count": 28,
   "metadata": {},
   "outputs": [
    {
     "data": {
      "image/png": "[encoded data removed]",
      "text/plain": [
       "<Figure size 432x288 with 1 Axes>"
      ]
     },
     "metadata": {
      "needs_background": "light"
     },
     "output_type": "display_data"
    }
   ],
   "source": [
    "y_tr=np.array(y_traint[r2s.index(max(r2s))]) # Escogemos el mejor set a partir del que presente el\n",
    "y_te=np.array(y_testt[r2s.index(max(r2s))]) # el valor máximo de r2. Podríamos también elegir el que\n",
    "X_tr=np.array(x_traint[r2s.index(max(r2s))]) # presente el menor valor del mse\n",
    "X_te=np.array(x_testt[r2s.index(max(r2s))])\n",
    "model.fit(X_tr, y_tr) # Ejecutamos el modelo PLS con el set de entranamiento de mejor comportamiento\n",
    "\n",
    "Y_pred = model.predict(X_tr) # Con el modelo predicimos los valos de la propiedad\n",
    "Y_pred_test = model.predict(X_te) # Evaluamos las muestras de prueba\n",
    "\n",
    "fig, ax = plt.subplots()\n",
    "ax.scatter(y_tr, Y_pred, edgecolors=(0, 0, 0))\n",
    "ax.scatter(y_te, Y_pred_test, color='red', label='test set', edgecolors=(0, 0, 0))\n",
    "ax.plot([y_tr.min(), y_tr.max()], [y_tr.min(), y_tr.max()], 'k--', lw=3)\n",
    "ax.text(30,8, r\"$MSE = \"+str(\"{0:.2f}\".format(mean_squared_error(y_te, Y_pred_test)))+r\"$\", fontsize=12, color=\"black\")\n",
    "ax.text(30,5.5, r\"$R^2 = \"+str(\"{0:.2f}\".format(r2_score(y_tr, Y_pred)))+r\"$\", fontsize=12, color=\"black\")\n",
    "ax.set_xlabel('Measured')\n",
    "ax.set_ylabel('Predicted')\n",
    "plt.show()"
   ]
  },
  {
   "cell_type": "code",
   "execution_count": null,
   "metadata": {},
   "outputs": [],
   "source": []
  }
 ],
 "metadata": {
  "kernelspec": {
   "display_name": "Python 3 (ipykernel)",
   "language": "python",
   "name": "python3"
  },
  "language_info": {
   "codemirror_mode": {
    "name": "ipython",
    "version": 3
   },
   "file_extension": ".py",
   "mimetype": "text/x-python",
   "name": "python",
   "nbconvert_exporter": "python",
   "pygments_lexer": "ipython3",
   "version": "3.9.7"
  },
  "toc-autonumbering": false,
  "toc-showmarkdowntxt": true,
  "toc-showtags": false
 },
 "nbformat": 4,
 "nbformat_minor": 4
}
