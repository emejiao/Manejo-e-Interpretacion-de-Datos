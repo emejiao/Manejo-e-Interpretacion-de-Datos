{
 "cells": [
  {
   "cell_type": "code",
   "execution_count": 1,
   "metadata": {},
   "outputs": [],
   "source": [
    "import pandas as pd\n",
    "import numpy as np\n",
    "import matplotlib.pyplot as plt\n",
    "import seaborn as sns"
   ]
  },
  {
   "cell_type": "code",
   "execution_count": 2,
   "metadata": {},
   "outputs": [],
   "source": [
    "from sklearn.datasets import make_blobs"
   ]
  },
  {
   "cell_type": "markdown",
   "metadata": {},
   "source": [
    "# Multi class classification\n",
    "\n",
    "## 4 classes specified by passing 4 to the centers argument "
   ]
  },
  {
   "cell_type": "code",
   "execution_count": 3,
   "metadata": {},
   "outputs": [],
   "source": [
    "data = make_blobs(n_samples=500, n_features=5, centers=4, cluster_std=4, random_state=101)"
   ]
  },
  {
   "cell_type": "code",
   "execution_count": 4,
   "metadata": {},
   "outputs": [
    {
     "data": {
      "text/plain": [
       "tuple"
      ]
     },
     "execution_count": 4,
     "metadata": {},
     "output_type": "execute_result"
    }
   ],
   "source": [
    "type(data)"
   ]
  },
  {
   "cell_type": "code",
   "execution_count": 5,
   "metadata": {},
   "outputs": [],
   "source": [
    "df_feat = pd.DataFrame(data[0], columns=['feature_' + str(i) for i in range(5)])"
   ]
  },
  {
   "cell_type": "code",
   "execution_count": 6,
   "metadata": {},
   "outputs": [
    {
     "data": {
      "text/html": [
       "<div>\n",
       "<style scoped>\n",
       "    .dataframe tbody tr th:only-of-type {\n",
       "        vertical-align: middle;\n",
       "    }\n",
       "\n",
       "    .dataframe tbody tr th {\n",
       "        vertical-align: top;\n",
       "    }\n",
       "\n",
       "    .dataframe thead th {\n",
       "        text-align: right;\n",
       "    }\n",
       "</style>\n",
       "<table border=\"1\" class=\"dataframe\">\n",
       "  <thead>\n",
       "    <tr style=\"text-align: right;\">\n",
       "      <th></th>\n",
       "      <th>feature_0</th>\n",
       "      <th>feature_1</th>\n",
       "      <th>feature_2</th>\n",
       "      <th>feature_3</th>\n",
       "      <th>feature_4</th>\n",
       "    </tr>\n",
       "  </thead>\n",
       "  <tbody>\n",
       "    <tr>\n",
       "      <th>0</th>\n",
       "      <td>-1.428540</td>\n",
       "      <td>-4.590813</td>\n",
       "      <td>-5.197088</td>\n",
       "      <td>0.850302</td>\n",
       "      <td>5.714541</td>\n",
       "    </tr>\n",
       "    <tr>\n",
       "      <th>1</th>\n",
       "      <td>-10.514609</td>\n",
       "      <td>-6.233426</td>\n",
       "      <td>5.418929</td>\n",
       "      <td>9.608892</td>\n",
       "      <td>-3.077988</td>\n",
       "    </tr>\n",
       "    <tr>\n",
       "      <th>2</th>\n",
       "      <td>-8.607164</td>\n",
       "      <td>-6.427502</td>\n",
       "      <td>2.547316</td>\n",
       "      <td>3.857882</td>\n",
       "      <td>-0.638965</td>\n",
       "    </tr>\n",
       "    <tr>\n",
       "      <th>3</th>\n",
       "      <td>-9.009029</td>\n",
       "      <td>-1.484229</td>\n",
       "      <td>2.237023</td>\n",
       "      <td>0.501287</td>\n",
       "      <td>-8.987792</td>\n",
       "    </tr>\n",
       "    <tr>\n",
       "      <th>4</th>\n",
       "      <td>6.583417</td>\n",
       "      <td>-9.575847</td>\n",
       "      <td>-6.841777</td>\n",
       "      <td>5.856340</td>\n",
       "      <td>15.228113</td>\n",
       "    </tr>\n",
       "    <tr>\n",
       "      <th>...</th>\n",
       "      <td>...</td>\n",
       "      <td>...</td>\n",
       "      <td>...</td>\n",
       "      <td>...</td>\n",
       "      <td>...</td>\n",
       "    </tr>\n",
       "    <tr>\n",
       "      <th>495</th>\n",
       "      <td>-5.605992</td>\n",
       "      <td>1.598273</td>\n",
       "      <td>-11.321224</td>\n",
       "      <td>6.468432</td>\n",
       "      <td>16.150225</td>\n",
       "    </tr>\n",
       "    <tr>\n",
       "      <th>496</th>\n",
       "      <td>0.981713</td>\n",
       "      <td>-5.794576</td>\n",
       "      <td>-5.822217</td>\n",
       "      <td>9.681262</td>\n",
       "      <td>6.369389</td>\n",
       "    </tr>\n",
       "    <tr>\n",
       "      <th>497</th>\n",
       "      <td>0.345788</td>\n",
       "      <td>-5.852270</td>\n",
       "      <td>5.008501</td>\n",
       "      <td>-2.691871</td>\n",
       "      <td>-4.461119</td>\n",
       "    </tr>\n",
       "    <tr>\n",
       "      <th>498</th>\n",
       "      <td>0.693136</td>\n",
       "      <td>-11.724977</td>\n",
       "      <td>-8.581436</td>\n",
       "      <td>3.893372</td>\n",
       "      <td>7.820085</td>\n",
       "    </tr>\n",
       "    <tr>\n",
       "      <th>499</th>\n",
       "      <td>3.242632</td>\n",
       "      <td>-6.429240</td>\n",
       "      <td>4.894358</td>\n",
       "      <td>0.118633</td>\n",
       "      <td>-5.381424</td>\n",
       "    </tr>\n",
       "  </tbody>\n",
       "</table>\n",
       "<p>500 rows × 5 columns</p>\n",
       "</div>"
      ],
      "text/plain": [
       "     feature_0  feature_1  feature_2  feature_3  feature_4\n",
       "0    -1.428540  -4.590813  -5.197088   0.850302   5.714541\n",
       "1   -10.514609  -6.233426   5.418929   9.608892  -3.077988\n",
       "2    -8.607164  -6.427502   2.547316   3.857882  -0.638965\n",
       "3    -9.009029  -1.484229   2.237023   0.501287  -8.987792\n",
       "4     6.583417  -9.575847  -6.841777   5.856340  15.228113\n",
       "..         ...        ...        ...        ...        ...\n",
       "495  -5.605992   1.598273 -11.321224   6.468432  16.150225\n",
       "496   0.981713  -5.794576  -5.822217   9.681262   6.369389\n",
       "497   0.345788  -5.852270   5.008501  -2.691871  -4.461119\n",
       "498   0.693136 -11.724977  -8.581436   3.893372   7.820085\n",
       "499   3.242632  -6.429240   4.894358   0.118633  -5.381424\n",
       "\n",
       "[500 rows x 5 columns]"
      ]
     },
     "execution_count": 6,
     "metadata": {},
     "output_type": "execute_result"
    }
   ],
   "source": [
    "df_feat"
   ]
  },
  {
   "cell_type": "code",
   "execution_count": 7,
   "metadata": {},
   "outputs": [],
   "source": [
    "y = data[1]"
   ]
  },
  {
   "cell_type": "code",
   "execution_count": 9,
   "metadata": {},
   "outputs": [
    {
     "data": {
      "text/plain": [
       "array([0, 3, 3, 3, 2, 1, 3, 2, 0, 2, 0, 1, 0, 2, 1, 0, 0, 1, 1, 3, 0, 0,\n",
       "       1, 0, 2, 3, 1, 2, 0, 1, 2, 3, 1, 3, 3, 2, 0, 0, 0, 3, 2, 3, 0, 2,\n",
       "       0, 3, 1, 0, 1, 0, 3, 1, 1, 2, 1, 2, 1, 0, 1, 1, 1, 2, 2, 2, 0, 3,\n",
       "       0, 2, 3, 0, 2, 1, 1, 1, 3, 1, 2, 2, 3, 2, 2, 0, 1, 0, 0, 3, 0, 3,\n",
       "       0, 2, 3, 1, 1, 0, 1, 0, 3, 1, 3, 0, 3, 3, 2, 2, 3, 0, 2, 0, 0, 1,\n",
       "       0, 2, 0, 3, 3, 0, 1, 2, 2, 3, 2, 2, 3, 3, 1, 2, 0, 3, 2, 2, 0, 0,\n",
       "       1, 0, 1, 3, 1, 3, 2, 0, 2, 1, 3, 1, 2, 0, 0, 0, 0, 3, 2, 1, 3, 1,\n",
       "       3, 1, 2, 2, 1, 2, 0, 1, 3, 1, 1, 3, 0, 3, 3, 3, 2, 2, 0, 2, 0, 2,\n",
       "       1, 2, 1, 0, 0, 2, 1, 2, 2, 3, 1, 0, 2, 2, 2, 1, 1, 0, 2, 1, 0, 3,\n",
       "       1, 1, 3, 3, 2, 2, 2, 2, 1, 2, 0, 3, 1, 3, 1, 2, 1, 0, 2, 2, 2, 2,\n",
       "       3, 3, 2, 1, 2, 2, 3, 0, 0, 1, 0, 0, 1, 0, 0, 0, 0, 0, 2, 1, 1, 1,\n",
       "       1, 1, 2, 2, 1, 1, 1, 3, 1, 0, 1, 2, 1, 1, 1, 1, 3, 3, 0, 2, 1, 1,\n",
       "       0, 2, 0, 3, 0, 3, 0, 2, 1, 2, 1, 2, 3, 1, 3, 3, 2, 2, 3, 1, 3, 3,\n",
       "       3, 1, 1, 2, 0, 3, 3, 3, 3, 1, 0, 0, 2, 1, 2, 3, 1, 3, 1, 0, 0, 0,\n",
       "       3, 3, 3, 0, 2, 0, 2, 3, 3, 1, 3, 2, 0, 1, 3, 0, 2, 3, 0, 0, 0, 0,\n",
       "       0, 1, 3, 1, 3, 2, 0, 3, 3, 3, 2, 3, 3, 0, 1, 0, 3, 2, 3, 1, 0, 3,\n",
       "       0, 3, 3, 1, 0, 0, 2, 1, 3, 1, 0, 1, 3, 3, 3, 0, 1, 3, 2, 1, 3, 2,\n",
       "       3, 2, 0, 1, 3, 0, 2, 3, 0, 3, 2, 3, 0, 0, 3, 2, 0, 3, 0, 3, 2, 1,\n",
       "       3, 1, 3, 1, 0, 2, 0, 2, 0, 2, 1, 2, 1, 2, 1, 2, 1, 3, 1, 1, 2, 1,\n",
       "       1, 2, 2, 2, 0, 2, 2, 3, 1, 0, 3, 2, 2, 3, 1, 3, 2, 1, 2, 0, 1, 1,\n",
       "       0, 3, 2, 0, 3, 3, 1, 0, 2, 3, 1, 2, 0, 3, 1, 2, 1, 1, 2, 2, 0, 3,\n",
       "       2, 3, 1, 2, 0, 1, 3, 3, 1, 2, 2, 3, 0, 2, 0, 3, 0, 3, 0, 0, 0, 0,\n",
       "       2, 0, 3, 0, 0, 1, 1, 0, 3, 0, 1, 2, 2, 1, 2, 3])"
      ]
     },
     "execution_count": 9,
     "metadata": {},
     "output_type": "execute_result"
    }
   ],
   "source": [
    "y"
   ]
  },
  {
   "cell_type": "code",
   "execution_count": 10,
   "metadata": {},
   "outputs": [],
   "source": [
    "from sklearn.preprocessing import MinMaxScaler"
   ]
  },
  {
   "cell_type": "code",
   "execution_count": 11,
   "metadata": {},
   "outputs": [],
   "source": [
    "X = df_feat"
   ]
  },
  {
   "cell_type": "code",
   "execution_count": 12,
   "metadata": {},
   "outputs": [],
   "source": [
    "scaler = MinMaxScaler()"
   ]
  },
  {
   "cell_type": "code",
   "execution_count": 13,
   "metadata": {},
   "outputs": [],
   "source": [
    "X = scaler.fit_transform(X)"
   ]
  },
  {
   "cell_type": "code",
   "execution_count": 14,
   "metadata": {},
   "outputs": [],
   "source": [
    "from sklearn.model_selection import train_test_split"
   ]
  },
  {
   "cell_type": "code",
   "execution_count": 15,
   "metadata": {},
   "outputs": [],
   "source": [
    "X_train, X_test, y_train, y_test = train_test_split(X, y, test_size=0.3, random_state=101)"
   ]
  },
  {
   "cell_type": "code",
   "execution_count": 16,
   "metadata": {},
   "outputs": [],
   "source": [
    "from sklearn.neighbors import KNeighborsClassifier"
   ]
  },
  {
   "cell_type": "code",
   "execution_count": 17,
   "metadata": {},
   "outputs": [],
   "source": [
    "knn = KNeighborsClassifier(n_neighbors=1)"
   ]
  },
  {
   "cell_type": "code",
   "execution_count": 18,
   "metadata": {},
   "outputs": [
    {
     "data": {
      "text/plain": [
       "KNeighborsClassifier(algorithm='auto', leaf_size=30, metric='minkowski',\n",
       "                     metric_params=None, n_jobs=None, n_neighbors=1, p=2,\n",
       "                     weights='uniform')"
      ]
     },
     "execution_count": 18,
     "metadata": {},
     "output_type": "execute_result"
    }
   ],
   "source": [
    "knn.fit(X_train, y_train)"
   ]
  },
  {
   "cell_type": "code",
   "execution_count": 19,
   "metadata": {},
   "outputs": [],
   "source": [
    "pred = knn.predict(X_test)"
   ]
  },
  {
   "cell_type": "code",
   "execution_count": 20,
   "metadata": {},
   "outputs": [],
   "source": [
    "from sklearn.metrics import confusion_matrix, classification_report"
   ]
  },
  {
   "cell_type": "code",
   "execution_count": 21,
   "metadata": {},
   "outputs": [
    {
     "name": "stdout",
     "output_type": "stream",
     "text": [
      "              precision    recall  f1-score   support\n",
      "\n",
      "           0       0.87      0.89      0.88        37\n",
      "           1       0.93      0.98      0.96        44\n",
      "           2       0.80      0.87      0.84        38\n",
      "           3       0.96      0.77      0.86        31\n",
      "\n",
      "    accuracy                           0.89       150\n",
      "   macro avg       0.89      0.88      0.88       150\n",
      "weighted avg       0.89      0.89      0.89       150\n",
      "\n"
     ]
    }
   ],
   "source": [
    "print(classification_report(pred, y_test))"
   ]
  },
  {
   "cell_type": "code",
   "execution_count": 22,
   "metadata": {},
   "outputs": [],
   "source": [
    "error_rate = []\n",
    "\n",
    "for i in range(1, 40):\n",
    "    knn = KNeighborsClassifier(n_neighbors=i)\n",
    "    knn.fit(X_train, y_train)\n",
    "    pred_i = knn.predict(X_test)\n",
    "    \n",
    "    error_rate.append(np.mean(pred_i != y_test))\n",
    "    "
   ]
  },
  {
   "cell_type": "code",
   "execution_count": 23,
   "metadata": {},
   "outputs": [
    {
     "data": {
      "text/plain": [
       "[<matplotlib.lines.Line2D at 0x222fe6b2288>]"
      ]
     },
     "execution_count": 23,
     "metadata": {},
     "output_type": "execute_result"
    },
    {
     "data": {
      "image/png": "[encoded data removed]",
      "text/plain": [
       "<Figure size 720x432 with 1 Axes>"
      ]
     },
     "metadata": {
      "needs_background": "light"
     },
     "output_type": "display_data"
    }
   ],
   "source": [
    "plt.figure(figsize=(10, 6))\n",
    "plt.plot(range(1,40), error_rate, color='blue', linestyle='--', markersize=10,  markerfacecolor='red', marker='o')"
   ]
  },
  {
   "cell_type": "code",
   "execution_count": 24,
   "metadata": {},
   "outputs": [
    {
     "data": {
      "text/plain": [
       "150"
      ]
     },
     "execution_count": 24,
     "metadata": {},
     "output_type": "execute_result"
    }
   ],
   "source": [
    "len(pred_i)"
   ]
  },
  {
   "cell_type": "code",
   "execution_count": 25,
   "metadata": {},
   "outputs": [
    {
     "data": {
      "text/plain": [
       "150"
      ]
     },
     "execution_count": 25,
     "metadata": {},
     "output_type": "execute_result"
    }
   ],
   "source": [
    "len(y_test)"
   ]
  },
  {
   "cell_type": "code",
   "execution_count": 26,
   "metadata": {},
   "outputs": [],
   "source": [
    "knn = KNeighborsClassifier(n_neighbors=14)\n",
    "knn.fit(X_train, y_train)\n",
    "pred = knn.predict(X_test)"
   ]
  },
  {
   "cell_type": "code",
   "execution_count": 27,
   "metadata": {},
   "outputs": [
    {
     "name": "stdout",
     "output_type": "stream",
     "text": [
      "              precision    recall  f1-score   support\n",
      "\n",
      "           0       1.00      0.97      0.99        39\n",
      "           1       0.91      0.98      0.94        43\n",
      "           2       0.93      1.00      0.96        38\n",
      "           3       0.96      0.80      0.87        30\n",
      "\n",
      "    accuracy                           0.95       150\n",
      "   macro avg       0.95      0.94      0.94       150\n",
      "weighted avg       0.95      0.95      0.95       150\n",
      "\n"
     ]
    }
   ],
   "source": [
    "print(classification_report(pred, y_test))"
   ]
  },
  {
   "cell_type": "code",
   "execution_count": 28,
   "metadata": {},
   "outputs": [
    {
     "data": {
      "text/html": [
       "<div>\n",
       "<style scoped>\n",
       "    .dataframe tbody tr th:only-of-type {\n",
       "        vertical-align: middle;\n",
       "    }\n",
       "\n",
       "    .dataframe tbody tr th {\n",
       "        vertical-align: top;\n",
       "    }\n",
       "\n",
       "    .dataframe thead th {\n",
       "        text-align: right;\n",
       "    }\n",
       "</style>\n",
       "<table border=\"1\" class=\"dataframe\">\n",
       "  <thead>\n",
       "    <tr style=\"text-align: right;\">\n",
       "      <th></th>\n",
       "      <th>feature_0</th>\n",
       "      <th>feature_1</th>\n",
       "      <th>feature_2</th>\n",
       "      <th>feature_3</th>\n",
       "      <th>feature_4</th>\n",
       "    </tr>\n",
       "  </thead>\n",
       "  <tbody>\n",
       "    <tr>\n",
       "      <th>0</th>\n",
       "      <td>-1.428540</td>\n",
       "      <td>-4.590813</td>\n",
       "      <td>-5.197088</td>\n",
       "      <td>0.850302</td>\n",
       "      <td>5.714541</td>\n",
       "    </tr>\n",
       "    <tr>\n",
       "      <th>1</th>\n",
       "      <td>-10.514609</td>\n",
       "      <td>-6.233426</td>\n",
       "      <td>5.418929</td>\n",
       "      <td>9.608892</td>\n",
       "      <td>-3.077988</td>\n",
       "    </tr>\n",
       "    <tr>\n",
       "      <th>2</th>\n",
       "      <td>-8.607164</td>\n",
       "      <td>-6.427502</td>\n",
       "      <td>2.547316</td>\n",
       "      <td>3.857882</td>\n",
       "      <td>-0.638965</td>\n",
       "    </tr>\n",
       "    <tr>\n",
       "      <th>3</th>\n",
       "      <td>-9.009029</td>\n",
       "      <td>-1.484229</td>\n",
       "      <td>2.237023</td>\n",
       "      <td>0.501287</td>\n",
       "      <td>-8.987792</td>\n",
       "    </tr>\n",
       "    <tr>\n",
       "      <th>4</th>\n",
       "      <td>6.583417</td>\n",
       "      <td>-9.575847</td>\n",
       "      <td>-6.841777</td>\n",
       "      <td>5.856340</td>\n",
       "      <td>15.228113</td>\n",
       "    </tr>\n",
       "    <tr>\n",
       "      <th>...</th>\n",
       "      <td>...</td>\n",
       "      <td>...</td>\n",
       "      <td>...</td>\n",
       "      <td>...</td>\n",
       "      <td>...</td>\n",
       "    </tr>\n",
       "    <tr>\n",
       "      <th>495</th>\n",
       "      <td>-5.605992</td>\n",
       "      <td>1.598273</td>\n",
       "      <td>-11.321224</td>\n",
       "      <td>6.468432</td>\n",
       "      <td>16.150225</td>\n",
       "    </tr>\n",
       "    <tr>\n",
       "      <th>496</th>\n",
       "      <td>0.981713</td>\n",
       "      <td>-5.794576</td>\n",
       "      <td>-5.822217</td>\n",
       "      <td>9.681262</td>\n",
       "      <td>6.369389</td>\n",
       "    </tr>\n",
       "    <tr>\n",
       "      <th>497</th>\n",
       "      <td>0.345788</td>\n",
       "      <td>-5.852270</td>\n",
       "      <td>5.008501</td>\n",
       "      <td>-2.691871</td>\n",
       "      <td>-4.461119</td>\n",
       "    </tr>\n",
       "    <tr>\n",
       "      <th>498</th>\n",
       "      <td>0.693136</td>\n",
       "      <td>-11.724977</td>\n",
       "      <td>-8.581436</td>\n",
       "      <td>3.893372</td>\n",
       "      <td>7.820085</td>\n",
       "    </tr>\n",
       "    <tr>\n",
       "      <th>499</th>\n",
       "      <td>3.242632</td>\n",
       "      <td>-6.429240</td>\n",
       "      <td>4.894358</td>\n",
       "      <td>0.118633</td>\n",
       "      <td>-5.381424</td>\n",
       "    </tr>\n",
       "  </tbody>\n",
       "</table>\n",
       "<p>500 rows × 5 columns</p>\n",
       "</div>"
      ],
      "text/plain": [
       "     feature_0  feature_1  feature_2  feature_3  feature_4\n",
       "0    -1.428540  -4.590813  -5.197088   0.850302   5.714541\n",
       "1   -10.514609  -6.233426   5.418929   9.608892  -3.077988\n",
       "2    -8.607164  -6.427502   2.547316   3.857882  -0.638965\n",
       "3    -9.009029  -1.484229   2.237023   0.501287  -8.987792\n",
       "4     6.583417  -9.575847  -6.841777   5.856340  15.228113\n",
       "..         ...        ...        ...        ...        ...\n",
       "495  -5.605992   1.598273 -11.321224   6.468432  16.150225\n",
       "496   0.981713  -5.794576  -5.822217   9.681262   6.369389\n",
       "497   0.345788  -5.852270   5.008501  -2.691871  -4.461119\n",
       "498   0.693136 -11.724977  -8.581436   3.893372   7.820085\n",
       "499   3.242632  -6.429240   4.894358   0.118633  -5.381424\n",
       "\n",
       "[500 rows x 5 columns]"
      ]
     },
     "execution_count": 28,
     "metadata": {},
     "output_type": "execute_result"
    }
   ],
   "source": [
    "df_feat"
   ]
  },
  {
   "cell_type": "code",
   "execution_count": 29,
   "metadata": {},
   "outputs": [],
   "source": [
    "labels = pd.DataFrame(data=y, columns=['Labels'])"
   ]
  },
  {
   "cell_type": "code",
   "execution_count": 30,
   "metadata": {},
   "outputs": [],
   "source": [
    "df = pd.concat([df_feat, labels], axis=1)"
   ]
  },
  {
   "cell_type": "code",
   "execution_count": 31,
   "metadata": {},
   "outputs": [
    {
     "name": "stdout",
     "output_type": "stream",
     "text": [
      "489\n",
      "\n",
      "KNN model predicts the data point is of class 1\n"
     ]
    }
   ],
   "source": [
    "import random\n",
    "random.seed(2)\n",
    "\n",
    "random_num = random.randint(0, len(df))\n",
    "print(str(random_num) + '\\n')\n",
    "\n",
    "\n",
    "prediction = knn.predict(scaler.transform(np.array(df.iloc[random_num][:-1]).reshape(-1, 5)))[0]\n",
    "\n",
    "print('KNN model predicts the data point is of class {}'.format(prediction))"
   ]
  },
  {
   "cell_type": "code",
   "execution_count": 32,
   "metadata": {},
   "outputs": [
    {
     "data": {
      "text/plain": [
       "feature_0    7.375723\n",
       "feature_1   -1.525657\n",
       "feature_2    6.894818\n",
       "feature_3    8.595100\n",
       "feature_4   -3.684275\n",
       "Labels       1.000000\n",
       "Name: 489, dtype: float64"
      ]
     },
     "execution_count": 32,
     "metadata": {},
     "output_type": "execute_result"
    }
   ],
   "source": [
    "df.iloc[489]"
   ]
  },
  {
   "cell_type": "code",
   "execution_count": 33,
   "metadata": {},
   "outputs": [
    {
     "data": {
      "text/plain": [
       "array([[0., 1., 0., 0.]])"
      ]
     },
     "execution_count": 33,
     "metadata": {},
     "output_type": "execute_result"
    }
   ],
   "source": [
    "knn.predict_proba(scaler.transform(np.array(df.iloc[random_num][:-1]).reshape(-1, 5)))"
   ]
  },
  {
   "cell_type": "markdown",
   "metadata": {},
   "source": [
    "# Class options accessed via the classes_ attribute"
   ]
  },
  {
   "cell_type": "code",
   "execution_count": 34,
   "metadata": {},
   "outputs": [
    {
     "data": {
      "text/plain": [
       "array([0, 1, 2, 3])"
      ]
     },
     "execution_count": 34,
     "metadata": {},
     "output_type": "execute_result"
    }
   ],
   "source": [
    "knn.classes_"
   ]
  }
 ],
 "metadata": {
  "kernelspec": {
   "display_name": "Python 3",
   "language": "python",
   "name": "python3"
  },
  "language_info": {
   "codemirror_mode": {
    "name": "ipython",
    "version": 3
   },
   "file_extension": ".py",
   "mimetype": "text/x-python",
   "name": "python",
   "nbconvert_exporter": "python",
   "pygments_lexer": "ipython3",
   "version": "3.8.5"
  }
 },
 "nbformat": 4,
 "nbformat_minor": 4
}
