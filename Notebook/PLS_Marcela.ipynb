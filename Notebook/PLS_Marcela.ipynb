{
 "cells": [
  {
   "cell_type": "markdown",
   "metadata": {
    "slideshow": {
     "slide_type": "slide"
    }
   },
   "source": [
    "<div class=\"alert alert-success\" role=\"alert\">\n",
    "  <h1 class=\"alert-heading\">Regresión Lineal Multivariado: PLS</h1>\n",
    "  <h3 class=\"alert-heading\">Prof. Enrique Mejía Ospino, emejia@uis.edu.co</h3>\n",
    "  <h4 class=\"alert-heading\">Escuela de Química</h4>\n",
    "  <h5 class=\"alert-heading\">Universidad Industrial de Santander</h5>\n",
    "  <p>\n",
    "  </div>"
   ]
  },
  {
   "cell_type": "code",
   "execution_count": 1,
   "metadata": {},
   "outputs": [],
   "source": [
    "#from sklearn import datasets\n",
    "import numpy as np\n",
    "import pandas as pd\n",
    "from sklearn.model_selection import cross_val_predict, KFold, StratifiedKFold, train_test_split, cross_validate, cross_val_score\n",
    "from sklearn import linear_model\n",
    "from sklearn.linear_model import LogisticRegression\n",
    "import matplotlib.pyplot as plt\n",
    "from sklearn.decomposition import PCA\n",
    "from sklearn.cross_decomposition import PLSRegression\n",
    "from sklearn.preprocessing import StandardScaler, Normalizer\n",
    "from sklearn import preprocessing\n",
    "from sklearn.metrics import explained_variance_score, mean_absolute_error, mean_squared_error, r2_score\n",
    "import scipy.io #scipy.io me permite leer datos construidos en matlab\n",
    "from scipy import stats # importando scipy.stats\n",
    "from scipy.signal import savgol_filter\n",
    "import scipy as sio\n",
    "%matplotlib inline"
   ]
  },
  {
   "cell_type": "markdown",
   "metadata": {},
   "source": [
    "**<font color=blue> Vamos  atilizar para este ejemplo dos archivos en formato de Matlab que contienen (espectros.mat), el primero, las intensidades de espectros FTICR de 40 muestras crudos fracciones y el segundo (propiedad.mat) el valor medido de una propiedad ccr de las muestras.** "
   ]
  },
  {
   "cell_type": "code",
   "execution_count": 2,
   "metadata": {},
   "outputs": [],
   "source": [
    "espectros = pd.read_excel('C://Users/usuario/Documents/Marcela_Data_FTIR/Espectros_ATR-FTIR.xlsx', header = None, skiprows = 1)# \n",
    "propiedad = pd.read_excel('C://Users/usuario/Documents/Marcela_Data_FTIR/Prop_Dest.xlsx', header = None, skiprows = 1, usecols=\"C:F\")#"
   ]
  },
  {
   "cell_type": "code",
   "execution_count": 3,
   "metadata": {},
   "outputs": [
    {
     "data": {
      "text/html": [
       "<div>\n",
       "<style scoped>\n",
       "    .dataframe tbody tr th:only-of-type {\n",
       "        vertical-align: middle;\n",
       "    }\n",
       "\n",
       "    .dataframe tbody tr th {\n",
       "        vertical-align: top;\n",
       "    }\n",
       "\n",
       "    .dataframe thead th {\n",
       "        text-align: right;\n",
       "    }\n",
       "</style>\n",
       "<table border=\"1\" class=\"dataframe\">\n",
       "  <thead>\n",
       "    <tr style=\"text-align: right;\">\n",
       "      <th></th>\n",
       "      <th>2</th>\n",
       "      <th>3</th>\n",
       "      <th>4</th>\n",
       "      <th>5</th>\n",
       "    </tr>\n",
       "  </thead>\n",
       "  <tbody>\n",
       "    <tr>\n",
       "      <th>0</th>\n",
       "      <td>5.664071</td>\n",
       "      <td>10.098290</td>\n",
       "      <td>9.203348</td>\n",
       "      <td>32.69998</td>\n",
       "    </tr>\n",
       "    <tr>\n",
       "      <th>1</th>\n",
       "      <td>5.664071</td>\n",
       "      <td>10.098290</td>\n",
       "      <td>9.203348</td>\n",
       "      <td>32.69998</td>\n",
       "    </tr>\n",
       "    <tr>\n",
       "      <th>2</th>\n",
       "      <td>9.662352</td>\n",
       "      <td>8.578967</td>\n",
       "      <td>9.401559</td>\n",
       "      <td>22.48379</td>\n",
       "    </tr>\n",
       "    <tr>\n",
       "      <th>3</th>\n",
       "      <td>5.333299</td>\n",
       "      <td>9.867340</td>\n",
       "      <td>7.177670</td>\n",
       "      <td>17.70707</td>\n",
       "    </tr>\n",
       "    <tr>\n",
       "      <th>4</th>\n",
       "      <td>6.524363</td>\n",
       "      <td>11.819440</td>\n",
       "      <td>5.365552</td>\n",
       "      <td>45.76004</td>\n",
       "    </tr>\n",
       "  </tbody>\n",
       "</table>\n",
       "</div>"
      ],
      "text/plain": [
       "          2          3         4         5\n",
       "0  5.664071  10.098290  9.203348  32.69998\n",
       "1  5.664071  10.098290  9.203348  32.69998\n",
       "2  9.662352   8.578967  9.401559  22.48379\n",
       "3  5.333299   9.867340  7.177670  17.70707\n",
       "4  6.524363  11.819440  5.365552  45.76004"
      ]
     },
     "execution_count": 3,
     "metadata": {},
     "output_type": "execute_result"
    }
   ],
   "source": [
    "propiedad.head()"
   ]
  },
  {
   "cell_type": "code",
   "execution_count": 4,
   "metadata": {},
   "outputs": [
    {
     "data": {
      "text/plain": [
       "((47, 7469), (47, 4))"
      ]
     },
     "execution_count": 4,
     "metadata": {},
     "output_type": "execute_result"
    }
   ],
   "source": [
    "espectros.shape, propiedad.shape # miramos la forma para ver si concuerdan, en este\n",
    "# caso 40 muestras y 59692 señales de masas"
   ]
  },
  {
   "cell_type": "code",
   "execution_count": 5,
   "metadata": {},
   "outputs": [],
   "source": [
    "data_prop=propiedad[4]\n",
    "data_signals=espectros.drop(0, axis=1)\n",
    "#xftir=np.transpose(xftir)# usamos la transpuesta del archivo si es necesario"
   ]
  },
  {
   "cell_type": "markdown",
   "metadata": {},
   "source": [
    "**<font color=blue> Se realizará un sencillo pre-procesamiento a los espectros, para este ejemplo, podemos escalar los datos con la función StandardScaler o Normalizar con la función Normalizer.  Escogeremos alguna de las dos y luego hacemos la Regresión lineal.** "
   ]
  },
  {
   "cell_type": "code",
   "execution_count": 6,
   "metadata": {},
   "outputs": [],
   "source": [
    "#normalizamos los datos\n",
    "scaler=StandardScaler()\n",
    "norma=Normalizer()\n",
    "\n",
    "scaler.fit(data_signals) # calculo la media para poder hacer la transformacion\n",
    "x_scaled=scaler.transform(data_signals)# Ahora si, escalo los datos y los normalizo\n",
    "x_norm = preprocessing.normalize(data_signals, norm='l1')# Normaliza los datos\n",
    "x_nsd = savgol_filter(x_norm, 17, polyorder=2, deriv=2) # Realiza segunda derivada de los datos"
   ]
  },
  {
   "cell_type": "markdown",
   "metadata": {},
   "source": [
    "**<font color=green> Ahora realizamos el modelo de regresión lineal utilizando el grupo de entrenamiento y graficamos el resultado en terminos de los datos de calibración.** "
   ]
  },
  {
   "cell_type": "code",
   "execution_count": 7,
   "metadata": {},
   "outputs": [
    {
     "data": {
      "image/png": "[encoded data removed]",
      "text/plain": [
       "<Figure size 432x288 with 1 Axes>"
      ]
     },
     "metadata": {
      "needs_background": "light"
     },
     "output_type": "display_data"
    },
    {
     "name": "stdout",
     "output_type": "stream",
     "text": [
      "MSE = 7.41\n"
     ]
    }
   ],
   "source": [
    "# Separación de los datos en set de entrenamiento y set de prueba\n",
    "#x_train, x_test, y_train, y_test = train_test_split(x_norm, data_prop, train_size=0.8, random_state=4, shuffle= True)\n",
    "x_train, x_test, y_train, y_test = train_test_split(data_signals, data_prop, train_size=0.8, random_state=4, shuffle= True)\n",
    "pls = PLSRegression(n_components=8)\n",
    "pls.fit(x_train, y_train)\n",
    "\n",
    "y_pred = pls.predict(x_train)\n",
    "y_pred_test = pls.predict(x_test)\n",
    "fig, ax = plt.subplots()\n",
    "ax.scatter(y_train, y_pred, edgecolors=(0, 0, 0))\n",
    "ax.scatter(y_test, y_pred_test, color='red', edgecolors=(0, 0, 0))\n",
    "ax.plot([y_train.min(), y_train.max()], [y_train.min(), y_train.max()], 'k--', lw=3)\n",
    "ax.text(30,10, r\"$mse = \"+str(round(mean_squared_error(y_test, y_pred_test), 2))+r\"$\", fontsize=12, color=\"black\")\n",
    "ax.text(30,6.5, r\"$r^2 = \"+str(round(r2_score(y_test, y_pred_test), 2))+r\"$\", fontsize=12, color=\"black\")\n",
    "ax.set_xlabel('Measured')\n",
    "ax.set_ylabel('Predicted')\n",
    "plt.show()\n",
    "print('MSE = ' + str(round(mean_squared_error(y_test, y_pred_test), 2)))"
   ]
  },
  {
   "cell_type": "code",
   "execution_count": 8,
   "metadata": {},
   "outputs": [],
   "source": [
    "def optimise_pls(X, y, xt, n_comp):\n",
    "    \n",
    "    # Definimos PLS y el número de componentes\n",
    "    pls = PLSRegression(n_components=n_comp)\n",
    "    pls.fit(X, y)\n",
    "    y_pred1 = pls.predict(X)\n",
    "    y_pred2 = pls.predict(xt)\n",
    "    # Calculamos métricas\n",
    "    r2 = r2_score(y, y_pred1)\n",
    "    mse = mean_squared_error(y, y_pred1)\n",
    "    rpd = y.std()/np.sqrt(mse)\n",
    "    \n",
    "    return (y_pred1, y_pred2, r2, mse, rpd)"
   ]
  },
  {
   "cell_type": "code",
   "execution_count": 9,
   "metadata": {},
   "outputs": [
    {
     "name": "stderr",
     "output_type": "stream",
     "text": [
      "C:\\Users\\usuario\\anaconda3\\lib\\site-packages\\sklearn\\cross_decomposition\\_pls.py:323: UserWarning: Y residual constant at iteration 29\n",
      "  warnings.warn('Y residual constant at iteration %s' % k)\n"
     ]
    }
   ],
   "source": [
    "# Probamos con 30 componentes\n",
    "r2s = []\n",
    "mses = []\n",
    "rpds = []\n",
    "yp1 = []\n",
    "yp2 = []\n",
    "arr_comp = np.arange(1, 31)\n",
    "for n_comp in arr_comp:\n",
    "    y_pred1, y_pred2, r2, mse, rpd = optimise_pls(x_train, y_train, x_test, n_comp)\n",
    "    r2s.append(r2)\n",
    "    mses.append(mse)\n",
    "    rpds.append(rpd)\n",
    "    yp1.append(y_pred1)\n",
    "    yp2.append(y_pred2)"
   ]
  },
  {
   "cell_type": "code",
   "execution_count": 10,
   "metadata": {},
   "outputs": [
    {
     "data": {
      "image/png": "[encoded data removed]",
      "text/plain": [
       "<Figure size 432x288 with 2 Axes>"
      ]
     },
     "metadata": {
      "needs_background": "light"
     },
     "output_type": "display_data"
    }
   ],
   "source": [
    "fig, (ax1, ax2) = plt.subplots(2, 1)\n",
    "#fig, ax = plt.subplots()\n",
    "ax1.scatter(arr_comp, r2s, edgecolors=(0, 0, 0))\n",
    "ax1.plot(arr_comp, r2s, 'k-')\n",
    "ax1.plot(arr_comp[np.argmax(r2s)], np.array(r2s)[np.argmax(r2s)], 'o', ms=8, mfc='red')\n",
    "ax1.set_xlabel('Number of PLS components')\n",
    "ax1.set_ylabel('$R^2$')\n",
    "\n",
    "ax2.scatter(arr_comp, mses, color='yellow', edgecolors=(0, 0, 0))\n",
    "ax2.plot(arr_comp, mses, 'k-')\n",
    "ax2.plot(arr_comp[np.argmin(mses)], np.array(mses)[np.argmin(mses)], 'o', ms=8, mfc='orange')\n",
    "ax2.set_xlabel('Number of PLS components')\n",
    "ax2.set_ylabel('$MSE$')\n",
    "plt.show()"
   ]
  },
  {
   "cell_type": "code",
   "execution_count": 11,
   "metadata": {},
   "outputs": [
    {
     "data": {
      "image/png": "[encoded data removed]",
      "text/plain": [
       "<Figure size 432x288 with 1 Axes>"
      ]
     },
     "metadata": {
      "needs_background": "light"
     },
     "output_type": "display_data"
    },
    {
     "name": "stdout",
     "output_type": "stream",
     "text": [
      "MSE = 0.29\n"
     ]
    }
   ],
   "source": [
    "fig, ax = plt.subplots()\n",
    "ax.scatter(y_train, yp1[10], color='red', edgecolors=(0, 0, 0))\n",
    "ax.scatter(y_test, yp2[10], color='blue', edgecolors=(0, 0, 0))\n",
    "ax.plot([y_train.min(), y_train.max()], [y_train.min(), y_train.max()], 'k--', lw=3)\n",
    "ax.text(30,10, r\"$mse_t = \"+str(round(mean_squared_error(y_test, yp2[10]), 2))+r\"$\", fontsize=12, color=\"black\")\n",
    "ax.text(30,6.5, r\"$r_t^2 = \"+str(round(r2_score(y_test, yp2[10]), 2))+r\"$\", fontsize=12, color=\"black\")\n",
    "ax.set_xlabel('Measured')\n",
    "ax.set_ylabel('Predicted')\n",
    "plt.show()\n",
    "print('MSE = ' + str(round(mean_squared_error(y_train, yp1[8]), 2)))"
   ]
  },
  {
   "cell_type": "markdown",
   "metadata": {},
   "source": [
    "**<font color=black> Seguidamente vamos a realizar un modelo *PLS* utilizando *K-fold* y evaluando cada uno de los modelos originados de las diferentes separaciones através de las métricas $R^2$ y $MSE$.** "
   ]
  },
  {
   "cell_type": "code",
   "execution_count": 12,
   "metadata": {},
   "outputs": [
    {
     "name": "stdout",
     "output_type": "stream",
     "text": [
      "MSE. 1 on the test set: 19.48586267579362\n",
      "R2. 1 on the test set: -0.5844501918439855\n",
      "MSE. 2 on the test set: 4.649202443281672\n",
      "R2. 2 on the test set: 0.5725256675033175\n",
      "MSE. 3 on the test set: 13.325539492347497\n",
      "R2. 3 on the test set: -0.35890654848116177\n",
      "MSE. 4 on the test set: 11.177938323351288\n",
      "R2. 4 on the test set: -3.490527545376013\n",
      "MSE. 5 on the test set: 24.37475333756533\n",
      "R2. 5 on the test set: -3.4751185773755644\n",
      "MSE. 6 on the test set: 12.286570512695741\n",
      "R2. 6 on the test set: 0.06880828529618643\n",
      "MSE. 7 on the test set: 16.10144190010679\n",
      "R2. 7 on the test set: -4.201046127846957\n",
      "MSE. 8 on the test set: 11.006344260773918\n",
      "R2. 8 on the test set: -3.0638216632430364\n",
      "MSE. 9 on the test set: 2.3628556083179753\n",
      "R2. 9 on the test set: -34.43042047844651\n",
      "MSE. 10 on the test set: 7.09928277409737\n",
      "R2. 10 on the test set: -0.5209794637139369\n"
     ]
    }
   ],
   "source": [
    "from sklearn.metrics import accuracy_score, classification_report, mean_squared_error, r2_score\n",
    "kf = KFold(n_splits=10, shuffle=True, random_state=42) # Vamos hacer 5 separaciones sin barajar en cada separación\n",
    "model=PLSRegression(n_components=10) # Utilizamos 10 componentes de ajuste del modelo con PLS\n",
    "x_traint = [] # Creamos arreglos de cada grupo de datos en los que almacenamos las diferentes divisiones \n",
    "x_testt = [] # Luego podremos utilizar la mejor separación para obtener el modelo más apropiado\n",
    "y_traint = []\n",
    "y_testt = []\n",
    "r2s = []\n",
    "mses = []\n",
    "\n",
    "i = 1\n",
    "for train_index, test_index in kf.split(x_norm):\n",
    "    x_train = x_norm[train_index]\n",
    "    x_test = x_norm[test_index]\n",
    "    y_train = data_prop[train_index]\n",
    "    y_test = data_prop[test_index]\n",
    "    model.fit(x_train, y_train) #Training the model\n",
    "    mse = mean_squared_error(y_test, model.predict(x_test))\n",
    "    r2= r2_score(y_test, model.predict(x_test))\n",
    "    \n",
    "    # Almacenamos cada grupo en los arreglos creados\n",
    "    x_traint.append(x_train) \n",
    "    x_testt.append(x_test)\n",
    "    y_traint.append(y_train)\n",
    "    y_testt.append(y_test)\n",
    "    r2s.append(r2)\n",
    "    mses.append(mse)\n",
    "   \n",
    "    # Entrenamos el modelo para cada separación the model\n",
    "    model.fit(x_train, y_train) #Training the model\n",
    "    print(f\"MSE. {i} on the test set: {mean_squared_error(y_test, model.predict(x_test))}\")\n",
    "    print(f\"R2. {i} on the test set: {r2_score(y_test, model.predict(x_test))}\")\n",
    "    i += 1"
   ]
  },
  {
   "cell_type": "markdown",
   "metadata": {},
   "source": [
    "**<font color=red> Vamos a convertir el mejor set (el de mejor comportamiento) en arreglos númerico y luego seran usados para construir el modelo PLS.** "
   ]
  },
  {
   "cell_type": "code",
   "execution_count": 13,
   "metadata": {},
   "outputs": [
    {
     "data": {
      "image/png": "[encoded data removed]",
      "text/plain": [
       "<Figure size 432x288 with 1 Axes>"
      ]
     },
     "metadata": {
      "needs_background": "light"
     },
     "output_type": "display_data"
    }
   ],
   "source": [
    "y_tr=np.array(y_traint[r2s.index(max(r2s))]) # Escogemos el mejor set a partir del que presente el\n",
    "y_te=np.array(y_testt[r2s.index(max(r2s))]) # el valor máximo de r2. Podríamos también elegir el que\n",
    "X_tr=np.array(x_traint[r2s.index(max(r2s))]) # presente el menor valor del mse\n",
    "X_te=np.array(x_testt[r2s.index(max(r2s))])\n",
    "model.fit(X_tr, y_tr) # Ejecutamos el modelo PLS con el set de entranamiento de mejor comportamiento\n",
    "\n",
    "Y_pred = model.predict(X_tr) # Con el modelo predicmos los valos de la propiedad\n",
    "Y_pred_test = model.predict(X_te) # Evaluamos las muestras de prueba\n",
    "\n",
    "fig, ax = plt.subplots()\n",
    "ax.scatter(y_tr, Y_pred, edgecolors=(0, 0, 0))\n",
    "ax.scatter(y_te, Y_pred_test, color='red', label='test set', edgecolors=(0, 0, 0))\n",
    "ax.plot([y_tr.min(), y_tr.max()], [y_tr.min(), y_tr.max()], 'k--', lw=3)\n",
    "ax.text(30,8, r\"$MSE = \"+str(\"{0:.2f}\".format(mean_squared_error(y_te, Y_pred_test)))+r\"$\", fontsize=12, color=\"black\")\n",
    "ax.text(30,5.5, r\"$R^2 = \"+str(\"{0:.2f}\".format(r2_score(y_tr, Y_pred)))+r\"$\", fontsize=12, color=\"black\")\n",
    "ax.set_xlabel('Measured')\n",
    "ax.set_ylabel('Predicted')\n",
    "plt.show()"
   ]
  },
  {
   "cell_type": "code",
   "execution_count": 14,
   "metadata": {
    "id": "DOJvEImhObBN"
   },
   "outputs": [],
   "source": [
    "import pandas as pd \n",
    "import numpy as np \n",
    "import sklearn\n",
    "#from google.colab import files, drive, data_table\n",
    "#from google.colab.data_table import *\n",
    "from lightgbm import *\n",
    "from sklearn.ensemble import *\n",
    "from sklearn.ensemble import *\n",
    "from sklearn.neural_network import *\n",
    "from sklearn.model_selection import *\n",
    "from sklearn.naive_bayes import *\n",
    "from xgboost import *\n",
    "from sklearn.svm import *\n",
    "from sklearn.linear_model import *\n",
    "from genetic_selection import GeneticSelectionCV\n",
    "from sklearn.metrics import *\n",
    "\n",
    "from sklearn.tree import *\n",
    "import warnings\n",
    "from sklearn.utils import *\n",
    "from yellowbrick.model_selection import * \n",
    "from yellowbrick.classifier import * \n",
    "import matplotlib.pyplot as plt\n",
    "#from bayes_opt import *\n",
    "#from mlxtend.feature_selection import *\n",
    "import warnings\n",
    "warnings.filterwarnings(\"ignore\")\n",
    "#import h2o\n",
    "##from h2o.automl import H2OAutoML\n",
    "##h2o.init()\n",
    "\n",
    "mcc = make_scorer(matthews_corrcoef)"
   ]
  },
  {
   "cell_type": "code",
   "execution_count": 16,
   "metadata": {
    "colab": {
     "base_uri": "https://localhost:8080/"
    },
    "id": "hhr7983tPJ7T",
    "outputId": "d72855ef-4c12-45fc-dd4d-5bc6494e5b59"
   },
   "outputs": [
    {
     "name": "stdout",
     "output_type": "stream",
     "text": [
      "Variables seleccionadas:   [17, 26, 34, 46, 72, 92, 97, 110, 115, 122, 127, 136, 137, 152, 167, 173, 183, 200, 236, 299, 348, 382, 470, 493, 507, 510, 513, 540, 593, 609, 627, 633, 658, 677, 717, 720, 760, 763, 786, 824, 827, 830, 834, 842, 843, 854, 860, 866, 873, 886, 915, 941, 966, 973, 988, 1048, 1164, 1168, 1186, 1221, 1240, 1316, 1399, 1423, 1424, 1428, 1429, 1431, 1450, 1455, 1497, 1500, 1581, 1583, 1594, 1603, 1646, 1697, 1763, 1799, 1807, 1865, 1887, 1890, 1915, 1966, 1968, 1990, 2017, 2033, 2046, 2088, 2366, 2432, 2517, 2533, 2562, 2574, 2611, 2620, 2638, 2842, 2870, 2871, 2905, 2920, 2929, 2969, 2974, 2987, 2996, 3012, 3015, 3031, 3063, 3075, 3104, 3113, 3144, 3148, 3159, 3187, 3211, 3236, 3257, 3274, 3304, 3317, 3329, 3363, 3371, 3378, 3386, 3402, 3457, 3473, 3478, 3495, 3508, 3518, 3525, 3548, 3552, 3567, 3668, 3706, 3753, 3754, 3755, 3775, 3786, 3796, 3816, 3820, 3859, 3868, 3898, 3930, 3945, 3950, 3969, 3984, 4014, 4027, 4043, 4071, 4110, 4120, 4145, 4146, 4171, 4204, 4209, 4227, 4233, 4306, 4334, 4340, 4351, 4365, 4384, 4385, 4389, 4392, 4407, 4423, 4431, 4447, 4454, 4457, 4458, 4462, 4478, 4487, 4492, 4497, 4505, 4533, 4535, 4541, 4561, 4568, 4601, 4612, 4617, 4625, 4629, 4632, 4633, 4657, 4666, 4707, 4710, 4770, 4776, 4820, 4906, 4984, 5002, 5023, 5051, 5065, 5124, 5145, 5185, 5198, 5228, 5232, 5261, 5265, 5321, 5328, 5385, 5641, 5664, 5672, 5805, 5821, 5825, 5892, 5913, 5999, 6028, 6134, 6162, 6248, 6285, 6311, 6352, 6358, 6362, 6535, 6544, 6560, 6565, 6570, 6586, 6629, 6706, 6784, 6786, 6792, 6796, 6818, 6836, 6850, 6857, 6858, 6873, 6876, 6923, 6930, 6993, 7016, 7024, 7079, 7127, 7161, 7170, 7180, 7181, 7182, 7186, 7244, 7348, 7349, 7366, 7369, 7422, 7433]\n"
     ]
    }
   ],
   "source": [
    "#kf = KFold(n_splits=10, shuffle=True, random_state=42) # Vamos hacer 5 separaciones sin barajar en cada separación\n",
    "estimator=PLSRegression() # Utilizamos 10 componentes de ajuste del modelo con PLS\n",
    "\n",
    "#estimator = LogisticRegression(solver = \"liblinear\", C = 6, tol = 1, fit_intercept = True)\n",
    "\n",
    "from sklearn.model_selection import *\n",
    "report = pd.DataFrame()\n",
    "novar = [] \n",
    "chosen_var = [] \n",
    "cvscore = [] \n",
    "#rkf = RepeatedStratifiedKFold(n_repeats = 20, n_splits = 5)\n",
    "rkf =  KFold(n_splits=5)#, shuffle=True, random_state=42) # Vamos hacer 5 separaciones sin barajar en cada separación\n",
    "selector = GeneticSelectionCV(estimator, cv=5)\n",
    "selector = selector.fit(data_signals, data_prop)\n",
    "genfeats =data_signals.columns[selector.support_]\n",
    "genfeats = list(genfeats)\n",
    "print(\"Variables seleccionadas:  \", genfeats)\n",
    "cv_score = selector.generation_scores_[-1]\n",
    "novar.append(len(genfeats)) \n",
    "chosen_var.append(genfeats) \n",
    "cvscore.append(cv_score)\n",
    "report[\"# de variables\"] = novar\n",
    "report[\"Variables seleccionadas\"] = chosen_var\n",
    "report[\"Scores\"] = cvscore"
   ]
  },
  {
   "cell_type": "code",
   "execution_count": 19,
   "metadata": {},
   "outputs": [
    {
     "data": {
      "text/plain": [
       "0    290\n",
       "Name: # de variables, dtype: int64"
      ]
     },
     "execution_count": 19,
     "metadata": {},
     "output_type": "execute_result"
    }
   ],
   "source": [
    "report[\"# de variables\"]"
   ]
  },
  {
   "cell_type": "code",
   "execution_count": 99,
   "metadata": {},
   "outputs": [
    {
     "data": {
      "text/plain": [
       "array([[0.00039159, 0.00040888, 0.00041878, ..., 0.02342516, 0.01912189,\n",
       "        0.0145559 ],\n",
       "       [0.01564731, 0.01560988, 0.01556642, ..., 0.01467085, 0.01781906,\n",
       "        0.02012608],\n",
       "       [0.01156513, 0.01154839, 0.01151027, ..., 0.00678128, 0.01028299,\n",
       "        0.0141875 ],\n",
       "       ...,\n",
       "       [0.01307893, 0.01308421, 0.01310182, ..., 0.02759306, 0.02708071,\n",
       "        0.02551889],\n",
       "       [0.01426656, 0.014296  , 0.01431272, ..., 0.0026291 , 0.00302886,\n",
       "        0.00396688],\n",
       "       [0.01218667, 0.01219231, 0.0121875 , ..., 0.02249976, 0.02110288,\n",
       "        0.01786973]])"
      ]
     },
     "execution_count": 99,
     "metadata": {},
     "output_type": "execute_result"
    }
   ],
   "source": [
    "data_signals=data_signals.values\n",
    "data_signals"
   ]
  },
  {
   "cell_type": "code",
   "execution_count": null,
   "metadata": {},
   "outputs": [],
   "source": []
  }
 ],
 "metadata": {
  "kernelspec": {
   "display_name": "Python 3",
   "language": "python",
   "name": "python3"
  },
  "language_info": {
   "codemirror_mode": {
    "name": "ipython",
    "version": 3
   },
   "file_extension": ".py",
   "mimetype": "text/x-python",
   "name": "python",
   "nbconvert_exporter": "python",
   "pygments_lexer": "ipython3",
   "version": "3.8.5"
  }
 },
 "nbformat": 4,
 "nbformat_minor": 4
}
