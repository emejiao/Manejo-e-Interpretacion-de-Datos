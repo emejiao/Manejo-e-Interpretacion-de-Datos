{
 "cells": [
  {
   "cell_type": "markdown",
   "metadata": {
    "slideshow": {
     "slide_type": "slide"
    }
   },
   "source": [
    "<div class=\"alert alert-success\" role=\"alert\">\n",
    "  <h1 class=\"alert-heading\">Regresión Ridge</h1>\n",
    "  <h3 class=\"alert-heading\">Prof. Enrique Mejía Ospino, emejia@uis.edu.co</h3>\n",
    "  <h4 class=\"alert-heading\">Escuela de Química</h4>\n",
    "  <h5 class=\"alert-heading\">Universidad Industrial de Santander</h5>\n",
    "  <p>\n",
    "  </div>"
   ]
  },
  {
   "cell_type": "code",
   "execution_count": 1,
   "metadata": {
    "collapsed": false,
    "jupyter": {
     "outputs_hidden": false
    }
   },
   "outputs": [],
   "source": [
    "import pandas as pd\n",
    "import numpy as np\n",
    "import matplotlib.pyplot as plt\n",
    "%matplotlib inline\n",
    "from sklearn.preprocessing import scale \n",
    "from sklearn.model_selection import train_test_split\n",
    "from sklearn.linear_model import Ridge, RidgeCV, Lasso, LassoCV\n",
    "from sklearn.metrics import mean_squared_error"
   ]
  },
  {
   "cell_type": "markdown",
   "metadata": {},
   "source": [
    "<p style=\"text-align:justify\">\n",
    "\n",
    "<font color=red size=6>**Regresión Ridge**\n",
    "\n",
    "<font color=blue>**La Regresión Rigde, también denominada regresión contraída o Tikhonov regularization, regulariza el modelo resultante imponiendo una penalización al tamaño de los coeficientes de la relación lineal entre las características predictivas y la variable objetivo. En este caso, los coeficientes calculados minimizan la suma de los cuadrados de los residuos penalizada al añadir el cuadrado de la norma L2 del vector formado por los coeficientes:**\n",
    "$$RSS_{Ridge}= \\sum_{i=0}^n (y_i - f(x_i))^2 + \\lambda\\sum_{j=0}^p \\beta_j^2$$\n",
    "$$\\sum^n_{i=1}(y_i - \\beta_0 - \\sum^p_{j=1} \\beta_j x_{ij})^2 + \\lambda \\sum^p_{j=1} \\beta_j^2 = \\text{suma residuos cuadrados} + \\lambda \\sum^p_{j=1} \\beta_j^2$$\n",
    "<font color=blue>**donde λ es un parámetro que controla el grado de penalización: cuanto mayor éste, los coeficientes serán menores, resultando más robustos a la colinealidad.**"
   ]
  },
  {
   "cell_type": "markdown",
   "metadata": {},
   "source": [
    "<font color=black>**La principal ventaja de aplicar Ridge frente al ajuste por mínimos cuadrados ordinarios (OLS) es la reducción de varianza. Por lo general, en situaciones en las que la relación entre la variable respuesta y los predictores es aproximadamente lineal, las estimaciones por mínimos cuadrados tienen poco bias (sesgo) pero aún pueden sufrir alta varianza (pequeños cambios en los datos de entrenamiento tienen mucho impacto en el modelo resultante). Este problema se acentúa conforme el número de predictores introducido en el modelo se aproxima al número de observaciones de entrenamiento, llegando al punto en que, si p>n, no es posible ajustar el modelo por mínimos cuadrados ordinarios. Empleando un valor adecuado de λ, el método de ridge es capaz de reducir varianza sin apenas aumentar el bias, consiguiendo así un menor error total.**\n",
    "\n",
    "<font color=red>**La desventaja del método ridge es que, el modelo final, incluye todos los predictores. Esto es así porque, si bien la penalización fuerza a que los coeficientes tiendan a cero, nunca llegan a ser exactamente cero (solo si λ=∞). Este método consigue minimizar la influencia sobre el modelo de los predictores menos relacionados con la variable respuesta pero, en el modelo final, van a seguir apareciendo. Aunque esto no supone un problema para la precisión del modelo, sí lo es para su interpretación.**"
   ]
  },
  {
   "cell_type": "code",
   "execution_count": 5,
   "metadata": {},
   "outputs": [
    {
     "data": {
      "text/plain": [
       "'.. _diabetes_dataset:\\n\\nDiabetes dataset\\n----------------\\n\\nTen baseline variables, age, sex, body mass index, average blood\\npressure, and six blood serum measurements were obtained for each of n =\\n442 diabetes patients, as well as the response of interest, a\\nquantitative measure of disease progression one year after baseline.\\n\\n**Data Set Characteristics:**\\n\\n  :Number of Instances: 442\\n\\n  :Number of Attributes: First 10 columns are numeric predictive values\\n\\n  :Target: Column 11 is a quantitative measure of disease progression one year after baseline\\n\\n  :Attribute Information:\\n      - age     age in years\\n      - sex\\n      - bmi     body mass index\\n      - bp      average blood pressure\\n      - s1      tc, T-Cells (a type of white blood cells)\\n      - s2      ldl, low-density lipoproteins\\n      - s3      hdl, high-density lipoproteins\\n      - s4      tch, thyroid stimulating hormone\\n      - s5      ltg, lamotrigine\\n      - s6      glu, blood sugar level\\n\\nNote: Each of these 10 feature variables have been mean centered and scaled by the standard deviation times `n_samples` (i.e. the sum of squares of each column totals 1).\\n\\nSource URL:\\nhttps://www4.stat.ncsu.edu/~boos/var.select/diabetes.html\\n\\nFor more information see:\\nBradley Efron, Trevor Hastie, Iain Johnstone and Robert Tibshirani (2004) \"Least Angle Regression,\" Annals of Statistics (with discussion), 407-499.\\n(https://web.stanford.edu/~hastie/Papers/LARS/LeastAngle_2002.pdf)'"
      ]
     },
     "execution_count": 5,
     "metadata": {},
     "output_type": "execute_result"
    }
   ],
   "source": [
    "from sklearn import datasets, linear_model\n",
    "diabetes = datasets.load_diabetes()\n",
    "X = diabetes.data[:200]\n",
    "y = diabetes.target[:200]\n",
    "diabetes['feature_names']\n",
    "diabetes['DESCR']"
   ]
  },
  {
   "cell_type": "markdown",
   "metadata": {},
   "source": [
    "<font color=red> **Convertimos los datos a DataFrame.** "
   ]
  },
  {
   "cell_type": "code",
   "execution_count": 6,
   "metadata": {},
   "outputs": [
    {
     "data": {
      "text/html": [
       "<div>\n",
       "<style scoped>\n",
       "    .dataframe tbody tr th:only-of-type {\n",
       "        vertical-align: middle;\n",
       "    }\n",
       "\n",
       "    .dataframe tbody tr th {\n",
       "        vertical-align: top;\n",
       "    }\n",
       "\n",
       "    .dataframe thead th {\n",
       "        text-align: right;\n",
       "    }\n",
       "</style>\n",
       "<table border=\"1\" class=\"dataframe\">\n",
       "  <thead>\n",
       "    <tr style=\"text-align: right;\">\n",
       "      <th></th>\n",
       "      <th>age</th>\n",
       "      <th>sex</th>\n",
       "      <th>bmi</th>\n",
       "      <th>bp</th>\n",
       "      <th>s1</th>\n",
       "      <th>s2</th>\n",
       "      <th>s3</th>\n",
       "      <th>s4</th>\n",
       "      <th>s5</th>\n",
       "      <th>s6</th>\n",
       "    </tr>\n",
       "  </thead>\n",
       "  <tbody>\n",
       "    <tr>\n",
       "      <th>0</th>\n",
       "      <td>0.038076</td>\n",
       "      <td>0.050680</td>\n",
       "      <td>0.061696</td>\n",
       "      <td>0.021872</td>\n",
       "      <td>-0.044223</td>\n",
       "      <td>-0.034821</td>\n",
       "      <td>-0.043401</td>\n",
       "      <td>-0.002592</td>\n",
       "      <td>0.019908</td>\n",
       "      <td>-0.017646</td>\n",
       "    </tr>\n",
       "    <tr>\n",
       "      <th>1</th>\n",
       "      <td>-0.001882</td>\n",
       "      <td>-0.044642</td>\n",
       "      <td>-0.051474</td>\n",
       "      <td>-0.026328</td>\n",
       "      <td>-0.008449</td>\n",
       "      <td>-0.019163</td>\n",
       "      <td>0.074412</td>\n",
       "      <td>-0.039493</td>\n",
       "      <td>-0.068330</td>\n",
       "      <td>-0.092204</td>\n",
       "    </tr>\n",
       "    <tr>\n",
       "      <th>2</th>\n",
       "      <td>0.085299</td>\n",
       "      <td>0.050680</td>\n",
       "      <td>0.044451</td>\n",
       "      <td>-0.005671</td>\n",
       "      <td>-0.045599</td>\n",
       "      <td>-0.034194</td>\n",
       "      <td>-0.032356</td>\n",
       "      <td>-0.002592</td>\n",
       "      <td>0.002864</td>\n",
       "      <td>-0.025930</td>\n",
       "    </tr>\n",
       "    <tr>\n",
       "      <th>3</th>\n",
       "      <td>-0.089063</td>\n",
       "      <td>-0.044642</td>\n",
       "      <td>-0.011595</td>\n",
       "      <td>-0.036656</td>\n",
       "      <td>0.012191</td>\n",
       "      <td>0.024991</td>\n",
       "      <td>-0.036038</td>\n",
       "      <td>0.034309</td>\n",
       "      <td>0.022692</td>\n",
       "      <td>-0.009362</td>\n",
       "    </tr>\n",
       "    <tr>\n",
       "      <th>4</th>\n",
       "      <td>0.005383</td>\n",
       "      <td>-0.044642</td>\n",
       "      <td>-0.036385</td>\n",
       "      <td>0.021872</td>\n",
       "      <td>0.003935</td>\n",
       "      <td>0.015596</td>\n",
       "      <td>0.008142</td>\n",
       "      <td>-0.002592</td>\n",
       "      <td>-0.031991</td>\n",
       "      <td>-0.046641</td>\n",
       "    </tr>\n",
       "    <tr>\n",
       "      <th>...</th>\n",
       "      <td>...</td>\n",
       "      <td>...</td>\n",
       "      <td>...</td>\n",
       "      <td>...</td>\n",
       "      <td>...</td>\n",
       "      <td>...</td>\n",
       "      <td>...</td>\n",
       "      <td>...</td>\n",
       "      <td>...</td>\n",
       "      <td>...</td>\n",
       "    </tr>\n",
       "    <tr>\n",
       "      <th>195</th>\n",
       "      <td>0.027178</td>\n",
       "      <td>0.050680</td>\n",
       "      <td>0.025051</td>\n",
       "      <td>0.014987</td>\n",
       "      <td>0.025950</td>\n",
       "      <td>0.048477</td>\n",
       "      <td>-0.039719</td>\n",
       "      <td>0.034309</td>\n",
       "      <td>0.007837</td>\n",
       "      <td>0.023775</td>\n",
       "    </tr>\n",
       "    <tr>\n",
       "      <th>196</th>\n",
       "      <td>-0.023677</td>\n",
       "      <td>-0.044642</td>\n",
       "      <td>-0.046085</td>\n",
       "      <td>-0.033214</td>\n",
       "      <td>0.032830</td>\n",
       "      <td>0.036264</td>\n",
       "      <td>0.037595</td>\n",
       "      <td>-0.002592</td>\n",
       "      <td>-0.033249</td>\n",
       "      <td>0.011349</td>\n",
       "    </tr>\n",
       "    <tr>\n",
       "      <th>197</th>\n",
       "      <td>0.048974</td>\n",
       "      <td>0.050680</td>\n",
       "      <td>0.003494</td>\n",
       "      <td>0.070073</td>\n",
       "      <td>-0.008449</td>\n",
       "      <td>0.013404</td>\n",
       "      <td>-0.054446</td>\n",
       "      <td>0.034309</td>\n",
       "      <td>0.013316</td>\n",
       "      <td>0.036201</td>\n",
       "    </tr>\n",
       "    <tr>\n",
       "      <th>198</th>\n",
       "      <td>-0.052738</td>\n",
       "      <td>-0.044642</td>\n",
       "      <td>0.054152</td>\n",
       "      <td>-0.026328</td>\n",
       "      <td>-0.055231</td>\n",
       "      <td>-0.033881</td>\n",
       "      <td>-0.013948</td>\n",
       "      <td>-0.039493</td>\n",
       "      <td>-0.074089</td>\n",
       "      <td>-0.059067</td>\n",
       "    </tr>\n",
       "    <tr>\n",
       "      <th>199</th>\n",
       "      <td>0.041708</td>\n",
       "      <td>-0.044642</td>\n",
       "      <td>-0.045007</td>\n",
       "      <td>0.034496</td>\n",
       "      <td>0.043837</td>\n",
       "      <td>-0.015719</td>\n",
       "      <td>0.037595</td>\n",
       "      <td>-0.014401</td>\n",
       "      <td>0.089899</td>\n",
       "      <td>0.007207</td>\n",
       "    </tr>\n",
       "  </tbody>\n",
       "</table>\n",
       "<p>200 rows × 10 columns</p>\n",
       "</div>"
      ],
      "text/plain": [
       "          age       sex       bmi        bp        s1        s2        s3  \\\n",
       "0    0.038076  0.050680  0.061696  0.021872 -0.044223 -0.034821 -0.043401   \n",
       "1   -0.001882 -0.044642 -0.051474 -0.026328 -0.008449 -0.019163  0.074412   \n",
       "2    0.085299  0.050680  0.044451 -0.005671 -0.045599 -0.034194 -0.032356   \n",
       "3   -0.089063 -0.044642 -0.011595 -0.036656  0.012191  0.024991 -0.036038   \n",
       "4    0.005383 -0.044642 -0.036385  0.021872  0.003935  0.015596  0.008142   \n",
       "..        ...       ...       ...       ...       ...       ...       ...   \n",
       "195  0.027178  0.050680  0.025051  0.014987  0.025950  0.048477 -0.039719   \n",
       "196 -0.023677 -0.044642 -0.046085 -0.033214  0.032830  0.036264  0.037595   \n",
       "197  0.048974  0.050680  0.003494  0.070073 -0.008449  0.013404 -0.054446   \n",
       "198 -0.052738 -0.044642  0.054152 -0.026328 -0.055231 -0.033881 -0.013948   \n",
       "199  0.041708 -0.044642 -0.045007  0.034496  0.043837 -0.015719  0.037595   \n",
       "\n",
       "           s4        s5        s6  \n",
       "0   -0.002592  0.019908 -0.017646  \n",
       "1   -0.039493 -0.068330 -0.092204  \n",
       "2   -0.002592  0.002864 -0.025930  \n",
       "3    0.034309  0.022692 -0.009362  \n",
       "4   -0.002592 -0.031991 -0.046641  \n",
       "..        ...       ...       ...  \n",
       "195  0.034309  0.007837  0.023775  \n",
       "196 -0.002592 -0.033249  0.011349  \n",
       "197  0.034309  0.013316  0.036201  \n",
       "198 -0.039493 -0.074089 -0.059067  \n",
       "199 -0.014401  0.089899  0.007207  \n",
       "\n",
       "[200 rows x 10 columns]"
      ]
     },
     "execution_count": 6,
     "metadata": {},
     "output_type": "execute_result"
    }
   ],
   "source": [
    "X=pd.DataFrame(X)\n",
    "X=X.set_axis(diabetes['feature_names'], axis=1, inplace=False).astype('float64')\n",
    "#X_ = X.drop(['Salary', 'League', 'Division', 'NewLeague'], axis = 1).astype('float64')\n",
    "y=pd.DataFrame(y)\n",
    "y=y.set_axis(['R'], axis=1, inplace=False)\n",
    "X"
   ]
  },
  {
   "cell_type": "markdown",
   "metadata": {},
   "source": [
    "<font color=blue> **Usaremos la librería `sklearn` para realizar la Regresión Ridge regression. Las principales funciones para de desarrollar este tipo de regresión son `Ridge()`, para construir los modelos. Adicionalmente es posible hacer validación-cruzada: `RidgeCV()` y otras operaciones.** "
   ]
  },
  {
   "cell_type": "markdown",
   "metadata": {},
   "source": [
    "<font color=red>**La función `Ridge()` tiene un argunmento llamado alpha ($\\alpha$) (que corresponde a $\\lambda$, en la ecuación de arriba!) que se usa para sintonizar el modelo. Inicialmente generaremos un arreglo de valores de $\\alpha$ de muy grandes a valores muy pequeños, de tal forma que podemos obtener modelo que van desde el modelo nulo (con solo el intercepto) y el ajuste por mínimos cuadrados.** "
   ]
  },
  {
   "cell_type": "code",
   "execution_count": 9,
   "metadata": {
    "collapsed": false,
    "jupyter": {
     "outputs_hidden": false
    }
   },
   "outputs": [
    {
     "data": {
      "text/plain": [
       "array([2.00000000e+09, 1.47814441e+09, 1.09245544e+09, 8.07403452e+08,\n",
       "       5.96729448e+08, 4.41026148e+08, 3.25950167e+08, 2.40900708e+08,\n",
       "       1.78043017e+08, 1.31586645e+08, 9.72520316e+07, 7.18762733e+07,\n",
       "       5.31217557e+07, 3.92608130e+07, 2.90165756e+07, 2.14453444e+07,\n",
       "       1.58496580e+07, 1.17140416e+07, 8.65752256e+06, 6.39853428e+06,\n",
       "       4.72897883e+06, 3.49505680e+06, 2.58309933e+06, 1.90909691e+06,\n",
       "       1.41096046e+06, 1.04280166e+06, 7.70705719e+05, 5.69607174e+05,\n",
       "       4.20980829e+05, 3.11135229e+05, 2.29951399e+05, 1.69950687e+05,\n",
       "       1.25605829e+05, 9.28317767e+04, 6.86093857e+04, 5.07072899e+04,\n",
       "       3.74763485e+04, 2.76977274e+04, 2.04706204e+04, 1.51292666e+04,\n",
       "       1.11816204e+04, 8.26402480e+03, 6.10771102e+03, 4.51403944e+03,\n",
       "       3.33620107e+03, 2.46569348e+03, 1.82232551e+03, 1.34683013e+03,\n",
       "       9.95404713e+02, 7.35675954e+02, 5.43717649e+02, 4.01846601e+02,\n",
       "       2.96993652e+02, 2.19499753e+02, 1.62226166e+02, 1.19896850e+02,\n",
       "       8.86124292e+01, 6.54909833e+01, 4.84025653e+01, 3.57729906e+01,\n",
       "       2.64388230e+01, 1.95401991e+01, 1.44416180e+01, 1.06733985e+01,\n",
       "       7.88841212e+00, 5.83010613e+00, 4.30886938e+00, 3.18456559e+00,\n",
       "       2.35362390e+00, 1.73949801e+00, 1.28561462e+00, 9.50162032e-01,\n",
       "       7.02238347e-01, 5.19004842e-01, 3.83582052e-01, 2.83494833e-01,\n",
       "       2.09523151e-01, 1.54852737e-01, 1.14447353e-01, 8.45848575e-02,\n",
       "       6.25143170e-02, 4.62025940e-02, 3.41470529e-02, 2.52371377e-02,\n",
       "       1.86520669e-02, 1.37852242e-02, 1.01882760e-02, 7.52987161e-03,\n",
       "       5.56511880e-03, 4.11302462e-03, 3.03982217e-03, 2.24664807e-03,\n",
       "       1.66043514e-03, 1.22718145e-03, 9.06975702e-04, 6.70320530e-04,\n",
       "       4.95415271e-04, 3.66147656e-04, 2.70609555e-04, 2.00000000e-04])"
      ]
     },
     "execution_count": 9,
     "metadata": {},
     "output_type": "execute_result"
    }
   ],
   "source": [
    "alphas = 10**np.linspace(10,-3,100)*0.2\n",
    "alphas"
   ]
  },
  {
   "cell_type": "markdown",
   "metadata": {},
   "source": [
    "<font color=blue>**Asociado con cada valor de alfa hay un vector de coeficientes de la regresión de Ridge, que se almacenaran en una matriz de coeficientes `coefs`. En este caso, es una matriz de $10 \\times 100$ con 10 filas (una para cada predictor) y 100 columnas (una para cada alfa). Aqui es importante standarizar las variables para que ellas esten en la misma escala, para ello usamos el argumento `normalize = True`:**"
   ]
  },
  {
   "cell_type": "code",
   "execution_count": 10,
   "metadata": {
    "collapsed": false,
    "jupyter": {
     "outputs_hidden": false
    }
   },
   "outputs": [
    {
     "data": {
      "text/plain": [
       "(100, 1, 10)"
      ]
     },
     "execution_count": 10,
     "metadata": {},
     "output_type": "execute_result"
    }
   ],
   "source": [
    "ridge = Ridge(normalize = True)\n",
    "coefs = []\n",
    "\n",
    "for a in alphas:\n",
    "    ridge.set_params(alpha = a)\n",
    "    ridge.fit(X, y)\n",
    "    coefs.append(ridge.coef_)\n",
    "    \n",
    "np.shape(coefs)"
   ]
  },
  {
   "cell_type": "markdown",
   "metadata": {},
   "source": [
    "<font color=red>**Cambiamos la forma de la matriz 3D a 2D de acuerdo a lo comentado arriba**"
   ]
  },
  {
   "cell_type": "code",
   "execution_count": 11,
   "metadata": {},
   "outputs": [
    {
     "data": {
      "text/plain": [
       "(100, 10)"
      ]
     },
     "execution_count": 11,
     "metadata": {},
     "output_type": "execute_result"
    }
   ],
   "source": [
    "#A.reshape(a,-1)\n",
    "coefs=np.array(coefs)\n",
    "coef=coefs.reshape(100, 1*10)\n",
    "np.shape(coef)"
   ]
  },
  {
   "cell_type": "code",
   "execution_count": 14,
   "metadata": {},
   "outputs": [
    {
     "data": {
      "text/html": [
       "<div>\n",
       "<style scoped>\n",
       "    .dataframe tbody tr th:only-of-type {\n",
       "        vertical-align: middle;\n",
       "    }\n",
       "\n",
       "    .dataframe tbody tr th {\n",
       "        vertical-align: top;\n",
       "    }\n",
       "\n",
       "    .dataframe thead th {\n",
       "        text-align: right;\n",
       "    }\n",
       "</style>\n",
       "<table border=\"1\" class=\"dataframe\">\n",
       "  <thead>\n",
       "    <tr style=\"text-align: right;\">\n",
       "      <th></th>\n",
       "      <th>0</th>\n",
       "      <th>1</th>\n",
       "      <th>2</th>\n",
       "      <th>3</th>\n",
       "      <th>4</th>\n",
       "      <th>5</th>\n",
       "      <th>6</th>\n",
       "      <th>7</th>\n",
       "      <th>8</th>\n",
       "      <th>9</th>\n",
       "    </tr>\n",
       "  </thead>\n",
       "  <tbody>\n",
       "    <tr>\n",
       "      <th>0</th>\n",
       "      <td>1.131892e-07</td>\n",
       "      <td>1.058616e-08</td>\n",
       "      <td>4.596372e-07</td>\n",
       "      <td>3.212128e-07</td>\n",
       "      <td>1.127641e-07</td>\n",
       "      <td>7.283444e-08</td>\n",
       "      <td>-2.867601e-07</td>\n",
       "      <td>2.928850e-07</td>\n",
       "      <td>4.556684e-07</td>\n",
       "      <td>2.961971e-07</td>\n",
       "    </tr>\n",
       "    <tr>\n",
       "      <th>1</th>\n",
       "      <td>1.531505e-07</td>\n",
       "      <td>1.432357e-08</td>\n",
       "      <td>6.219111e-07</td>\n",
       "      <td>4.346163e-07</td>\n",
       "      <td>1.525753e-07</td>\n",
       "      <td>9.854847e-08</td>\n",
       "      <td>-3.880001e-07</td>\n",
       "      <td>3.962874e-07</td>\n",
       "      <td>6.165411e-07</td>\n",
       "      <td>4.007688e-07</td>\n",
       "    </tr>\n",
       "    <tr>\n",
       "      <th>2</th>\n",
       "      <td>2.072199e-07</td>\n",
       "      <td>1.938048e-08</td>\n",
       "      <td>8.414754e-07</td>\n",
       "      <td>5.880566e-07</td>\n",
       "      <td>2.064416e-07</td>\n",
       "      <td>1.333408e-07</td>\n",
       "      <td>-5.249827e-07</td>\n",
       "      <td>5.361958e-07</td>\n",
       "      <td>8.342096e-07</td>\n",
       "      <td>5.422594e-07</td>\n",
       "    </tr>\n",
       "    <tr>\n",
       "      <th>3</th>\n",
       "      <td>2.803784e-07</td>\n",
       "      <td>2.622271e-08</td>\n",
       "      <td>1.138556e-06</td>\n",
       "      <td>7.956686e-07</td>\n",
       "      <td>2.793254e-07</td>\n",
       "      <td>1.804165e-07</td>\n",
       "      <td>-7.103267e-07</td>\n",
       "      <td>7.254985e-07</td>\n",
       "      <td>1.128725e-06</td>\n",
       "      <td>7.337029e-07</td>\n",
       "    </tr>\n",
       "    <tr>\n",
       "      <th>4</th>\n",
       "      <td>3.793654e-07</td>\n",
       "      <td>3.548058e-08</td>\n",
       "      <td>1.540521e-06</td>\n",
       "      <td>1.076578e-06</td>\n",
       "      <td>3.779406e-07</td>\n",
       "      <td>2.441121e-07</td>\n",
       "      <td>-9.611060e-07</td>\n",
       "      <td>9.816341e-07</td>\n",
       "      <td>1.527219e-06</td>\n",
       "      <td>9.927350e-07</td>\n",
       "    </tr>\n",
       "    <tr>\n",
       "      <th>...</th>\n",
       "      <td>...</td>\n",
       "      <td>...</td>\n",
       "      <td>...</td>\n",
       "      <td>...</td>\n",
       "      <td>...</td>\n",
       "      <td>...</td>\n",
       "      <td>...</td>\n",
       "      <td>...</td>\n",
       "      <td>...</td>\n",
       "      <td>...</td>\n",
       "    </tr>\n",
       "    <tr>\n",
       "      <th>95</th>\n",
       "      <td>-3.145818e+01</td>\n",
       "      <td>-3.096283e+02</td>\n",
       "      <td>5.540991e+02</td>\n",
       "      <td>2.671526e+02</td>\n",
       "      <td>-8.361253e+02</td>\n",
       "      <td>3.335210e+02</td>\n",
       "      <td>2.084440e+02</td>\n",
       "      <td>2.810360e+02</td>\n",
       "      <td>7.581712e+02</td>\n",
       "      <td>1.332192e+02</td>\n",
       "    </tr>\n",
       "    <tr>\n",
       "      <th>96</th>\n",
       "      <td>-3.156438e+01</td>\n",
       "      <td>-3.097253e+02</td>\n",
       "      <td>5.540258e+02</td>\n",
       "      <td>2.672260e+02</td>\n",
       "      <td>-8.513978e+02</td>\n",
       "      <td>3.456055e+02</td>\n",
       "      <td>2.153244e+02</td>\n",
       "      <td>2.829484e+02</td>\n",
       "      <td>7.635243e+02</td>\n",
       "      <td>1.332650e+02</td>\n",
       "    </tr>\n",
       "    <tr>\n",
       "      <th>97</th>\n",
       "      <td>-3.164528e+01</td>\n",
       "      <td>-3.097979e+02</td>\n",
       "      <td>5.539670e+02</td>\n",
       "      <td>2.672814e+02</td>\n",
       "      <td>-8.630907e+02</td>\n",
       "      <td>3.548629e+02</td>\n",
       "      <td>2.205887e+02</td>\n",
       "      <td>2.844063e+02</td>\n",
       "      <td>7.676219e+02</td>\n",
       "      <td>1.333009e+02</td>\n",
       "    </tr>\n",
       "    <tr>\n",
       "      <th>98</th>\n",
       "      <td>-3.170645e+01</td>\n",
       "      <td>-3.098521e+02</td>\n",
       "      <td>5.539209e+02</td>\n",
       "      <td>2.673229e+02</td>\n",
       "      <td>-8.719646e+02</td>\n",
       "      <td>3.618914e+02</td>\n",
       "      <td>2.245819e+02</td>\n",
       "      <td>2.855092e+02</td>\n",
       "      <td>7.707312e+02</td>\n",
       "      <td>1.333285e+02</td>\n",
       "    </tr>\n",
       "    <tr>\n",
       "      <th>99</th>\n",
       "      <td>-3.175243e+01</td>\n",
       "      <td>-3.098924e+02</td>\n",
       "      <td>5.538853e+02</td>\n",
       "      <td>2.673540e+02</td>\n",
       "      <td>-8.786543e+02</td>\n",
       "      <td>3.671915e+02</td>\n",
       "      <td>2.275912e+02</td>\n",
       "      <td>2.863387e+02</td>\n",
       "      <td>7.730750e+02</td>\n",
       "      <td>1.333496e+02</td>\n",
       "    </tr>\n",
       "  </tbody>\n",
       "</table>\n",
       "<p>100 rows × 10 columns</p>\n",
       "</div>"
      ],
      "text/plain": [
       "               0             1             2             3             4  \\\n",
       "0   1.131892e-07  1.058616e-08  4.596372e-07  3.212128e-07  1.127641e-07   \n",
       "1   1.531505e-07  1.432357e-08  6.219111e-07  4.346163e-07  1.525753e-07   \n",
       "2   2.072199e-07  1.938048e-08  8.414754e-07  5.880566e-07  2.064416e-07   \n",
       "3   2.803784e-07  2.622271e-08  1.138556e-06  7.956686e-07  2.793254e-07   \n",
       "4   3.793654e-07  3.548058e-08  1.540521e-06  1.076578e-06  3.779406e-07   \n",
       "..           ...           ...           ...           ...           ...   \n",
       "95 -3.145818e+01 -3.096283e+02  5.540991e+02  2.671526e+02 -8.361253e+02   \n",
       "96 -3.156438e+01 -3.097253e+02  5.540258e+02  2.672260e+02 -8.513978e+02   \n",
       "97 -3.164528e+01 -3.097979e+02  5.539670e+02  2.672814e+02 -8.630907e+02   \n",
       "98 -3.170645e+01 -3.098521e+02  5.539209e+02  2.673229e+02 -8.719646e+02   \n",
       "99 -3.175243e+01 -3.098924e+02  5.538853e+02  2.673540e+02 -8.786543e+02   \n",
       "\n",
       "               5             6             7             8             9  \n",
       "0   7.283444e-08 -2.867601e-07  2.928850e-07  4.556684e-07  2.961971e-07  \n",
       "1   9.854847e-08 -3.880001e-07  3.962874e-07  6.165411e-07  4.007688e-07  \n",
       "2   1.333408e-07 -5.249827e-07  5.361958e-07  8.342096e-07  5.422594e-07  \n",
       "3   1.804165e-07 -7.103267e-07  7.254985e-07  1.128725e-06  7.337029e-07  \n",
       "4   2.441121e-07 -9.611060e-07  9.816341e-07  1.527219e-06  9.927350e-07  \n",
       "..           ...           ...           ...           ...           ...  \n",
       "95  3.335210e+02  2.084440e+02  2.810360e+02  7.581712e+02  1.332192e+02  \n",
       "96  3.456055e+02  2.153244e+02  2.829484e+02  7.635243e+02  1.332650e+02  \n",
       "97  3.548629e+02  2.205887e+02  2.844063e+02  7.676219e+02  1.333009e+02  \n",
       "98  3.618914e+02  2.245819e+02  2.855092e+02  7.707312e+02  1.333285e+02  \n",
       "99  3.671915e+02  2.275912e+02  2.863387e+02  7.730750e+02  1.333496e+02  \n",
       "\n",
       "[100 rows x 10 columns]"
      ]
     },
     "execution_count": 14,
     "metadata": {},
     "output_type": "execute_result"
    }
   ],
   "source": [
    "B=pd.DataFrame(coef)\n",
    "B"
   ]
  },
  {
   "cell_type": "markdown",
   "metadata": {},
   "source": [
    "<font color=red>**Esperamos que los coeficientes estimados sean más pequeños, en términos de la normalización $l_2$, cuando un valor grande de alfa es usado, comparado con el uso de valores pequeños de alfa, Veamos gráficamente:**"
   ]
  },
  {
   "cell_type": "code",
   "execution_count": 15,
   "metadata": {
    "collapsed": false,
    "jupyter": {
     "outputs_hidden": false
    }
   },
   "outputs": [
    {
     "data": {
      "text/plain": [
       "Text(0, 0.5, 'coeficientes')"
      ]
     },
     "execution_count": 15,
     "metadata": {},
     "output_type": "execute_result"
    },
    {
     "data": {
      "image/png": "[encoded data removed]",
      "text/plain": [
       "<Figure size 432x288 with 1 Axes>"
      ]
     },
     "metadata": {
      "needs_background": "light"
     },
     "output_type": "display_data"
    }
   ],
   "source": [
    "ax = plt.gca()\n",
    "ax.plot(alphas, coef, 'o')\n",
    "ax.set_xscale('log')\n",
    "plt.axis('tight')\n",
    "plt.xlabel('alpha')\n",
    "plt.ylabel('coeficientes')"
   ]
  },
  {
   "cell_type": "markdown",
   "metadata": {},
   "source": [
    "<font color=green>**Vamos a separar las muestras en un set de entranamiento y una de prueba con el fin de estimar el error de la regresión.**"
   ]
  },
  {
   "cell_type": "code",
   "execution_count": 17,
   "metadata": {
    "tags": []
   },
   "outputs": [],
   "source": [
    "# Split data into training and test sets\n",
    "X_train, X_test , y_train, y_test = train_test_split(X, y, test_size=0.5, random_state=12)"
   ]
  },
  {
   "cell_type": "markdown",
   "metadata": {},
   "source": [
    "<font color=green>**Realicemos el ajuste construyendo un modelo de Regresión Ridge utilizando el set de entrenamiento, y evaluamos su MSE sobre set de prueba, usando $\\lambda = 1$ (arbitrario):**"
   ]
  },
  {
   "cell_type": "code",
   "execution_count": 18,
   "metadata": {
    "collapsed": false,
    "jupyter": {
     "outputs_hidden": false
    }
   },
   "outputs": [
    {
     "name": "stdout",
     "output_type": "stream",
     "text": [
      "          Coefs\n",
      "age  -26.836294\n",
      "sex  -93.835342\n",
      "bmi  307.390511\n",
      "bp   183.122104\n",
      "s1     1.306202\n",
      "s2   -39.898895\n",
      "s3  -113.329300\n",
      "s4    95.836306\n",
      "s5   268.793764\n",
      "s6   136.456722\n",
      "3553.2867895757336\n"
     ]
    }
   ],
   "source": [
    "ridge2 = Ridge(alpha = 1, normalize = True) # Descripción del modelo\n",
    "ridge2.fit(X_train, y_train)             # Ajuste del modelo con el set de entrenamiento\n",
    "pred2 = ridge2.predict(X_test)           # Usamos el modelo para predecir sobre los datos de prueba\n",
    "print(pd.DataFrame(ridge2.coef_.T, index = X.columns, columns=['Coefs'])) # imprimos los coeficientes\n",
    "print(mean_squared_error(y_test, pred2))          # Calculamos el MSE sobre los datos de prueba"
   ]
  },
  {
   "cell_type": "markdown",
   "metadata": {},
   "source": [
    "<font color=green>**El test-MSE cuando $\\lambda = 1$ es de $3664$. Ahora veamos que pasa si usamos un valor grande de alfa, $\\lambda = 10^{4}$:**"
   ]
  },
  {
   "cell_type": "code",
   "execution_count": 15,
   "metadata": {
    "collapsed": false,
    "jupyter": {
     "outputs_hidden": false
    }
   },
   "outputs": [
    {
     "name": "stdout",
     "output_type": "stream",
     "text": [
      "        Coefs\n",
      "age  0.020180\n",
      "sex  0.010842\n",
      "bmi  0.099763\n",
      "bp   0.073533\n",
      "s1   0.029014\n",
      "s2   0.026966\n",
      "s3  -0.076600\n",
      "s4   0.082118\n",
      "s5   0.111722\n",
      "s6   0.043525\n",
      "5582.434715594439\n"
     ]
    }
   ],
   "source": [
    "ridge3 = Ridge(alpha = 10**4, normalize = True) # Descripción del modelo\n",
    "ridge3.fit(X_train, y_train)             # Ajuste del modelo con el set de entrenamientoa\n",
    "pred3 = ridge3.predict(X_test)           # Usamos el modelo para predecir sobre los datos de prueba\n",
    "print(pd.DataFrame(ridge3.coef_.T, index = X.columns, columns=['Coefs'])) # Imprimimos los coeficientes\n",
    "print(mean_squared_error(y_test, pred3))          # Calculamos el MSE sobre los datos de prueba"
   ]
  },
  {
   "cell_type": "markdown",
   "metadata": {},
   "source": [
    "<font color=green>**Valores muy grandes de alfa reduce los coeficientes prácticamente hasta obtener el modelo nulo (el modelo contiene solo el intercepto y los demás coeficientes son cero), El resultado es un aumento del sesgo reflejado en un muy alto MSE.**"
   ]
  },
  {
   "cell_type": "markdown",
   "metadata": {},
   "source": [
    "<font color=red>**Veamos ahora que pasa con el MSE si utilizamos un valor de alfa igual a cero $\\lambda = 0$. Esta condición garantiza que la Regresión Ridge se convierta en una Regraesión por Mínimos Cuadrados Ordinaria.**"
   ]
  },
  {
   "cell_type": "code",
   "execution_count": 16,
   "metadata": {
    "collapsed": false,
    "jupyter": {
     "outputs_hidden": false
    }
   },
   "outputs": [
    {
     "name": "stdout",
     "output_type": "stream",
     "text": [
      "          Coefs\n",
      "age -140.582624\n",
      "sex -402.621847\n",
      "bmi  427.752774\n",
      "bp   425.293000\n",
      "s1  -567.363179\n",
      "s2   199.363646\n",
      "s3   -73.571747\n",
      "s4   203.671047\n",
      "s5   981.031986\n",
      "s6   -55.657345\n",
      "3732.9093096769716\n"
     ]
    }
   ],
   "source": [
    "ridge4 = Ridge(alpha = 0, normalize = True) # Descripción del modelo\n",
    "ridge4.fit(X_train, y_train)             # Ajuste del modelo con el set de entrenamientoa\n",
    "pred4 = ridge4.predict(X_test)           # Usamos el modelo para predecir sobre los datos de prueba\n",
    "print(pd.DataFrame(ridge4.coef_.T, index = X.columns, columns=['Coefs'])) # Imprimimos los coeficientes\n",
    "print(mean_squared_error(y_test, pred4))          # Calculamos el MSE sobre los datos de prueba"
   ]
  },
  {
   "cell_type": "markdown",
   "metadata": {},
   "source": [
    "<font color=red>**Parece que, efectivamente, la regresión Ridge logra mejorar respecto a los mínimos cuadrados normales. Sin embargo, en lugar de elegir arbitrariamente alfa, podríamos utilizar la validación cruzada para elegir el parámetro de ajuste alfa más adecuado. Podemos hacerlo utilizando la función `RidgeCV()`. Por defecto, la función realiza una validación cruzada generalizada (una forma eficiente de LOOCV), aunque esto puede cambiarse utilizando el argumento argumento `cv`.**"
   ]
  },
  {
   "cell_type": "code",
   "execution_count": 19,
   "metadata": {
    "collapsed": false,
    "jupyter": {
     "outputs_hidden": false
    }
   },
   "outputs": [
    {
     "data": {
      "text/plain": [
       "0.2834948325853604"
      ]
     },
     "execution_count": 19,
     "metadata": {},
     "output_type": "execute_result"
    }
   ],
   "source": [
    "ridgecv = RidgeCV(alphas = alphas, scoring = 'neg_mean_squared_error', normalize = True)\n",
    "ridgecv.fit(X_train, y_train)\n",
    "ridgecv.alpha_"
   ]
  },
  {
   "cell_type": "markdown",
   "metadata": {},
   "source": [
    "<font color=blue>**Obtenemos el valor de alfa que genera el mas pequeño MSE, podemos utilizar este valor de alfa para determinar el test-MSE.**"
   ]
  },
  {
   "cell_type": "code",
   "execution_count": 20,
   "metadata": {
    "collapsed": false,
    "jupyter": {
     "outputs_hidden": false
    }
   },
   "outputs": [
    {
     "data": {
      "text/plain": [
       "3141.383218350625"
      ]
     },
     "execution_count": 20,
     "metadata": {},
     "output_type": "execute_result"
    }
   ],
   "source": [
    "ridge5 = Ridge(alpha = ridgecv.alpha_, normalize = True)\n",
    "ridge5.fit(X_train, y_train)\n",
    "mean_squared_error(y_test, ridge5.predict(X_test))"
   ]
  },
  {
   "cell_type": "code",
   "execution_count": 24,
   "metadata": {},
   "outputs": [],
   "source": [
    "X=np.array(X)\n",
    "y=np.array(y)"
   ]
  },
  {
   "cell_type": "code",
   "execution_count": 28,
   "metadata": {},
   "outputs": [
    {
     "name": "stdout",
     "output_type": "stream",
     "text": [
      "MSE. 1 on the test set: 2996.9541942944584\n",
      "MSE. 2 on the test set: 2314.42488060453\n",
      "MSE. 3 on the test set: 3336.9471511901693\n",
      "MSE. 4 on the test set: 2790.9505142743537\n",
      "MSE. 5 on the test set: 3305.288852925357\n"
     ]
    }
   ],
   "source": [
    "from sklearn.metrics import mean_squared_error\n",
    "from sklearn.model_selection import KFold\n",
    "kf = KFold(n_splits=5, shuffle=True, random_state=42) # Vamos hacer 5 separaciones sin barajar en cada separación\n",
    "ridge6 = Ridge(alpha = ridgecv.alpha_, normalize = True)\n",
    "x_traint = [] # Creamos arreglos de cada grupo de datos en los que almacenamos las diferentes divisiones \n",
    "x_testt = [] # Luego podremos utilizar la mejor separación para obtener el modelo más apropiado\n",
    "y_traint = []\n",
    "y_testt = []\n",
    "mses = []\n",
    "i = 1\n",
    "for train_index, test_index in kf.split(X):\n",
    "    x_train = X[train_index]\n",
    "    x_test = X[test_index]\n",
    "    y_train = y[train_index]\n",
    "    y_test = y[test_index]\n",
    "    ridge6.fit(x_train, y_train) #\n",
    "    mse = mean_squared_error(y_test, ridge6.predict(x_test))\n",
    "        \n",
    "    # Almacenamos cada grupo en los arreglos creados\n",
    "    x_traint.append(x_train) \n",
    "    x_testt.append(x_test)\n",
    "    y_traint.append(y_train)\n",
    "    y_testt.append(y_test)\n",
    "    mses.append(mse)\n",
    "   \n",
    "    # Entrenamos el modelo para cada separación the model\n",
    "    ridge6.fit(x_train, y_train) #Training the model\n",
    "    print(f\"MSE. {i} on the test set: {mean_squared_error(y_test, ridge6.predict(x_test))}\")\n",
    "    \n",
    "    i += 1"
   ]
  },
  {
   "cell_type": "code",
   "execution_count": 30,
   "metadata": {},
   "outputs": [
    {
     "data": {
      "text/plain": [
       "2314.42488060453"
      ]
     },
     "execution_count": 30,
     "metadata": {},
     "output_type": "execute_result"
    }
   ],
   "source": [
    "y_tr=np.array(y_traint[mses.index(min(mses))]) # Escogemos el mejor set a partir del que presente el\n",
    "y_te=np.array(y_testt[mses.index(min(mses))]) # el valor máximo de r2. Podríamos también elegir el que\n",
    "X_tr=np.array(x_traint[mses.index(min(mses))]) # presente el menor valor del mse\n",
    "X_te=np.array(x_testt[mses.index(min(mses))])\n",
    "\n",
    "ridge7 = Ridge(alpha = ridgecv.alpha_, normalize = True)\n",
    "ridge7.fit(X_tr, y_tr)\n",
    "mean_squared_error(y_te, ridge7.predict(X_te))"
   ]
  },
  {
   "cell_type": "markdown",
   "metadata": {},
   "source": [
    "<font color=blue>**El resultado representa una mejora adicional sobre el MSE de prueba que obtuvimos utilizando $\\lambda = 1$. Por último, volvemos a ajustar nuestro modelo de Regresión Ridge para obtener los coeficientes utilizando el mejor valor de alfa.**"
   ]
  },
  {
   "cell_type": "code",
   "execution_count": 19,
   "metadata": {
    "collapsed": false,
    "jupyter": {
     "outputs_hidden": false
    }
   },
   "outputs": [
    {
     "data": {
      "text/html": [
       "<div>\n",
       "<style scoped>\n",
       "    .dataframe tbody tr th:only-of-type {\n",
       "        vertical-align: middle;\n",
       "    }\n",
       "\n",
       "    .dataframe tbody tr th {\n",
       "        vertical-align: top;\n",
       "    }\n",
       "\n",
       "    .dataframe thead th {\n",
       "        text-align: right;\n",
       "    }\n",
       "</style>\n",
       "<table border=\"1\" class=\"dataframe\">\n",
       "  <thead>\n",
       "    <tr style=\"text-align: right;\">\n",
       "      <th></th>\n",
       "      <th>Coefs</th>\n",
       "    </tr>\n",
       "  </thead>\n",
       "  <tbody>\n",
       "    <tr>\n",
       "      <th>age</th>\n",
       "      <td>-46.050979</td>\n",
       "    </tr>\n",
       "    <tr>\n",
       "      <th>sex</th>\n",
       "      <td>-291.883207</td>\n",
       "    </tr>\n",
       "    <tr>\n",
       "      <th>bmi</th>\n",
       "      <td>401.434475</td>\n",
       "    </tr>\n",
       "    <tr>\n",
       "      <th>bp</th>\n",
       "      <td>286.660611</td>\n",
       "    </tr>\n",
       "    <tr>\n",
       "      <th>s1</th>\n",
       "      <td>-60.418926</td>\n",
       "    </tr>\n",
       "    <tr>\n",
       "      <th>s2</th>\n",
       "      <td>-187.173230</td>\n",
       "    </tr>\n",
       "    <tr>\n",
       "      <th>s3</th>\n",
       "      <td>-184.851095</td>\n",
       "    </tr>\n",
       "    <tr>\n",
       "      <th>s4</th>\n",
       "      <td>116.267190</td>\n",
       "    </tr>\n",
       "    <tr>\n",
       "      <th>s5</th>\n",
       "      <td>533.910106</td>\n",
       "    </tr>\n",
       "    <tr>\n",
       "      <th>s6</th>\n",
       "      <td>107.470393</td>\n",
       "    </tr>\n",
       "  </tbody>\n",
       "</table>\n",
       "</div>"
      ],
      "text/plain": [
       "          Coefs\n",
       "age  -46.050979\n",
       "sex -291.883207\n",
       "bmi  401.434475\n",
       "bp   286.660611\n",
       "s1   -60.418926\n",
       "s2  -187.173230\n",
       "s3  -184.851095\n",
       "s4   116.267190\n",
       "s5   533.910106\n",
       "s6   107.470393"
      ]
     },
     "execution_count": 19,
     "metadata": {},
     "output_type": "execute_result"
    }
   ],
   "source": [
    "ridge5.fit(X, y)\n",
    "pd.DataFrame(ridge5.coef_.T, index = X.columns, columns=['Coefs'])"
   ]
  },
  {
   "cell_type": "code",
   "execution_count": null,
   "metadata": {},
   "outputs": [],
   "source": []
  }
 ],
 "metadata": {
  "kernelspec": {
   "display_name": "Python 3",
   "language": "python",
   "name": "python3"
  },
  "language_info": {
   "codemirror_mode": {
    "name": "ipython",
    "version": 3
   },
   "file_extension": ".py",
   "mimetype": "text/x-python",
   "name": "python",
   "nbconvert_exporter": "python",
   "pygments_lexer": "ipython3",
   "version": "3.8.8"
  }
 },
 "nbformat": 4,
 "nbformat_minor": 4
}
